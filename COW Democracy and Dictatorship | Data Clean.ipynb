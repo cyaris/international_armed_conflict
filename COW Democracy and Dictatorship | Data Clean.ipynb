{
 "cells": [
  {
   "cell_type": "code",
   "execution_count": 1,
   "metadata": {},
   "outputs": [],
   "source": [
    "from warnings import filterwarnings\n",
    "\n",
    "filterwarnings('ignore')"
   ]
  },
  {
   "cell_type": "code",
   "execution_count": 2,
   "metadata": {},
   "outputs": [],
   "source": [
    "import pandas as pd\n",
    "import numpy as np\n",
    "from more_itertools import flatten"
   ]
  },
  {
   "cell_type": "code",
   "execution_count": 3,
   "metadata": {},
   "outputs": [],
   "source": [
    "pd.set_option('display.max_columns', None)"
   ]
  },
  {
   "cell_type": "code",
   "execution_count": 4,
   "metadata": {},
   "outputs": [],
   "source": [
    "pd.set_option('display.float_format', lambda x: '%.2f' % x)"
   ]
  },
  {
   "cell_type": "code",
   "execution_count": 5,
   "metadata": {},
   "outputs": [],
   "source": [
    "gov_df = pd.read_csv('data/ddrevisited_data_v1.csv', encoding = 'latin-1')\n",
    "\n",
    "gov_df.rename({'chgterr': 'territory_change', 'ychgterr': 'territory_change_year',\n",
    "        'entryy': 'first_recorded_year', 'exity': 'last_recorded_year',\n",
    "        'bornyear': 'born_year', 'endyear': 'died_year',\n",
    "        'exselec': 'election_type', 'legselec': 'legislation_type',\n",
    "        'closed': 'legislature_status', 'dejure': 'party_legal_status',\n",
    "        'defacto': 'party_existance', 'defacto2': 'party_existance_outside_regime', \n",
    "        'lparty': 'legislature_parties', 'incumb': 'incumbent_type',\n",
    "        'collect': 'collective_leadership', 'eheads': 'num_leadership_changes',\n",
    "        'ehead': 'leader_name', 'epost': 'post_name', 'edate': 'entrance_date',\n",
    "        'ageeh': 'leader_tenure', 'emil': 'military_leader',\n",
    "        'royal': 'royal_leader', 'comm': 'communist_leader',\n",
    "        'edeath': 'leader_died', 'democracy': 'democratic_regime',\n",
    "        'assconfid': 'cabinet_assembly', 'poppreselec': 'popular_election',\n",
    "        'regime': 'regime_type', 'ttd': 'transition_to_democracy',\n",
    "        'tta': 'transition_to_dictatorship', 'agedem': 'age_govt',\n",
    "        'stra': 'num_transitions_ever', 'cowcode': 'c_code_1',\n",
    "        'ctryname': 'state_name_1', 'headdiff': 'nominal_vs_eff_diff',\n",
    "        'cowcode2': 'c_code_2'},\n",
    "       axis = 1, inplace = True)\n",
    "\n",
    "gov_df.drop(['order', 'aclpcode', 'c_code_2', 'qogctycode', 'qogctylett',\n",
    "             'qogctyyear', 'ccdcodelet', 'ccdcodenum', 'aclpyear',\n",
    "             'cowcode2year', 'cowcodeyear', 'flagc_cowcode2', 'flage_cowcode2',\n",
    "             'imf_code', 'politycode', 'bankscode', 'dpicode', 'uncode', 'un_region',\n",
    "             'un_continent', 'last_recorded_year', 'dupcow', 'dupwdi',\n",
    "             'dupun', 'dupdpi', 'dupimf', 'dupbanks', 'cid', 'wdicode',\n",
    "             'aclp_region', 'type2', 'nheads', 'nmil', 'nhead', 'npost',\n",
    "             'ndate', 'entrance_date', 'tenure08', 'ecens08', 'flageh',\n",
    "             'tt', 'flagc', 'flagdem', 'flagreg', 'agereg',\n",
    "             'first_recorded_year', 'born_year', 'died_year',\n",
    "             'leader_name', 'post_name'], axis = 1, inplace = True)\n",
    "\n",
    "gov_df.rename({'un_region_name': 'un_region', 'un_continent_name': 'un_continent'}, axis = 1, inplace = True)"
   ]
  },
  {
   "cell_type": "code",
   "execution_count": 6,
   "metadata": {},
   "outputs": [],
   "source": [
    "gov_df.loc[gov_df['state_name_1'] == 'Serbia', 'state_name_1'] = 'Yugoslavia'\n",
    "# gov_df.loc[gov_df['state_name_1'] == 'Viet Nam', 'state_name_1'] = 'Vietnam, North'"
   ]
  },
  {
   "cell_type": "code",
   "execution_count": 7,
   "metadata": {},
   "outputs": [
    {
     "data": {
      "text/plain": [
       "2977"
      ]
     },
     "execution_count": 7,
     "metadata": {},
     "output_type": "execute_result"
    }
   ],
   "source": [
    "len(gov_df[gov_df['c_code_1'].isnull()])"
   ]
  },
  {
   "cell_type": "code",
   "execution_count": 8,
   "metadata": {},
   "outputs": [],
   "source": [
    "c_code_df = pd.read_pickle('pickle/c_code_df.pkl')"
   ]
  },
  {
   "cell_type": "code",
   "execution_count": 9,
   "metadata": {},
   "outputs": [],
   "source": [
    "c_code_dic = {}\n",
    "\n",
    "for i, state in enumerate(c_code_df['state_name']):\n",
    "    c_code_dic[state] = c_code_df['c_code'][i]"
   ]
  },
  {
   "cell_type": "code",
   "execution_count": 10,
   "metadata": {},
   "outputs": [],
   "source": [
    "gov_df['c_code_1'] = gov_df['c_code_1'].astype(str)\n",
    "gov_df['state_name_1'] = gov_df['state_name_1'].astype(str)\n",
    "\n",
    "for i, code in enumerate(gov_df['c_code_1']):\n",
    "    if code == 'nan' and gov_df.loc[i, 'state_name_1'] != 'nan':\n",
    "        gov_df.loc[i, 'c_code_1'] = c_code_dic[gov_df.loc[i, 'state_name_1']]\n",
    "        \n",
    "gov_df['c_code_1'] = gov_df['c_code_1'].astype(float)"
   ]
  },
  {
   "cell_type": "code",
   "execution_count": 11,
   "metadata": {},
   "outputs": [],
   "source": [
    "row_list = []\n",
    "for c_code in gov_df['c_code_1'].unique():\n",
    "    years = list(gov_df[gov_df['c_code_1'] == c_code]['year'].unique())\n",
    "    for year in years:\n",
    "        row_list.append(list(flatten(gov_df.loc[(gov_df['year'] == year) & (gov_df['c_code_1'] == c_code)].values)))"
   ]
  },
  {
   "cell_type": "code",
   "execution_count": 12,
   "metadata": {},
   "outputs": [],
   "source": [
    "gov_df = pd.DataFrame(row_list)\n",
    "\n",
    "gov_df.columns = ['state_name_1', 'year', 'c_code_1', 'territory_change',\n",
    "                  'territory_change_year', 'un_region', 'un_continent', 'election_type',\n",
    "                  'legislation_type', 'legislature_status', 'party_legal_status',\n",
    "                  'party_existance', 'party_existance_outside_regime',\n",
    "                  'legislature_parties', 'incumbent_type', 'collective_leadership',\n",
    "                  'num_leadership_changes', 'leader_tenure', 'military_leader',\n",
    "                  'royal_leader', 'nominal_vs_eff_diff', 'communist_leader',\n",
    "                  'leader_died', 'democratic_regime', 'cabinet_assembly',\n",
    "                  'popular_election', 'regime_type', 'transition_to_democracy',\n",
    "                  'transition_to_dictatorship', 'age_govt', 'num_transitions_ever']\n",
    "\n",
    "gov_df.drop(['territory_change', 'territory_change_year'], axis = 1, inplace = True)\n",
    "\n",
    "gov_df['c_code_1'] = gov_df['c_code_1'].astype(int)"
   ]
  },
  {
   "cell_type": "code",
   "execution_count": 13,
   "metadata": {},
   "outputs": [
    {
     "data": {
      "text/plain": [
       "0"
      ]
     },
     "execution_count": 13,
     "metadata": {},
     "output_type": "execute_result"
    }
   ],
   "source": [
    "len(gov_df[gov_df['c_code_1'].isnull()])"
   ]
  },
  {
   "cell_type": "code",
   "execution_count": 14,
   "metadata": {},
   "outputs": [
    {
     "data": {
      "text/plain": [
       "3.00    2649\n",
       "0.00    2191\n",
       "4.00    1694\n",
       "2.00    1115\n",
       "5.00     777\n",
       "1.00     689\n",
       "Name: regime_type, dtype: int64"
      ]
     },
     "execution_count": 14,
     "metadata": {},
     "output_type": "execute_result"
    }
   ],
   "source": [
    "gov_df['regime_type'].value_counts()"
   ]
  },
  {
   "cell_type": "code",
   "execution_count": 15,
   "metadata": {},
   "outputs": [],
   "source": [
    "gov_df.loc[743, 'election_type'] = 2\n",
    "gov_df.loc[gov_df['election_type'] == 1, 'election_type'] = 'Direct election'\n",
    "gov_df.loc[gov_df['election_type'] == 2, 'election_type'] = 'Indirect election'\n",
    "gov_df.loc[gov_df['election_type'] == 3, 'election_type'] = 'Nonelective'\n",
    "\n",
    "gov_df.loc[gov_df['legislation_type'] == 0, 'legislation_type'] = 'No legislature exists'\n",
    "gov_df.loc[gov_df['legislation_type'] == 1, 'legislation_type'] = 'Non‐elective legislature'\n",
    "gov_df.loc[gov_df['legislation_type'] == 2, 'legislation_type'] = 'Elective legislature'\n",
    "\n",
    "gov_df.loc[2485, 'legislature_status'] = 2\n",
    "gov_df.loc[gov_df['legislature_status'] == 0, 'legislature_status'] = 'Closed'\n",
    "gov_df.loc[gov_df['legislature_status'] == 1, 'legislature_status'] = 'Appointed'\n",
    "gov_df.loc[gov_df['legislature_status'] == 2, 'legislature_status'] = 'Elected'\n",
    "# gov_df.loc[gov_df['legislature_status'].isnull(), 'legislature_status'] = 'Unknown'\n",
    "\n",
    "gov_df.loc[gov_df['party_legal_status'] == 0, 'party_legal_status'] = 'All parties legally banned'\n",
    "gov_df.loc[gov_df['party_legal_status'] == 1, 'party_legal_status'] = 'Legally single party state'\n",
    "gov_df.loc[gov_df['party_legal_status'] == 2, 'party_legal_status'] = 'Multiple parties legally allowed'\n",
    "# gov_df.loc[gov_df['party_legal_status'].isnull(), 'party_legal_status'] = 'Unknown'\n",
    "\n",
    "gov_df.loc[gov_df['party_existance'] == 0, 'party_existance'] = 'No parties'\n",
    "gov_df.loc[gov_df['party_existance'] == 1, 'party_existance'] = 'One party'\n",
    "gov_df.loc[gov_df['party_existance'] == 2, 'party_existance'] = 'Multiple parties'\n",
    "# gov_df.loc[gov_df['party_existance'].isnull(), 'party_existance'] = 'Unknown'\n",
    "\n",
    "gov_df.loc[gov_df['party_existance_outside_regime'] == 0, 'party_existance_outside_regime'] = 'No parties'\n",
    "gov_df.loc[gov_df['party_existance_outside_regime'] == 1, 'party_existance_outside_regime'] = 'One party'\n",
    "gov_df.loc[gov_df['party_existance_outside_regime'] == 2, 'party_existance_outside_regime'] = 'Multiple parties'\n",
    "# gov_df.loc[gov_df['party_existance_outside_regime'].isnull(), 'party_existance_outside_regime'] = 'Unknown'\n",
    "\n",
    "gov_df.loc[gov_df['legislature_parties'] == 0, 'legislature_parties'] = 'No legislature or all nonpartisan'\n",
    "gov_df.loc[gov_df['legislature_parties'] == 1, 'legislature_parties'] = 'Only members from regime party'\n",
    "gov_df.loc[gov_df['legislature_parties'] == 2, 'legislature_parties'] = 'Legislature with multiple parties'\n",
    "# gov_df.loc[gov_df['legislature_parties'].isnull(), 'legislature_parties'] = 'Unknown'\n",
    "\n",
    "gov_df.loc[gov_df['incumbent_type'] == 0, 'incumbent_type'] = 'Democratic incumbent'\n",
    "gov_df.loc[gov_df['incumbent_type'] == 1, 'incumbent_type'] = 'Rules rewritten unconstitutionally'\n",
    "# gov_df.loc[gov_df['incumbent_type'].isnull(), 'incumbent_type'] = 'Unknown'\n",
    "\n",
    "gov_df.loc[gov_df['collective_leadership'] == 0, 'collective_leadership'] = 'No'\n",
    "gov_df.loc[gov_df['collective_leadership'] == 1, 'collective_leadership'] = 'Yes'\n",
    "# gov_df.loc[gov_df['collective_leadership'].isnull(), 'collective_leadership'] = 'Unknown'\n",
    "\n",
    "gov_df.loc[gov_df['military_leader'] == 0, 'military_leader'] = 'No'\n",
    "gov_df.loc[gov_df['military_leader'] == 1, 'military_leader'] = 'Yes'\n",
    "gov_df.loc[gov_df['military_leader'] == 2, 'military_leader'] = 'Yes'\n",
    "# gov_df.loc[gov_df['military_leader'].isnull(), 'military_leader'] = 'Unknown'\n",
    "\n",
    "gov_df.loc[gov_df['royal_leader'] == 0, 'royal_leader'] = 'No'\n",
    "gov_df.loc[gov_df['royal_leader'] == 1, 'royal_leader'] = 'Yes'\n",
    "# gov_df.loc[gov_df['royal_leader'].isnull(), 'royal_leader'] = 'Unknown'\n",
    "\n",
    "gov_df.loc[gov_df['nominal_vs_eff_diff'] == 0, 'nominal_vs_eff_diff'] = 'No'\n",
    "gov_df.loc[gov_df['nominal_vs_eff_diff'] == 1, 'nominal_vs_eff_diff'] = 'Yes'\n",
    "# gov_df.loc[gov_df['nominal_vs_eff_diff'].isnull(), 'nominal_vs_eff_diff'] = 'Unknown'\n",
    "\n",
    "gov_df.loc[gov_df['communist_leader'] == 0, 'communist_leader'] = 'No'\n",
    "gov_df.loc[gov_df['communist_leader'] == 1, 'communist_leader'] = 'Yes'\n",
    "# gov_df.loc[gov_df['communist_leader'].isnull(), 'communist_leader'] = 'Unknown'\n",
    "\n",
    "gov_df.loc[gov_df['leader_died'] == 0, 'leader_died'] = 'Yes'\n",
    "gov_df.loc[gov_df['leader_died'] == 1, 'leader_died'] = 'No'\n",
    "# gov_df.loc[gov_df['leader_died'].isnull(), 'leader_died'] = 'Unknown'\n",
    "\n",
    "gov_df.loc[gov_df['democratic_regime'] == 0, 'democratic_regime'] = 'No'\n",
    "gov_df.loc[gov_df['democratic_regime'] == 1, 'democratic_regime'] = 'Yes'\n",
    "# gov_df.loc[gov_df['democratic_regime'].isnull(), 'democratic_regime'] = 'Unknown'\n",
    "\n",
    "gov_df.loc[gov_df['cabinet_assembly'] == 0, 'cabinet_assembly'] = 'No'\n",
    "gov_df.loc[gov_df['cabinet_assembly'] == 1, 'cabinet_assembly'] = 'Yes'\n",
    "# gov_df.loc[gov_df['cabinet_assembly'].isnull(), 'cabinet_assembly'] = 'Unknown'\n",
    "\n",
    "gov_df.loc[gov_df['popular_election'] == 0, 'popular_election'] = 'No'\n",
    "gov_df.loc[gov_df['popular_election'] == 1, 'popular_election'] = 'Yes'\n",
    "# gov_df.loc[gov_df['popular_election'].isnull(), 'popular_election'] = 'Unknown'\n",
    "\n",
    "gov_df.loc[gov_df['regime_type'] == 0, 'regime_type'] = 'Parliamentary democracy'\n",
    "gov_df.loc[gov_df['regime_type'] == 1, 'regime_type'] = 'Mixed (semi‐presidential) democracy'\n",
    "gov_df.loc[gov_df['regime_type'] == 2, 'regime_type'] = 'Presidential democracy'\n",
    "gov_df.loc[gov_df['regime_type'] == 3, 'regime_type'] = 'Civilian dictatorship'\n",
    "gov_df.loc[gov_df['regime_type'] == 4, 'regime_type'] = 'Military dictatorship'\n",
    "gov_df.loc[gov_df['regime_type'] == 5, 'regime_type'] = 'Royal dictatorship'\n",
    "# gov_df.loc[gov_df['regime_type'].isnull(), 'regime_type'] = 'Unknown'\n",
    "\n",
    "gov_df.loc[gov_df['transition_to_democracy'] == 0, 'transition_to_democracy'] = 'No'\n",
    "gov_df.loc[gov_df['transition_to_democracy'] == 1, 'transition_to_democracy'] = 'Yes'\n",
    "# gov_df.loc[gov_df['transition_to_democracy'].isnull(), 'transition_to_democracy'] = 'Unknown'\n",
    "\n",
    "gov_df.loc[gov_df['transition_to_dictatorship'] == 0, 'transition_to_dictatorship'] = 'No'\n",
    "gov_df.loc[gov_df['transition_to_dictatorship'] == 1, 'transition_to_dictatorship'] = 'Yes'\n",
    "# gov_df.loc[gov_df['transition_to_dictatorship'].isnull(), 'transition_to_dictatorship'] = 'Unknown'\n",
    "\n",
    "# gov_df.loc[gov_df['num_leadership_changes'].isnull(), 'num_leadership_changes'] = 'Unknown'\n",
    "# gov_df.loc[gov_df['leader_tenure'].isnull(), 'leader_tenure'] = 'Unknown'\n",
    "# gov_df.loc[gov_df['num_transitions_ever'].isnull(), 'num_transitions_ever'] = 'Unknown'\n",
    "# gov_df.loc[gov_df['age_govt'].isnull(), 'age_govt'] = 'Unknown'"
   ]
  },
  {
   "cell_type": "code",
   "execution_count": 16,
   "metadata": {},
   "outputs": [],
   "source": [
    "gov_df.to_pickle('pickle/gov_df.pkl')\n",
    "gov_df.to_csv('dataframe_exports/gov_df.csv')"
   ]
  },
  {
   "cell_type": "code",
   "execution_count": 17,
   "metadata": {
    "scrolled": true
   },
   "outputs": [
    {
     "data": {
      "text/plain": [
       "Index(['state_name_1', 'year', 'c_code_1', 'un_region', 'un_continent',\n",
       "       'election_type', 'legislation_type', 'legislature_status',\n",
       "       'party_legal_status', 'party_existance',\n",
       "       'party_existance_outside_regime', 'legislature_parties',\n",
       "       'incumbent_type', 'collective_leadership', 'num_leadership_changes',\n",
       "       'leader_tenure', 'military_leader', 'royal_leader',\n",
       "       'nominal_vs_eff_diff', 'communist_leader', 'leader_died',\n",
       "       'democratic_regime', 'cabinet_assembly', 'popular_election',\n",
       "       'regime_type', 'transition_to_democracy', 'transition_to_dictatorship',\n",
       "       'age_govt', 'num_transitions_ever'],\n",
       "      dtype='object')"
      ]
     },
     "execution_count": 17,
     "metadata": {},
     "output_type": "execute_result"
    }
   ],
   "source": [
    "gov_df.columns"
   ]
  },
  {
   "cell_type": "code",
   "execution_count": 18,
   "metadata": {},
   "outputs": [],
   "source": [
    "# gov_df[gov_df.isnull().any(axis=1)]"
   ]
  },
  {
   "cell_type": "code",
   "execution_count": 19,
   "metadata": {},
   "outputs": [
    {
     "data": {
      "text/plain": [
       "Indirect election    3842\n",
       "Direct election      2819\n",
       "Nonelective          2498\n",
       "Name: election_type, dtype: int64"
      ]
     },
     "execution_count": 19,
     "metadata": {},
     "output_type": "execute_result"
    }
   ],
   "source": [
    "gov_df['election_type'].value_counts()"
   ]
  },
  {
   "cell_type": "code",
   "execution_count": 20,
   "metadata": {},
   "outputs": [
    {
     "data": {
      "text/plain": [
       "Elective legislature        7713\n",
       "No legislature exists       1000\n",
       "Non‐elective legislature     446\n",
       "Name: legislation_type, dtype: int64"
      ]
     },
     "execution_count": 20,
     "metadata": {},
     "output_type": "execute_result"
    }
   ],
   "source": [
    "gov_df['legislation_type'].value_counts()"
   ]
  },
  {
   "cell_type": "code",
   "execution_count": 21,
   "metadata": {},
   "outputs": [
    {
     "data": {
      "text/plain": [
       "Elected      7539\n",
       "Closed       1164\n",
       "Appointed     379\n",
       "Name: legislature_status, dtype: int64"
      ]
     },
     "execution_count": 21,
     "metadata": {},
     "output_type": "execute_result"
    }
   ],
   "source": [
    "gov_df['legislature_status'].value_counts()"
   ]
  },
  {
   "cell_type": "code",
   "execution_count": 22,
   "metadata": {},
   "outputs": [
    {
     "data": {
      "text/plain": [
       "Multiple parties legally allowed    7080\n",
       "Legally single party state          1055\n",
       "All parties legally banned           959\n",
       "Name: party_legal_status, dtype: int64"
      ]
     },
     "execution_count": 22,
     "metadata": {},
     "output_type": "execute_result"
    }
   ],
   "source": [
    "gov_df['party_legal_status'].value_counts()"
   ]
  },
  {
   "cell_type": "code",
   "execution_count": 23,
   "metadata": {},
   "outputs": [
    {
     "data": {
      "text/plain": [
       "Multiple parties    6814\n",
       "One party           1355\n",
       "No parties           925\n",
       "Name: party_existance, dtype: int64"
      ]
     },
     "execution_count": 23,
     "metadata": {},
     "output_type": "execute_result"
    }
   ],
   "source": [
    "gov_df['party_existance'].value_counts()"
   ]
  },
  {
   "cell_type": "code",
   "execution_count": 24,
   "metadata": {},
   "outputs": [
    {
     "data": {
      "text/plain": [
       "Multiple parties    6422\n",
       "One party           1747\n",
       "No parties           925\n",
       "Name: party_existance_outside_regime, dtype: int64"
      ]
     },
     "execution_count": 24,
     "metadata": {},
     "output_type": "execute_result"
    }
   ],
   "source": [
    "gov_df['party_existance_outside_regime'].value_counts()"
   ]
  },
  {
   "cell_type": "code",
   "execution_count": 25,
   "metadata": {},
   "outputs": [
    {
     "data": {
      "text/plain": [
       "Legislature with multiple parties    5730\n",
       "No legislature or all nonpartisan    1748\n",
       "Only members from regime party       1604\n",
       "Name: legislature_parties, dtype: int64"
      ]
     },
     "execution_count": 25,
     "metadata": {},
     "output_type": "execute_result"
    }
   ],
   "source": [
    "gov_df['legislature_parties'].value_counts()"
   ]
  },
  {
   "cell_type": "code",
   "execution_count": 26,
   "metadata": {},
   "outputs": [
    {
     "data": {
      "text/plain": [
       "Democratic incumbent                  8798\n",
       "Rules rewritten unconstitutionally     317\n",
       "Name: incumbent_type, dtype: int64"
      ]
     },
     "execution_count": 26,
     "metadata": {},
     "output_type": "execute_result"
    }
   ],
   "source": [
    "gov_df['incumbent_type'].value_counts()"
   ]
  },
  {
   "cell_type": "code",
   "execution_count": 27,
   "metadata": {},
   "outputs": [
    {
     "data": {
      "text/plain": [
       "No     8962\n",
       "Yes     123\n",
       "Name: collective_leadership, dtype: int64"
      ]
     },
     "execution_count": 27,
     "metadata": {},
     "output_type": "execute_result"
    }
   ],
   "source": [
    "gov_df['collective_leadership'].value_counts()"
   ]
  },
  {
   "cell_type": "code",
   "execution_count": 28,
   "metadata": {},
   "outputs": [
    {
     "data": {
      "text/plain": [
       "0.00    7451\n",
       "1.00    1363\n",
       "2.00     245\n",
       "3.00      42\n",
       "4.00      11\n",
       "6.00       2\n",
       "5.00       1\n",
       "Name: num_leadership_changes, dtype: int64"
      ]
     },
     "execution_count": 28,
     "metadata": {},
     "output_type": "execute_result"
    }
   ],
   "source": [
    "gov_df['num_leadership_changes'].value_counts()"
   ]
  },
  {
   "cell_type": "code",
   "execution_count": 29,
   "metadata": {},
   "outputs": [
    {
     "data": {
      "text/plain": [
       "1.00    1692\n",
       "2.00    1199\n",
       "3.00     964\n",
       "4.00     788\n",
       "5.00     608\n",
       "Name: leader_tenure, dtype: int64"
      ]
     },
     "execution_count": 29,
     "metadata": {},
     "output_type": "execute_result"
    }
   ],
   "source": [
    "gov_df['leader_tenure'].value_counts().head()"
   ]
  },
  {
   "cell_type": "code",
   "execution_count": 30,
   "metadata": {},
   "outputs": [
    {
     "data": {
      "text/plain": [
       "No     7154\n",
       "Yes    1961\n",
       "Name: military_leader, dtype: int64"
      ]
     },
     "execution_count": 30,
     "metadata": {},
     "output_type": "execute_result"
    }
   ],
   "source": [
    "gov_df['military_leader'].value_counts()"
   ]
  },
  {
   "cell_type": "code",
   "execution_count": 31,
   "metadata": {},
   "outputs": [
    {
     "data": {
      "text/plain": [
       "No     8337\n",
       "Yes     778\n",
       "Name: royal_leader, dtype: int64"
      ]
     },
     "execution_count": 31,
     "metadata": {},
     "output_type": "execute_result"
    }
   ],
   "source": [
    "gov_df['royal_leader'].value_counts()"
   ]
  },
  {
   "cell_type": "code",
   "execution_count": 32,
   "metadata": {},
   "outputs": [
    {
     "data": {
      "text/plain": [
       "No     8337\n",
       "Yes     778\n",
       "Name: nominal_vs_eff_diff, dtype: int64"
      ]
     },
     "execution_count": 32,
     "metadata": {},
     "output_type": "execute_result"
    }
   ],
   "source": [
    "gov_df['nominal_vs_eff_diff'].value_counts()"
   ]
  },
  {
   "cell_type": "code",
   "execution_count": 33,
   "metadata": {},
   "outputs": [
    {
     "data": {
      "text/plain": [
       "No     8421\n",
       "Yes     694\n",
       "Name: communist_leader, dtype: int64"
      ]
     },
     "execution_count": 33,
     "metadata": {},
     "output_type": "execute_result"
    }
   ],
   "source": [
    "gov_df['communist_leader'].value_counts()"
   ]
  },
  {
   "cell_type": "code",
   "execution_count": 34,
   "metadata": {},
   "outputs": [
    {
     "data": {
      "text/plain": [
       "No     8976\n",
       "Yes     139\n",
       "Name: leader_died, dtype: int64"
      ]
     },
     "execution_count": 34,
     "metadata": {},
     "output_type": "execute_result"
    }
   ],
   "source": [
    "gov_df['leader_died'].value_counts()"
   ]
  },
  {
   "cell_type": "code",
   "execution_count": 35,
   "metadata": {},
   "outputs": [
    {
     "data": {
      "text/plain": [
       "No     5120\n",
       "Yes    3995\n",
       "Name: democratic_regime, dtype: int64"
      ]
     },
     "execution_count": 35,
     "metadata": {},
     "output_type": "execute_result"
    }
   ],
   "source": [
    "gov_df['democratic_regime'].value_counts()"
   ]
  },
  {
   "cell_type": "code",
   "execution_count": 36,
   "metadata": {},
   "outputs": [
    {
     "data": {
      "text/plain": [
       "No     6175\n",
       "Yes    2940\n",
       "Name: cabinet_assembly, dtype: int64"
      ]
     },
     "execution_count": 36,
     "metadata": {},
     "output_type": "execute_result"
    }
   ],
   "source": [
    "gov_df['cabinet_assembly'].value_counts()"
   ]
  },
  {
   "cell_type": "code",
   "execution_count": 37,
   "metadata": {},
   "outputs": [
    {
     "data": {
      "text/plain": [
       "No     7389\n",
       "Yes    1726\n",
       "Name: popular_election, dtype: int64"
      ]
     },
     "execution_count": 37,
     "metadata": {},
     "output_type": "execute_result"
    }
   ],
   "source": [
    "gov_df['popular_election'].value_counts()"
   ]
  },
  {
   "cell_type": "code",
   "execution_count": 38,
   "metadata": {},
   "outputs": [
    {
     "data": {
      "text/plain": [
       "Civilian dictatorship                  2649\n",
       "Parliamentary democracy                2191\n",
       "Military dictatorship                  1694\n",
       "Presidential democracy                 1115\n",
       "Royal dictatorship                      777\n",
       "Mixed (semi‐presidential) democracy     689\n",
       "Name: regime_type, dtype: int64"
      ]
     },
     "execution_count": 38,
     "metadata": {},
     "output_type": "execute_result"
    }
   ],
   "source": [
    "gov_df['regime_type'].value_counts()"
   ]
  },
  {
   "cell_type": "code",
   "execution_count": 39,
   "metadata": {},
   "outputs": [
    {
     "data": {
      "text/plain": [
       "No     9008\n",
       "Yes     107\n",
       "Name: transition_to_democracy, dtype: int64"
      ]
     },
     "execution_count": 39,
     "metadata": {},
     "output_type": "execute_result"
    }
   ],
   "source": [
    "gov_df['transition_to_democracy'].value_counts()"
   ]
  },
  {
   "cell_type": "code",
   "execution_count": 40,
   "metadata": {},
   "outputs": [
    {
     "data": {
      "text/plain": [
       "No     9048\n",
       "Yes      67\n",
       "Name: transition_to_dictatorship, dtype: int64"
      ]
     },
     "execution_count": 40,
     "metadata": {},
     "output_type": "execute_result"
    }
   ],
   "source": [
    "gov_df['transition_to_dictatorship'].value_counts()"
   ]
  },
  {
   "cell_type": "code",
   "execution_count": 41,
   "metadata": {},
   "outputs": [
    {
     "data": {
      "text/plain": [
       "1.00    308\n",
       "2.00    296\n",
       "3.00    287\n",
       "4.00    271\n",
       "5.00    263\n",
       "Name: age_govt, dtype: int64"
      ]
     },
     "execution_count": 41,
     "metadata": {},
     "output_type": "execute_result"
    }
   ],
   "source": [
    "gov_df['age_govt'].value_counts().head()"
   ]
  },
  {
   "cell_type": "code",
   "execution_count": 42,
   "metadata": {},
   "outputs": [
    {
     "data": {
      "text/plain": [
       "0.00    6851\n",
       "1.00    1620\n",
       "2.00     487\n",
       "3.00      95\n",
       "5.00      33\n",
       "4.00      29\n",
       "Name: num_transitions_ever, dtype: int64"
      ]
     },
     "execution_count": 42,
     "metadata": {},
     "output_type": "execute_result"
    }
   ],
   "source": [
    "gov_df['num_transitions_ever'].value_counts()"
   ]
  },
  {
   "cell_type": "code",
   "execution_count": 43,
   "metadata": {},
   "outputs": [
    {
     "data": {
      "text/plain": [
       "Elected      7539\n",
       "Closed       1164\n",
       "Appointed     379\n",
       "Name: legislature_status, dtype: int64"
      ]
     },
     "execution_count": 43,
     "metadata": {},
     "output_type": "execute_result"
    }
   ],
   "source": [
    "gov_df['legislature_status'].value_counts()"
   ]
  },
  {
   "cell_type": "code",
   "execution_count": null,
   "metadata": {},
   "outputs": [],
   "source": []
  }
 ],
 "metadata": {
  "kernelspec": {
   "display_name": "Python 3",
   "language": "python",
   "name": "python3"
  },
  "language_info": {
   "codemirror_mode": {
    "name": "ipython",
    "version": 3
   },
   "file_extension": ".py",
   "mimetype": "text/x-python",
   "name": "python",
   "nbconvert_exporter": "python",
   "pygments_lexer": "ipython3",
   "version": "3.6.4"
  }
 },
 "nbformat": 4,
 "nbformat_minor": 2
}
