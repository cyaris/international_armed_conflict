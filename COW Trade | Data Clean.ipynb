{
 "cells": [
  {
   "cell_type": "code",
   "execution_count": 2,
   "metadata": {},
   "outputs": [],
   "source": [
    "from warnings import filterwarnings\n",
    "\n",
    "filterwarnings('ignore')"
   ]
  },
  {
   "cell_type": "code",
   "execution_count": 3,
   "metadata": {},
   "outputs": [],
   "source": [
    "from copy import deepcopy\n",
    "import pandas as pd\n",
    "import numpy as np"
   ]
  },
  {
   "cell_type": "code",
   "execution_count": 4,
   "metadata": {},
   "outputs": [],
   "source": [
    "pd.set_option('display.max_columns', None)"
   ]
  },
  {
   "cell_type": "code",
   "execution_count": 5,
   "metadata": {},
   "outputs": [],
   "source": [
    "pd.set_option('display.float_format', lambda x: '%.2f' % x)"
   ]
  },
  {
   "cell_type": "code",
   "execution_count": 6,
   "metadata": {},
   "outputs": [],
   "source": [
    "trade_df = pd.read_csv('data/dyadic_trade_3.0.csv', encoding = 'utf8')\n",
    "\n",
    "trade_df.rename({'flow1': 'money_flow_1', 'flow2': 'money_flow_2',\n",
    "         'ccode1': 'c_code_1', 'ccode2': 'c_code_2',\n",
    "         'importer1': 'state_name_1', 'importer2': 'state_name_2'},\n",
    "        axis = 1, inplace = True)\n",
    "\n",
    "trade_df['c_code_1'] = trade_df['c_code_1'].astype(int)\n",
    "trade_df['c_code_2'] = trade_df['c_code_2'].astype(int)\n",
    "\n",
    "trade_df['money_flow_1'] = ([s * 1000000 for s in trade_df['money_flow_1']])\n",
    "trade_df['money_flow_2'] = ([s * 1000000 for s in trade_df['money_flow_2']])\n",
    "\n",
    "trade_df.loc[trade_df['money_flow_1'] == -9000000, 'money_flow_1'] = None\n",
    "trade_df.loc[trade_df['money_flow_2'] == -9000000, 'money_flow_2'] = None\n",
    "\n",
    "trade_df = trade_df.sort_values(by = 'year', ascending = True).reset_index()\n",
    "\n",
    "trade_df.drop(['source1', 'source2', 'bel_lux_alt_flow1', 'bel_lux_alt_flow2', 'china_alt_flow1', 'china_alt_flow2', 'version', 'index'], axis = 1, inplace = True)"
   ]
  },
  {
   "cell_type": "code",
   "execution_count": 7,
   "metadata": {},
   "outputs": [],
   "source": [
    "trade_df_copy = deepcopy(trade_df)\n",
    "\n",
    "trade_df_copy.rename({'c_code_1': 'c_code_1_copy', 'c_code_2':'c_code_2_copy',\n",
    "         'state_name_1': 'state_name_1_copy', 'state_name_2': 'state_name_2_copy',\n",
    "         'money_flow_1': 'money_flow_1_copy', 'money_flow_2': 'money_flow_2_copy'},\n",
    "        axis = 1, inplace = True)\n",
    "\n",
    "trade_df_copy.rename({'c_code_1_copy': 'c_code_2', 'c_code_2_copy':'c_code_1',\n",
    "         'state_name_1_copy': 'state_name_2', 'state_name_2_copy': 'state_name_1',\n",
    "         'money_flow_1_copy': 'money_flow_2', 'money_flow_2_copy': 'money_flow_1'},\n",
    "        axis = 1, inplace = True)"
   ]
  },
  {
   "cell_type": "code",
   "execution_count": 8,
   "metadata": {},
   "outputs": [],
   "source": [
    "trade_df = pd.concat([trade_df, trade_df_copy], axis = 0)\n",
    "\n",
    "trade_df = trade_df.sort_values(by = 'year', ascending = True).reset_index()\n",
    "\n",
    "trade_df.drop(['index'], axis = 1, inplace = True)"
   ]
  },
  {
   "cell_type": "code",
   "execution_count": 9,
   "metadata": {},
   "outputs": [
    {
     "data": {
      "text/html": [
       "<div>\n",
       "<style scoped>\n",
       "    .dataframe tbody tr th:only-of-type {\n",
       "        vertical-align: middle;\n",
       "    }\n",
       "\n",
       "    .dataframe tbody tr th {\n",
       "        vertical-align: top;\n",
       "    }\n",
       "\n",
       "    .dataframe thead th {\n",
       "        text-align: right;\n",
       "    }\n",
       "</style>\n",
       "<table border=\"1\" class=\"dataframe\">\n",
       "  <thead>\n",
       "    <tr style=\"text-align: right;\">\n",
       "      <th></th>\n",
       "      <th>c_code_1</th>\n",
       "      <th>c_code_2</th>\n",
       "      <th>money_flow_1</th>\n",
       "      <th>money_flow_2</th>\n",
       "      <th>state_name_1</th>\n",
       "      <th>state_name_2</th>\n",
       "      <th>year</th>\n",
       "    </tr>\n",
       "  </thead>\n",
       "  <tbody>\n",
       "    <tr>\n",
       "      <th>0</th>\n",
       "      <td>210</td>\n",
       "      <td>390</td>\n",
       "      <td>nan</td>\n",
       "      <td>nan</td>\n",
       "      <td>Netherlands</td>\n",
       "      <td>Denmark</td>\n",
       "      <td>1870</td>\n",
       "    </tr>\n",
       "    <tr>\n",
       "      <th>1</th>\n",
       "      <td>255</td>\n",
       "      <td>160</td>\n",
       "      <td>190000.00</td>\n",
       "      <td>nan</td>\n",
       "      <td>Germany</td>\n",
       "      <td>Argentina</td>\n",
       "      <td>1870</td>\n",
       "    </tr>\n",
       "    <tr>\n",
       "      <th>2</th>\n",
       "      <td>200</td>\n",
       "      <td>70</td>\n",
       "      <td>1450000.00</td>\n",
       "      <td>5110000.00</td>\n",
       "      <td>United Kingdom</td>\n",
       "      <td>Mexico</td>\n",
       "      <td>1870</td>\n",
       "    </tr>\n",
       "    <tr>\n",
       "      <th>3</th>\n",
       "      <td>600</td>\n",
       "      <td>255</td>\n",
       "      <td>nan</td>\n",
       "      <td>nan</td>\n",
       "      <td>Morocco</td>\n",
       "      <td>Germany</td>\n",
       "      <td>1870</td>\n",
       "    </tr>\n",
       "    <tr>\n",
       "      <th>4</th>\n",
       "      <td>350</td>\n",
       "      <td>135</td>\n",
       "      <td>nan</td>\n",
       "      <td>nan</td>\n",
       "      <td>Greece</td>\n",
       "      <td>Peru</td>\n",
       "      <td>1870</td>\n",
       "    </tr>\n",
       "  </tbody>\n",
       "</table>\n",
       "</div>"
      ],
      "text/plain": [
       "   c_code_1  c_code_2  money_flow_1  money_flow_2    state_name_1  \\\n",
       "0       210       390           nan           nan     Netherlands   \n",
       "1       255       160     190000.00           nan         Germany   \n",
       "2       200        70    1450000.00    5110000.00  United Kingdom   \n",
       "3       600       255           nan           nan         Morocco   \n",
       "4       350       135           nan           nan          Greece   \n",
       "\n",
       "  state_name_2  year  \n",
       "0      Denmark  1870  \n",
       "1    Argentina  1870  \n",
       "2       Mexico  1870  \n",
       "3      Germany  1870  \n",
       "4         Peru  1870  "
      ]
     },
     "execution_count": 9,
     "metadata": {},
     "output_type": "execute_result"
    }
   ],
   "source": [
    "trade_df.head()"
   ]
  },
  {
   "cell_type": "code",
   "execution_count": 10,
   "metadata": {},
   "outputs": [],
   "source": [
    "aggregations = {\n",
    "  'c_code_2': 'count',\n",
    "  'money_flow_1': 'sum',\n",
    "  'money_flow_2': 'sum'\n",
    "  }\n",
    "\n",
    "trade_df_group = trade_df.groupby(['c_code_1', 'state_name_1', 'year']).agg(aggregations).reset_index()\n",
    "\n",
    "trade_df_group.rename({'c_code_2': 'num_trade_states', 'money_flow_1': 'export_dollars', 'money_flow_2': 'import_dollars'}, axis = 1, inplace = True)"
   ]
  },
  {
   "cell_type": "code",
   "execution_count": 11,
   "metadata": {},
   "outputs": [],
   "source": [
    "trade_df_group.to_pickle('pickle/trade_df_group.pkl')\n",
    "trade_df_group.to_csv('dataframe_exports/trade_df_group.csv')"
   ]
  },
  {
   "cell_type": "code",
   "execution_count": 12,
   "metadata": {},
   "outputs": [
    {
     "data": {
      "text/html": [
       "<div>\n",
       "<style scoped>\n",
       "    .dataframe tbody tr th:only-of-type {\n",
       "        vertical-align: middle;\n",
       "    }\n",
       "\n",
       "    .dataframe tbody tr th {\n",
       "        vertical-align: top;\n",
       "    }\n",
       "\n",
       "    .dataframe thead th {\n",
       "        text-align: right;\n",
       "    }\n",
       "</style>\n",
       "<table border=\"1\" class=\"dataframe\">\n",
       "  <thead>\n",
       "    <tr style=\"text-align: right;\">\n",
       "      <th></th>\n",
       "      <th>c_code_1</th>\n",
       "      <th>state_name_1</th>\n",
       "      <th>year</th>\n",
       "      <th>num_trade_states</th>\n",
       "      <th>export_dollars</th>\n",
       "      <th>import_dollars</th>\n",
       "    </tr>\n",
       "  </thead>\n",
       "  <tbody>\n",
       "    <tr>\n",
       "      <th>0</th>\n",
       "      <td>2</td>\n",
       "      <td>United States of America</td>\n",
       "      <td>1870</td>\n",
       "      <td>36</td>\n",
       "      <td>256170000.00</td>\n",
       "      <td>359400000.00</td>\n",
       "    </tr>\n",
       "    <tr>\n",
       "      <th>1</th>\n",
       "      <td>2</td>\n",
       "      <td>United States of America</td>\n",
       "      <td>1871</td>\n",
       "      <td>35</td>\n",
       "      <td>319960000.00</td>\n",
       "      <td>430510000.00</td>\n",
       "    </tr>\n",
       "    <tr>\n",
       "      <th>2</th>\n",
       "      <td>2</td>\n",
       "      <td>United States of America</td>\n",
       "      <td>1872</td>\n",
       "      <td>32</td>\n",
       "      <td>313530000.00</td>\n",
       "      <td>353040000.00</td>\n",
       "    </tr>\n",
       "    <tr>\n",
       "      <th>3</th>\n",
       "      <td>2</td>\n",
       "      <td>United States of America</td>\n",
       "      <td>1873</td>\n",
       "      <td>32</td>\n",
       "      <td>392890000.00</td>\n",
       "      <td>542810000.00</td>\n",
       "    </tr>\n",
       "    <tr>\n",
       "      <th>4</th>\n",
       "      <td>2</td>\n",
       "      <td>United States of America</td>\n",
       "      <td>1874</td>\n",
       "      <td>32</td>\n",
       "      <td>317460000.00</td>\n",
       "      <td>553420000.00</td>\n",
       "    </tr>\n",
       "  </tbody>\n",
       "</table>\n",
       "</div>"
      ],
      "text/plain": [
       "   c_code_1              state_name_1  year  num_trade_states  export_dollars  \\\n",
       "0         2  United States of America  1870                36    256170000.00   \n",
       "1         2  United States of America  1871                35    319960000.00   \n",
       "2         2  United States of America  1872                32    313530000.00   \n",
       "3         2  United States of America  1873                32    392890000.00   \n",
       "4         2  United States of America  1874                32    317460000.00   \n",
       "\n",
       "   import_dollars  \n",
       "0    359400000.00  \n",
       "1    430510000.00  \n",
       "2    353040000.00  \n",
       "3    542810000.00  \n",
       "4    553420000.00  "
      ]
     },
     "execution_count": 12,
     "metadata": {},
     "output_type": "execute_result"
    }
   ],
   "source": [
    "trade_df_group.head()"
   ]
  },
  {
   "cell_type": "code",
   "execution_count": null,
   "metadata": {},
   "outputs": [],
   "source": []
  }
 ],
 "metadata": {
  "kernelspec": {
   "display_name": "Python 3",
   "language": "python",
   "name": "python3"
  },
  "language_info": {
   "codemirror_mode": {
    "name": "ipython",
    "version": 3
   },
   "file_extension": ".py",
   "mimetype": "text/x-python",
   "name": "python",
   "nbconvert_exporter": "python",
   "pygments_lexer": "ipython3",
   "version": "3.6.4"
  }
 },
 "nbformat": 4,
 "nbformat_minor": 2
}
