{
 "cells": [
  {
   "cell_type": "code",
   "execution_count": 1,
   "metadata": {},
   "outputs": [],
   "source": [
    "from warnings import filterwarnings\n",
    "\n",
    "filterwarnings('ignore')"
   ]
  },
  {
   "cell_type": "code",
   "execution_count": 2,
   "metadata": {},
   "outputs": [],
   "source": [
    "from copy import deepcopy\n",
    "import pandas as pd\n",
    "import numpy as np"
   ]
  },
  {
   "cell_type": "code",
   "execution_count": 3,
   "metadata": {},
   "outputs": [],
   "source": [
    "pd.set_option('display.max_columns', None)\n",
    "pd.set_option('display.float_format', lambda x: '%.2f' % x)"
   ]
  },
  {
   "cell_type": "code",
   "execution_count": 5,
   "metadata": {},
   "outputs": [],
   "source": [
    "mid_df = pd.read_csv('../Data Sources/dyadic MIDs 3.1.csv', encoding = 'utf8')\n",
    "  \n",
    "mid_df.rename({'revstata': 'revision_sought', 'revtypea': 'revision_type',\n",
    "               'fatleva': 'state_fatality_bin', 'highmcaa': 'highest_mca',\n",
    "               'hihosta': 'highest_hostility', 'durindx': 'year_num',\n",
    "               'midc3hia': 'highest_action_for_state', 'orignata': 'origin_participant',\n",
    "               'notarg': 'num_against', 'settlmnt': 'settlement_type',\n",
    "               'fatlev': 'total_fatality_bin', 'noinit': 'num_with',\n",
    "               'disno': 'dispute_id', 'statea': 'c_code_1', 'stateb': 'c_code_2',\n",
    "               'namea': 'state_name_abb_a', 'nameb': 'state_name_abb_b',\n",
    "               'cumdurat': 'cumulative_duration', 'ongo2010': 'ongoing_2010'}, axis = 1, inplace = True)\n",
    "\n",
    "mid_df['date_start'] = pd.to_datetime((mid_df['strtyr']*10000+mid_df['strtmnth']*100+mid_df['strtday']).apply(str),format='%Y%m%d')\n",
    "mid_df['date_end'] = pd.to_datetime((mid_df['endyear']*10000+mid_df['endmnth']*100+mid_df['endday']).apply(str),format='%Y%m%d')\n",
    "\n",
    "mid_df.loc[mid_df['sideaa'] == 1, 'initiator'] = 1\n",
    "mid_df.loc[mid_df['sideaa'] != 1, 'initiator'] = 0\n",
    "\n",
    "mid_df = mid_df.sort_values(by = 'year', ascending = True).reset_index()\n",
    "\n",
    "mid_df.drop(['strtmnth', 'strtday', 'strtyr', 'endmnth', 'endday',\n",
    "             'endyear', 'dyindex', 'duration', 'disno4', 'sideaa',\n",
    "             'sideab', 'revstatb', 'revtypeb', 'fatlevb', 'highmcab',\n",
    "             'hihostb', 'hihost', 'orignatb', 'recip', 'rolea', 'roleb',\n",
    "             'mid3hiact', 'mid3hib', 'change', 'changetype_1',\n",
    "             'changetype_2', 'highact', 'new', 'mid3hia', 'index'],\n",
    "            axis = 1, inplace = True)"
   ]
  },
  {
   "cell_type": "code",
   "execution_count": 6,
   "metadata": {},
   "outputs": [],
   "source": [
    "mid_df.loc[mid_df['outcome'] == 1, 'outcome'] = 'Victory for State A'\n",
    "mid_df.loc[mid_df['outcome'] == 2, 'outcome'] = 'Victory for State B'\n",
    "mid_df.loc[mid_df['outcome'] == 3, 'outcome'] = 'Yield by for State A'\n",
    "mid_df.loc[mid_df['outcome'] == 4, 'outcome'] = 'Yield by State B'\n",
    "mid_df.loc[mid_df['outcome'] == 5, 'outcome'] = 'Stalemate'\n",
    "mid_df.loc[mid_df['outcome'] == 6, 'outcome'] = 'Compromise'\n",
    "mid_df.loc[mid_df['outcome'] == 7, 'outcome'] = 'Released (for seizures)'\n",
    "mid_df.loc[mid_df['outcome'] == 8, 'outcome'] = 'Unclear'\n",
    "mid_df.loc[mid_df['outcome'] == 0, 'outcome'] = 'N/A'\n",
    "\n",
    "mid_df.loc[mid_df['settlement_type'] == 1, 'settlement_type'] = 'Negotiated'\n",
    "mid_df.loc[mid_df['settlement_type'] == 2, 'settlement_type'] = 'Imposed'\n",
    "mid_df.loc[mid_df['settlement_type'] == 3, 'settlement_type'] = 'None Value'\n",
    "mid_df.loc[mid_df['settlement_type'] == 4, 'settlement_type'] = 'Unclear'\n",
    "mid_df.loc[mid_df['settlement_type'] == 0, 'settlement_type'] = 'N/A'\n",
    "\n",
    "mid_df.loc[mid_df['total_fatality_bin'] == 0, 'total_fatality_bin'] = 'None Value'\n",
    "mid_df.loc[mid_df['total_fatality_bin'] == 1, 'total_fatality_bin'] = '1-25'\n",
    "mid_df.loc[mid_df['total_fatality_bin'] == 2, 'total_fatality_bin'] = '26-100'\n",
    "mid_df.loc[mid_df['total_fatality_bin'] == 3, 'total_fatality_bin'] = '101-250'\n",
    "mid_df.loc[mid_df['total_fatality_bin'] == 4, 'total_fatality_bin'] = '251-500'\n",
    "mid_df.loc[mid_df['total_fatality_bin'] == 5, 'total_fatality_bin'] = '501-999'\n",
    "mid_df.loc[mid_df['total_fatality_bin'] == 6, 'total_fatality_bin'] = '1,000+'\n",
    "mid_df.loc[mid_df['total_fatality_bin'] == -9, 'total_fatality_bin'] = None\n",
    "\n",
    "mid_df.loc[mid_df['state_fatality_bin'] == 0, 'state_fatality_bin'] = 'None Value'\n",
    "mid_df.loc[mid_df['state_fatality_bin'] == 1, 'state_fatality_bin'] = '1-25'\n",
    "mid_df.loc[mid_df['state_fatality_bin'] == 2, 'state_fatality_bin'] = '26-100'\n",
    "mid_df.loc[mid_df['state_fatality_bin'] == 3, 'state_fatality_bin'] = '101-250'\n",
    "mid_df.loc[mid_df['state_fatality_bin'] == 4, 'state_fatality_bin'] = '251-500'\n",
    "mid_df.loc[mid_df['state_fatality_bin'] == 5, 'state_fatality_bin'] = '501-999'\n",
    "mid_df.loc[mid_df['state_fatality_bin'] == 6, 'state_fatality_bin'] = '1,000+'\n",
    "mid_df.loc[mid_df['state_fatality_bin'] == -9, 'state_fatality_bin'] = None\n",
    "\n",
    "mid_df.loc[mid_df['revision_type'] == 1, 'revision_type'] = 'Territory'\n",
    "mid_df.loc[mid_df['revision_type'] == 2, 'revision_type'] = 'Policy'\n",
    "mid_df.loc[mid_df['revision_type'] == 3, 'revision_type'] = 'Regime/Government'\n",
    "mid_df.loc[mid_df['revision_type'] == 4, 'revision_type'] = 'Other'\n",
    "mid_df.loc[mid_df['revision_type'] == 0, 'revision_type'] = 'N/A'\n",
    "mid_df.loc[mid_df['revision_type'] == -9, 'revision_type'] = None\n",
    "\n",
    "mid_df.loc[mid_df['highest_mca'] == 1, 'highest_mca'] = 1\n",
    "mid_df.loc[(mid_df['highest_mca'] >= 2) & (mid_df['highest_mca'] <= 6), 'highest_mca'] = 2\n",
    "mid_df.loc[(mid_df['highest_mca'] >= 7) & (mid_df['highest_mca'] <= 13), 'highest_mca'] = 3\n",
    "mid_df.loc[(mid_df['highest_mca'] >= 14) & (mid_df['highest_mca'] <= 20), 'highest_mca'] = 4\n",
    "mid_df.loc[mid_df['highest_mca'] >= 21, 'highest_mca'] = 5\n",
    "\n",
    "mid_df.loc[mid_df['date_start'].isnull(), 'date_start'] = mid_df[mid_df['dispute_id'] == 3254]['date_start'].values[0]"
   ]
  },
  {
   "cell_type": "code",
   "execution_count": 7,
   "metadata": {},
   "outputs": [],
   "source": [
    "mid_df.rename({'highest_mca': 'hostility_level'}, axis = 1, inplace = True)\n",
    "mid_df.drop(['highest_hostility'], axis = 1, inplace = True)"
   ]
  },
  {
   "cell_type": "code",
   "execution_count": 8,
   "metadata": {},
   "outputs": [],
   "source": [
    "trade_df = pd.read_pickle('../Pickles/trade_df.pkl')\n",
    "trade_mid = pd.merge(trade_df, mid_df, how = 'inner', on = ['c_code_1', 'c_code_2', 'year'])"
   ]
  },
  {
   "cell_type": "code",
   "execution_count": 9,
   "metadata": {},
   "outputs": [],
   "source": [
    "aggregations = {'year': 'count'}\n",
    "trade_mid_grouped = trade_mid.groupby(['c_code_1', 'c_code_2', 'dispute_id', 'date_start']).agg(aggregations).reset_index()"
   ]
  },
  {
   "cell_type": "code",
   "execution_count": 10,
   "metadata": {},
   "outputs": [],
   "source": [
    "trade_mid_combos = list(trade_mid_grouped[['c_code_1', 'c_code_2', 'dispute_id', 'date_start']].values)"
   ]
  },
  {
   "cell_type": "code",
   "execution_count": 11,
   "metadata": {},
   "outputs": [],
   "source": [
    "for i, combo in enumerate(trade_mid_combos):\n",
    "    start_year = combo[3].year\n",
    "    trade_yrs_before_mid = []\n",
    "    combo_trade_years = list(trade_df[(trade_df['c_code_1'] == combo[0]) & (trade_df['c_code_2'] == combo[1])]['year'].values)\n",
    "    combo_trade_years = [x for x in combo_trade_years if x < start_year]\n",
    "    non_consecutives = []\n",
    "    for z, year in enumerate(combo_trade_years[1:]):\n",
    "        z+=1\n",
    "        if year - combo_trade_years[z -1] == 1:\n",
    "            pass\n",
    "        else:\n",
    "            non_consecutives.append(year)\n",
    "    if non_consecutives != []:\n",
    "        combo_trade_years = [x for x in combo_trade_years if x >= max(non_consecutives)]\n",
    "    if combo_trade_years == []:\n",
    "        trade_mid_grouped.loc[i, 'trade_yrs_before_mid'] = 0\n",
    "    elif (len(combo_trade_years) - 1) == (max(combo_trade_years) - min(combo_trade_years)):\n",
    "        trade_mid_grouped.loc[i, 'trade_yrs_before_mid'] = (max(combo_trade_years) - min(combo_trade_years))\n",
    "    else:\n",
    "        print(combo[0], combo[1], combo[3].year, (len(combo_trade_years) - 1), (max(combo_trade_years) - min(combo_trade_years)))"
   ]
  },
  {
   "cell_type": "code",
   "execution_count": 12,
   "metadata": {},
   "outputs": [],
   "source": [
    "# trade_mid_grouped.drop(['date_start', 'year'], axis = 1, inplace = True)"
   ]
  },
  {
   "cell_type": "code",
   "execution_count": 33,
   "metadata": {
    "scrolled": true
   },
   "outputs": [
    {
     "data": {
      "text/html": [
       "<div>\n",
       "<style scoped>\n",
       "    .dataframe tbody tr th:only-of-type {\n",
       "        vertical-align: middle;\n",
       "    }\n",
       "\n",
       "    .dataframe tbody tr th {\n",
       "        vertical-align: top;\n",
       "    }\n",
       "\n",
       "    .dataframe thead th {\n",
       "        text-align: right;\n",
       "    }\n",
       "</style>\n",
       "<table border=\"1\" class=\"dataframe\">\n",
       "  <thead>\n",
       "    <tr style=\"text-align: right;\">\n",
       "      <th></th>\n",
       "      <th>c_code_1</th>\n",
       "      <th>c_code_2</th>\n",
       "      <th>dispute_id</th>\n",
       "      <th>date_start</th>\n",
       "      <th>year</th>\n",
       "      <th>trade_yrs_before_mid</th>\n",
       "    </tr>\n",
       "  </thead>\n",
       "  <tbody>\n",
       "    <tr>\n",
       "      <th>0</th>\n",
       "      <td>2</td>\n",
       "      <td>20</td>\n",
       "      <td>2968</td>\n",
       "      <td>1979-08-28</td>\n",
       "      <td>1</td>\n",
       "      <td>58.00</td>\n",
       "    </tr>\n",
       "    <tr>\n",
       "      <th>1</th>\n",
       "      <td>2</td>\n",
       "      <td>20</td>\n",
       "      <td>3900</td>\n",
       "      <td>1989-12-11</td>\n",
       "      <td>1</td>\n",
       "      <td>68.00</td>\n",
       "    </tr>\n",
       "    <tr>\n",
       "      <th>2</th>\n",
       "      <td>2</td>\n",
       "      <td>20</td>\n",
       "      <td>3972</td>\n",
       "      <td>1991-07-29</td>\n",
       "      <td>1</td>\n",
       "      <td>70.00</td>\n",
       "    </tr>\n",
       "    <tr>\n",
       "      <th>3</th>\n",
       "      <td>2</td>\n",
       "      <td>20</td>\n",
       "      <td>4183</td>\n",
       "      <td>1997-05-25</td>\n",
       "      <td>1</td>\n",
       "      <td>76.00</td>\n",
       "    </tr>\n",
       "    <tr>\n",
       "      <th>4</th>\n",
       "      <td>2</td>\n",
       "      <td>40</td>\n",
       "      <td>61</td>\n",
       "      <td>1962-01-28</td>\n",
       "      <td>1</td>\n",
       "      <td>52.00</td>\n",
       "    </tr>\n",
       "  </tbody>\n",
       "</table>\n",
       "</div>"
      ],
      "text/plain": [
       "   c_code_1  c_code_2  dispute_id date_start  year  trade_yrs_before_mid\n",
       "0         2        20        2968 1979-08-28     1                 58.00\n",
       "1         2        20        3900 1989-12-11     1                 68.00\n",
       "2         2        20        3972 1991-07-29     1                 70.00\n",
       "3         2        20        4183 1997-05-25     1                 76.00\n",
       "4         2        40          61 1962-01-28     1                 52.00"
      ]
     },
     "execution_count": 33,
     "metadata": {},
     "output_type": "execute_result"
    }
   ],
   "source": [
    "trade_mid_grouped.head()"
   ]
  },
  {
   "cell_type": "code",
   "execution_count": 14,
   "metadata": {},
   "outputs": [
    {
     "data": {
      "text/html": [
       "<div>\n",
       "<style scoped>\n",
       "    .dataframe tbody tr th:only-of-type {\n",
       "        vertical-align: middle;\n",
       "    }\n",
       "\n",
       "    .dataframe tbody tr th {\n",
       "        vertical-align: top;\n",
       "    }\n",
       "\n",
       "    .dataframe thead th {\n",
       "        text-align: right;\n",
       "    }\n",
       "</style>\n",
       "<table border=\"1\" class=\"dataframe\">\n",
       "  <thead>\n",
       "    <tr style=\"text-align: right;\">\n",
       "      <th></th>\n",
       "      <th>c_code_1</th>\n",
       "      <th>c_code_2</th>\n",
       "      <th>dispute_id</th>\n",
       "      <th>date_start</th>\n",
       "      <th>year</th>\n",
       "      <th>trade_yrs_before_mid</th>\n",
       "    </tr>\n",
       "  </thead>\n",
       "  <tbody>\n",
       "  </tbody>\n",
       "</table>\n",
       "</div>"
      ],
      "text/plain": [
       "Empty DataFrame\n",
       "Columns: [c_code_1, c_code_2, dispute_id, date_start, year, trade_yrs_before_mid]\n",
       "Index: []"
      ]
     },
     "execution_count": 14,
     "metadata": {},
     "output_type": "execute_result"
    }
   ],
   "source": [
    "trade_mid_grouped[(trade_mid_grouped['c_code_1'] == 531) & (trade_mid_grouped['c_code_1'] == 530)]"
   ]
  },
  {
   "cell_type": "code",
   "execution_count": 15,
   "metadata": {},
   "outputs": [
    {
     "data": {
      "text/plain": [
       "6185"
      ]
     },
     "execution_count": 15,
     "metadata": {},
     "output_type": "execute_result"
    }
   ],
   "source": [
    "len(trade_mid_grouped)"
   ]
  },
  {
   "cell_type": "code",
   "execution_count": 16,
   "metadata": {},
   "outputs": [
    {
     "data": {
      "text/plain": [
       "9852"
      ]
     },
     "execution_count": 16,
     "metadata": {},
     "output_type": "execute_result"
    }
   ],
   "source": [
    "len(mid_df)"
   ]
  },
  {
   "cell_type": "code",
   "execution_count": 17,
   "metadata": {},
   "outputs": [],
   "source": [
    "mid_df = deepcopy(pd.merge(mid_df, trade_mid_grouped, how = 'left', on = ['c_code_1', 'c_code_2', 'dispute_id', 'date_start']))"
   ]
  },
  {
   "cell_type": "code",
   "execution_count": 18,
   "metadata": {},
   "outputs": [
    {
     "data": {
      "text/plain": [
       "0.3211530653674381"
      ]
     },
     "execution_count": 18,
     "metadata": {},
     "output_type": "execute_result"
    }
   ],
   "source": [
    "len(mid_df[(mid_df['trade_yrs_before_mid'] <= 20) & (mid_df['trade_yrs_before_mid'] != 0)])/len(mid_df)"
   ]
  },
  {
   "cell_type": "code",
   "execution_count": 19,
   "metadata": {},
   "outputs": [],
   "source": [
    "mid_df.rename({'year_x': 'year'}, axis = 1, inplace = True)\n",
    "mid_df.drop(['year_y'], axis = 1, inplace = True)"
   ]
  },
  {
   "cell_type": "code",
   "execution_count": 20,
   "metadata": {},
   "outputs": [],
   "source": [
    "c_code_df = pd.read_pickle('../Pickles/c_code_df.pkl')"
   ]
  },
  {
   "cell_type": "code",
   "execution_count": 21,
   "metadata": {},
   "outputs": [],
   "source": [
    "c_code_dic = {}\n",
    "\n",
    "for i, code in enumerate(c_code_df['c_code']):\n",
    "    c_code_dic[code] = c_code_df['state_name'][i]"
   ]
  },
  {
   "cell_type": "code",
   "execution_count": 22,
   "metadata": {},
   "outputs": [],
   "source": [
    "for i, code in enumerate(mid_df['c_code_1']):\n",
    "    mid_df.loc[i, 'state_name_1'] = c_code_dic[code]"
   ]
  },
  {
   "cell_type": "code",
   "execution_count": 23,
   "metadata": {},
   "outputs": [],
   "source": [
    "for i, code in enumerate(mid_df['c_code_2']):\n",
    "    mid_df.loc[i, 'state_name_2'] = c_code_dic[code]"
   ]
  },
  {
   "cell_type": "code",
   "execution_count": 24,
   "metadata": {},
   "outputs": [],
   "source": [
    "mid_df.to_pickle('pickle/mid_df.pkl')\n",
    "mid_df.to_csv('dataframe_exports/mid_df.csv')"
   ]
  },
  {
   "cell_type": "code",
   "execution_count": 25,
   "metadata": {},
   "outputs": [],
   "source": [
    "mid_net_df = deepcopy(mid_df[mid_df['year'] >= 1946])"
   ]
  },
  {
   "cell_type": "code",
   "execution_count": 26,
   "metadata": {},
   "outputs": [],
   "source": [
    "mid_net_df.to_pickle('pickle/mid_net_df.pkl')\n",
    "mid_net_df.to_csv('dataframe_exports/mid_net_df.csv')"
   ]
  },
  {
   "cell_type": "code",
   "execution_count": 27,
   "metadata": {},
   "outputs": [],
   "source": [
    "aggregations = {\n",
    "  'c_code_2': 'count',\n",
    "  'num_with': 'sum',\n",
    "  'num_against': 'sum',\n",
    "  'cumulative_duration': 'sum',\n",
    "  'war': 'sum',\n",
    "  'origin_participant': 'mean',\n",
    "  'ongoing_2010': 'mean',\n",
    "  'revision_sought': 'mean',\n",
    "  'hostility_level': 'mean',\n",
    "  'revision_type': pd.Series.mode,\n",
    "  'state_fatality_bin': pd.Series.mode,\n",
    "  'outcome': pd.Series.mode,\n",
    "  'settlement_type': pd.Series.mode,\n",
    "  }\n",
    "\n",
    "mid_df_group = mid_df.groupby(['c_code_1', 'state_name_1', 'year']).agg(aggregations).reset_index()\n",
    "\n",
    "for i, country in enumerate(mid_df_group['c_code_1']):\n",
    "    mid_df_group.loc[i, 'num_with'] = mid_df_group['num_with'][i]/mid_df_group['c_code_2'][i]\n",
    "    mid_df_group.loc[i, 'num_against'] = mid_df_group['num_against'][i]/mid_df_group['c_code_2'][i]\n",
    "    mid_df_group.loc[i, 'cumulative_duration'] = mid_df_group['cumulative_duration'][i]/mid_df_group['c_code_2'][i]\n",
    "    mid_df_group.loc[i, 'cumulative_duration'] = mid_df_group['cumulative_duration'][i]/365\n",
    "\n",
    "mid_df_group = mid_df_group.sort_values(by = 'year', ascending = True).reset_index()\n",
    "\n",
    "mid_df_group.rename({'c_code_2': 'num_conflicts', 'num_with': 'avg_with',\n",
    "                     'num_against': 'avg_against', 'cumulative_duration': 'avg_cum_duration',\n",
    "                     'war': 'num_wars', 'origin_participant': 'origin_participant_pct',\n",
    "                     'revision_sought': 'revision_pct', 'revision_type': 'revision_type_mode',\n",
    "                     'state_fatality_bin': 'state_fatality_bin_mode', 'outcome': 'outcome_mode',\n",
    "                     'settlement_type': 'settlement_type_mode',\n",
    "                     'hostility_level': 'avg_hostility_level'}, axis = 1, inplace = True)\n",
    "\n",
    "mid_df_group.drop(['index'], axis = 1, inplace = True)"
   ]
  },
  {
   "cell_type": "code",
   "execution_count": 28,
   "metadata": {},
   "outputs": [],
   "source": [
    "mid_df_group['state_fatality_bin_mode'] = mid_df_group['state_fatality_bin_mode'].astype(str)\n",
    "mid_df_group.loc[mid_df_group['state_fatality_bin_mode'] == '[]', 'state_fatality_bin_mode'] = None\n",
    "mid_df_group.drop(['state_fatality_bin_mode', 'origin_participant_pct',\n",
    "                   'outcome_mode', 'settlement_type_mode',\n",
    "                   'revision_type_mode', 'avg_against', 'avg_with'], axis = 1, inplace = True)"
   ]
  },
  {
   "cell_type": "code",
   "execution_count": 29,
   "metadata": {},
   "outputs": [],
   "source": [
    "mid_df_group.to_pickle('../Pickles/mid_df_group.pkl')"
   ]
  },
  {
   "cell_type": "code",
   "execution_count": 30,
   "metadata": {},
   "outputs": [
    {
     "data": {
      "text/html": [
       "<div>\n",
       "<style scoped>\n",
       "    .dataframe tbody tr th:only-of-type {\n",
       "        vertical-align: middle;\n",
       "    }\n",
       "\n",
       "    .dataframe tbody tr th {\n",
       "        vertical-align: top;\n",
       "    }\n",
       "\n",
       "    .dataframe thead th {\n",
       "        text-align: right;\n",
       "    }\n",
       "</style>\n",
       "<table border=\"1\" class=\"dataframe\">\n",
       "  <thead>\n",
       "    <tr style=\"text-align: right;\">\n",
       "      <th></th>\n",
       "      <th>c_code_1</th>\n",
       "      <th>state_name_1</th>\n",
       "      <th>year</th>\n",
       "      <th>num_conflicts</th>\n",
       "      <th>avg_cum_duration</th>\n",
       "      <th>num_wars</th>\n",
       "      <th>ongoing_2010</th>\n",
       "      <th>revision_pct</th>\n",
       "      <th>avg_hostility_level</th>\n",
       "    </tr>\n",
       "  </thead>\n",
       "  <tbody>\n",
       "    <tr>\n",
       "      <th>0</th>\n",
       "      <td>2</td>\n",
       "      <td>United States of America</td>\n",
       "      <td>1816</td>\n",
       "      <td>1</td>\n",
       "      <td>0.00</td>\n",
       "      <td>0</td>\n",
       "      <td>0.00</td>\n",
       "      <td>1.00</td>\n",
       "      <td>4.00</td>\n",
       "    </tr>\n",
       "    <tr>\n",
       "      <th>1</th>\n",
       "      <td>230</td>\n",
       "      <td>Spain</td>\n",
       "      <td>1816</td>\n",
       "      <td>1</td>\n",
       "      <td>0.00</td>\n",
       "      <td>0</td>\n",
       "      <td>0.00</td>\n",
       "      <td>0.00</td>\n",
       "      <td>1.00</td>\n",
       "    </tr>\n",
       "    <tr>\n",
       "      <th>2</th>\n",
       "      <td>365</td>\n",
       "      <td>Russia</td>\n",
       "      <td>1817</td>\n",
       "      <td>1</td>\n",
       "      <td>0.14</td>\n",
       "      <td>0</td>\n",
       "      <td>0.00</td>\n",
       "      <td>1.00</td>\n",
       "      <td>3.00</td>\n",
       "    </tr>\n",
       "    <tr>\n",
       "      <th>3</th>\n",
       "      <td>640</td>\n",
       "      <td>Turkey</td>\n",
       "      <td>1817</td>\n",
       "      <td>1</td>\n",
       "      <td>0.14</td>\n",
       "      <td>0</td>\n",
       "      <td>0.00</td>\n",
       "      <td>0.00</td>\n",
       "      <td>3.00</td>\n",
       "    </tr>\n",
       "    <tr>\n",
       "      <th>4</th>\n",
       "      <td>2</td>\n",
       "      <td>United States of America</td>\n",
       "      <td>1818</td>\n",
       "      <td>1</td>\n",
       "      <td>0.21</td>\n",
       "      <td>0</td>\n",
       "      <td>0.00</td>\n",
       "      <td>1.00</td>\n",
       "      <td>4.00</td>\n",
       "    </tr>\n",
       "  </tbody>\n",
       "</table>\n",
       "</div>"
      ],
      "text/plain": [
       "   c_code_1              state_name_1  year  num_conflicts  avg_cum_duration  \\\n",
       "0         2  United States of America  1816              1              0.00   \n",
       "1       230                     Spain  1816              1              0.00   \n",
       "2       365                    Russia  1817              1              0.14   \n",
       "3       640                    Turkey  1817              1              0.14   \n",
       "4         2  United States of America  1818              1              0.21   \n",
       "\n",
       "   num_wars  ongoing_2010  revision_pct  avg_hostility_level  \n",
       "0         0          0.00          1.00                 4.00  \n",
       "1         0          0.00          0.00                 1.00  \n",
       "2         0          0.00          1.00                 3.00  \n",
       "3         0          0.00          0.00                 3.00  \n",
       "4         0          0.00          1.00                 4.00  "
      ]
     },
     "execution_count": 30,
     "metadata": {},
     "output_type": "execute_result"
    }
   ],
   "source": [
    "mid_df_group.head()"
   ]
  },
  {
   "cell_type": "code",
   "execution_count": null,
   "metadata": {},
   "outputs": [],
   "source": []
  },
  {
   "cell_type": "code",
   "execution_count": null,
   "metadata": {},
   "outputs": [],
   "source": []
  }
 ],
 "metadata": {
  "kernelspec": {
   "display_name": "Python 3",
   "language": "python",
   "name": "python3"
  },
  "language_info": {
   "codemirror_mode": {
    "name": "ipython",
    "version": 3
   },
   "file_extension": ".py",
   "mimetype": "text/x-python",
   "name": "python",
   "nbconvert_exporter": "python",
   "pygments_lexer": "ipython3",
   "version": "3.6.4"
  }
 },
 "nbformat": 4,
 "nbformat_minor": 2
}
