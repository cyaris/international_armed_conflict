{
 "cells": [
  {
   "cell_type": "code",
   "execution_count": 1,
   "metadata": {},
   "outputs": [],
   "source": [
    "from warnings import filterwarnings\n",
    "\n",
    "filterwarnings('ignore')"
   ]
  },
  {
   "cell_type": "code",
   "execution_count": 2,
   "metadata": {},
   "outputs": [],
   "source": [
    "import pandas as pd\n",
    "import numpy as np"
   ]
  },
  {
   "cell_type": "code",
   "execution_count": 3,
   "metadata": {},
   "outputs": [],
   "source": [
    "pd.set_option('display.max_columns', None)"
   ]
  },
  {
   "cell_type": "code",
   "execution_count": 4,
   "metadata": {},
   "outputs": [],
   "source": [
    "pd.set_option('display.float_format', lambda x: '%.2f' % x)"
   ]
  },
  {
   "cell_type": "code",
   "execution_count": 5,
   "metadata": {},
   "outputs": [],
   "source": [
    "mat_cap_df = pd.read_csv('data/NMC_5_0-wsupplementary.csv', encoding = 'latin-1')\n",
    "\n",
    "mat_cap_df.rename({'milex': 'military_expenditure', 'milper': 'military_personnel',\n",
    "          'irst': 'iron_steel_prod', 'pec': 'prim_energy_consumption',\n",
    "          'tpop': 'total_pop', 'upop': 'urban_pop',\n",
    "          'upopgrowth': 'urban_pop_growth_rate', 'ccode': 'c_code_1',\n",
    "          'statenme': 'state_name_1', 'cinc': 'cinc_score'}, axis = 1, inplace = True)\n",
    "\n",
    "mat_cap_df['military_expenditure'] = ([s * 1000 for s in mat_cap_df['military_expenditure']])\n",
    "mat_cap_df['military_personnel'] = ([s * 1000 for s in mat_cap_df['military_personnel']])\n",
    "mat_cap_df['total_pop'] = ([s * 1000 for s in mat_cap_df['total_pop']])\n",
    "mat_cap_df['urban_pop'] = ([s * 1000 for s in mat_cap_df['urban_pop']])\n",
    "mat_cap_df['iron_steel_prod'] = ([s * 2000000 for s in mat_cap_df['iron_steel_prod']])\n",
    "mat_cap_df['prim_energy_consumption'] = ([s * 2000000 for s in mat_cap_df['prim_energy_consumption']])\n",
    "\n",
    "mat_cap_df.loc[mat_cap_df['military_expenditure'] == -9000, 'military_expenditure'] = None\n",
    "mat_cap_df.loc[mat_cap_df['military_personnel'] == -9000, 'military_personnel'] = None\n",
    "mat_cap_df.loc[mat_cap_df['total_pop'] == -9000, 'total_pop'] = None\n",
    "mat_cap_df.loc[mat_cap_df['urban_pop'] == -9000, 'urban_pop'] = None\n",
    "mat_cap_df.loc[mat_cap_df['iron_steel_prod'] == -18000000 , 'iron_steel_prod'] = None\n",
    "mat_cap_df.loc[mat_cap_df['prim_energy_consumption'] == -18000000 , 'prim_energy_consumption'] = None\n",
    "\n",
    "mat_cap_df = mat_cap_df.sort_values(by = 'year', ascending = True).reset_index()\n",
    "\n",
    "mat_cap_df.drop(['stateabb', 'milpersource', 'milpernote', 'milexsource', 'milexnote',\n",
    "                 'irstsource', 'irstnote', 'pecsource', 'pecnote', 'pecnote',\n",
    "                 'tpopsource', 'tpopnote', 'upopsource', 'upopnote', 'upopgrowthsource',\n",
    "                 'irstqualitycode', 'irstanomalycode', 'pecqualitycode', 'pecanomalycode',\n",
    "                 'tpopqualitycode', 'tpopanomalycode', 'upopqualitycode', 'upopanomalycode',\n",
    "                 'version', 'urban_pop_growth_rate', 'iron_steel_prod', 'urban_pop',\n",
    "                 'index'], axis = 1, inplace = True)"
   ]
  },
  {
   "cell_type": "code",
   "execution_count": 6,
   "metadata": {},
   "outputs": [],
   "source": [
    "mat_cap_df.to_pickle('pickle/mat_cap_df.pkl')\n",
    "mat_cap_df.to_csv('dataframe_exports/mat_cap_df.csv')"
   ]
  },
  {
   "cell_type": "code",
   "execution_count": 7,
   "metadata": {},
   "outputs": [
    {
     "data": {
      "text/html": [
       "<div>\n",
       "<style scoped>\n",
       "    .dataframe tbody tr th:only-of-type {\n",
       "        vertical-align: middle;\n",
       "    }\n",
       "\n",
       "    .dataframe tbody tr th {\n",
       "        vertical-align: top;\n",
       "    }\n",
       "\n",
       "    .dataframe thead th {\n",
       "        text-align: right;\n",
       "    }\n",
       "</style>\n",
       "<table border=\"1\" class=\"dataframe\">\n",
       "  <thead>\n",
       "    <tr style=\"text-align: right;\">\n",
       "      <th></th>\n",
       "      <th>state_name_1</th>\n",
       "      <th>c_code_1</th>\n",
       "      <th>year</th>\n",
       "      <th>military_expenditure</th>\n",
       "      <th>military_personnel</th>\n",
       "      <th>prim_energy_consumption</th>\n",
       "      <th>total_pop</th>\n",
       "      <th>cinc_score</th>\n",
       "    </tr>\n",
       "  </thead>\n",
       "  <tbody>\n",
       "    <tr>\n",
       "      <th>0</th>\n",
       "      <td>United States of America</td>\n",
       "      <td>2</td>\n",
       "      <td>1816</td>\n",
       "      <td>3823000.00</td>\n",
       "      <td>17000.00</td>\n",
       "      <td>508000000.00</td>\n",
       "      <td>8659000.00</td>\n",
       "      <td>0.04</td>\n",
       "    </tr>\n",
       "    <tr>\n",
       "      <th>1</th>\n",
       "      <td>Spain</td>\n",
       "      <td>230</td>\n",
       "      <td>1816</td>\n",
       "      <td>6512000.00</td>\n",
       "      <td>125000.00</td>\n",
       "      <td>0.00</td>\n",
       "      <td>11073000.00</td>\n",
       "      <td>0.05</td>\n",
       "    </tr>\n",
       "    <tr>\n",
       "      <th>2</th>\n",
       "      <td>Netherlands</td>\n",
       "      <td>210</td>\n",
       "      <td>1816</td>\n",
       "      <td>2375000.00</td>\n",
       "      <td>26000.00</td>\n",
       "      <td>2284000000.00</td>\n",
       "      <td>5610000.00</td>\n",
       "      <td>0.04</td>\n",
       "    </tr>\n",
       "    <tr>\n",
       "      <th>3</th>\n",
       "      <td>Portugal</td>\n",
       "      <td>235</td>\n",
       "      <td>1816</td>\n",
       "      <td>nan</td>\n",
       "      <td>22000.00</td>\n",
       "      <td>0.00</td>\n",
       "      <td>2746000.00</td>\n",
       "      <td>0.01</td>\n",
       "    </tr>\n",
       "    <tr>\n",
       "      <th>4</th>\n",
       "      <td>United Kingdom</td>\n",
       "      <td>200</td>\n",
       "      <td>1816</td>\n",
       "      <td>16942000.00</td>\n",
       "      <td>255000.00</td>\n",
       "      <td>45056000000.00</td>\n",
       "      <td>19520000.00</td>\n",
       "      <td>0.34</td>\n",
       "    </tr>\n",
       "  </tbody>\n",
       "</table>\n",
       "</div>"
      ],
      "text/plain": [
       "               state_name_1  c_code_1  year  military_expenditure  \\\n",
       "0  United States of America         2  1816            3823000.00   \n",
       "1                     Spain       230  1816            6512000.00   \n",
       "2               Netherlands       210  1816            2375000.00   \n",
       "3                  Portugal       235  1816                   nan   \n",
       "4            United Kingdom       200  1816           16942000.00   \n",
       "\n",
       "   military_personnel  prim_energy_consumption   total_pop  cinc_score  \n",
       "0            17000.00             508000000.00  8659000.00        0.04  \n",
       "1           125000.00                     0.00 11073000.00        0.05  \n",
       "2            26000.00            2284000000.00  5610000.00        0.04  \n",
       "3            22000.00                     0.00  2746000.00        0.01  \n",
       "4           255000.00           45056000000.00 19520000.00        0.34  "
      ]
     },
     "execution_count": 7,
     "metadata": {},
     "output_type": "execute_result"
    }
   ],
   "source": [
    "mat_cap_df.head()"
   ]
  },
  {
   "cell_type": "code",
   "execution_count": null,
   "metadata": {},
   "outputs": [],
   "source": []
  }
 ],
 "metadata": {
  "kernelspec": {
   "display_name": "Python 3",
   "language": "python",
   "name": "python3"
  },
  "language_info": {
   "codemirror_mode": {
    "name": "ipython",
    "version": 3
   },
   "file_extension": ".py",
   "mimetype": "text/x-python",
   "name": "python",
   "nbconvert_exporter": "python",
   "pygments_lexer": "ipython3",
   "version": "3.6.4"
  }
 },
 "nbformat": 4,
 "nbformat_minor": 2
}
