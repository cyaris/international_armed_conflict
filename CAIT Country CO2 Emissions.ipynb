{
 "cells": [
  {
   "cell_type": "code",
   "execution_count": 1,
   "metadata": {},
   "outputs": [],
   "source": [
    "import warnings\n",
    "from copy import deepcopy\n",
    "import pandas as pd\n",
    "import numpy as np"
   ]
  },
  {
   "cell_type": "code",
   "execution_count": 2,
   "metadata": {},
   "outputs": [],
   "source": [
    "warnings.filterwarnings('ignore')"
   ]
  },
  {
   "cell_type": "code",
   "execution_count": 3,
   "metadata": {},
   "outputs": [],
   "source": [
    "pd.set_option('display.max_colwidth', 1000)\n",
    "pd.set_option('display.max_columns', None)\n",
    "# pd.set_option('display.max_rows', None)"
   ]
  },
  {
   "cell_type": "code",
   "execution_count": 4,
   "metadata": {},
   "outputs": [],
   "source": [
    "pd.set_option('display.float_format', lambda x: '%.3f' % x)"
   ]
  },
  {
   "cell_type": "code",
   "execution_count": 5,
   "metadata": {},
   "outputs": [],
   "source": [
    "np.random.seed(42)"
   ]
  },
  {
   "cell_type": "code",
   "execution_count": 6,
   "metadata": {},
   "outputs": [],
   "source": [
    "cait_df = pd.read_csv('data/CAIT Country CO2 Emissions.csv', encoding = 'latin-1', header = None)"
   ]
  },
  {
   "cell_type": "code",
   "execution_count": 7,
   "metadata": {},
   "outputs": [],
   "source": [
    "cait_df_columns = list(cait_df.loc[1])"
   ]
  },
  {
   "cell_type": "code",
   "execution_count": 8,
   "metadata": {},
   "outputs": [],
   "source": [
    "cait_df = deepcopy(cait_df[2:].reset_index())\n",
    "cait_df.drop(['index'], axis = 1, inplace = True)\n",
    "cait_df.columns = cait_df_columns\n",
    "cait_df.rename({'Country': 'state_name', 'Year': 'year', 'Total CO2 Emissions Excluding Land-Use Change and Forestry (MtCO2)': 'mtco2'}, axis = 1, inplace = True)"
   ]
  },
  {
   "cell_type": "code",
   "execution_count": 9,
   "metadata": {},
   "outputs": [
    {
     "data": {
      "text/html": [
       "<div>\n",
       "<style scoped>\n",
       "    .dataframe tbody tr th:only-of-type {\n",
       "        vertical-align: middle;\n",
       "    }\n",
       "\n",
       "    .dataframe tbody tr th {\n",
       "        vertical-align: top;\n",
       "    }\n",
       "\n",
       "    .dataframe thead th {\n",
       "        text-align: right;\n",
       "    }\n",
       "</style>\n",
       "<table border=\"1\" class=\"dataframe\">\n",
       "  <thead>\n",
       "    <tr style=\"text-align: right;\">\n",
       "      <th></th>\n",
       "      <th>state_name</th>\n",
       "      <th>year</th>\n",
       "      <th>mtco2</th>\n",
       "    </tr>\n",
       "  </thead>\n",
       "  <tbody>\n",
       "    <tr>\n",
       "      <th>0</th>\n",
       "      <td>Afghanistan</td>\n",
       "      <td>1850</td>\n",
       "      <td>NaN</td>\n",
       "    </tr>\n",
       "    <tr>\n",
       "      <th>1</th>\n",
       "      <td>Albania</td>\n",
       "      <td>1850</td>\n",
       "      <td>NaN</td>\n",
       "    </tr>\n",
       "    <tr>\n",
       "      <th>2</th>\n",
       "      <td>Algeria</td>\n",
       "      <td>1850</td>\n",
       "      <td>NaN</td>\n",
       "    </tr>\n",
       "    <tr>\n",
       "      <th>3</th>\n",
       "      <td>Angola</td>\n",
       "      <td>1850</td>\n",
       "      <td>NaN</td>\n",
       "    </tr>\n",
       "    <tr>\n",
       "      <th>4</th>\n",
       "      <td>Antigua &amp; Barbuda</td>\n",
       "      <td>1850</td>\n",
       "      <td>NaN</td>\n",
       "    </tr>\n",
       "  </tbody>\n",
       "</table>\n",
       "</div>"
      ],
      "text/plain": [
       "          state_name  year mtco2\n",
       "0        Afghanistan  1850   NaN\n",
       "1            Albania  1850   NaN\n",
       "2            Algeria  1850   NaN\n",
       "3             Angola  1850   NaN\n",
       "4  Antigua & Barbuda  1850   NaN"
      ]
     },
     "execution_count": 9,
     "metadata": {},
     "output_type": "execute_result"
    }
   ],
   "source": [
    "cait_df.head()"
   ]
  },
  {
   "cell_type": "code",
   "execution_count": 10,
   "metadata": {},
   "outputs": [],
   "source": [
    "cait_df = deepcopy(cait_df[(cait_df['state_name'] != 'Cook Islands') & (cait_df['state_name'] != 'European Union (15)') & (cait_df['state_name'] != 'European Union (28)') & (cait_df['state_name'] != 'Niue') & (cait_df['state_name'] != 'World')])\n",
    "cait_df = cait_df.reset_index()\n",
    "cait_df.drop(['index'], axis = 1, inplace = True)"
   ]
  },
  {
   "cell_type": "code",
   "execution_count": 11,
   "metadata": {},
   "outputs": [],
   "source": [
    "cait_df.loc[cait_df['state_name'] == 'Bahamas, The', 'state_name'] = 'Bahamas'\n",
    "cait_df.loc[cait_df['state_name'] == 'Bosnia & Herzegovina', 'state_name'] = 'Bosnia and Herzegovina'\n",
    "cait_df.loc[cait_df['state_name'] == 'Congo, Dem. Rep.', 'state_name'] = 'Democratic Republic of the Congo'\n",
    "cait_df.loc[cait_df['state_name'] == 'Congo, Rep.', 'state_name'] = 'Congo'\n",
    "cait_df.loc[cait_df['state_name'] == 'Gambia, The', 'state_name'] = 'Gambia'\n",
    "cait_df.loc[cait_df['state_name'] == \"Cote d'Ivoire\", 'state_name'] = 'Ivory Coast'\n",
    "cait_df.loc[cait_df['state_name'] == 'Korea, Dem. Rep. (North)', 'state_name'] = 'North Korea'\n",
    "cait_df.loc[cait_df['state_name'] == 'Korea, Rep. (South)', 'state_name'] = 'South Korea'\n",
    "cait_df.loc[cait_df['state_name'] == 'Macedonia, FYR', 'state_name'] = 'Macedonia'\n",
    "cait_df.loc[cait_df['state_name'] == 'Russian Federation', 'state_name'] = 'Russia'\n",
    "cait_df.loc[cait_df['state_name'] == 'Saint Kitts & Nevis', 'state_name'] = 'St. Kitts and Nevis'\n",
    "cait_df.loc[cait_df['state_name'] == 'Saint Lucia', 'state_name'] = 'St. Lucia'\n",
    "cait_df.loc[cait_df['state_name'] == 'Saint Vincent & Grenadines', 'state_name'] = 'St. Vincent and the Grenadines'\n",
    "cait_df.loc[cait_df['state_name'] == 'Sao Tome & Principe', 'state_name'] = 'Sao Tome and Principe'\n",
    "cait_df.loc[cait_df['state_name'] == 'Trinidad & Tobago', 'state_name'] = 'Trinidad and Tobago'\n",
    "cait_df.loc[cait_df['state_name'] == 'United States', 'state_name'] = 'United States of America'"
   ]
  },
  {
   "cell_type": "code",
   "execution_count": 12,
   "metadata": {},
   "outputs": [],
   "source": [
    "# Yugoslavia did not exist for all the years that is recorded for Serbia in the dataset.\n",
    "# Since Serbia is missing from the master dataset and cait_df does not contain Yugoslavia,\n",
    "# Serbia has been changed to Yugoslavia. Non-existant years will be removed after join.\n",
    "cait_df.loc[cait_df['state_name'] == 'Serbia', 'state_name'] = 'Yugoslavia'"
   ]
  },
  {
   "cell_type": "code",
   "execution_count": 13,
   "metadata": {},
   "outputs": [],
   "source": [
    "cait_df['year'] = cait_df['year'].astype(int)"
   ]
  },
  {
   "cell_type": "code",
   "execution_count": 14,
   "metadata": {},
   "outputs": [],
   "source": [
    "# accounting for not having Czechoslovakia in this dataset\n",
    "cait_df.loc[(cait_df['state_name'] == 'Czech Republic') & (cait_df['year'] < 1992), 'cow_code'] = 315\n",
    "cait_df.loc[(cait_df['state_name'] == 'Czech Republic') & (cait_df['year'] < 1992), 'state_name'] = 'Czechoslovakia'"
   ]
  },
  {
   "cell_type": "code",
   "execution_count": 15,
   "metadata": {},
   "outputs": [],
   "source": [
    "c_code_df = pd.read_pickle('pickle/c_code_df.pkl')"
   ]
  },
  {
   "cell_type": "code",
   "execution_count": 16,
   "metadata": {},
   "outputs": [],
   "source": [
    "c_code_dic = {}\n",
    "\n",
    "for i, state in enumerate(c_code_df['state_name']):\n",
    "    c_code_dic[state] = c_code_df['c_code'][i]"
   ]
  },
  {
   "cell_type": "code",
   "execution_count": 17,
   "metadata": {},
   "outputs": [
    {
     "name": "stdout",
     "output_type": "stream",
     "text": [
      "0\n"
     ]
    }
   ],
   "source": [
    "missing_list = []\n",
    "for i, country in enumerate(cait_df['state_name']):\n",
    "    try:\n",
    "        cait_df.loc[i, 'cow_code'] = c_code_dic[country]\n",
    "    except:\n",
    "        missing_list.append(country)\n",
    "\n",
    "missing_list = sorted(list(set(missing_list)))\n",
    "print(len(missing_list))"
   ]
  },
  {
   "cell_type": "code",
   "execution_count": 18,
   "metadata": {},
   "outputs": [
    {
     "data": {
      "text/plain": [
       "29829"
      ]
     },
     "execution_count": 18,
     "metadata": {},
     "output_type": "execute_result"
    }
   ],
   "source": [
    "len(cait_df)"
   ]
  },
  {
   "cell_type": "code",
   "execution_count": 19,
   "metadata": {},
   "outputs": [],
   "source": [
    "yemen_df = cait_df[cait_df['state_name'] == 'Yemen']\n",
    "yemen_df = yemen_df.reset_index()\n",
    "yemen_df.drop(['index'], axis = 1, inplace = True)\n",
    "yemen_df['year'] = yemen_df['year'].astype(int)"
   ]
  },
  {
   "cell_type": "code",
   "execution_count": 20,
   "metadata": {},
   "outputs": [],
   "source": [
    "# regular \"yemen\" will still exist between 1966 and 1989, but it won't matter after joins\n",
    "cait_df_index = len(cait_df) - 1\n",
    "for i, carbon_amt in enumerate(yemen_df['mtco2']):\n",
    "    if (yemen_df.loc[i, 'year'] >= 1966) and (yemen_df.loc[i, 'year'] <= 1989):\n",
    "        cait_df.loc[cait_df_index, 'state_name'] = \"Yemen People's Republic\"\n",
    "        cait_df.loc[cait_df_index, 'cow_code'] = 680\n",
    "        cait_df.loc[cait_df_index, 'year'] = yemen_df.loc[i, 'year']\n",
    "        cait_df.loc[cait_df_index, 'mtco2'] = carbon_amt\n",
    "        cait_df_index+=1\n",
    "    if (yemen_df.loc[i, 'year'] >= 1946) and (yemen_df.loc[i, 'year'] <= 1989):\n",
    "        cait_df.loc[cait_df_index, 'state_name'] = 'Yemen Arab Republic'\n",
    "        cait_df.loc[cait_df_index, 'cow_code'] = 678\n",
    "        cait_df.loc[cait_df_index, 'year'] = yemen_df.loc[i, 'year']\n",
    "        cait_df.loc[cait_df_index, 'mtco2'] = carbon_amt\n",
    "        cait_df_index+=1"
   ]
  },
  {
   "cell_type": "code",
   "execution_count": 21,
   "metadata": {},
   "outputs": [],
   "source": [
    "germany_df = cait_df[cait_df['state_name'] == 'Germany']\n",
    "germany_df = germany_df.reset_index()\n",
    "germany_df.drop(['index'], axis = 1, inplace = True)\n",
    "germany_df['year'] = germany_df['year'].astype(int)"
   ]
  },
  {
   "cell_type": "code",
   "execution_count": 22,
   "metadata": {},
   "outputs": [],
   "source": [
    "# regular \"germany\" will still exist between 1948 and 1989, but it won't matter after joins\n",
    "cait_df_index = len(cait_df) - 1\n",
    "for i, carbon_amt in enumerate(germany_df['mtco2']):\n",
    "    if (germany_df.loc[i, 'year'] >= 1948) and (germany_df.loc[i, 'year'] <= 1989):\n",
    "        cait_df.loc[cait_df_index, 'state_name'] = 'German Federal Republic'\n",
    "        cait_df.loc[cait_df_index, 'cow_code'] = 260\n",
    "        cait_df.loc[cait_df_index, 'year'] = germany_df.loc[i, 'year']\n",
    "        cait_df.loc[cait_df_index, 'mtco2'] = carbon_amt\n",
    "        cait_df_index+=1\n",
    "    if (germany_df.loc[i, 'year'] >= 1948) and (germany_df.loc[i, 'year'] <= 1989):\n",
    "        cait_df.loc[cait_df_index, 'state_name'] = 'German Democratic Republic'\n",
    "        cait_df.loc[cait_df_index, 'cow_code'] = 265\n",
    "        cait_df.loc[cait_df_index, 'year'] = germany_df.loc[i, 'year']\n",
    "        cait_df.loc[cait_df_index, 'mtco2'] = carbon_amt\n",
    "        cait_df_index+=1"
   ]
  },
  {
   "cell_type": "code",
   "execution_count": 23,
   "metadata": {},
   "outputs": [
    {
     "data": {
      "text/html": [
       "<div>\n",
       "<style scoped>\n",
       "    .dataframe tbody tr th:only-of-type {\n",
       "        vertical-align: middle;\n",
       "    }\n",
       "\n",
       "    .dataframe tbody tr th {\n",
       "        vertical-align: top;\n",
       "    }\n",
       "\n",
       "    .dataframe thead th {\n",
       "        text-align: right;\n",
       "    }\n",
       "</style>\n",
       "<table border=\"1\" class=\"dataframe\">\n",
       "  <thead>\n",
       "    <tr style=\"text-align: right;\">\n",
       "      <th></th>\n",
       "      <th>state_name</th>\n",
       "      <th>year</th>\n",
       "      <th>mtco2</th>\n",
       "      <th>cow_code</th>\n",
       "    </tr>\n",
       "  </thead>\n",
       "  <tbody>\n",
       "  </tbody>\n",
       "</table>\n",
       "</div>"
      ],
      "text/plain": [
       "Empty DataFrame\n",
       "Columns: [state_name, year, mtco2, cow_code]\n",
       "Index: []"
      ]
     },
     "execution_count": 23,
     "metadata": {},
     "output_type": "execute_result"
    }
   ],
   "source": [
    "cait_df[cait_df['cow_code'].isnull()]"
   ]
  },
  {
   "cell_type": "code",
   "execution_count": 24,
   "metadata": {},
   "outputs": [],
   "source": [
    "world_bank_df = pd.read_csv('data/worldbank_emissions.csv', sep = '\\t', encoding = 'latin-1', header = None)\n",
    "world_bank_columns = list(world_bank_df.loc[0])"
   ]
  },
  {
   "cell_type": "code",
   "execution_count": 25,
   "metadata": {},
   "outputs": [],
   "source": [
    "world_bank_df = deepcopy(world_bank_df[1:].reset_index())\n",
    "world_bank_df.drop(['index'], axis = 1, inplace = True)\n",
    "world_bank_df.columns = world_bank_columns\n",
    "world_bank_df.drop(['Country Code', 'Indicator Name', 'Indicator Code'], axis = 1, inplace = True)\n",
    "world_bank_df.rename({'Country Name': 'state_name'}, axis = 1, inplace = True)"
   ]
  },
  {
   "cell_type": "code",
   "execution_count": 26,
   "metadata": {},
   "outputs": [],
   "source": [
    "world_bank_df = deepcopy(world_bank_df.T.reset_index())\n",
    "world_bank_columns = world_bank_df.loc[0]\n",
    "world_bank_df = world_bank_df[1:]\n",
    "world_bank_df.columns = world_bank_columns"
   ]
  },
  {
   "cell_type": "code",
   "execution_count": 27,
   "metadata": {},
   "outputs": [],
   "source": [
    "# Keep only countries missing from the master dataset\n",
    "world_bank_df = world_bank_df[['Liechtenstein', 'Tuvalu', 'Marshall Islands', 'Micronesia, Fed. Sts.', 'San Marino', 'Timor-Leste', 'Somalia']]"
   ]
  },
  {
   "cell_type": "code",
   "execution_count": 28,
   "metadata": {},
   "outputs": [],
   "source": [
    "world_bank_df['year'] = list(np.arange(1960, 2018))"
   ]
  },
  {
   "cell_type": "code",
   "execution_count": 29,
   "metadata": {},
   "outputs": [],
   "source": [
    "world_bank_df = world_bank_df[world_bank_df['year'] <= 2014]"
   ]
  },
  {
   "cell_type": "code",
   "execution_count": 30,
   "metadata": {},
   "outputs": [],
   "source": [
    "world_bank_df.drop(['San Marino'], axis = 1, inplace = True)\n",
    "world_bank_df.rename({'Micronesia, Fed. Sts.': 'Federated States of Micronesia', 'Timor-Leste': 'East Timor'}, axis = 1, inplace = True)"
   ]
  },
  {
   "cell_type": "code",
   "execution_count": 31,
   "metadata": {},
   "outputs": [],
   "source": [
    "# need a row for every year each of these countries appears in the master dataset.\n",
    "# will impute missing values later.\n",
    "# years where a country is not present will be left out during join\n",
    "full_years = list(reversed(np.arange(1945, 2018)))\n",
    "for i, year in enumerate(full_years):\n",
    "    if year not in list(world_bank_df['year']):\n",
    "        world_bank_df.loc[i, 'year'] = year"
   ]
  },
  {
   "cell_type": "code",
   "execution_count": 32,
   "metadata": {},
   "outputs": [
    {
     "data": {
      "text/html": [
       "<div>\n",
       "<style scoped>\n",
       "    .dataframe tbody tr th:only-of-type {\n",
       "        vertical-align: middle;\n",
       "    }\n",
       "\n",
       "    .dataframe tbody tr th {\n",
       "        vertical-align: top;\n",
       "    }\n",
       "\n",
       "    .dataframe thead th {\n",
       "        text-align: right;\n",
       "    }\n",
       "</style>\n",
       "<table border=\"1\" class=\"dataframe\">\n",
       "  <thead>\n",
       "    <tr style=\"text-align: right;\">\n",
       "      <th></th>\n",
       "      <th>Liechtenstein</th>\n",
       "      <th>Tuvalu</th>\n",
       "      <th>Marshall Islands</th>\n",
       "      <th>Federated States of Micronesia</th>\n",
       "      <th>East Timor</th>\n",
       "      <th>Somalia</th>\n",
       "      <th>year</th>\n",
       "    </tr>\n",
       "  </thead>\n",
       "  <tbody>\n",
       "    <tr>\n",
       "      <th>1</th>\n",
       "      <td>NaN</td>\n",
       "      <td>NaN</td>\n",
       "      <td>NaN</td>\n",
       "      <td>NaN</td>\n",
       "      <td>NaN</td>\n",
       "      <td>0.031</td>\n",
       "      <td>2016.000</td>\n",
       "    </tr>\n",
       "    <tr>\n",
       "      <th>2</th>\n",
       "      <td>NaN</td>\n",
       "      <td>NaN</td>\n",
       "      <td>NaN</td>\n",
       "      <td>NaN</td>\n",
       "      <td>NaN</td>\n",
       "      <td>0.031</td>\n",
       "      <td>2015.000</td>\n",
       "    </tr>\n",
       "    <tr>\n",
       "      <th>3</th>\n",
       "      <td>NaN</td>\n",
       "      <td>NaN</td>\n",
       "      <td>NaN</td>\n",
       "      <td>NaN</td>\n",
       "      <td>NaN</td>\n",
       "      <td>0.037</td>\n",
       "      <td>1962.000</td>\n",
       "    </tr>\n",
       "    <tr>\n",
       "      <th>4</th>\n",
       "      <td>NaN</td>\n",
       "      <td>NaN</td>\n",
       "      <td>NaN</td>\n",
       "      <td>NaN</td>\n",
       "      <td>NaN</td>\n",
       "      <td>0.035</td>\n",
       "      <td>1963.000</td>\n",
       "    </tr>\n",
       "    <tr>\n",
       "      <th>5</th>\n",
       "      <td>NaN</td>\n",
       "      <td>NaN</td>\n",
       "      <td>NaN</td>\n",
       "      <td>NaN</td>\n",
       "      <td>NaN</td>\n",
       "      <td>0.045</td>\n",
       "      <td>1964.000</td>\n",
       "    </tr>\n",
       "  </tbody>\n",
       "</table>\n",
       "</div>"
      ],
      "text/plain": [
       "0 Liechtenstein Tuvalu Marshall Islands Federated States of Micronesia  \\\n",
       "1           NaN    NaN              NaN                            NaN   \n",
       "2           NaN    NaN              NaN                            NaN   \n",
       "3           NaN    NaN              NaN                            NaN   \n",
       "4           NaN    NaN              NaN                            NaN   \n",
       "5           NaN    NaN              NaN                            NaN   \n",
       "\n",
       "0 East Timor Somalia     year  \n",
       "1        NaN   0.031 2016.000  \n",
       "2        NaN   0.031 2015.000  \n",
       "3        NaN   0.037 1962.000  \n",
       "4        NaN   0.035 1963.000  \n",
       "5        NaN   0.045 1964.000  "
      ]
     },
     "execution_count": 32,
     "metadata": {},
     "output_type": "execute_result"
    }
   ],
   "source": [
    "world_bank_df.head()"
   ]
  },
  {
   "cell_type": "code",
   "execution_count": 33,
   "metadata": {},
   "outputs": [],
   "source": [
    "liechtenstein_df = deepcopy(world_bank_df[['Liechtenstein', 'year']])\n",
    "liechtenstein_df.rename({'Liechtenstein': 'state_name'}, axis = 1, inplace = True)\n",
    "liechtenstein_df['state_name'] = 'Liechtenstein'\n",
    "liechtenstein_df['cow_code'] = 223\n",
    "tuvalu_df = deepcopy(world_bank_df[['Tuvalu', 'year']])\n",
    "tuvalu_df.rename({'Tuvalu': 'state_name'}, axis = 1, inplace = True)\n",
    "tuvalu_df['state_name'] = 'Tuvalu'\n",
    "tuvalu_df['cow_code'] = 947\n",
    "marshall_islands_df = deepcopy(world_bank_df[['Marshall Islands', 'year']])\n",
    "marshall_islands_df.rename({'Marshall Islands': 'state_name'}, axis = 1, inplace = True)\n",
    "marshall_islands_df['state_name'] = 'Marshall Islands'\n",
    "marshall_islands_df['cow_code'] = 983\n",
    "micronesia_df = deepcopy(world_bank_df[['Federated States of Micronesia', 'year']])\n",
    "micronesia_df.rename({'Federated States of Micronesia': 'state_name'}, axis = 1, inplace = True)\n",
    "micronesia_df['state_name'] = 'Federated States of Micronesia'\n",
    "micronesia_df['cow_code'] = 987\n",
    "east_timor_df = deepcopy(world_bank_df[['East Timor', 'year']])\n",
    "east_timor_df.rename({'East Timor': 'state_name'}, axis = 1, inplace = True)\n",
    "east_timor_df['state_name'] = 'East Timor'\n",
    "east_timor_df['cow_code'] = 860\n",
    "somalia_df = deepcopy(world_bank_df[['Somalia', 'year']])\n",
    "somalia_df.rename({'Somalia': 'state_name'}, axis = 1, inplace = True)\n",
    "somalia_df['state_name'] = 'Somalia'\n",
    "somalia_df['cow_code'] = 520"
   ]
  },
  {
   "cell_type": "code",
   "execution_count": 34,
   "metadata": {},
   "outputs": [],
   "source": [
    "taiwan_df = pd.read_csv('data/taiwan_co2_emissions.csv', encoding = 'latin-1', header = None)\n",
    "taiwan_df_columns = list(taiwan_df.loc[1])"
   ]
  },
  {
   "cell_type": "code",
   "execution_count": 35,
   "metadata": {},
   "outputs": [],
   "source": [
    "taiwan_df = deepcopy(taiwan_df[2:].reset_index())\n",
    "taiwan_df.drop(['index'], axis = 1, inplace = True)\n",
    "taiwan_df.columns = taiwan_df_columns\n",
    "taiwan_df.rename({'Country': 'state_name', 'Year': 'year', 'Total CO2 Emissions': 'mtco2'}, axis = 1, inplace = True)"
   ]
  },
  {
   "cell_type": "code",
   "execution_count": 36,
   "metadata": {},
   "outputs": [],
   "source": [
    "taiwan_df = taiwan_df.sort_values(by = 'year', ascending = False)\n",
    "taiwan_df = deepcopy(taiwan_df.reset_index())\n",
    "taiwan_df.drop(['index'], axis = 1, inplace = True)"
   ]
  },
  {
   "cell_type": "code",
   "execution_count": 37,
   "metadata": {},
   "outputs": [],
   "source": [
    "# need a row for every year Taiwan appears in the master dataset.\n",
    "# will impute missing values later.\n",
    "taiwan_years = list(reversed(np.arange(1948, 2018)))\n",
    "for i, year in enumerate(taiwan_years):\n",
    "    if year not in list(taiwan_df['year']):\n",
    "        taiwan_df.loc[i, 'year'] = year\n",
    "        taiwan_df.loc[i, 'state_name'] = 'Taiwan'\n",
    "        taiwan_df.loc[i, 'cow_code'] = 713"
   ]
  },
  {
   "cell_type": "code",
   "execution_count": 38,
   "metadata": {},
   "outputs": [
    {
     "data": {
      "text/plain": [
       "29979"
      ]
     },
     "execution_count": 38,
     "metadata": {},
     "output_type": "execute_result"
    }
   ],
   "source": [
    "len(cait_df)"
   ]
  },
  {
   "cell_type": "code",
   "execution_count": 39,
   "metadata": {},
   "outputs": [],
   "source": [
    "cait_df = deepcopy(pd.concat([cait_df, liechtenstein_df, tuvalu_df,\n",
    "                              marshall_islands_df, micronesia_df,\n",
    "                              east_timor_df, somalia_df,\n",
    "                              taiwan_df], axis = 0))\n",
    "cait_df['mtco2'] = cait_df['mtco2'].astype(float)"
   ]
  },
  {
   "cell_type": "code",
   "execution_count": 40,
   "metadata": {},
   "outputs": [
    {
     "data": {
      "text/plain": [
       "30487"
      ]
     },
     "execution_count": 40,
     "metadata": {},
     "output_type": "execute_result"
    }
   ],
   "source": [
    "len(cait_df)"
   ]
  },
  {
   "cell_type": "code",
   "execution_count": 41,
   "metadata": {},
   "outputs": [
    {
     "name": "stdout",
     "output_type": "stream",
     "text": [
      "<class 'pandas.core.frame.DataFrame'>\n",
      "Int64Index: 30487 entries, 0 to 69\n",
      "Data columns (total 4 columns):\n",
      "cow_code      30487 non-null float64\n",
      "mtco2         17048 non-null float64\n",
      "state_name    30487 non-null object\n",
      "year          30487 non-null float64\n",
      "dtypes: float64(3), object(1)\n",
      "memory usage: 1.2+ MB\n"
     ]
    }
   ],
   "source": [
    "cait_df.info()"
   ]
  },
  {
   "cell_type": "code",
   "execution_count": 42,
   "metadata": {},
   "outputs": [
    {
     "data": {
      "text/html": [
       "<div>\n",
       "<style scoped>\n",
       "    .dataframe tbody tr th:only-of-type {\n",
       "        vertical-align: middle;\n",
       "    }\n",
       "\n",
       "    .dataframe tbody tr th {\n",
       "        vertical-align: top;\n",
       "    }\n",
       "\n",
       "    .dataframe thead th {\n",
       "        text-align: right;\n",
       "    }\n",
       "</style>\n",
       "<table border=\"1\" class=\"dataframe\">\n",
       "  <thead>\n",
       "    <tr style=\"text-align: right;\">\n",
       "      <th></th>\n",
       "      <th>cow_code</th>\n",
       "      <th>mtco2</th>\n",
       "      <th>state_name</th>\n",
       "      <th>year</th>\n",
       "    </tr>\n",
       "  </thead>\n",
       "  <tbody>\n",
       "    <tr>\n",
       "      <th>0</th>\n",
       "      <td>700.000</td>\n",
       "      <td>nan</td>\n",
       "      <td>Afghanistan</td>\n",
       "      <td>1850.000</td>\n",
       "    </tr>\n",
       "    <tr>\n",
       "      <th>1</th>\n",
       "      <td>339.000</td>\n",
       "      <td>nan</td>\n",
       "      <td>Albania</td>\n",
       "      <td>1850.000</td>\n",
       "    </tr>\n",
       "    <tr>\n",
       "      <th>2</th>\n",
       "      <td>615.000</td>\n",
       "      <td>nan</td>\n",
       "      <td>Algeria</td>\n",
       "      <td>1850.000</td>\n",
       "    </tr>\n",
       "    <tr>\n",
       "      <th>3</th>\n",
       "      <td>540.000</td>\n",
       "      <td>nan</td>\n",
       "      <td>Angola</td>\n",
       "      <td>1850.000</td>\n",
       "    </tr>\n",
       "    <tr>\n",
       "      <th>4</th>\n",
       "      <td>58.000</td>\n",
       "      <td>nan</td>\n",
       "      <td>Antigua &amp; Barbuda</td>\n",
       "      <td>1850.000</td>\n",
       "    </tr>\n",
       "  </tbody>\n",
       "</table>\n",
       "</div>"
      ],
      "text/plain": [
       "   cow_code  mtco2         state_name     year\n",
       "0   700.000    nan        Afghanistan 1850.000\n",
       "1   339.000    nan            Albania 1850.000\n",
       "2   615.000    nan            Algeria 1850.000\n",
       "3   540.000    nan             Angola 1850.000\n",
       "4    58.000    nan  Antigua & Barbuda 1850.000"
      ]
     },
     "execution_count": 42,
     "metadata": {},
     "output_type": "execute_result"
    }
   ],
   "source": [
    "cait_df.head()"
   ]
  },
  {
   "cell_type": "code",
   "execution_count": 44,
   "metadata": {},
   "outputs": [
    {
     "data": {
      "text/html": [
       "<div>\n",
       "<style scoped>\n",
       "    .dataframe tbody tr th:only-of-type {\n",
       "        vertical-align: middle;\n",
       "    }\n",
       "\n",
       "    .dataframe tbody tr th {\n",
       "        vertical-align: top;\n",
       "    }\n",
       "\n",
       "    .dataframe thead th {\n",
       "        text-align: right;\n",
       "    }\n",
       "</style>\n",
       "<table border=\"1\" class=\"dataframe\">\n",
       "  <thead>\n",
       "    <tr style=\"text-align: right;\">\n",
       "      <th></th>\n",
       "      <th>cow_code</th>\n",
       "      <th>mtco2</th>\n",
       "      <th>state_name</th>\n",
       "      <th>year</th>\n",
       "    </tr>\n",
       "  </thead>\n",
       "  <tbody>\n",
       "    <tr>\n",
       "      <th>190</th>\n",
       "      <td>900.000</td>\n",
       "      <td>-0.062</td>\n",
       "      <td>Australia</td>\n",
       "      <td>1851.000</td>\n",
       "    </tr>\n",
       "    <tr>\n",
       "      <th>373</th>\n",
       "      <td>900.000</td>\n",
       "      <td>-0.055</td>\n",
       "      <td>Australia</td>\n",
       "      <td>1852.000</td>\n",
       "    </tr>\n",
       "    <tr>\n",
       "      <th>556</th>\n",
       "      <td>900.000</td>\n",
       "      <td>-0.110</td>\n",
       "      <td>Australia</td>\n",
       "      <td>1853.000</td>\n",
       "    </tr>\n",
       "    <tr>\n",
       "      <th>739</th>\n",
       "      <td>900.000</td>\n",
       "      <td>-0.128</td>\n",
       "      <td>Australia</td>\n",
       "      <td>1854.000</td>\n",
       "    </tr>\n",
       "    <tr>\n",
       "      <th>922</th>\n",
       "      <td>900.000</td>\n",
       "      <td>-0.132</td>\n",
       "      <td>Australia</td>\n",
       "      <td>1855.000</td>\n",
       "    </tr>\n",
       "    <tr>\n",
       "      <th>1105</th>\n",
       "      <td>900.000</td>\n",
       "      <td>-0.183</td>\n",
       "      <td>Australia</td>\n",
       "      <td>1856.000</td>\n",
       "    </tr>\n",
       "    <tr>\n",
       "      <th>1288</th>\n",
       "      <td>900.000</td>\n",
       "      <td>-0.209</td>\n",
       "      <td>Australia</td>\n",
       "      <td>1857.000</td>\n",
       "    </tr>\n",
       "    <tr>\n",
       "      <th>1471</th>\n",
       "      <td>900.000</td>\n",
       "      <td>-0.245</td>\n",
       "      <td>Australia</td>\n",
       "      <td>1858.000</td>\n",
       "    </tr>\n",
       "    <tr>\n",
       "      <th>1654</th>\n",
       "      <td>900.000</td>\n",
       "      <td>-0.377</td>\n",
       "      <td>Australia</td>\n",
       "      <td>1859.000</td>\n",
       "    </tr>\n",
       "    <tr>\n",
       "      <th>14818</th>\n",
       "      <td>101.000</td>\n",
       "      <td>-1.165</td>\n",
       "      <td>Venezuela</td>\n",
       "      <td>1930.000</td>\n",
       "    </tr>\n",
       "    <tr>\n",
       "      <th>15001</th>\n",
       "      <td>101.000</td>\n",
       "      <td>-0.253</td>\n",
       "      <td>Venezuela</td>\n",
       "      <td>1931.000</td>\n",
       "    </tr>\n",
       "    <tr>\n",
       "      <th>18011</th>\n",
       "      <td>645.000</td>\n",
       "      <td>-0.095</td>\n",
       "      <td>Iraq</td>\n",
       "      <td>1948.000</td>\n",
       "    </tr>\n",
       "    <tr>\n",
       "      <th>18376</th>\n",
       "      <td>630.000</td>\n",
       "      <td>-5.397</td>\n",
       "      <td>Iran</td>\n",
       "      <td>1950.000</td>\n",
       "    </tr>\n",
       "    <tr>\n",
       "      <th>18626</th>\n",
       "      <td>670.000</td>\n",
       "      <td>-0.348</td>\n",
       "      <td>Saudi Arabia</td>\n",
       "      <td>1951.000</td>\n",
       "    </tr>\n",
       "    <tr>\n",
       "      <th>18755</th>\n",
       "      <td>690.000</td>\n",
       "      <td>-0.436</td>\n",
       "      <td>Kuwait</td>\n",
       "      <td>1952.000</td>\n",
       "    </tr>\n",
       "    <tr>\n",
       "      <th>18809</th>\n",
       "      <td>670.000</td>\n",
       "      <td>-0.172</td>\n",
       "      <td>Saudi Arabia</td>\n",
       "      <td>1952.000</td>\n",
       "    </tr>\n",
       "    <tr>\n",
       "      <th>18938</th>\n",
       "      <td>690.000</td>\n",
       "      <td>-0.051</td>\n",
       "      <td>Kuwait</td>\n",
       "      <td>1953.000</td>\n",
       "    </tr>\n",
       "    <tr>\n",
       "      <th>21738</th>\n",
       "      <td>433.000</td>\n",
       "      <td>-0.081</td>\n",
       "      <td>Senegal</td>\n",
       "      <td>1968.000</td>\n",
       "    </tr>\n",
       "  </tbody>\n",
       "</table>\n",
       "</div>"
      ],
      "text/plain": [
       "       cow_code  mtco2    state_name     year\n",
       "190     900.000 -0.062     Australia 1851.000\n",
       "373     900.000 -0.055     Australia 1852.000\n",
       "556     900.000 -0.110     Australia 1853.000\n",
       "739     900.000 -0.128     Australia 1854.000\n",
       "922     900.000 -0.132     Australia 1855.000\n",
       "1105    900.000 -0.183     Australia 1856.000\n",
       "1288    900.000 -0.209     Australia 1857.000\n",
       "1471    900.000 -0.245     Australia 1858.000\n",
       "1654    900.000 -0.377     Australia 1859.000\n",
       "14818   101.000 -1.165     Venezuela 1930.000\n",
       "15001   101.000 -0.253     Venezuela 1931.000\n",
       "18011   645.000 -0.095          Iraq 1948.000\n",
       "18376   630.000 -5.397          Iran 1950.000\n",
       "18626   670.000 -0.348  Saudi Arabia 1951.000\n",
       "18755   690.000 -0.436        Kuwait 1952.000\n",
       "18809   670.000 -0.172  Saudi Arabia 1952.000\n",
       "18938   690.000 -0.051        Kuwait 1953.000\n",
       "21738   433.000 -0.081       Senegal 1968.000"
      ]
     },
     "execution_count": 44,
     "metadata": {},
     "output_type": "execute_result"
    }
   ],
   "source": [
    "cait_df[cait_df['mtco2'] < 0]"
   ]
  },
  {
   "cell_type": "code",
   "execution_count": 43,
   "metadata": {},
   "outputs": [],
   "source": [
    "cait_df.to_pickle('pickle/cait_df.pkl')\n",
    "cait_df.to_csv('dataframe_exports/cait_df.csv')"
   ]
  },
  {
   "cell_type": "code",
   "execution_count": null,
   "metadata": {},
   "outputs": [],
   "source": []
  }
 ],
 "metadata": {
  "kernelspec": {
   "display_name": "Python 3",
   "language": "python",
   "name": "python3"
  },
  "language_info": {
   "codemirror_mode": {
    "name": "ipython",
    "version": 3
   },
   "file_extension": ".py",
   "mimetype": "text/x-python",
   "name": "python",
   "nbconvert_exporter": "python",
   "pygments_lexer": "ipython3",
   "version": "3.6.4"
  }
 },
 "nbformat": 4,
 "nbformat_minor": 2
}
