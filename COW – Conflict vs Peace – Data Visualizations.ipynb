{
 "cells": [
  {
   "cell_type": "code",
   "execution_count": 1,
   "metadata": {},
   "outputs": [],
   "source": [
    "import warnings\n",
    "from copy import deepcopy\n",
    "import pandas as pd\n",
    "import numpy as np\n",
    "import matplotlib.pyplot as plt\n",
    "import seaborn as sns"
   ]
  },
  {
   "cell_type": "code",
   "execution_count": 2,
   "metadata": {},
   "outputs": [],
   "source": [
    "# pd.set_option('display.max_columns', None)"
   ]
  },
  {
   "cell_type": "code",
   "execution_count": 3,
   "metadata": {},
   "outputs": [],
   "source": [
    "mid_df = pd.read_pickle('Pickles/mid_df.pkl')"
   ]
  },
  {
   "cell_type": "code",
   "execution_count": 4,
   "metadata": {},
   "outputs": [
    {
     "data": {
      "text/html": [
       "<div>\n",
       "<style scoped>\n",
       "    .dataframe tbody tr th:only-of-type {\n",
       "        vertical-align: middle;\n",
       "    }\n",
       "\n",
       "    .dataframe tbody tr th {\n",
       "        vertical-align: top;\n",
       "    }\n",
       "\n",
       "    .dataframe thead th {\n",
       "        text-align: right;\n",
       "    }\n",
       "</style>\n",
       "<table border=\"1\" class=\"dataframe\">\n",
       "  <thead>\n",
       "    <tr style=\"text-align: right;\">\n",
       "      <th></th>\n",
       "      <th>dispute_id</th>\n",
       "      <th>c_code_1</th>\n",
       "      <th>state_name_abb_a</th>\n",
       "      <th>c_code_2</th>\n",
       "      <th>state_name_abb_b</th>\n",
       "      <th>year</th>\n",
       "      <th>outcome</th>\n",
       "      <th>settlement_type</th>\n",
       "      <th>total_fatality_bin</th>\n",
       "      <th>num_with</th>\n",
       "      <th>...</th>\n",
       "      <th>war</th>\n",
       "      <th>year_num</th>\n",
       "      <th>cumulative_duration</th>\n",
       "      <th>ongoing_2010</th>\n",
       "      <th>date_start</th>\n",
       "      <th>date_end</th>\n",
       "      <th>initiator</th>\n",
       "      <th>trade_yrs_before_mid</th>\n",
       "      <th>state_name_1</th>\n",
       "      <th>state_name_2</th>\n",
       "    </tr>\n",
       "  </thead>\n",
       "  <tbody>\n",
       "    <tr>\n",
       "      <th>0</th>\n",
       "      <td>3239</td>\n",
       "      <td>230</td>\n",
       "      <td>SPN</td>\n",
       "      <td>2</td>\n",
       "      <td>USA</td>\n",
       "      <td>1816</td>\n",
       "      <td>Victory for State B</td>\n",
       "      <td>None Value</td>\n",
       "      <td>None Value</td>\n",
       "      <td>1</td>\n",
       "      <td>...</td>\n",
       "      <td>0</td>\n",
       "      <td>1</td>\n",
       "      <td>1</td>\n",
       "      <td>0</td>\n",
       "      <td>1816-07-27</td>\n",
       "      <td>1816-07-27</td>\n",
       "      <td>0.0</td>\n",
       "      <td>NaN</td>\n",
       "      <td>Spain</td>\n",
       "      <td>United States of America</td>\n",
       "    </tr>\n",
       "    <tr>\n",
       "      <th>1</th>\n",
       "      <td>3239</td>\n",
       "      <td>2</td>\n",
       "      <td>USA</td>\n",
       "      <td>230</td>\n",
       "      <td>SPN</td>\n",
       "      <td>1816</td>\n",
       "      <td>Victory for State A</td>\n",
       "      <td>None Value</td>\n",
       "      <td>None Value</td>\n",
       "      <td>1</td>\n",
       "      <td>...</td>\n",
       "      <td>0</td>\n",
       "      <td>1</td>\n",
       "      <td>1</td>\n",
       "      <td>0</td>\n",
       "      <td>1816-07-27</td>\n",
       "      <td>1816-07-27</td>\n",
       "      <td>1.0</td>\n",
       "      <td>NaN</td>\n",
       "      <td>United States of America</td>\n",
       "      <td>Spain</td>\n",
       "    </tr>\n",
       "    <tr>\n",
       "      <th>2</th>\n",
       "      <td>3321</td>\n",
       "      <td>365</td>\n",
       "      <td>RUS</td>\n",
       "      <td>640</td>\n",
       "      <td>TUR</td>\n",
       "      <td>1817</td>\n",
       "      <td>Yield by State B</td>\n",
       "      <td>Negotiated</td>\n",
       "      <td>None Value</td>\n",
       "      <td>1</td>\n",
       "      <td>...</td>\n",
       "      <td>0</td>\n",
       "      <td>1</td>\n",
       "      <td>51</td>\n",
       "      <td>0</td>\n",
       "      <td>1817-09-12</td>\n",
       "      <td>1817-11-01</td>\n",
       "      <td>1.0</td>\n",
       "      <td>NaN</td>\n",
       "      <td>Russia</td>\n",
       "      <td>Turkey</td>\n",
       "    </tr>\n",
       "    <tr>\n",
       "      <th>3</th>\n",
       "      <td>3321</td>\n",
       "      <td>640</td>\n",
       "      <td>TUR</td>\n",
       "      <td>365</td>\n",
       "      <td>RUS</td>\n",
       "      <td>1817</td>\n",
       "      <td>Yield by for State A</td>\n",
       "      <td>Negotiated</td>\n",
       "      <td>None Value</td>\n",
       "      <td>1</td>\n",
       "      <td>...</td>\n",
       "      <td>0</td>\n",
       "      <td>1</td>\n",
       "      <td>51</td>\n",
       "      <td>0</td>\n",
       "      <td>1817-09-12</td>\n",
       "      <td>1817-11-01</td>\n",
       "      <td>0.0</td>\n",
       "      <td>NaN</td>\n",
       "      <td>Turkey</td>\n",
       "      <td>Russia</td>\n",
       "    </tr>\n",
       "    <tr>\n",
       "      <th>4</th>\n",
       "      <td>1567</td>\n",
       "      <td>230</td>\n",
       "      <td>SPN</td>\n",
       "      <td>2</td>\n",
       "      <td>USA</td>\n",
       "      <td>1818</td>\n",
       "      <td>Victory for State B</td>\n",
       "      <td>Negotiated</td>\n",
       "      <td>None</td>\n",
       "      <td>1</td>\n",
       "      <td>...</td>\n",
       "      <td>0</td>\n",
       "      <td>1</td>\n",
       "      <td>77</td>\n",
       "      <td>0</td>\n",
       "      <td>1818-03-15</td>\n",
       "      <td>1818-05-30</td>\n",
       "      <td>0.0</td>\n",
       "      <td>NaN</td>\n",
       "      <td>Spain</td>\n",
       "      <td>United States of America</td>\n",
       "    </tr>\n",
       "  </tbody>\n",
       "</table>\n",
       "<p>5 rows × 26 columns</p>\n",
       "</div>"
      ],
      "text/plain": [
       "   dispute_id  c_code_1 state_name_abb_a  c_code_2 state_name_abb_b  year  \\\n",
       "0        3239       230              SPN         2              USA  1816   \n",
       "1        3239         2              USA       230              SPN  1816   \n",
       "2        3321       365              RUS       640              TUR  1817   \n",
       "3        3321       640              TUR       365              RUS  1817   \n",
       "4        1567       230              SPN         2              USA  1818   \n",
       "\n",
       "                outcome settlement_type total_fatality_bin  num_with  \\\n",
       "0   Victory for State B      None Value         None Value         1   \n",
       "1   Victory for State A      None Value         None Value         1   \n",
       "2      Yield by State B      Negotiated         None Value         1   \n",
       "3  Yield by for State A      Negotiated         None Value         1   \n",
       "4   Victory for State B      Negotiated               None         1   \n",
       "\n",
       "             ...             war  year_num cumulative_duration ongoing_2010  \\\n",
       "0            ...               0         1                   1            0   \n",
       "1            ...               0         1                   1            0   \n",
       "2            ...               0         1                  51            0   \n",
       "3            ...               0         1                  51            0   \n",
       "4            ...               0         1                  77            0   \n",
       "\n",
       "   date_start   date_end  initiator  trade_yrs_before_mid  \\\n",
       "0  1816-07-27 1816-07-27        0.0                   NaN   \n",
       "1  1816-07-27 1816-07-27        1.0                   NaN   \n",
       "2  1817-09-12 1817-11-01        1.0                   NaN   \n",
       "3  1817-09-12 1817-11-01        0.0                   NaN   \n",
       "4  1818-03-15 1818-05-30        0.0                   NaN   \n",
       "\n",
       "               state_name_1              state_name_2  \n",
       "0                     Spain  United States of America  \n",
       "1  United States of America                     Spain  \n",
       "2                    Russia                    Turkey  \n",
       "3                    Turkey                    Russia  \n",
       "4                     Spain  United States of America  \n",
       "\n",
       "[5 rows x 26 columns]"
      ]
     },
     "execution_count": 4,
     "metadata": {},
     "output_type": "execute_result"
    }
   ],
   "source": [
    "mid_df.head()"
   ]
  },
  {
   "cell_type": "code",
   "execution_count": 5,
   "metadata": {},
   "outputs": [],
   "source": [
    "aggregations = {\n",
    "    'dispute_id': 'count',\n",
    "    }\n",
    "\n",
    "year_df = mid_df.groupby(['year']).agg(aggregations).reset_index()\n",
    "year_df.rename({'dispute_id': 'num_conflicts'}, axis = 1, inplace = True)"
   ]
  },
  {
   "cell_type": "code",
   "execution_count": 6,
   "metadata": {},
   "outputs": [
    {
     "data": {
      "text/html": [
       "<div>\n",
       "<style scoped>\n",
       "    .dataframe tbody tr th:only-of-type {\n",
       "        vertical-align: middle;\n",
       "    }\n",
       "\n",
       "    .dataframe tbody tr th {\n",
       "        vertical-align: top;\n",
       "    }\n",
       "\n",
       "    .dataframe thead th {\n",
       "        text-align: right;\n",
       "    }\n",
       "</style>\n",
       "<table border=\"1\" class=\"dataframe\">\n",
       "  <thead>\n",
       "    <tr style=\"text-align: right;\">\n",
       "      <th></th>\n",
       "      <th>year</th>\n",
       "      <th>num_conflicts</th>\n",
       "    </tr>\n",
       "  </thead>\n",
       "  <tbody>\n",
       "    <tr>\n",
       "      <th>0</th>\n",
       "      <td>1816</td>\n",
       "      <td>2</td>\n",
       "    </tr>\n",
       "    <tr>\n",
       "      <th>1</th>\n",
       "      <td>1817</td>\n",
       "      <td>2</td>\n",
       "    </tr>\n",
       "    <tr>\n",
       "      <th>2</th>\n",
       "      <td>1818</td>\n",
       "      <td>2</td>\n",
       "    </tr>\n",
       "    <tr>\n",
       "      <th>3</th>\n",
       "      <td>1821</td>\n",
       "      <td>8</td>\n",
       "    </tr>\n",
       "    <tr>\n",
       "      <th>4</th>\n",
       "      <td>1822</td>\n",
       "      <td>4</td>\n",
       "    </tr>\n",
       "  </tbody>\n",
       "</table>\n",
       "</div>"
      ],
      "text/plain": [
       "   year  num_conflicts\n",
       "0  1816              2\n",
       "1  1817              2\n",
       "2  1818              2\n",
       "3  1821              8\n",
       "4  1822              4"
      ]
     },
     "execution_count": 6,
     "metadata": {},
     "output_type": "execute_result"
    }
   ],
   "source": [
    "year_df.head()"
   ]
  },
  {
   "cell_type": "code",
   "execution_count": 7,
   "metadata": {
    "scrolled": true
   },
   "outputs": [
    {
     "data": {
      "text/plain": [
       "51.46666666666667"
      ]
     },
     "execution_count": 7,
     "metadata": {},
     "output_type": "execute_result"
    }
   ],
   "source": [
    "year_df[(year_df['year'] < 1945) & (year_df['year'] >= 1900)]['num_conflicts'].mean()"
   ]
  },
  {
   "cell_type": "code",
   "execution_count": 8,
   "metadata": {},
   "outputs": [
    {
     "name": "stdout",
     "output_type": "stream",
     "text": [
      "1821\n",
      "1825\n"
     ]
    }
   ],
   "source": [
    "for i, year in enumerate(year_df['year'][1:]):\n",
    "    i+=1\n",
    "    if year - year_df['year'][i - 1] == 1:\n",
    "        pass\n",
    "    else:\n",
    "        print(year)"
   ]
  },
  {
   "cell_type": "code",
   "execution_count": 9,
   "metadata": {},
   "outputs": [
    {
     "name": "stdout",
     "output_type": "stream",
     "text": [
      "1816.0\n",
      "2010.0\n"
     ]
    }
   ],
   "source": [
    "# fixing missing/incorrect values\n",
    "year_df.loc[192, 'year'] = 1819\n",
    "year_df.loc[192, 'num_conflicts'] = 0\n",
    "year_df.loc[193, 'year'] = 1820\n",
    "year_df.loc[193, 'num_conflicts'] = 0\n",
    "year_df.loc[194, 'year'] = 1824\n",
    "year_df.loc[194, 'num_conflicts'] = 0\n",
    "\n",
    "year_df = year_df.sort_values(by = 'year', ascending = True)\n",
    "\n",
    "print(year_df['year'].min())\n",
    "print(year_df['year'].max())"
   ]
  },
  {
   "cell_type": "code",
   "execution_count": 10,
   "metadata": {},
   "outputs": [
    {
     "data": {
      "image/png": "[encoded data removed]",
      "text/plain": [
       "<Figure size 864x432 with 1 Axes>"
      ]
     },
     "metadata": {},
     "output_type": "display_data"
    }
   ],
   "source": [
    "sns.set(style = 'white', font_scale = 1.2)\n",
    "plt.figure(figsize = (12, 6))\n",
    "\n",
    "plt.plot(year_df['year'], year_df['num_conflicts'], label = '')\n",
    "plt.axvline(x = 1946, label = 'Post-WWII', c = 'black', linestyle = ':')\n",
    "plt.xlabel('Year')\n",
    "plt.ylabel('Total Conflicts')\n",
    "plt.legend()\n",
    "plt.savefig('Other/Images/total_conflicts_by_year.png');"
   ]
  },
  {
   "cell_type": "code",
   "execution_count": 11,
   "metadata": {},
   "outputs": [],
   "source": [
    "mid_net_df = pd.read_pickle('Pickles/mid_net_df.pkl')"
   ]
  },
  {
   "cell_type": "code",
   "execution_count": 12,
   "metadata": {},
   "outputs": [
    {
     "data": {
      "text/html": [
       "<div>\n",
       "<style scoped>\n",
       "    .dataframe tbody tr th:only-of-type {\n",
       "        vertical-align: middle;\n",
       "    }\n",
       "\n",
       "    .dataframe tbody tr th {\n",
       "        vertical-align: top;\n",
       "    }\n",
       "\n",
       "    .dataframe thead th {\n",
       "        text-align: right;\n",
       "    }\n",
       "</style>\n",
       "<table border=\"1\" class=\"dataframe\">\n",
       "  <thead>\n",
       "    <tr style=\"text-align: right;\">\n",
       "      <th></th>\n",
       "      <th>dispute_id</th>\n",
       "      <th>c_code_1</th>\n",
       "      <th>state_name_abb_a</th>\n",
       "      <th>c_code_2</th>\n",
       "      <th>state_name_abb_b</th>\n",
       "      <th>year</th>\n",
       "      <th>outcome</th>\n",
       "      <th>settlement_type</th>\n",
       "      <th>total_fatality_bin</th>\n",
       "      <th>num_with</th>\n",
       "      <th>...</th>\n",
       "      <th>war</th>\n",
       "      <th>year_num</th>\n",
       "      <th>cumulative_duration</th>\n",
       "      <th>ongoing_2010</th>\n",
       "      <th>date_start</th>\n",
       "      <th>date_end</th>\n",
       "      <th>initiator</th>\n",
       "      <th>trade_yrs_before_mid</th>\n",
       "      <th>state_name_1</th>\n",
       "      <th>state_name_2</th>\n",
       "    </tr>\n",
       "  </thead>\n",
       "  <tbody>\n",
       "    <tr>\n",
       "      <th>3544</th>\n",
       "      <td>1792</td>\n",
       "      <td>220</td>\n",
       "      <td>FRN</td>\n",
       "      <td>800</td>\n",
       "      <td>THI</td>\n",
       "      <td>1946</td>\n",
       "      <td>Stalemate</td>\n",
       "      <td>Negotiated</td>\n",
       "      <td>101-250</td>\n",
       "      <td>1</td>\n",
       "      <td>...</td>\n",
       "      <td>0</td>\n",
       "      <td>1</td>\n",
       "      <td>251</td>\n",
       "      <td>0</td>\n",
       "      <td>1946-04-01</td>\n",
       "      <td>1946-12-07</td>\n",
       "      <td>1.0</td>\n",
       "      <td>1.0</td>\n",
       "      <td>France</td>\n",
       "      <td>Thailand</td>\n",
       "    </tr>\n",
       "    <tr>\n",
       "      <th>3545</th>\n",
       "      <td>1792</td>\n",
       "      <td>800</td>\n",
       "      <td>THI</td>\n",
       "      <td>220</td>\n",
       "      <td>FRN</td>\n",
       "      <td>1946</td>\n",
       "      <td>Stalemate</td>\n",
       "      <td>Negotiated</td>\n",
       "      <td>101-250</td>\n",
       "      <td>1</td>\n",
       "      <td>...</td>\n",
       "      <td>0</td>\n",
       "      <td>1</td>\n",
       "      <td>251</td>\n",
       "      <td>0</td>\n",
       "      <td>1946-04-01</td>\n",
       "      <td>1946-12-07</td>\n",
       "      <td>0.0</td>\n",
       "      <td>1.0</td>\n",
       "      <td>Thailand</td>\n",
       "      <td>France</td>\n",
       "    </tr>\n",
       "    <tr>\n",
       "      <th>3546</th>\n",
       "      <td>2704</td>\n",
       "      <td>710</td>\n",
       "      <td>CHN</td>\n",
       "      <td>365</td>\n",
       "      <td>RUS</td>\n",
       "      <td>1946</td>\n",
       "      <td>Unclear</td>\n",
       "      <td>Unclear</td>\n",
       "      <td>None Value</td>\n",
       "      <td>1</td>\n",
       "      <td>...</td>\n",
       "      <td>0</td>\n",
       "      <td>2</td>\n",
       "      <td>211</td>\n",
       "      <td>0</td>\n",
       "      <td>1945-10-06</td>\n",
       "      <td>1946-05-03</td>\n",
       "      <td>0.0</td>\n",
       "      <td>74.0</td>\n",
       "      <td>China</td>\n",
       "      <td>Russia</td>\n",
       "    </tr>\n",
       "    <tr>\n",
       "      <th>3547</th>\n",
       "      <td>3192</td>\n",
       "      <td>200</td>\n",
       "      <td>UKG</td>\n",
       "      <td>345</td>\n",
       "      <td>YUG</td>\n",
       "      <td>1946</td>\n",
       "      <td>Stalemate</td>\n",
       "      <td>None Value</td>\n",
       "      <td>None Value</td>\n",
       "      <td>1</td>\n",
       "      <td>...</td>\n",
       "      <td>0</td>\n",
       "      <td>1</td>\n",
       "      <td>1</td>\n",
       "      <td>0</td>\n",
       "      <td>1946-10-05</td>\n",
       "      <td>1946-10-05</td>\n",
       "      <td>1.0</td>\n",
       "      <td>1.0</td>\n",
       "      <td>United Kingdom</td>\n",
       "      <td>Yugoslavia</td>\n",
       "    </tr>\n",
       "    <tr>\n",
       "      <th>3548</th>\n",
       "      <td>3192</td>\n",
       "      <td>345</td>\n",
       "      <td>YUG</td>\n",
       "      <td>200</td>\n",
       "      <td>UKG</td>\n",
       "      <td>1946</td>\n",
       "      <td>Stalemate</td>\n",
       "      <td>None Value</td>\n",
       "      <td>None Value</td>\n",
       "      <td>1</td>\n",
       "      <td>...</td>\n",
       "      <td>0</td>\n",
       "      <td>1</td>\n",
       "      <td>1</td>\n",
       "      <td>0</td>\n",
       "      <td>1946-10-05</td>\n",
       "      <td>1946-10-05</td>\n",
       "      <td>0.0</td>\n",
       "      <td>1.0</td>\n",
       "      <td>Yugoslavia</td>\n",
       "      <td>United Kingdom</td>\n",
       "    </tr>\n",
       "  </tbody>\n",
       "</table>\n",
       "<p>5 rows × 26 columns</p>\n",
       "</div>"
      ],
      "text/plain": [
       "      dispute_id  c_code_1 state_name_abb_a  c_code_2 state_name_abb_b  year  \\\n",
       "3544        1792       220              FRN       800              THI  1946   \n",
       "3545        1792       800              THI       220              FRN  1946   \n",
       "3546        2704       710              CHN       365              RUS  1946   \n",
       "3547        3192       200              UKG       345              YUG  1946   \n",
       "3548        3192       345              YUG       200              UKG  1946   \n",
       "\n",
       "        outcome settlement_type total_fatality_bin  num_with       ...        \\\n",
       "3544  Stalemate      Negotiated            101-250         1       ...         \n",
       "3545  Stalemate      Negotiated            101-250         1       ...         \n",
       "3546    Unclear         Unclear         None Value         1       ...         \n",
       "3547  Stalemate      None Value         None Value         1       ...         \n",
       "3548  Stalemate      None Value         None Value         1       ...         \n",
       "\n",
       "      war  year_num cumulative_duration ongoing_2010  date_start   date_end  \\\n",
       "3544    0         1                 251            0  1946-04-01 1946-12-07   \n",
       "3545    0         1                 251            0  1946-04-01 1946-12-07   \n",
       "3546    0         2                 211            0  1945-10-06 1946-05-03   \n",
       "3547    0         1                   1            0  1946-10-05 1946-10-05   \n",
       "3548    0         1                   1            0  1946-10-05 1946-10-05   \n",
       "\n",
       "      initiator  trade_yrs_before_mid    state_name_1    state_name_2  \n",
       "3544        1.0                   1.0          France        Thailand  \n",
       "3545        0.0                   1.0        Thailand          France  \n",
       "3546        0.0                  74.0           China          Russia  \n",
       "3547        1.0                   1.0  United Kingdom      Yugoslavia  \n",
       "3548        0.0                   1.0      Yugoslavia  United Kingdom  \n",
       "\n",
       "[5 rows x 26 columns]"
      ]
     },
     "execution_count": 12,
     "metadata": {},
     "output_type": "execute_result"
    }
   ],
   "source": [
    "mid_net_df.head()"
   ]
  },
  {
   "cell_type": "code",
   "execution_count": 13,
   "metadata": {},
   "outputs": [
    {
     "name": "stdout",
     "output_type": "stream",
     "text": [
      "[1948, 1949, 1950, 1951, 1952, 1953, 1954, 1955, 1956, 1957, 1958, 1959, 1960, 1961, 1962, 1963, 1964, 1965, 1966, 1967, 1968, 1969, 1970, 1971, 1972, 1973, 1974, 1975, 1976, 1977, 1978, 1979, 1980, 1981, 1982, 1983, 1984, 1985, 1986, 1987, 1988, 1989, 1990, 1991, 1992, 1993, 1994, 1995, 1996, 1997, 1998, 1999, 2000, 2001, 2002, 2003, 2004, 2005, 2006, 2007, 2008, 2009, 2010]\n"
     ]
    }
   ],
   "source": [
    "usa_conflict_year = mid_net_df[mid_net_df['c_code_1'] == 2]['year'].unique().tolist()\n",
    "\n",
    "print(str(usa_conflict_year[1:]))"
   ]
  },
  {
   "cell_type": "code",
   "execution_count": 14,
   "metadata": {},
   "outputs": [],
   "source": [
    "aggregations = {\n",
    "    'dispute_id': 'count',\n",
    "    }\n",
    "\n",
    "country_df = mid_net_df.groupby(['c_code_1', 'state_name_1']).agg(aggregations).reset_index()\n",
    "country_df.rename({'dispute_id': 'num_conflicts'}, axis = 1, inplace = True)\n",
    "country_df = country_df.sort_values(by = 'num_conflicts', ascending = False)"
   ]
  },
  {
   "cell_type": "code",
   "execution_count": 15,
   "metadata": {},
   "outputs": [],
   "source": [
    "country_df.loc[country_df['state_name_1'] == 'United States of America', 'state_name_1'] = 'USA'"
   ]
  },
  {
   "cell_type": "code",
   "execution_count": 16,
   "metadata": {
    "scrolled": true
   },
   "outputs": [
    {
     "data": {
      "image/png": "[encoded data removed]",
      "text/plain": [
       "<Figure size 864x432 with 1 Axes>"
      ]
     },
     "metadata": {},
     "output_type": "display_data"
    }
   ],
   "source": [
    "sns.set(style = 'white', font_scale = 1.2)\n",
    "plt.figure(figsize = (12, 6))\n",
    "ax = sns.barplot(x = 'state_name_1',  y = 'num_conflicts', \n",
    "                 data = country_df[:10], color = 'lightskyblue')\n",
    "# ax.set_title('Number of Conflicts Since WWII\\nTop 10 Countries')\n",
    "ax.set_xlabel('')\n",
    "ax.set_ylabel('Total Conflicts')\n",
    "ax.set_xticklabels(country_df['state_name_1'][:10])\n",
    "ax.get_children()[0].set_color('#ff5b00')\n",
    "plt.tight_layout()\n",
    "plt.savefig('Other/Images/conflicts_since_wwii.png')"
   ]
  },
  {
   "cell_type": "code",
   "execution_count": 17,
   "metadata": {},
   "outputs": [],
   "source": [
    "# numbers acquired manually from another notebook\n",
    "simul_trade_mid = 3125\n",
    "total_trades = 703116\n",
    "total_conflicts = 3154\n",
    "\n",
    "count_df = pd.DataFrame([(3125/703116), (3125/3154)], ['Trade without Conflict', 'Conflict with Trade']).reset_index()"
   ]
  },
  {
   "cell_type": "code",
   "execution_count": 18,
   "metadata": {},
   "outputs": [],
   "source": [
    "count_df.rename({'index': 'variable', 0: 'count'}, axis = 1, inplace = True)"
   ]
  },
  {
   "cell_type": "code",
   "execution_count": 19,
   "metadata": {},
   "outputs": [
    {
     "data": {
      "image/png": "[encoded data removed]",
      "text/plain": [
       "<Figure size 504x432 with 1 Axes>"
      ]
     },
     "metadata": {},
     "output_type": "display_data"
    }
   ],
   "source": [
    "sns.set(style = 'white', font_scale = 1.2)\n",
    "plt.figure(figsize = (7, 6))\n",
    "ax = sns.barplot(x = 'variable',  y = 'count', \n",
    "                 data = count_df[1:], color = 'lightskyblue')\n",
    "# ax.set_title('Number of Conflicts Since WWII\\nTop 10 Countries')\n",
    "ax.set_xlabel('')\n",
    "ax.set_ylabel('Occurrences')\n",
    "ax.set_xticklabels(count_df['variable'][1])\n",
    "plt.tight_layout()\n",
    "plt.savefig('Other/Images/simul_trade_mid.png')"
   ]
  },
  {
   "cell_type": "code",
   "execution_count": 20,
   "metadata": {},
   "outputs": [
    {
     "data": {
      "image/png": "[encoded data removed]",
      "text/plain": [
       "<Figure size 504x432 with 1 Axes>"
      ]
     },
     "metadata": {},
     "output_type": "display_data"
    }
   ],
   "source": [
    "sns.set(style = 'white', font_scale = 1.2)\n",
    "plt.figure(figsize = (7, 6))\n",
    "ax = sns.barplot(x = 'variable',  y = 'count', \n",
    "                 data = count_df, color = 'lightskyblue')\n",
    "# ax.set_title('Number of Conflicts Since WWII\\nTop 10 Countries')\n",
    "ax.set_xlabel('')\n",
    "ax.set_ylabel('Occurrences')\n",
    "ax.set_xticklabels(count_df['variable'])\n",
    "plt.tight_layout()\n",
    "plt.savefig('Other/Images/simul_trade_mid.png')"
   ]
  },
  {
   "cell_type": "code",
   "execution_count": 21,
   "metadata": {},
   "outputs": [],
   "source": [
    "df = pd.read_pickle('Pickles/df_modeling.pkl')"
   ]
  },
  {
   "cell_type": "code",
   "execution_count": 22,
   "metadata": {},
   "outputs": [
    {
     "data": {
      "text/plain": [
       "<matplotlib.collections.PathCollection at 0x12431e400>"
      ]
     },
     "execution_count": 22,
     "metadata": {},
     "output_type": "execute_result"
    },
    {
     "data": {
      "image/png": "[encoded data removed]",
      "text/plain": [
       "<Figure size 432x288 with 1 Axes>"
      ]
     },
     "metadata": {},
     "output_type": "display_data"
    }
   ],
   "source": [
    "plt.scatter(df['prim_energy_consumption'], df['num_conflicts'])"
   ]
  },
  {
   "cell_type": "code",
   "execution_count": 23,
   "metadata": {},
   "outputs": [
    {
     "data": {
      "text/plain": [
       "<matplotlib.collections.PathCollection at 0x124370828>"
      ]
     },
     "execution_count": 23,
     "metadata": {},
     "output_type": "execute_result"
    },
    {
     "data": {
      "image/png": "[encoded data removed]",
      "text/plain": [
       "<Figure size 432x288 with 1 Axes>"
      ]
     },
     "metadata": {},
     "output_type": "display_data"
    }
   ],
   "source": [
    "plt.scatter(df['export_dollars'], df['num_conflicts'])"
   ]
  },
  {
   "cell_type": "code",
   "execution_count": 24,
   "metadata": {},
   "outputs": [
    {
     "data": {
      "text/plain": [
       "<matplotlib.collections.PathCollection at 0x124428c88>"
      ]
     },
     "execution_count": 24,
     "metadata": {},
     "output_type": "execute_result"
    },
    {
     "data": {
      "image/png": "[encoded data removed]",
      "text/plain": [
       "<Figure size 432x288 with 1 Axes>"
      ]
     },
     "metadata": {},
     "output_type": "display_data"
    }
   ],
   "source": [
    "plt.scatter(df['total_pop'], df['num_conflicts'])"
   ]
  },
  {
   "cell_type": "code",
   "execution_count": null,
   "metadata": {},
   "outputs": [],
   "source": []
  }
 ],
 "metadata": {
  "kernelspec": {
   "display_name": "Python 3",
   "language": "python",
   "name": "python3"
  },
  "language_info": {
   "codemirror_mode": {
    "name": "ipython",
    "version": 3
   },
   "file_extension": ".py",
   "mimetype": "text/x-python",
   "name": "python",
   "nbconvert_exporter": "python",
   "pygments_lexer": "ipython3",
   "version": "3.6.4"
  }
 },
 "nbformat": 4,
 "nbformat_minor": 2
}
