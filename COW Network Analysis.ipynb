{
 "cells": [
  {
   "cell_type": "code",
   "execution_count": 1,
   "metadata": {},
   "outputs": [],
   "source": [
    "from warnings import filterwarnings\n",
    "\n",
    "filterwarnings('ignore')"
   ]
  },
  {
   "cell_type": "code",
   "execution_count": 2,
   "metadata": {},
   "outputs": [],
   "source": [
    "from copy import deepcopy\n",
    "import pandas as pd\n",
    "import numpy as np\n",
    "import matplotlib.pyplot as plt\n",
    "import seaborn as sns\n",
    "from more_itertools import flatten"
   ]
  },
  {
   "cell_type": "code",
   "execution_count": 3,
   "metadata": {},
   "outputs": [],
   "source": [
    "import networkx as nx"
   ]
  },
  {
   "cell_type": "code",
   "execution_count": 4,
   "metadata": {},
   "outputs": [],
   "source": [
    "pd.set_option('display.max_colwidth', 1000)\n",
    "pd.set_option('display.max_columns', None)\n",
    "# pd.set_option('display.max_rows', None)"
   ]
  },
  {
   "cell_type": "code",
   "execution_count": 5,
   "metadata": {},
   "outputs": [],
   "source": [
    "pd.set_option('display.float_format', lambda x: '%.3f' % x)"
   ]
  },
  {
   "cell_type": "code",
   "execution_count": 37,
   "metadata": {},
   "outputs": [],
   "source": [
    "# net_df denotes a dataset that has had values prior to 1946 removed\n",
    "alliance_net_df = pd.read_pickle('pickle/alliance_net_df.pkl')\n",
    "mid_net_df = pd.read_pickle('pickle/mid_net_df.pkl')\n",
    "trade_net_df = pd.read_pickle('pickle/trade_net_df.pkl')\n",
    "trade_df = pd.read_pickle('pickle/trade_df.pkl')\n",
    "gov_df = pd.read_pickle('pickle/gov_df.pkl')\n",
    "cait_df = pd.read_pickle('pickle/cait_df.pkl')"
   ]
  },
  {
   "cell_type": "code",
   "execution_count": 38,
   "metadata": {},
   "outputs": [],
   "source": [
    "aggregations = {\n",
    "    'year': 'count'\n",
    "    }\n",
    "\n",
    "country_loc_df = gov_df.groupby(['c_code_1', 'un_region', 'un_continent']).agg(aggregations).reset_index()\n",
    "country_loc_df.rename({'year': 'num_years'}, axis = 1, inplace = True)"
   ]
  },
  {
   "cell_type": "code",
   "execution_count": 39,
   "metadata": {},
   "outputs": [],
   "source": [
    "country_loc_df.loc[197, 'c_code_1'] = 817\n",
    "country_loc_df.loc[197, 'un_region'] = 'South-Eastern Asia'\n",
    "country_loc_df.loc[197, 'un_continent'] = 'Asia'\n",
    "country_loc_df.loc[197, 'num_years'] = 0\n",
    "country_loc_df.loc[198, 'c_code_1'] = 347\n",
    "country_loc_df.loc[198, 'un_region'] = 'Southern Europe'\n",
    "country_loc_df.loc[198, 'un_continent'] = 'Europe'\n",
    "country_loc_df.loc[198, 'num_years'] = 0\n",
    "country_loc_df.loc[199, 'c_code_1'] = 511\n",
    "country_loc_df.loc[199, 'un_region'] = 'Eastern Africa'\n",
    "country_loc_df.loc[199, 'un_continent'] = 'Africa'\n",
    "country_loc_df.loc[199, 'num_years'] = 0\n",
    "country_loc_df.loc[200, 'c_code_1'] = 221\n",
    "country_loc_df.loc[200, 'un_region'] = 'Western Europe'\n",
    "country_loc_df.loc[200, 'un_continent'] = 'Europe'\n",
    "country_loc_df.loc[200, 'num_years'] = 0"
   ]
  },
  {
   "cell_type": "code",
   "execution_count": 40,
   "metadata": {},
   "outputs": [],
   "source": [
    "trade_net_df = deepcopy(pd.merge(country_loc_df, trade_net_df, how = 'inner', on = ['c_code_1']))\n",
    "trade_net_df.rename({'un_region': 'un_region_1', 'un_continent': 'un_continent_1'}, axis = 1, inplace = True)\n",
    "trade_net_df.drop(['num_years'], axis = 1, inplace = True)"
   ]
  },
  {
   "cell_type": "code",
   "execution_count": 41,
   "metadata": {},
   "outputs": [],
   "source": [
    "country_loc_df.rename({'c_code_1': 'c_code_2'}, axis = 1, inplace = True)"
   ]
  },
  {
   "cell_type": "code",
   "execution_count": 42,
   "metadata": {},
   "outputs": [],
   "source": [
    "trade_net_df = deepcopy(pd.merge(country_loc_df, trade_net_df, how = 'inner', on = ['c_code_2']))\n",
    "trade_net_df.rename({'un_region': 'un_region_2', 'un_continent': 'un_continent_2'}, axis = 1, inplace = True)\n",
    "trade_net_df.drop(['num_years'], axis = 1, inplace = True)"
   ]
  },
  {
   "cell_type": "code",
   "execution_count": 43,
   "metadata": {},
   "outputs": [
    {
     "name": "stdout",
     "output_type": "stream",
     "text": [
      "0\n",
      "0\n"
     ]
    }
   ],
   "source": [
    "print(len(trade_net_df[trade_net_df['money_flow_1'] <= 0]))\n",
    "print(len(trade_net_df[trade_net_df['money_flow_2'] <= 0]))"
   ]
  },
  {
   "cell_type": "code",
   "execution_count": 44,
   "metadata": {
    "scrolled": true
   },
   "outputs": [
    {
     "data": {
      "text/html": [
       "<div>\n",
       "<style scoped>\n",
       "    .dataframe tbody tr th:only-of-type {\n",
       "        vertical-align: middle;\n",
       "    }\n",
       "\n",
       "    .dataframe tbody tr th {\n",
       "        vertical-align: top;\n",
       "    }\n",
       "\n",
       "    .dataframe thead th {\n",
       "        text-align: right;\n",
       "    }\n",
       "</style>\n",
       "<table border=\"1\" class=\"dataframe\">\n",
       "  <thead>\n",
       "    <tr style=\"text-align: right;\">\n",
       "      <th></th>\n",
       "      <th>c_code_2</th>\n",
       "      <th>un_region_2</th>\n",
       "      <th>un_continent_2</th>\n",
       "      <th>c_code_1</th>\n",
       "      <th>un_region_1</th>\n",
       "      <th>un_continent_1</th>\n",
       "      <th>money_flow_1</th>\n",
       "      <th>money_flow_2</th>\n",
       "      <th>state_name_1</th>\n",
       "      <th>state_name_2</th>\n",
       "      <th>year</th>\n",
       "    </tr>\n",
       "  </thead>\n",
       "  <tbody>\n",
       "    <tr>\n",
       "      <th>0</th>\n",
       "      <td>2.000</td>\n",
       "      <td>Northern America</td>\n",
       "      <td>Americas</td>\n",
       "      <td>20.000</td>\n",
       "      <td>Northern America</td>\n",
       "      <td>Americas</td>\n",
       "      <td>2038500000.000</td>\n",
       "      <td>1794000000.000</td>\n",
       "      <td>Canada</td>\n",
       "      <td>United States of America</td>\n",
       "      <td>1946</td>\n",
       "    </tr>\n",
       "    <tr>\n",
       "      <th>1</th>\n",
       "      <td>2.000</td>\n",
       "      <td>Northern America</td>\n",
       "      <td>Americas</td>\n",
       "      <td>20.000</td>\n",
       "      <td>Northern America</td>\n",
       "      <td>Americas</td>\n",
       "      <td>2038500000.000</td>\n",
       "      <td>1794000000.000</td>\n",
       "      <td>Canada</td>\n",
       "      <td>United States of America</td>\n",
       "      <td>1947</td>\n",
       "    </tr>\n",
       "    <tr>\n",
       "      <th>2</th>\n",
       "      <td>2.000</td>\n",
       "      <td>Northern America</td>\n",
       "      <td>Americas</td>\n",
       "      <td>20.000</td>\n",
       "      <td>Northern America</td>\n",
       "      <td>Americas</td>\n",
       "      <td>2038500000.000</td>\n",
       "      <td>1794000000.000</td>\n",
       "      <td>Canada</td>\n",
       "      <td>United States of America</td>\n",
       "      <td>1948</td>\n",
       "    </tr>\n",
       "    <tr>\n",
       "      <th>3</th>\n",
       "      <td>2.000</td>\n",
       "      <td>Northern America</td>\n",
       "      <td>Americas</td>\n",
       "      <td>20.000</td>\n",
       "      <td>Northern America</td>\n",
       "      <td>Americas</td>\n",
       "      <td>2101200000.000</td>\n",
       "      <td>1743000000.000</td>\n",
       "      <td>Canada</td>\n",
       "      <td>United States of America</td>\n",
       "      <td>1949</td>\n",
       "    </tr>\n",
       "    <tr>\n",
       "      <th>4</th>\n",
       "      <td>2.000</td>\n",
       "      <td>Northern America</td>\n",
       "      <td>Americas</td>\n",
       "      <td>20.000</td>\n",
       "      <td>Northern America</td>\n",
       "      <td>Americas</td>\n",
       "      <td>2162100000.000</td>\n",
       "      <td>2101000000.000</td>\n",
       "      <td>Canada</td>\n",
       "      <td>United States of America</td>\n",
       "      <td>1950</td>\n",
       "    </tr>\n",
       "  </tbody>\n",
       "</table>\n",
       "</div>"
      ],
      "text/plain": [
       "   c_code_2       un_region_2 un_continent_2  c_code_1       un_region_1  \\\n",
       "0     2.000  Northern America       Americas    20.000  Northern America   \n",
       "1     2.000  Northern America       Americas    20.000  Northern America   \n",
       "2     2.000  Northern America       Americas    20.000  Northern America   \n",
       "3     2.000  Northern America       Americas    20.000  Northern America   \n",
       "4     2.000  Northern America       Americas    20.000  Northern America   \n",
       "\n",
       "  un_continent_1   money_flow_1   money_flow_2 state_name_1  \\\n",
       "0       Americas 2038500000.000 1794000000.000       Canada   \n",
       "1       Americas 2038500000.000 1794000000.000       Canada   \n",
       "2       Americas 2038500000.000 1794000000.000       Canada   \n",
       "3       Americas 2101200000.000 1743000000.000       Canada   \n",
       "4       Americas 2162100000.000 2101000000.000       Canada   \n",
       "\n",
       "               state_name_2  year  \n",
       "0  United States of America  1946  \n",
       "1  United States of America  1947  \n",
       "2  United States of America  1948  \n",
       "3  United States of America  1949  \n",
       "4  United States of America  1950  "
      ]
     },
     "execution_count": 44,
     "metadata": {},
     "output_type": "execute_result"
    }
   ],
   "source": [
    "trade_net_df.head()"
   ]
  },
  {
   "cell_type": "code",
   "execution_count": 45,
   "metadata": {},
   "outputs": [
    {
     "data": {
      "text/html": [
       "<div>\n",
       "<style scoped>\n",
       "    .dataframe tbody tr th:only-of-type {\n",
       "        vertical-align: middle;\n",
       "    }\n",
       "\n",
       "    .dataframe tbody tr th {\n",
       "        vertical-align: top;\n",
       "    }\n",
       "\n",
       "    .dataframe thead th {\n",
       "        text-align: right;\n",
       "    }\n",
       "</style>\n",
       "<table border=\"1\" class=\"dataframe\">\n",
       "  <thead>\n",
       "    <tr style=\"text-align: right;\">\n",
       "      <th></th>\n",
       "      <th>c_code_1</th>\n",
       "      <th>state_name_1</th>\n",
       "      <th>c_code_2</th>\n",
       "      <th>state_name_2</th>\n",
       "      <th>pre_1816_alliance</th>\n",
       "      <th>in_effect_1231_2012</th>\n",
       "      <th>defense_treaty</th>\n",
       "      <th>neutrality_treaty</th>\n",
       "      <th>nonaggression_treaty</th>\n",
       "      <th>entente_treaty</th>\n",
       "      <th>year</th>\n",
       "      <th>alliance_date_start</th>\n",
       "      <th>alliance_date_end</th>\n",
       "    </tr>\n",
       "  </thead>\n",
       "  <tbody>\n",
       "    <tr>\n",
       "      <th>14772</th>\n",
       "      <td>91</td>\n",
       "      <td>Honduras</td>\n",
       "      <td>150</td>\n",
       "      <td>Paraguay</td>\n",
       "      <td>0</td>\n",
       "      <td>0</td>\n",
       "      <td>1</td>\n",
       "      <td>0</td>\n",
       "      <td>0.000</td>\n",
       "      <td>1.000</td>\n",
       "      <td>1946</td>\n",
       "      <td>1945-03-06</td>\n",
       "      <td>1947-09-02</td>\n",
       "    </tr>\n",
       "    <tr>\n",
       "      <th>14773</th>\n",
       "      <td>651</td>\n",
       "      <td>Egypt</td>\n",
       "      <td>200</td>\n",
       "      <td>United Kingdom</td>\n",
       "      <td>0</td>\n",
       "      <td>0</td>\n",
       "      <td>0</td>\n",
       "      <td>0</td>\n",
       "      <td>0.000</td>\n",
       "      <td>1.000</td>\n",
       "      <td>1946</td>\n",
       "      <td>1937-05-26</td>\n",
       "      <td>1951-10-08</td>\n",
       "    </tr>\n",
       "    <tr>\n",
       "      <th>14774</th>\n",
       "      <td>91</td>\n",
       "      <td>Honduras</td>\n",
       "      <td>94</td>\n",
       "      <td>Costa Rica</td>\n",
       "      <td>0</td>\n",
       "      <td>0</td>\n",
       "      <td>1</td>\n",
       "      <td>0</td>\n",
       "      <td>0.000</td>\n",
       "      <td>1.000</td>\n",
       "      <td>1946</td>\n",
       "      <td>1945-03-06</td>\n",
       "      <td>1947-09-02</td>\n",
       "    </tr>\n",
       "    <tr>\n",
       "      <th>14775</th>\n",
       "      <td>93</td>\n",
       "      <td>Nicaragua</td>\n",
       "      <td>145</td>\n",
       "      <td>Bolivia</td>\n",
       "      <td>0</td>\n",
       "      <td>0</td>\n",
       "      <td>1</td>\n",
       "      <td>0</td>\n",
       "      <td>0.000</td>\n",
       "      <td>1.000</td>\n",
       "      <td>1946</td>\n",
       "      <td>1945-03-06</td>\n",
       "      <td>1947-09-02</td>\n",
       "    </tr>\n",
       "    <tr>\n",
       "      <th>14776</th>\n",
       "      <td>365</td>\n",
       "      <td>Russia</td>\n",
       "      <td>712</td>\n",
       "      <td>Mongolia</td>\n",
       "      <td>0</td>\n",
       "      <td>0</td>\n",
       "      <td>1</td>\n",
       "      <td>0</td>\n",
       "      <td>0.000</td>\n",
       "      <td>0.000</td>\n",
       "      <td>1946</td>\n",
       "      <td>1936-03-12</td>\n",
       "      <td>1991-12-25</td>\n",
       "    </tr>\n",
       "  </tbody>\n",
       "</table>\n",
       "</div>"
      ],
      "text/plain": [
       "       c_code_1 state_name_1  c_code_2    state_name_2  pre_1816_alliance  \\\n",
       "14772        91     Honduras       150        Paraguay                  0   \n",
       "14773       651        Egypt       200  United Kingdom                  0   \n",
       "14774        91     Honduras        94      Costa Rica                  0   \n",
       "14775        93    Nicaragua       145         Bolivia                  0   \n",
       "14776       365       Russia       712        Mongolia                  0   \n",
       "\n",
       "       in_effect_1231_2012  defense_treaty  neutrality_treaty  \\\n",
       "14772                    0               1                  0   \n",
       "14773                    0               0                  0   \n",
       "14774                    0               1                  0   \n",
       "14775                    0               1                  0   \n",
       "14776                    0               1                  0   \n",
       "\n",
       "       nonaggression_treaty  entente_treaty  year alliance_date_start  \\\n",
       "14772                 0.000           1.000  1946          1945-03-06   \n",
       "14773                 0.000           1.000  1946          1937-05-26   \n",
       "14774                 0.000           1.000  1946          1945-03-06   \n",
       "14775                 0.000           1.000  1946          1945-03-06   \n",
       "14776                 0.000           0.000  1946          1936-03-12   \n",
       "\n",
       "      alliance_date_end  \n",
       "14772        1947-09-02  \n",
       "14773        1951-10-08  \n",
       "14774        1947-09-02  \n",
       "14775        1947-09-02  \n",
       "14776        1991-12-25  "
      ]
     },
     "execution_count": 45,
     "metadata": {},
     "output_type": "execute_result"
    }
   ],
   "source": [
    "alliance_net_df.head()"
   ]
  },
  {
   "cell_type": "code",
   "execution_count": 46,
   "metadata": {},
   "outputs": [
    {
     "data": {
      "text/html": [
       "<div>\n",
       "<style scoped>\n",
       "    .dataframe tbody tr th:only-of-type {\n",
       "        vertical-align: middle;\n",
       "    }\n",
       "\n",
       "    .dataframe tbody tr th {\n",
       "        vertical-align: top;\n",
       "    }\n",
       "\n",
       "    .dataframe thead th {\n",
       "        text-align: right;\n",
       "    }\n",
       "</style>\n",
       "<table border=\"1\" class=\"dataframe\">\n",
       "  <thead>\n",
       "    <tr style=\"text-align: right;\">\n",
       "      <th></th>\n",
       "      <th>dispute_id</th>\n",
       "      <th>c_code_1</th>\n",
       "      <th>state_name_abb_a</th>\n",
       "      <th>c_code_2</th>\n",
       "      <th>state_name_abb_b</th>\n",
       "      <th>year</th>\n",
       "      <th>outcome</th>\n",
       "      <th>settlement_type</th>\n",
       "      <th>total_fatality_bin</th>\n",
       "      <th>num_with</th>\n",
       "      <th>num_against</th>\n",
       "      <th>revision_sought</th>\n",
       "      <th>revision_type</th>\n",
       "      <th>state_fatality_bin</th>\n",
       "      <th>hostility_level</th>\n",
       "      <th>origin_participant</th>\n",
       "      <th>war</th>\n",
       "      <th>year_num</th>\n",
       "      <th>cumulative_duration</th>\n",
       "      <th>ongoing_2010</th>\n",
       "      <th>date_start</th>\n",
       "      <th>date_end</th>\n",
       "      <th>initiator</th>\n",
       "    </tr>\n",
       "  </thead>\n",
       "  <tbody>\n",
       "    <tr>\n",
       "      <th>3544</th>\n",
       "      <td>1792</td>\n",
       "      <td>220</td>\n",
       "      <td>FRN</td>\n",
       "      <td>800</td>\n",
       "      <td>THI</td>\n",
       "      <td>1946</td>\n",
       "      <td>Stalemate</td>\n",
       "      <td>Negotiated</td>\n",
       "      <td>101-250</td>\n",
       "      <td>1</td>\n",
       "      <td>1</td>\n",
       "      <td>0</td>\n",
       "      <td>N/A</td>\n",
       "      <td>1-25</td>\n",
       "      <td>4</td>\n",
       "      <td>1</td>\n",
       "      <td>0</td>\n",
       "      <td>1</td>\n",
       "      <td>251</td>\n",
       "      <td>0</td>\n",
       "      <td>1946-04-01</td>\n",
       "      <td>1946-12-07</td>\n",
       "      <td>1.000</td>\n",
       "    </tr>\n",
       "    <tr>\n",
       "      <th>3545</th>\n",
       "      <td>1792</td>\n",
       "      <td>800</td>\n",
       "      <td>THI</td>\n",
       "      <td>220</td>\n",
       "      <td>FRN</td>\n",
       "      <td>1946</td>\n",
       "      <td>Stalemate</td>\n",
       "      <td>Negotiated</td>\n",
       "      <td>101-250</td>\n",
       "      <td>1</td>\n",
       "      <td>1</td>\n",
       "      <td>0</td>\n",
       "      <td>N/A</td>\n",
       "      <td>101-250</td>\n",
       "      <td>4</td>\n",
       "      <td>1</td>\n",
       "      <td>0</td>\n",
       "      <td>1</td>\n",
       "      <td>251</td>\n",
       "      <td>0</td>\n",
       "      <td>1946-04-01</td>\n",
       "      <td>1946-12-07</td>\n",
       "      <td>0.000</td>\n",
       "    </tr>\n",
       "    <tr>\n",
       "      <th>3546</th>\n",
       "      <td>2704</td>\n",
       "      <td>710</td>\n",
       "      <td>CHN</td>\n",
       "      <td>365</td>\n",
       "      <td>RUS</td>\n",
       "      <td>1946</td>\n",
       "      <td>Unclear</td>\n",
       "      <td>Unclear</td>\n",
       "      <td>None Value</td>\n",
       "      <td>1</td>\n",
       "      <td>1</td>\n",
       "      <td>0</td>\n",
       "      <td>N/A</td>\n",
       "      <td>None Value</td>\n",
       "      <td>1</td>\n",
       "      <td>1</td>\n",
       "      <td>0</td>\n",
       "      <td>2</td>\n",
       "      <td>211</td>\n",
       "      <td>0</td>\n",
       "      <td>1945-10-06</td>\n",
       "      <td>1946-05-03</td>\n",
       "      <td>0.000</td>\n",
       "    </tr>\n",
       "    <tr>\n",
       "      <th>3547</th>\n",
       "      <td>3192</td>\n",
       "      <td>200</td>\n",
       "      <td>UKG</td>\n",
       "      <td>345</td>\n",
       "      <td>YUG</td>\n",
       "      <td>1946</td>\n",
       "      <td>Stalemate</td>\n",
       "      <td>None Value</td>\n",
       "      <td>None Value</td>\n",
       "      <td>1</td>\n",
       "      <td>1</td>\n",
       "      <td>0</td>\n",
       "      <td>N/A</td>\n",
       "      <td>None Value</td>\n",
       "      <td>4</td>\n",
       "      <td>1</td>\n",
       "      <td>0</td>\n",
       "      <td>1</td>\n",
       "      <td>1</td>\n",
       "      <td>0</td>\n",
       "      <td>1946-10-05</td>\n",
       "      <td>1946-10-05</td>\n",
       "      <td>1.000</td>\n",
       "    </tr>\n",
       "    <tr>\n",
       "      <th>3548</th>\n",
       "      <td>3192</td>\n",
       "      <td>345</td>\n",
       "      <td>YUG</td>\n",
       "      <td>200</td>\n",
       "      <td>UKG</td>\n",
       "      <td>1946</td>\n",
       "      <td>Stalemate</td>\n",
       "      <td>None Value</td>\n",
       "      <td>None Value</td>\n",
       "      <td>1</td>\n",
       "      <td>1</td>\n",
       "      <td>0</td>\n",
       "      <td>N/A</td>\n",
       "      <td>None Value</td>\n",
       "      <td>4</td>\n",
       "      <td>1</td>\n",
       "      <td>0</td>\n",
       "      <td>1</td>\n",
       "      <td>1</td>\n",
       "      <td>0</td>\n",
       "      <td>1946-10-05</td>\n",
       "      <td>1946-10-05</td>\n",
       "      <td>0.000</td>\n",
       "    </tr>\n",
       "  </tbody>\n",
       "</table>\n",
       "</div>"
      ],
      "text/plain": [
       "      dispute_id  c_code_1 state_name_abb_a  c_code_2 state_name_abb_b  year  \\\n",
       "3544        1792       220              FRN       800              THI  1946   \n",
       "3545        1792       800              THI       220              FRN  1946   \n",
       "3546        2704       710              CHN       365              RUS  1946   \n",
       "3547        3192       200              UKG       345              YUG  1946   \n",
       "3548        3192       345              YUG       200              UKG  1946   \n",
       "\n",
       "        outcome settlement_type total_fatality_bin  num_with  num_against  \\\n",
       "3544  Stalemate      Negotiated            101-250         1            1   \n",
       "3545  Stalemate      Negotiated            101-250         1            1   \n",
       "3546    Unclear         Unclear         None Value         1            1   \n",
       "3547  Stalemate      None Value         None Value         1            1   \n",
       "3548  Stalemate      None Value         None Value         1            1   \n",
       "\n",
       "      revision_sought revision_type state_fatality_bin  hostility_level  \\\n",
       "3544                0           N/A               1-25                4   \n",
       "3545                0           N/A            101-250                4   \n",
       "3546                0           N/A         None Value                1   \n",
       "3547                0           N/A         None Value                4   \n",
       "3548                0           N/A         None Value                4   \n",
       "\n",
       "      origin_participant  war  year_num  cumulative_duration  ongoing_2010  \\\n",
       "3544                   1    0         1                  251             0   \n",
       "3545                   1    0         1                  251             0   \n",
       "3546                   1    0         2                  211             0   \n",
       "3547                   1    0         1                    1             0   \n",
       "3548                   1    0         1                    1             0   \n",
       "\n",
       "     date_start   date_end  initiator  \n",
       "3544 1946-04-01 1946-12-07      1.000  \n",
       "3545 1946-04-01 1946-12-07      0.000  \n",
       "3546 1945-10-06 1946-05-03      0.000  \n",
       "3547 1946-10-05 1946-10-05      1.000  \n",
       "3548 1946-10-05 1946-10-05      0.000  "
      ]
     },
     "execution_count": 46,
     "metadata": {},
     "output_type": "execute_result"
    }
   ],
   "source": [
    "mid_net_df.head()"
   ]
  },
  {
   "cell_type": "markdown",
   "metadata": {},
   "source": [
    "Top-Level Network Statistics with Pandas"
   ]
  },
  {
   "cell_type": "code",
   "execution_count": 47,
   "metadata": {
    "scrolled": true
   },
   "outputs": [
    {
     "name": "stdout",
     "output_type": "stream",
     "text": [
      "trade: 703116\n",
      "alliances: 66743\n",
      "conflict: 3154\n"
     ]
    }
   ],
   "source": [
    "# instances of trade, alliances, and conflicts across all years.\n",
    "# divide by two because all rows are duplicated so each country can be c_code_1 and c_code2\n",
    "print('trade:', int(len(trade_net_df)/2))\n",
    "print('alliances:', int(len(alliance_net_df)/2))\n",
    "print('conflict:', int(len(mid_net_df)/2))"
   ]
  },
  {
   "cell_type": "code",
   "execution_count": 48,
   "metadata": {},
   "outputs": [
    {
     "data": {
      "text/html": [
       "<div>\n",
       "<style scoped>\n",
       "    .dataframe tbody tr th:only-of-type {\n",
       "        vertical-align: middle;\n",
       "    }\n",
       "\n",
       "    .dataframe tbody tr th {\n",
       "        vertical-align: top;\n",
       "    }\n",
       "\n",
       "    .dataframe thead th {\n",
       "        text-align: right;\n",
       "    }\n",
       "</style>\n",
       "<table border=\"1\" class=\"dataframe\">\n",
       "  <thead>\n",
       "    <tr style=\"text-align: right;\">\n",
       "      <th></th>\n",
       "      <th>dispute_id</th>\n",
       "      <th>c_code_1</th>\n",
       "      <th>state_name_abb_a</th>\n",
       "      <th>c_code_2</th>\n",
       "      <th>state_name_abb_b</th>\n",
       "      <th>year</th>\n",
       "      <th>outcome</th>\n",
       "      <th>settlement_type</th>\n",
       "      <th>total_fatality_bin</th>\n",
       "      <th>num_with</th>\n",
       "      <th>num_against</th>\n",
       "      <th>revision_sought</th>\n",
       "      <th>revision_type</th>\n",
       "      <th>state_fatality_bin</th>\n",
       "      <th>hostility_level</th>\n",
       "      <th>origin_participant</th>\n",
       "      <th>war</th>\n",
       "      <th>year_num</th>\n",
       "      <th>cumulative_duration</th>\n",
       "      <th>ongoing_2010</th>\n",
       "      <th>date_start</th>\n",
       "      <th>date_end</th>\n",
       "      <th>initiator</th>\n",
       "    </tr>\n",
       "  </thead>\n",
       "  <tbody>\n",
       "  </tbody>\n",
       "</table>\n",
       "</div>"
      ],
      "text/plain": [
       "Empty DataFrame\n",
       "Columns: [dispute_id, c_code_1, state_name_abb_a, c_code_2, state_name_abb_b, year, outcome, settlement_type, total_fatality_bin, num_with, num_against, revision_sought, revision_type, state_fatality_bin, hostility_level, origin_participant, war, year_num, cumulative_duration, ongoing_2010, date_start, date_end, initiator]\n",
       "Index: []"
      ]
     },
     "execution_count": 48,
     "metadata": {},
     "output_type": "execute_result"
    }
   ],
   "source": [
    "mid_net_df[mid_net_df['date_end'].astype(str) == 'Nat']"
   ]
  },
  {
   "cell_type": "code",
   "execution_count": 49,
   "metadata": {},
   "outputs": [
    {
     "name": "stdout",
     "output_type": "stream",
     "text": [
      "distinct trading country combinations: 19815\n",
      "distinct alliances: 2483\n",
      "distinct conflicts: 2158\n"
     ]
    }
   ],
   "source": [
    "aggregations = {'year': 'count'}\n",
    "trade_net_df_grouped = trade_net_df.groupby(['c_code_1', 'c_code_2']).agg(aggregations).reset_index()\n",
    "trade_net_df_grouped.drop(['year'], axis = 1, inplace = True)\n",
    "alliance_net_df_grouped = alliance_net_df.groupby(['c_code_1', 'c_code_2', 'alliance_date_start']).agg(aggregations).reset_index()\n",
    "alliance_net_df_grouped.drop(['year'], axis = 1, inplace = True)\n",
    "mid_net_df_grouped = mid_net_df.groupby(['c_code_1', 'c_code_2', 'dispute_id', 'date_start', 'date_end']).agg(aggregations).reset_index()\n",
    "mid_net_df_grouped.drop(['year'], axis = 1, inplace = True)\n",
    "# total distinct trading parties, alliances, conflicts (between two countries) in dataset.\n",
    "# divide by two because all rows are duplicated so each country can be c_code_1 and c_code2\n",
    "print('distinct trading country combinations:', int(len(trade_net_df_grouped)/2))\n",
    "print('distinct alliances:', int(len(alliance_net_df_grouped)/2))\n",
    "print('distinct conflicts:', int(len(mid_net_df_grouped)/2))"
   ]
  },
  {
   "cell_type": "code",
   "execution_count": 50,
   "metadata": {},
   "outputs": [
    {
     "name": "stdout",
     "output_type": "stream",
     "text": [
      "total countries engaging in trade: 201\n",
      "total countries forming alliances: 164\n",
      "total countries involved in conflict: 176\n"
     ]
    }
   ],
   "source": [
    "# total countries forming alliances in dataset.\n",
    "assert len(trade_net_df['c_code_1'].unique()) == len(trade_net_df_grouped['c_code_1'].unique())\n",
    "assert len(alliance_net_df['c_code_1'].unique()) == len(alliance_net_df_grouped['c_code_1'].unique())\n",
    "assert len(mid_net_df['c_code_1'].unique()) == len(mid_net_df_grouped['c_code_1'].unique())\n",
    "print('total countries engaging in trade:', int(len(trade_net_df['c_code_1'].unique())))\n",
    "print('total countries forming alliances:', int(len(alliance_net_df['c_code_1'].unique())))\n",
    "print('total countries involved in conflict:', int(len(mid_net_df['c_code_1'].unique())))"
   ]
  },
  {
   "cell_type": "code",
   "execution_count": 51,
   "metadata": {},
   "outputs": [
    {
     "name": "stdout",
     "output_type": "stream",
     "text": [
      "instance of simultaneous trade and alliance: 61567\n",
      "instance of simultaneous alliance and conflict: 1105\n",
      "instance of simultaneous trade and conflict: 3125\n",
      "instance of simultaneous trade, alliance, and conflict: 1083\n"
     ]
    }
   ],
   "source": [
    "trade_ally = pd.merge(trade_net_df, alliance_net_df, how = 'inner', on = ['c_code_1', 'c_code_2', 'year'])\n",
    "ally_mid = pd.merge(alliance_net_df, mid_net_df, how = 'inner', on = ['c_code_1', 'c_code_2', 'year'])\n",
    "trade_mid = pd.merge(trade_net_df, mid_net_df, how = 'inner', on = ['c_code_1', 'c_code_2', 'year'])\n",
    "trade_ally_mid = pd.merge(trade_ally, mid_net_df, how = 'inner', on = ['c_code_1', 'c_code_2', 'year'])\n",
    "# instances of simultaneous trade and alliance, simultaneous alliance and conflict,\n",
    "# simultaneous trade and conflict, simultaneous trade, alliance an conflict.\n",
    "# divide by two because all rows are duplicated so each country can be c_code_1 and c_code2\n",
    "print('instance of simultaneous trade and alliance:', int(len(trade_ally)/2))\n",
    "print('instance of simultaneous alliance and conflict:', int(len(ally_mid)/2))\n",
    "print('instance of simultaneous trade and conflict:', int(len(trade_mid)/2))\n",
    "print('instance of simultaneous trade, alliance, and conflict:', int(len(trade_ally_mid)/2))"
   ]
  },
  {
   "cell_type": "code",
   "execution_count": 52,
   "metadata": {},
   "outputs": [],
   "source": [
    "ally_mid = deepcopy(pd.merge(country_loc_df, ally_mid, how = 'inner', on = ['c_code_2']))\n",
    "ally_mid.rename({'un_region': 'un_region_2', 'un_continent': 'un_continent_2'}, axis = 1, inplace = True)\n",
    "ally_mid.drop(['num_years'], axis = 1, inplace = True)"
   ]
  },
  {
   "cell_type": "code",
   "execution_count": 53,
   "metadata": {},
   "outputs": [],
   "source": [
    "country_loc_df.rename({'c_code_2': 'c_code_1'}, axis = 1, inplace = True)"
   ]
  },
  {
   "cell_type": "code",
   "execution_count": 54,
   "metadata": {},
   "outputs": [],
   "source": [
    "ally_mid = deepcopy(pd.merge(country_loc_df, ally_mid, how = 'inner', on = ['c_code_1']))\n",
    "ally_mid.rename({'un_region': 'un_region_1', 'un_continent': 'un_continent_1'}, axis = 1, inplace = True)\n",
    "ally_mid.drop(['num_years'], axis = 1, inplace = True)"
   ]
  },
  {
   "cell_type": "code",
   "execution_count": 55,
   "metadata": {},
   "outputs": [],
   "source": [
    "total_trades = int(len(trade_net_df)/2)\n",
    "total_trading_co = int(len(trade_net_df['c_code_1'].unique()))\n",
    "total_alliances = int(len(alliance_net_df)/2)\n",
    "total_alliance_co = int(len(alliance_net_df['c_code_1'].unique()))\n",
    "total_conflicts = int(len(mid_net_df)/2)\n",
    "total_conflict_co = int(len(mid_net_df['c_code_1'].unique()))"
   ]
  },
  {
   "cell_type": "code",
   "execution_count": 56,
   "metadata": {},
   "outputs": [],
   "source": [
    "simul_trade_ally = int(len(trade_ally)/2)\n",
    "simul_trade_ally_reg = int(len(trade_ally[trade_ally['un_region_1'] == trade_ally['un_region_2']])/2)\n",
    "simul_trade_ally_cont = int(len(trade_ally[trade_ally['un_continent_1'] == trade_ally['un_continent_2']])/2)\n",
    "simul_trade_ally_co = int(len(trade_ally['c_code_1'].unique()))\n",
    "simul_trade_mid = int(len(trade_mid)/2)\n",
    "simul_trade_mid_reg = int(len(trade_mid[trade_mid['un_region_1'] == trade_mid['un_region_2']])/2)\n",
    "simul_trade_mid_cont = int(len(trade_mid[trade_mid['un_continent_1'] == trade_mid['un_continent_2']])/2)\n",
    "simul_trade_mid_co = int(len(trade_mid['c_code_1'].unique()))\n",
    "simul_ally_mid = int(len(ally_mid)/2)\n",
    "simul_ally_mid_reg = int(len(ally_mid[ally_mid['un_region_1'] == ally_mid['un_region_2']])/2)\n",
    "simul_ally_mid_cont = int(len(ally_mid[ally_mid['un_continent_1'] == ally_mid['un_continent_2']])/2)\n",
    "simul_ally_mid_co = int(len(ally_mid['c_code_1'].unique()))\n",
    "simul_trade_ally_mid = int(len(trade_ally_mid)/2)\n",
    "simul_trade_ally_mid_reg = int(len(trade_ally_mid[trade_ally_mid['un_region_1'] == trade_ally_mid['un_region_2']])/2)\n",
    "simul_trade_ally_mid_cont = int(len(trade_ally_mid[trade_ally_mid['un_continent_1'] == trade_ally_mid['un_continent_2']])/2)\n",
    "simul_trade_ally_mid_co = int(len(trade_ally_mid['c_code_1'].unique()))"
   ]
  },
  {
   "cell_type": "code",
   "execution_count": 57,
   "metadata": {},
   "outputs": [
    {
     "name": "stdout",
     "output_type": "stream",
     "text": [
      "percent of trades between parties in alliances: 8.76 %\n",
      "of trades between parties also in alliance, percent in same region: 38.91 %\n",
      "of trades between parties also in alliance, percent on same continent: 78.32 %\n",
      "of countries engaged in trade, percent engaged in trade and alliance: 81.09 %\n",
      "\n",
      "percent of trades between parties in alliances and conflict: 0.15 %\n",
      "of trades between parties also in alliance and conflict, percent in same region: 65.37 %\n",
      "of trades between parties also in alliance and conflict, percent on same continent: 75.16 %\n",
      "of countries engaged in trade, percent engaged in trade, alliances, and conflict: 65.67 %\n",
      "\n",
      "percent of alliances between trading parties: 92.24 %\n",
      "of alliances between parties also in trade, percent in same region: 1.15 %\n",
      "of alliances between parties also in trade, percent on same continent: 1.32 %\n",
      "of countries in alliances, percent engaged in alliances and trade: 80.49 %\n",
      "\n",
      "percent of alliances between parties in trade and conflict: 1.62 %\n",
      "of alliances between parties also in trade and conflict, percent in same region: 65.37 %\n",
      "of alliances between parties also in trade and conflict, percent on same continent: 75.16 %\n",
      "of countries engaged in alliances, percent engaged in alliances, trade and conflict: 80.49 %\n",
      "\n",
      "percent of conflicts between countries in alliance: 35.03 %\n",
      "of conflicts conflicts between parties also in alliance, percent in same region: 65.52 %\n",
      "of conflicts conflicts between parties also in alliance, percent on same continent: 75.2 %\n",
      "of countries engaged in conflict, percent engaged in conflict and alliances: 75.0 %\n",
      "\n",
      "percent of conflicts between trading countries: 99.08 %\n",
      "of conflicts between parties also in trade, percent in same region: 42.59 %\n",
      "of conflicts between parties also in trade, percent on same continent: 66.37 %\n",
      "of countries engaged in conflict, percent engaged in conflict and trade: 100.0 %\n",
      "\n",
      "percent of conflicts between parties in trade and alliance: 34.34 %\n",
      "of conflicts between parties in also trade and alliance, percent in same region: 65.37 %\n",
      "of conflicts between parties in also trade and alliance, percent on same continent: 75.16 %\n",
      "of countries engaged in conflict, percent engaged in conflict, trade and alliance: 75.0 %\n"
     ]
    }
   ],
   "source": [
    "print('percent of trades between parties in alliances:', round(((simul_trade_ally/total_trades) * 100), 2), '%')\n",
    "print('of trades between parties also in alliance, percent in same region:', round(((simul_trade_ally_reg/simul_trade_ally) * 100), 2), '%')\n",
    "print('of trades between parties also in alliance, percent on same continent:', round(((simul_trade_ally_cont/simul_trade_ally) * 100), 2), '%')\n",
    "print('of countries engaged in trade, percent engaged in trade and alliance:', round(((simul_trade_ally_co/total_trading_co) * 100), 2), '%')\n",
    "print('')\n",
    "print('percent of trades between parties in alliances and conflict:', round(((simul_trade_ally_mid/total_trades) * 100), 2), '%')\n",
    "print('of trades between parties also in alliance and conflict, percent in same region:', round(((simul_trade_ally_mid_reg/simul_trade_ally_mid) * 100), 2), '%')\n",
    "print('of trades between parties also in alliance and conflict, percent on same continent:', round(((simul_trade_ally_mid_cont/simul_trade_ally_mid) * 100), 2), '%')\n",
    "print('of countries engaged in trade, percent engaged in trade, alliances, and conflict:', round(((simul_trade_ally_mid_co/total_trading_co) * 100), 2), '%')\n",
    "print('')\n",
    "print('percent of alliances between trading parties:', round(((simul_trade_ally/total_alliances) * 100), 2), '%')\n",
    "print('of alliances between parties also in trade, percent in same region:', round(((simul_trade_ally_mid_reg/simul_trade_ally) * 100), 2), '%')\n",
    "print('of alliances between parties also in trade, percent on same continent:', round(((simul_trade_ally_mid_cont/simul_trade_ally) * 100), 2), '%')\n",
    "print('of countries in alliances, percent engaged in alliances and trade:', round(((simul_trade_ally_mid_co/total_alliance_co) * 100), 2), '%')\n",
    "print('')\n",
    "print('percent of alliances between parties in trade and conflict:', round(((simul_trade_ally_mid/total_alliances) * 100), 2), '%')\n",
    "print('of alliances between parties also in trade and conflict, percent in same region:', round(((simul_trade_ally_mid_reg/simul_trade_ally_mid) * 100), 2), '%')\n",
    "print('of alliances between parties also in trade and conflict, percent on same continent:', round(((simul_trade_ally_mid_cont/simul_trade_ally_mid) * 100), 2), '%')\n",
    "print('of countries engaged in alliances, percent engaged in alliances, trade and conflict:', round(((simul_trade_ally_mid_co/total_alliance_co) * 100), 2), '%')\n",
    "print('')\n",
    "print('percent of conflicts between countries in alliance:', round(((simul_ally_mid/total_conflicts) * 100), 2), '%')\n",
    "print('of conflicts conflicts between parties also in alliance, percent in same region:', round(((simul_ally_mid_reg/simul_ally_mid) * 100), 2), '%')\n",
    "print('of conflicts conflicts between parties also in alliance, percent on same continent:', round(((simul_ally_mid_cont/simul_ally_mid) * 100), 2), '%')\n",
    "print('of countries engaged in conflict, percent engaged in conflict and alliances:', round(((simul_ally_mid_co/total_conflict_co) * 100), 2), '%')\n",
    "print('')\n",
    "print('percent of conflicts between trading countries:', round(((simul_trade_mid/total_conflicts) * 100), 2), '%')\n",
    "print('of conflicts between parties also in trade, percent in same region:', round(((simul_trade_mid_reg/simul_trade_mid) * 100), 2), '%')\n",
    "print('of conflicts between parties also in trade, percent on same continent:', round(((simul_trade_mid_cont/simul_trade_mid) * 100), 2), '%')\n",
    "print('of countries engaged in conflict, percent engaged in conflict and trade:', round(((simul_trade_mid_co/total_conflict_co) * 100), 2), '%')\n",
    "print('')\n",
    "print('percent of conflicts between parties in trade and alliance:', round(((simul_trade_ally_mid/total_conflicts) * 100), 2), '%')\n",
    "print('of conflicts between parties in also trade and alliance, percent in same region:', round(((simul_trade_ally_mid_reg/simul_trade_ally_mid) * 100), 2), '%')\n",
    "print('of conflicts between parties in also trade and alliance, percent on same continent:', round(((simul_trade_ally_mid_cont/simul_trade_ally_mid) * 100), 2), '%')\n",
    "print('of countries engaged in conflict, percent engaged in conflict, trade and alliance:', round(((simul_trade_ally_mid_co/total_conflict_co) * 100), 2), '%')"
   ]
  },
  {
   "cell_type": "code",
   "execution_count": 61,
   "metadata": {},
   "outputs": [],
   "source": [
    "aggregations = {'year': 'count'}\n",
    "trade_mid_grouped = trade_mid.groupby(['c_code_1', 'c_code_2', 'dispute_id', 'date_start', 'date_end']).agg(aggregations).reset_index()"
   ]
  },
  {
   "cell_type": "code",
   "execution_count": 123,
   "metadata": {},
   "outputs": [],
   "source": [
    "trade_mid_combos = list(trade_mid_grouped[['c_code_1', 'c_code_2']].values)\n",
    "num_trade_yr_before_mid = []\n",
    "num_trade_5_yr_before_mid = []\n",
    "num_trade_10_yr_before_mid = []\n",
    "num_trade_yr_after_mid = []\n",
    "num_trade_5_yr_after_mid = []\n",
    "num_trade_10_yr_after_mid = []\n",
    "for combo in trade_mid_combos:\n",
    "    before_yr = trade_mid_grouped[(trade_mid_grouped['c_code_1'] == combo[0]) & (trade_mid_grouped['c_code_2'] == combo[1])]['date_start'].dt.year.min() - 1\n",
    "    before_yr_5 = trade_mid_grouped[(trade_mid_grouped['c_code_1'] == combo[0]) & (trade_mid_grouped['c_code_2'] == combo[1])]['date_start'].dt.year.min() - 5\n",
    "    before_yr_10 = trade_mid_grouped[(trade_mid_grouped['c_code_1'] == combo[0]) & (trade_mid_grouped['c_code_2'] == combo[1])]['date_start'].dt.year.min() - 10\n",
    "    after_yr = trade_mid_grouped[(trade_mid_grouped['c_code_1'] == combo[0]) & (trade_mid_grouped['c_code_2'] == combo[1])]['date_end'].dt.year.max() + 1\n",
    "    after_yr_5 = trade_mid_grouped[(trade_mid_grouped['c_code_1'] == combo[0]) & (trade_mid_grouped['c_code_2'] == combo[1])]['date_end'].dt.year.max() + 5\n",
    "    after_yr_10 = trade_mid_grouped[(trade_mid_grouped['c_code_1'] == combo[0]) & (trade_mid_grouped['c_code_2'] == combo[1])]['date_end'].dt.year.max() + 10\n",
    "    if len(trade_df[(trade_df['c_code_1'] == combo[0]) & (trade_df['c_code_2'] == combo[1]) & (trade_df['year'] == before_yr)]) > 0:\n",
    "        num_trade_yr_before_mid.append(1)\n",
    "    else:\n",
    "        num_trade_yr_before_mid.append(0)\n",
    "    if len(trade_df[(trade_df['c_code_1'] == combo[0]) & (trade_df['c_code_2'] == combo[1]) & (trade_df['year'] == before_yr_5)]) > 0:\n",
    "        num_trade_5_yr_before_mid.append(1)\n",
    "    else:\n",
    "        num_trade_5_yr_before_mid.append(0)\n",
    "    if len(trade_df[(trade_df['c_code_1'] == combo[0]) & (trade_df['c_code_2'] == combo[1]) & (trade_df['year'] == before_yr_10)]) > 0:\n",
    "        num_trade_10_yr_before_mid.append(1)\n",
    "    else:\n",
    "        num_trade_10_yr_before_mid.append(0)\n",
    "\n",
    "    if len(trade_df[(trade_df['c_code_1'] == combo[0]) & (trade_df['c_code_2'] == combo[1]) & (trade_df['year'] == after_yr)]) > 0:\n",
    "        num_trade_yr_after_mid.append(1)\n",
    "    else:\n",
    "        num_trade_yr_after_mid.append(0)\n",
    "    if len(trade_df[(trade_df['c_code_1'] == combo[0]) & (trade_df['c_code_2'] == combo[1]) & (trade_df['year'] == after_yr_5)]) > 0:\n",
    "        num_trade_5_yr_after_mid.append(1)\n",
    "    else:\n",
    "        num_trade_5_yr_after_mid.append(0)\n",
    "    if len(trade_df[(trade_df['c_code_1'] == combo[0]) & (trade_df['c_code_2'] == combo[1]) & (trade_df['year'] == after_yr_10)]) > 0:\n",
    "        num_trade_10_yr_after_mid.append(1)\n",
    "    else:\n",
    "        num_trade_10_yr_after_mid.append(0)"
   ]
  },
  {
   "cell_type": "code",
   "execution_count": 130,
   "metadata": {},
   "outputs": [
    {
     "name": "stdout",
     "output_type": "stream",
     "text": [
      "of the conflicts between trading countries, percent who traded 1 year before conflict started 85.18 %\n",
      "of the conflicts between trading countries, percent who traded 5 years before conflict started 66.19 %\n",
      "of the conflicts between trading countries, percent who traded 10 years before conflict started 55.97 %\n",
      "of the conflicts between trading countries, percent who traded 1 year after conflict ended 80.08 %\n",
      "of the conflicts between trading countries, percent who traded 5 years after conflict ended 66.47 %\n",
      "of the conflicts between trading countries, percent who traded 10 years after conflict ended 38.04 %\n"
     ]
    }
   ],
   "source": [
    "print('of the conflicts between trading countries, percent who traded 1 year before conflict started', round(((pd.Series(num_trade_yr_before_mid).sum()/len(num_trade_yr_before_mid)) * 100), 2), '%')\n",
    "print('of the conflicts between trading countries, percent who traded 5 years before conflict started', round(((pd.Series(num_trade_5_yr_before_mid).sum()/len(num_trade_5_yr_before_mid)) * 100), 2), '%')\n",
    "print('of the conflicts between trading countries, percent who traded 10 years before conflict started', round(((pd.Series(num_trade_10_yr_before_mid).sum()/len(num_trade_10_yr_before_mid)) * 100), 2), '%')\n",
    "print('of the conflicts between trading countries, percent who traded 1 year after conflict ended', round(((pd.Series(num_trade_yr_after_mid).sum()/len(num_trade_yr_after_mid)) * 100), 2), '%')\n",
    "print('of the conflicts between trading countries, percent who traded 5 years after conflict ended', round(((pd.Series(num_trade_5_yr_after_mid).sum()/len(num_trade_5_yr_after_mid)) * 100), 2), '%')\n",
    "print('of the conflicts between trading countries, percent who traded 10 years after conflict ended', round(((pd.Series(num_trade_10_yr_after_mid).sum()/len(num_trade_10_yr_after_mid)) * 100), 2), '%')"
   ]
  },
  {
   "cell_type": "markdown",
   "metadata": {},
   "source": [
    "Network Analysis with Netowrkx"
   ]
  },
  {
   "cell_type": "code",
   "execution_count": null,
   "metadata": {},
   "outputs": [],
   "source": [
    "df = pd.merge(alliance_net_df, mid_net_df, how = 'inner', on = ['c_code_1', 'c_code_2', 'year'])"
   ]
  },
  {
   "cell_type": "code",
   "execution_count": null,
   "metadata": {},
   "outputs": [],
   "source": [
    "df = deepcopy(pd.merge(df, trade_net_df, how = 'inner', on = ['c_code_1', 'c_code_2', 'year']))"
   ]
  },
  {
   "cell_type": "code",
   "execution_count": null,
   "metadata": {},
   "outputs": [],
   "source": [
    "df['avg_money_flow_log'] = np.log((df['money_flow_1'] + df['money_flow_2'])/2)\n",
    "df['export_import_ratio'] = (df['money_flow_1'] / df['money_flow_2'])/2"
   ]
  },
  {
   "cell_type": "code",
   "execution_count": null,
   "metadata": {},
   "outputs": [],
   "source": [
    "df.rename({'state_name_1_x': 'state_name_1', 'state_name_2_x': 'state_name_2'}, axis = 1, inplace = True)\n",
    "df.drop(['state_name_1_y', 'state_name_2_y'], axis = 1, inplace = True)"
   ]
  },
  {
   "cell_type": "code",
   "execution_count": null,
   "metadata": {},
   "outputs": [],
   "source": [
    "len(df)"
   ]
  },
  {
   "cell_type": "code",
   "execution_count": null,
   "metadata": {},
   "outputs": [],
   "source": [
    "df = deepcopy(df[df['un_region_1'] != df['un_region_2']])"
   ]
  },
  {
   "cell_type": "code",
   "execution_count": null,
   "metadata": {},
   "outputs": [],
   "source": [
    "len(df)"
   ]
  },
  {
   "cell_type": "code",
   "execution_count": null,
   "metadata": {},
   "outputs": [],
   "source": [
    "len(df['state_name_1'].unique())"
   ]
  },
  {
   "cell_type": "code",
   "execution_count": null,
   "metadata": {},
   "outputs": [],
   "source": [
    "df.head()"
   ]
  },
  {
   "cell_type": "code",
   "execution_count": null,
   "metadata": {},
   "outputs": [],
   "source": [
    "combo_df = deepcopy(df[['state_name_1', 'state_name_2', 'year', 'date_start', 'avg_money_flow_log', 'export_import_ratio', 'cumulative_duration']])"
   ]
  },
  {
   "cell_type": "code",
   "execution_count": null,
   "metadata": {},
   "outputs": [],
   "source": [
    "aggregations = {\n",
    "    'date_start': 'count',\n",
    "    'avg_money_flow_log': 'mean',\n",
    "    'export_import_ratio': 'mean',\n",
    "    'cumulative_duration': 'sum'\n",
    "    }\n",
    "\n",
    "group_combo_df = combo_df.groupby(['year', 'state_name_1', 'state_name_2']).agg(aggregations).reset_index()"
   ]
  },
  {
   "cell_type": "code",
   "execution_count": null,
   "metadata": {},
   "outputs": [],
   "source": [
    "group_combo_df.head()"
   ]
  },
  {
   "cell_type": "code",
   "execution_count": null,
   "metadata": {},
   "outputs": [],
   "source": [
    "aggregations = {\n",
    "    'date_start': 'sum',\n",
    "    'year': 'count',\n",
    "    'avg_money_flow_log': 'mean',\n",
    "    'export_import_ratio': 'mean',\n",
    "    'cumulative_duration': 'sum'\n",
    "    }\n",
    "\n",
    "group_combo_df = group_combo_df.groupby(['state_name_1', 'state_name_2']).agg(aggregations).reset_index()"
   ]
  },
  {
   "cell_type": "code",
   "execution_count": null,
   "metadata": {},
   "outputs": [],
   "source": [
    "for i, combo in enumerate(group_combo_df['state_name_1']):\n",
    "    group_combo_df.loc[i, 'treaties_per_year'] = group_combo_df['date_start'][i]/group_combo_df['year'][i]\n",
    "group_combo_df.rename({'year': 'num_years'}, axis = 1, inplace = True)\n",
    "group_combo_df.drop(['date_start'], axis = 1, inplace = True)"
   ]
  },
  {
   "cell_type": "code",
   "execution_count": null,
   "metadata": {},
   "outputs": [],
   "source": [
    "group_combo_df.head()"
   ]
  },
  {
   "cell_type": "code",
   "execution_count": null,
   "metadata": {},
   "outputs": [],
   "source": [
    "distinct_combo_df = deepcopy(df[['state_name_1', 'state_name_2']])\n",
    "\n",
    "duplicate_list = ['state_name_1', 'state_name_2']\n",
    "\n",
    "distinct_combo_df.drop_duplicates(subset = duplicate_list, keep = 'first', inplace = True)"
   ]
  },
  {
   "cell_type": "code",
   "execution_count": null,
   "metadata": {},
   "outputs": [],
   "source": [
    "distinct_combo_df = distinct_combo_df.reset_index()\n",
    "distinct_combo_df.drop(['index'], axis = 1, inplace = True)"
   ]
  },
  {
   "cell_type": "code",
   "execution_count": null,
   "metadata": {},
   "outputs": [],
   "source": [
    "all_combos = []\n",
    "for i, row in enumerate(distinct_combo_df['state_name_1']):\n",
    "    all_combos.append((distinct_combo_df['state_name_1'][i], distinct_combo_df['state_name_2'][i]))"
   ]
  },
  {
   "cell_type": "code",
   "execution_count": null,
   "metadata": {},
   "outputs": [],
   "source": [
    "all_combos = sorted(all_combos)"
   ]
  },
  {
   "cell_type": "code",
   "execution_count": null,
   "metadata": {},
   "outputs": [],
   "source": [
    "len(all_combos)"
   ]
  },
  {
   "cell_type": "code",
   "execution_count": null,
   "metadata": {},
   "outputs": [],
   "source": [
    "distinct_countries = []\n",
    "for i in flatten(all_combos):\n",
    "    distinct_countries.append(i)\n",
    "distinct_countries = sorted(list(set(distinct_countries)))"
   ]
  },
  {
   "cell_type": "code",
   "execution_count": null,
   "metadata": {},
   "outputs": [],
   "source": [
    "len(distinct_countries)"
   ]
  },
  {
   "cell_type": "code",
   "execution_count": null,
   "metadata": {},
   "outputs": [],
   "source": [
    "np.array(distinct_countries)"
   ]
  },
  {
   "cell_type": "code",
   "execution_count": null,
   "metadata": {},
   "outputs": [],
   "source": [
    "combo_deg_1 = list(filter(lambda country: 'Canada' in country, all_combos))"
   ]
  },
  {
   "cell_type": "code",
   "execution_count": null,
   "metadata": {},
   "outputs": [],
   "source": [
    "len(combo_deg_1)"
   ]
  },
  {
   "cell_type": "code",
   "execution_count": null,
   "metadata": {},
   "outputs": [],
   "source": [
    "node_deg_1 = []\n",
    "for a, b in combo_deg_1:\n",
    "    node_deg_1.append(a)\n",
    "    node_deg_1.append(b)\n",
    "node_deg_1 = sorted(list(set(node_deg_1)))"
   ]
  },
  {
   "cell_type": "code",
   "execution_count": null,
   "metadata": {},
   "outputs": [],
   "source": [
    "len(node_deg_1)"
   ]
  },
  {
   "cell_type": "code",
   "execution_count": null,
   "metadata": {},
   "outputs": [],
   "source": [
    "full_network = []\n",
    "for a, b in all_combos:\n",
    "    for country in node_deg_1:\n",
    "        if country == a:\n",
    "            full_network.append((a, b))\n",
    "        elif country == b:\n",
    "            full_network.append((a, b))\n",
    "full_network = sorted(full_network)"
   ]
  },
  {
   "cell_type": "code",
   "execution_count": null,
   "metadata": {},
   "outputs": [],
   "source": [
    "len(full_network)"
   ]
  },
  {
   "cell_type": "code",
   "execution_count": null,
   "metadata": {},
   "outputs": [],
   "source": [
    "for i, combo in enumerate(group_combo_df['state_name_1']):\n",
    "    for z, connection in enumerate(full_network):\n",
    "        if full_network[z][0] == combo and full_network[z][1] == group_combo_df['state_name_2'][i]:\n",
    "            group_combo_df.loc[i, 'full_network'] = 'Yes'\n",
    "            \n",
    "full_network_df = group_combo_df[group_combo_df['full_network'] == 'Yes']\n",
    "group_combo_df.drop(['full_network'], axis = 1, inplace = True)\n",
    "full_network_df = full_network_df.reset_index()\n",
    "full_network_df.drop(['index', 'full_network'], axis = 1, inplace = True)"
   ]
  },
  {
   "cell_type": "code",
   "execution_count": null,
   "metadata": {},
   "outputs": [],
   "source": [
    "from collections import Counter"
   ]
  },
  {
   "cell_type": "code",
   "execution_count": null,
   "metadata": {},
   "outputs": [],
   "source": [
    "full_network_counter = Counter(full_network)"
   ]
  },
  {
   "cell_type": "code",
   "execution_count": null,
   "metadata": {},
   "outputs": [],
   "source": [
    "all_nodes = []\n",
    "for country_a, country_b in full_network:\n",
    "    all_nodes.append(country_a)\n",
    "    all_nodes.append(country_b)\n",
    "all_nodes = sorted(list(set(all_nodes)))"
   ]
  },
  {
   "cell_type": "code",
   "execution_count": null,
   "metadata": {},
   "outputs": [],
   "source": [
    "len(all_nodes)"
   ]
  },
  {
   "cell_type": "code",
   "execution_count": null,
   "metadata": {},
   "outputs": [],
   "source": [
    "full_network_counter"
   ]
  },
  {
   "cell_type": "code",
   "execution_count": null,
   "metadata": {},
   "outputs": [],
   "source": [
    "full_network_df[(full_network_df['state_name_1'] == 'Republic of Vietnam') | (full_network_df['state_name_2'] == 'Republic of Vietnam')]['avg_money_flow_log']"
   ]
  },
  {
   "cell_type": "code",
   "execution_count": null,
   "metadata": {},
   "outputs": [],
   "source": [
    "full_network_df.head()"
   ]
  },
  {
   "cell_type": "code",
   "execution_count": null,
   "metadata": {},
   "outputs": [],
   "source": [
    "full_network_df[(full_network_df['state_name_1'] == 'Gerogia') | (full_network_df['state_name_2'] == 'Gerogia')]"
   ]
  },
  {
   "cell_type": "code",
   "execution_count": null,
   "metadata": {},
   "outputs": [],
   "source": [
    "graph_file = open(\"./d3/network.json\", 'w+')\n",
    "\n",
    "json_dic = {}\n",
    "json_dic['nodes'] = {}\n",
    "json_dic['links'] = {}\n",
    "start_line = '{\\n  \"nodes\": [\\n'\n",
    "\n",
    "graph_file.write(start_line)\n",
    "for i, node in enumerate(all_nodes):\n",
    "    if node == all_nodes[-1]:\n",
    "        add_line = '    {\"country\": \"' + node + '\", \"size\": ' + str(full_network_df[(full_network_df['state_name_1'] == node) | (full_network_df['state_name_2'] == node)]['avg_money_flow_log'].mean()) + '}\\n'\n",
    "        graph_file.write(add_line)\n",
    "    else:\n",
    "        add_line = '    {\"country\": \"' + node + '\", \"size\": ' + str(full_network_df[(full_network_df['state_name_1'] == node) | (full_network_df['state_name_2'] == node)]['avg_money_flow_log'].mean()) + '},\\n'\n",
    "        graph_file.write(add_line)        \n",
    "middle_line = start_line = '  ],\\n  \"links\": [\\n'\n",
    "graph_file.write(start_line)\n",
    "node_count = 0\n",
    "for node_1, node_2 in full_network:\n",
    "    node_count+=1\n",
    "    bond = full_network_counter[(node_1, node_2)]\n",
    "    if node_count == len(full_network):\n",
    "        add_line = '    {\"source\": ' + str(all_nodes.index(node_1)) + ', \"target\": ' + str(all_nodes.index(node_2)) + ', \"bond\": ' + str(bond) + '}\\n'\n",
    "        graph_file.write(add_line)\n",
    "    else:\n",
    "        add_line = '    {\"source\": ' + str(all_nodes.index(node_1)) + ', \"target\": ' + str(all_nodes.index(node_2)) + ', \"bond\": ' + str(bond) + '},\\n'\n",
    "        graph_file.write(add_line)\n",
    "end_line = '\\n  ]\\n}'\n",
    "graph_file.write(end_line)"
   ]
  },
  {
   "cell_type": "code",
   "execution_count": null,
   "metadata": {},
   "outputs": [],
   "source": [
    "country_graph = nx.Graph()"
   ]
  },
  {
   "cell_type": "code",
   "execution_count": null,
   "metadata": {},
   "outputs": [],
   "source": [
    "for country_a, country_b in all_combos:\n",
    "    country_a_label = country_a.replace(' ', '\\n')\n",
    "    country_b_label = country_b.replace(' ', '\\n')\n",
    "    treaties_per_year = 1000 * (int(group_combo_df[(group_combo_df['state_name_1'] == country_a) & (group_combo_df['state_name_2'] == country_b)]['treaties_per_year'].values[0]))\n",
    "    country_graph.add_edge(country_a_label, country_b_label, weight = treaties_per_year)"
   ]
  },
  {
   "cell_type": "code",
   "execution_count": null,
   "metadata": {},
   "outputs": [],
   "source": [
    "filterwarnings('ignore')\n",
    "\n",
    "plt.style.use('seaborn')\n",
    "plt.figure(figsize = (12, 6))\n",
    "\n",
    "positions = nx.spring_layout(country_graph)\n",
    "network = nx.draw(country_graph, pos = positions)\n",
    "labels = nx.draw_networkx_labels(country_graph, pos = positions)\n",
    "nx.write_gexf(country_graph, \"test.gexf\")"
   ]
  },
  {
   "cell_type": "code",
   "execution_count": null,
   "metadata": {},
   "outputs": [],
   "source": [
    "nx.number_of_nodes(country_graph)"
   ]
  },
  {
   "cell_type": "code",
   "execution_count": null,
   "metadata": {},
   "outputs": [],
   "source": [
    "print(np.asarray(nx.degree(country_graph)))"
   ]
  },
  {
   "cell_type": "code",
   "execution_count": null,
   "metadata": {},
   "outputs": [],
   "source": [
    "# Degree histogram of the network\n",
    "degree_hist = nx.degree_histogram(country_graph)\n",
    "xticks = range(len(degree_hist))\n",
    "plt.bar(xticks, degree_hist, align='center')\n",
    "plt.xlabel('Degree')\n",
    "plt.ylabel('Number of nodes with this degree')\n",
    "plt.title('An initial look into the degree distribution');"
   ]
  },
  {
   "cell_type": "code",
   "execution_count": null,
   "metadata": {},
   "outputs": [],
   "source": [
    "# Network density\n",
    "nx.density(country_graph)"
   ]
  },
  {
   "cell_type": "code",
   "execution_count": null,
   "metadata": {},
   "outputs": [],
   "source": [
    "# There is a single component in this graph (in others, there can be many components)\n",
    "for i, component in enumerate(nx.connected_components(country_graph)):\n",
    "    print(\"COMPONENT {:d}:\".format(i), component)"
   ]
  },
  {
   "cell_type": "code",
   "execution_count": null,
   "metadata": {},
   "outputs": [],
   "source": [
    "# What are the degrees of France's neighbors? \n",
    "for neighbor in nx.all_neighbors(country_graph, 'United\\nKingdom'):\n",
    "    print(neighbor)\n",
    "    degree = nx.degree(country_graph, neighbor)\n",
    "    print('- degree: {:d}'.format(degree))\n",
    "    print('------------')"
   ]
  },
  {
   "cell_type": "code",
   "execution_count": null,
   "metadata": {},
   "outputs": [],
   "source": [
    "# Let's focus on other centrality values of these nodes\n",
    "\n",
    "# Closeness: Inverse of the average length of all shortest paths from this node to all other nodes\n",
    "# (closer to 1 = more central)\n",
    "nx.closeness_centrality(country_graph)"
   ]
  },
  {
   "cell_type": "code",
   "execution_count": null,
   "metadata": {},
   "outputs": [],
   "source": [
    "# Betweenness: Consider the shortest paths between each pair of nodes.\n",
    "# What fraction of all these paths are going through this node?\n",
    "nx.betweenness_centrality(country_graph)"
   ]
  },
  {
   "cell_type": "code",
   "execution_count": null,
   "metadata": {},
   "outputs": [],
   "source": [
    "# Eigencentrality: like Google's PageRank: a measure of information flow\n",
    "nx.eigenvector_centrality(country_graph)"
   ]
  },
  {
   "cell_type": "code",
   "execution_count": null,
   "metadata": {},
   "outputs": [],
   "source": [
    "# (in case there are multiple paths of this same shortest length between these two)\n",
    "# for i, path in enumerate(nx.all_shortest_paths(country_graph, 'Jordan', 'Ecuador')):\n",
    "#     print(\"Shortest Path {}:\".format(i), path)"
   ]
  },
  {
   "cell_type": "code",
   "execution_count": null,
   "metadata": {},
   "outputs": [],
   "source": [
    "nx.average_shortest_path_length(country_graph)"
   ]
  },
  {
   "cell_type": "code",
   "execution_count": null,
   "metadata": {},
   "outputs": [],
   "source": [
    "# Find the Communities with python-louvain\n",
    "modules = community.best_partition(country_graph)\n",
    "modules"
   ]
  },
  {
   "cell_type": "code",
   "execution_count": null,
   "metadata": {},
   "outputs": [],
   "source": [
    "# How many modules do we have?\n",
    "module_ids = set(modules.values())\n",
    "num_modules = len(module_ids)\n",
    "num_modules"
   ]
  },
  {
   "cell_type": "code",
   "execution_count": null,
   "metadata": {},
   "outputs": [],
   "source": [
    "# It would be nice to look up a module and\n",
    "# see which nodes its members are\n",
    "from collections import defaultdict\n",
    "module_to_nodes = defaultdict(list)\n",
    "for node, module_id in modules.items():\n",
    "    module_to_nodes[module_id].append(node)\n",
    "\n",
    "module_to_nodes"
   ]
  },
  {
   "cell_type": "code",
   "execution_count": null,
   "metadata": {},
   "outputs": [],
   "source": [
    "# Let's visualize the modules\n",
    "\n",
    "# Use the same layout as before\n",
    "positions = nx.spring_layout(country_graph)\n",
    "\n",
    "# But now, instead of drawing it all at once, draw\n",
    "# nodes module by module, using a different color\n",
    "# for each module\n",
    "colors = ['m', 'c', 'y', 'g', 'r', 'b']\n",
    "for i, module in enumerate(module_ids):\n",
    "    nodes_in_this_module = module_to_nodes[module]\n",
    "    module_color = colors[i % len(colors)]\n",
    "    nx.draw_networkx_nodes(country_graph,\n",
    "                           positions,\n",
    "                           nodes_in_this_module,\n",
    "                           node_color = module_color)\n",
    "    \n",
    "# draw the edges and labels as well and voila\n",
    "nx.draw_networkx_edges(country_graph, positions, alpha=0.5)\n",
    "labels = nx.draw_networkx_labels(country_graph, pos = positions)"
   ]
  },
  {
   "cell_type": "code",
   "execution_count": null,
   "metadata": {},
   "outputs": [],
   "source": [
    "nx.write_gexf(country_graph, \"test.gexf\")"
   ]
  },
  {
   "cell_type": "code",
   "execution_count": null,
   "metadata": {},
   "outputs": [],
   "source": []
  }
 ],
 "metadata": {
  "kernelspec": {
   "display_name": "Python 3",
   "language": "python",
   "name": "python3"
  },
  "language_info": {
   "codemirror_mode": {
    "name": "ipython",
    "version": 3
   },
   "file_extension": ".py",
   "mimetype": "text/x-python",
   "name": "python",
   "nbconvert_exporter": "python",
   "pygments_lexer": "ipython3",
   "version": "3.6.4"
  }
 },
 "nbformat": 4,
 "nbformat_minor": 2
}
