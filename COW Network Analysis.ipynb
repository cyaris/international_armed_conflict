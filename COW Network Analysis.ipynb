{
 "cells": [
  {
   "cell_type": "code",
   "execution_count": 1,
   "metadata": {},
   "outputs": [],
   "source": [
    "from warnings import filterwarnings\n",
    "\n",
    "filterwarnings('ignore')"
   ]
  },
  {
   "cell_type": "code",
   "execution_count": 2,
   "metadata": {},
   "outputs": [],
   "source": [
    "from copy import deepcopy\n",
    "import pandas as pd\n",
    "import numpy as np\n",
    "from more_itertools import flatten"
   ]
  },
  {
   "cell_type": "code",
   "execution_count": 3,
   "metadata": {},
   "outputs": [],
   "source": [
    "import matplotlib.pyplot as plt\n",
    "import seaborn as sns"
   ]
  },
  {
   "cell_type": "code",
   "execution_count": 4,
   "metadata": {},
   "outputs": [],
   "source": [
    "import community\n",
    "import networkx as nx"
   ]
  },
  {
   "cell_type": "code",
   "execution_count": 5,
   "metadata": {},
   "outputs": [],
   "source": [
    "pd.set_option('display.max_colwidth', 1000)\n",
    "pd.set_option('display.max_columns', None)\n",
    "# pd.set_option('display.max_rows', None)"
   ]
  },
  {
   "cell_type": "code",
   "execution_count": 6,
   "metadata": {},
   "outputs": [],
   "source": [
    "alliance_net_df = pd.read_pickle('pickle/alliance_net_df.pkl')\n",
    "mid_net_df = pd.read_pickle('pickle/mid_net_df.pkl')\n",
    "trade_net_df = pd.read_pickle('pickle/trade_net_df.pkl')\n",
    "gov_df = pd.read_pickle('pickle/gov_df.pkl')"
   ]
  },
  {
   "cell_type": "code",
   "execution_count": 7,
   "metadata": {},
   "outputs": [],
   "source": [
    "aggregations = {\n",
    "    'year': 'count'\n",
    "    }\n",
    "\n",
    "country_loc_df = gov_df.groupby(['c_code_1', 'un_region', 'un_continent']).agg(aggregations).reset_index()\n",
    "country_loc_df.rename({'year': 'num_years'}, axis = 1, inplace = True)"
   ]
  },
  {
   "cell_type": "code",
   "execution_count": 8,
   "metadata": {},
   "outputs": [],
   "source": [
    "country_loc_df.loc[197, 'c_code_1'] = 817\n",
    "country_loc_df.loc[197, 'un_region'] = 'South-Eastern Asia'\n",
    "country_loc_df.loc[197, 'un_continent'] = 'Asia'\n",
    "country_loc_df.loc[197, 'num_years'] = 0\n",
    "country_loc_df.loc[198, 'c_code_1'] = 347\n",
    "country_loc_df.loc[198, 'un_region'] = 'Southern Europe'\n",
    "country_loc_df.loc[198, 'un_continent'] = 'Europe'\n",
    "country_loc_df.loc[198, 'num_years'] = 0\n",
    "country_loc_df.loc[199, 'c_code_1'] = 511\n",
    "country_loc_df.loc[199, 'un_region'] = 'Eastern Africa'\n",
    "country_loc_df.loc[199, 'un_continent'] = 'Africa'\n",
    "country_loc_df.loc[199, 'num_years'] = 0\n",
    "country_loc_df.loc[200, 'c_code_1'] = 221\n",
    "country_loc_df.loc[200, 'un_region'] = 'Western Europe'\n",
    "country_loc_df.loc[200, 'un_continent'] = 'Europe'\n",
    "country_loc_df.loc[200, 'num_years'] = 0"
   ]
  },
  {
   "cell_type": "code",
   "execution_count": 9,
   "metadata": {},
   "outputs": [],
   "source": [
    "trade_net_df = deepcopy(pd.merge(country_loc_df, trade_net_df, how = 'inner', on = ['c_code_1']))\n",
    "trade_net_df.rename({'un_region': 'un_region_1', 'un_continent': 'un_continent_1'}, axis = 1, inplace = True)\n",
    "trade_net_df.drop(['num_years'], axis = 1, inplace = True)"
   ]
  },
  {
   "cell_type": "code",
   "execution_count": 10,
   "metadata": {},
   "outputs": [],
   "source": [
    "country_loc_df.rename({'c_code_1': 'c_code_2'}, axis = 1, inplace = True)\n",
    "trade_net_df = deepcopy(pd.merge(country_loc_df, trade_net_df, how = 'inner', on = ['c_code_2']))\n",
    "trade_net_df.rename({'un_region': 'un_region_2', 'un_continent': 'un_continent_2'}, axis = 1, inplace = True)\n",
    "trade_net_df.drop(['num_years'], axis = 1, inplace = True)"
   ]
  },
  {
   "cell_type": "code",
   "execution_count": 11,
   "metadata": {},
   "outputs": [
    {
     "name": "stdout",
     "output_type": "stream",
     "text": [
      "0\n",
      "0\n"
     ]
    }
   ],
   "source": [
    "print(len(trade_net_df[trade_net_df['money_flow_1'] <= 0]))\n",
    "print(len(trade_net_df[trade_net_df['money_flow_2'] <= 0]))"
   ]
  },
  {
   "cell_type": "code",
   "execution_count": 12,
   "metadata": {
    "scrolled": true
   },
   "outputs": [
    {
     "data": {
      "text/html": [
       "<div>\n",
       "<style scoped>\n",
       "    .dataframe tbody tr th:only-of-type {\n",
       "        vertical-align: middle;\n",
       "    }\n",
       "\n",
       "    .dataframe tbody tr th {\n",
       "        vertical-align: top;\n",
       "    }\n",
       "\n",
       "    .dataframe thead th {\n",
       "        text-align: right;\n",
       "    }\n",
       "</style>\n",
       "<table border=\"1\" class=\"dataframe\">\n",
       "  <thead>\n",
       "    <tr style=\"text-align: right;\">\n",
       "      <th></th>\n",
       "      <th>c_code_2</th>\n",
       "      <th>un_region_2</th>\n",
       "      <th>un_continent_2</th>\n",
       "      <th>c_code_1</th>\n",
       "      <th>un_region_1</th>\n",
       "      <th>un_continent_1</th>\n",
       "      <th>money_flow_1</th>\n",
       "      <th>money_flow_2</th>\n",
       "      <th>state_name_1</th>\n",
       "      <th>state_name_2</th>\n",
       "      <th>year</th>\n",
       "    </tr>\n",
       "  </thead>\n",
       "  <tbody>\n",
       "    <tr>\n",
       "      <th>0</th>\n",
       "      <td>2.0</td>\n",
       "      <td>Northern America</td>\n",
       "      <td>Americas</td>\n",
       "      <td>20.0</td>\n",
       "      <td>Northern America</td>\n",
       "      <td>Americas</td>\n",
       "      <td>2.038500e+09</td>\n",
       "      <td>1.794000e+09</td>\n",
       "      <td>Canada</td>\n",
       "      <td>United States of America</td>\n",
       "      <td>1946</td>\n",
       "    </tr>\n",
       "    <tr>\n",
       "      <th>1</th>\n",
       "      <td>2.0</td>\n",
       "      <td>Northern America</td>\n",
       "      <td>Americas</td>\n",
       "      <td>20.0</td>\n",
       "      <td>Northern America</td>\n",
       "      <td>Americas</td>\n",
       "      <td>2.038500e+09</td>\n",
       "      <td>1.794000e+09</td>\n",
       "      <td>Canada</td>\n",
       "      <td>United States of America</td>\n",
       "      <td>1947</td>\n",
       "    </tr>\n",
       "    <tr>\n",
       "      <th>2</th>\n",
       "      <td>2.0</td>\n",
       "      <td>Northern America</td>\n",
       "      <td>Americas</td>\n",
       "      <td>20.0</td>\n",
       "      <td>Northern America</td>\n",
       "      <td>Americas</td>\n",
       "      <td>2.038500e+09</td>\n",
       "      <td>1.794000e+09</td>\n",
       "      <td>Canada</td>\n",
       "      <td>United States of America</td>\n",
       "      <td>1948</td>\n",
       "    </tr>\n",
       "    <tr>\n",
       "      <th>3</th>\n",
       "      <td>2.0</td>\n",
       "      <td>Northern America</td>\n",
       "      <td>Americas</td>\n",
       "      <td>20.0</td>\n",
       "      <td>Northern America</td>\n",
       "      <td>Americas</td>\n",
       "      <td>2.101200e+09</td>\n",
       "      <td>1.743000e+09</td>\n",
       "      <td>Canada</td>\n",
       "      <td>United States of America</td>\n",
       "      <td>1949</td>\n",
       "    </tr>\n",
       "    <tr>\n",
       "      <th>4</th>\n",
       "      <td>2.0</td>\n",
       "      <td>Northern America</td>\n",
       "      <td>Americas</td>\n",
       "      <td>20.0</td>\n",
       "      <td>Northern America</td>\n",
       "      <td>Americas</td>\n",
       "      <td>2.162100e+09</td>\n",
       "      <td>2.101000e+09</td>\n",
       "      <td>Canada</td>\n",
       "      <td>United States of America</td>\n",
       "      <td>1950</td>\n",
       "    </tr>\n",
       "  </tbody>\n",
       "</table>\n",
       "</div>"
      ],
      "text/plain": [
       "   c_code_2       un_region_2 un_continent_2  c_code_1       un_region_1  \\\n",
       "0       2.0  Northern America       Americas      20.0  Northern America   \n",
       "1       2.0  Northern America       Americas      20.0  Northern America   \n",
       "2       2.0  Northern America       Americas      20.0  Northern America   \n",
       "3       2.0  Northern America       Americas      20.0  Northern America   \n",
       "4       2.0  Northern America       Americas      20.0  Northern America   \n",
       "\n",
       "  un_continent_1  money_flow_1  money_flow_2 state_name_1  \\\n",
       "0       Americas  2.038500e+09  1.794000e+09       Canada   \n",
       "1       Americas  2.038500e+09  1.794000e+09       Canada   \n",
       "2       Americas  2.038500e+09  1.794000e+09       Canada   \n",
       "3       Americas  2.101200e+09  1.743000e+09       Canada   \n",
       "4       Americas  2.162100e+09  2.101000e+09       Canada   \n",
       "\n",
       "               state_name_2  year  \n",
       "0  United States of America  1946  \n",
       "1  United States of America  1947  \n",
       "2  United States of America  1948  \n",
       "3  United States of America  1949  \n",
       "4  United States of America  1950  "
      ]
     },
     "execution_count": 12,
     "metadata": {},
     "output_type": "execute_result"
    }
   ],
   "source": [
    "trade_net_df.head()"
   ]
  },
  {
   "cell_type": "code",
   "execution_count": 13,
   "metadata": {},
   "outputs": [
    {
     "data": {
      "text/plain": [
       "1406232"
      ]
     },
     "execution_count": 13,
     "metadata": {},
     "output_type": "execute_result"
    }
   ],
   "source": [
    "len(trade_net_df)"
   ]
  },
  {
   "cell_type": "code",
   "execution_count": 14,
   "metadata": {},
   "outputs": [
    {
     "data": {
      "text/plain": [
       "133486"
      ]
     },
     "execution_count": 14,
     "metadata": {},
     "output_type": "execute_result"
    }
   ],
   "source": [
    "len(alliance_net_df)"
   ]
  },
  {
   "cell_type": "code",
   "execution_count": 15,
   "metadata": {},
   "outputs": [
    {
     "data": {
      "text/plain": [
       "6308"
      ]
     },
     "execution_count": 15,
     "metadata": {},
     "output_type": "execute_result"
    }
   ],
   "source": [
    "len(mid_net_df)"
   ]
  },
  {
   "cell_type": "code",
   "execution_count": 16,
   "metadata": {},
   "outputs": [
    {
     "data": {
      "text/html": [
       "<div>\n",
       "<style scoped>\n",
       "    .dataframe tbody tr th:only-of-type {\n",
       "        vertical-align: middle;\n",
       "    }\n",
       "\n",
       "    .dataframe tbody tr th {\n",
       "        vertical-align: top;\n",
       "    }\n",
       "\n",
       "    .dataframe thead th {\n",
       "        text-align: right;\n",
       "    }\n",
       "</style>\n",
       "<table border=\"1\" class=\"dataframe\">\n",
       "  <thead>\n",
       "    <tr style=\"text-align: right;\">\n",
       "      <th></th>\n",
       "      <th>c_code_1</th>\n",
       "      <th>state_name_1</th>\n",
       "      <th>c_code_2</th>\n",
       "      <th>state_name_2</th>\n",
       "      <th>pre_1816_alliance</th>\n",
       "      <th>in_effect_1231_2012</th>\n",
       "      <th>defense_treaty</th>\n",
       "      <th>neutrality_treaty</th>\n",
       "      <th>nonaggression_treaty</th>\n",
       "      <th>entente_treaty</th>\n",
       "      <th>year</th>\n",
       "      <th>alliance_date_start</th>\n",
       "      <th>alliance_date_end</th>\n",
       "    </tr>\n",
       "  </thead>\n",
       "  <tbody>\n",
       "    <tr>\n",
       "      <th>14772</th>\n",
       "      <td>91</td>\n",
       "      <td>Honduras</td>\n",
       "      <td>150</td>\n",
       "      <td>Paraguay</td>\n",
       "      <td>0</td>\n",
       "      <td>0</td>\n",
       "      <td>1</td>\n",
       "      <td>0</td>\n",
       "      <td>0.0</td>\n",
       "      <td>1.0</td>\n",
       "      <td>1946</td>\n",
       "      <td>1945-03-06</td>\n",
       "      <td>1947-09-02</td>\n",
       "    </tr>\n",
       "    <tr>\n",
       "      <th>14773</th>\n",
       "      <td>651</td>\n",
       "      <td>Egypt</td>\n",
       "      <td>200</td>\n",
       "      <td>United Kingdom</td>\n",
       "      <td>0</td>\n",
       "      <td>0</td>\n",
       "      <td>0</td>\n",
       "      <td>0</td>\n",
       "      <td>0.0</td>\n",
       "      <td>1.0</td>\n",
       "      <td>1946</td>\n",
       "      <td>1937-05-26</td>\n",
       "      <td>1951-10-08</td>\n",
       "    </tr>\n",
       "    <tr>\n",
       "      <th>14774</th>\n",
       "      <td>91</td>\n",
       "      <td>Honduras</td>\n",
       "      <td>94</td>\n",
       "      <td>Costa Rica</td>\n",
       "      <td>0</td>\n",
       "      <td>0</td>\n",
       "      <td>1</td>\n",
       "      <td>0</td>\n",
       "      <td>0.0</td>\n",
       "      <td>1.0</td>\n",
       "      <td>1946</td>\n",
       "      <td>1945-03-06</td>\n",
       "      <td>1947-09-02</td>\n",
       "    </tr>\n",
       "    <tr>\n",
       "      <th>14775</th>\n",
       "      <td>93</td>\n",
       "      <td>Nicaragua</td>\n",
       "      <td>145</td>\n",
       "      <td>Bolivia</td>\n",
       "      <td>0</td>\n",
       "      <td>0</td>\n",
       "      <td>1</td>\n",
       "      <td>0</td>\n",
       "      <td>0.0</td>\n",
       "      <td>1.0</td>\n",
       "      <td>1946</td>\n",
       "      <td>1945-03-06</td>\n",
       "      <td>1947-09-02</td>\n",
       "    </tr>\n",
       "    <tr>\n",
       "      <th>14776</th>\n",
       "      <td>365</td>\n",
       "      <td>Russia</td>\n",
       "      <td>712</td>\n",
       "      <td>Mongolia</td>\n",
       "      <td>0</td>\n",
       "      <td>0</td>\n",
       "      <td>1</td>\n",
       "      <td>0</td>\n",
       "      <td>0.0</td>\n",
       "      <td>0.0</td>\n",
       "      <td>1946</td>\n",
       "      <td>1936-03-12</td>\n",
       "      <td>1991-12-25</td>\n",
       "    </tr>\n",
       "  </tbody>\n",
       "</table>\n",
       "</div>"
      ],
      "text/plain": [
       "       c_code_1 state_name_1  c_code_2    state_name_2  pre_1816_alliance  \\\n",
       "14772        91     Honduras       150        Paraguay                  0   \n",
       "14773       651        Egypt       200  United Kingdom                  0   \n",
       "14774        91     Honduras        94      Costa Rica                  0   \n",
       "14775        93    Nicaragua       145         Bolivia                  0   \n",
       "14776       365       Russia       712        Mongolia                  0   \n",
       "\n",
       "       in_effect_1231_2012  defense_treaty  neutrality_treaty  \\\n",
       "14772                    0               1                  0   \n",
       "14773                    0               0                  0   \n",
       "14774                    0               1                  0   \n",
       "14775                    0               1                  0   \n",
       "14776                    0               1                  0   \n",
       "\n",
       "       nonaggression_treaty  entente_treaty  year alliance_date_start  \\\n",
       "14772                   0.0             1.0  1946          1945-03-06   \n",
       "14773                   0.0             1.0  1946          1937-05-26   \n",
       "14774                   0.0             1.0  1946          1945-03-06   \n",
       "14775                   0.0             1.0  1946          1945-03-06   \n",
       "14776                   0.0             0.0  1946          1936-03-12   \n",
       "\n",
       "      alliance_date_end  \n",
       "14772        1947-09-02  \n",
       "14773        1951-10-08  \n",
       "14774        1947-09-02  \n",
       "14775        1947-09-02  \n",
       "14776        1991-12-25  "
      ]
     },
     "execution_count": 16,
     "metadata": {},
     "output_type": "execute_result"
    }
   ],
   "source": [
    "alliance_net_df.head()"
   ]
  },
  {
   "cell_type": "code",
   "execution_count": 17,
   "metadata": {},
   "outputs": [
    {
     "data": {
      "text/html": [
       "<div>\n",
       "<style scoped>\n",
       "    .dataframe tbody tr th:only-of-type {\n",
       "        vertical-align: middle;\n",
       "    }\n",
       "\n",
       "    .dataframe tbody tr th {\n",
       "        vertical-align: top;\n",
       "    }\n",
       "\n",
       "    .dataframe thead th {\n",
       "        text-align: right;\n",
       "    }\n",
       "</style>\n",
       "<table border=\"1\" class=\"dataframe\">\n",
       "  <thead>\n",
       "    <tr style=\"text-align: right;\">\n",
       "      <th></th>\n",
       "      <th>dispute_id</th>\n",
       "      <th>c_code_1</th>\n",
       "      <th>state_name_abb_a</th>\n",
       "      <th>c_code_2</th>\n",
       "      <th>state_name_abb_b</th>\n",
       "      <th>year</th>\n",
       "      <th>outcome</th>\n",
       "      <th>settlement_type</th>\n",
       "      <th>total_fatality_bin</th>\n",
       "      <th>num_with</th>\n",
       "      <th>num_against</th>\n",
       "      <th>revision_sought</th>\n",
       "      <th>revision_type</th>\n",
       "      <th>state_fatality_bin</th>\n",
       "      <th>hostility_level</th>\n",
       "      <th>origin_participant</th>\n",
       "      <th>war</th>\n",
       "      <th>year_num</th>\n",
       "      <th>cumulative_duration</th>\n",
       "      <th>ongoing_2010</th>\n",
       "      <th>date_start</th>\n",
       "      <th>date_end</th>\n",
       "      <th>initiator</th>\n",
       "    </tr>\n",
       "  </thead>\n",
       "  <tbody>\n",
       "    <tr>\n",
       "      <th>3544</th>\n",
       "      <td>1792</td>\n",
       "      <td>220</td>\n",
       "      <td>FRN</td>\n",
       "      <td>800</td>\n",
       "      <td>THI</td>\n",
       "      <td>1946</td>\n",
       "      <td>Stalemate</td>\n",
       "      <td>Negotiated</td>\n",
       "      <td>101-250</td>\n",
       "      <td>1</td>\n",
       "      <td>1</td>\n",
       "      <td>0</td>\n",
       "      <td>N/A</td>\n",
       "      <td>1-25</td>\n",
       "      <td>4</td>\n",
       "      <td>1</td>\n",
       "      <td>0</td>\n",
       "      <td>1</td>\n",
       "      <td>251</td>\n",
       "      <td>0</td>\n",
       "      <td>1946-04-01</td>\n",
       "      <td>1946-12-07</td>\n",
       "      <td>1.0</td>\n",
       "    </tr>\n",
       "    <tr>\n",
       "      <th>3545</th>\n",
       "      <td>1792</td>\n",
       "      <td>800</td>\n",
       "      <td>THI</td>\n",
       "      <td>220</td>\n",
       "      <td>FRN</td>\n",
       "      <td>1946</td>\n",
       "      <td>Stalemate</td>\n",
       "      <td>Negotiated</td>\n",
       "      <td>101-250</td>\n",
       "      <td>1</td>\n",
       "      <td>1</td>\n",
       "      <td>0</td>\n",
       "      <td>N/A</td>\n",
       "      <td>101-250</td>\n",
       "      <td>4</td>\n",
       "      <td>1</td>\n",
       "      <td>0</td>\n",
       "      <td>1</td>\n",
       "      <td>251</td>\n",
       "      <td>0</td>\n",
       "      <td>1946-04-01</td>\n",
       "      <td>1946-12-07</td>\n",
       "      <td>0.0</td>\n",
       "    </tr>\n",
       "    <tr>\n",
       "      <th>3546</th>\n",
       "      <td>2704</td>\n",
       "      <td>710</td>\n",
       "      <td>CHN</td>\n",
       "      <td>365</td>\n",
       "      <td>RUS</td>\n",
       "      <td>1946</td>\n",
       "      <td>Unclear</td>\n",
       "      <td>Unclear</td>\n",
       "      <td>None Value</td>\n",
       "      <td>1</td>\n",
       "      <td>1</td>\n",
       "      <td>0</td>\n",
       "      <td>N/A</td>\n",
       "      <td>None Value</td>\n",
       "      <td>1</td>\n",
       "      <td>1</td>\n",
       "      <td>0</td>\n",
       "      <td>2</td>\n",
       "      <td>211</td>\n",
       "      <td>0</td>\n",
       "      <td>1945-10-06</td>\n",
       "      <td>1946-05-03</td>\n",
       "      <td>0.0</td>\n",
       "    </tr>\n",
       "    <tr>\n",
       "      <th>3547</th>\n",
       "      <td>3192</td>\n",
       "      <td>200</td>\n",
       "      <td>UKG</td>\n",
       "      <td>345</td>\n",
       "      <td>YUG</td>\n",
       "      <td>1946</td>\n",
       "      <td>Stalemate</td>\n",
       "      <td>None Value</td>\n",
       "      <td>None Value</td>\n",
       "      <td>1</td>\n",
       "      <td>1</td>\n",
       "      <td>0</td>\n",
       "      <td>N/A</td>\n",
       "      <td>None Value</td>\n",
       "      <td>4</td>\n",
       "      <td>1</td>\n",
       "      <td>0</td>\n",
       "      <td>1</td>\n",
       "      <td>1</td>\n",
       "      <td>0</td>\n",
       "      <td>1946-10-05</td>\n",
       "      <td>1946-10-05</td>\n",
       "      <td>1.0</td>\n",
       "    </tr>\n",
       "    <tr>\n",
       "      <th>3548</th>\n",
       "      <td>3192</td>\n",
       "      <td>345</td>\n",
       "      <td>YUG</td>\n",
       "      <td>200</td>\n",
       "      <td>UKG</td>\n",
       "      <td>1946</td>\n",
       "      <td>Stalemate</td>\n",
       "      <td>None Value</td>\n",
       "      <td>None Value</td>\n",
       "      <td>1</td>\n",
       "      <td>1</td>\n",
       "      <td>0</td>\n",
       "      <td>N/A</td>\n",
       "      <td>None Value</td>\n",
       "      <td>4</td>\n",
       "      <td>1</td>\n",
       "      <td>0</td>\n",
       "      <td>1</td>\n",
       "      <td>1</td>\n",
       "      <td>0</td>\n",
       "      <td>1946-10-05</td>\n",
       "      <td>1946-10-05</td>\n",
       "      <td>0.0</td>\n",
       "    </tr>\n",
       "  </tbody>\n",
       "</table>\n",
       "</div>"
      ],
      "text/plain": [
       "      dispute_id  c_code_1 state_name_abb_a  c_code_2 state_name_abb_b  year  \\\n",
       "3544        1792       220              FRN       800              THI  1946   \n",
       "3545        1792       800              THI       220              FRN  1946   \n",
       "3546        2704       710              CHN       365              RUS  1946   \n",
       "3547        3192       200              UKG       345              YUG  1946   \n",
       "3548        3192       345              YUG       200              UKG  1946   \n",
       "\n",
       "        outcome settlement_type total_fatality_bin  num_with  num_against  \\\n",
       "3544  Stalemate      Negotiated            101-250         1            1   \n",
       "3545  Stalemate      Negotiated            101-250         1            1   \n",
       "3546    Unclear         Unclear         None Value         1            1   \n",
       "3547  Stalemate      None Value         None Value         1            1   \n",
       "3548  Stalemate      None Value         None Value         1            1   \n",
       "\n",
       "      revision_sought revision_type state_fatality_bin  hostility_level  \\\n",
       "3544                0           N/A               1-25                4   \n",
       "3545                0           N/A            101-250                4   \n",
       "3546                0           N/A         None Value                1   \n",
       "3547                0           N/A         None Value                4   \n",
       "3548                0           N/A         None Value                4   \n",
       "\n",
       "      origin_participant  war  year_num  cumulative_duration  ongoing_2010  \\\n",
       "3544                   1    0         1                  251             0   \n",
       "3545                   1    0         1                  251             0   \n",
       "3546                   1    0         2                  211             0   \n",
       "3547                   1    0         1                    1             0   \n",
       "3548                   1    0         1                    1             0   \n",
       "\n",
       "     date_start   date_end  initiator  \n",
       "3544 1946-04-01 1946-12-07        1.0  \n",
       "3545 1946-04-01 1946-12-07        0.0  \n",
       "3546 1945-10-06 1946-05-03        0.0  \n",
       "3547 1946-10-05 1946-10-05        1.0  \n",
       "3548 1946-10-05 1946-10-05        0.0  "
      ]
     },
     "execution_count": 17,
     "metadata": {},
     "output_type": "execute_result"
    }
   ],
   "source": [
    "mid_net_df.head()"
   ]
  },
  {
   "cell_type": "code",
   "execution_count": 18,
   "metadata": {},
   "outputs": [],
   "source": [
    "one_df = pd.merge(alliance_net_df, mid_net_df, how = 'inner', on = ['c_code_1', 'c_code_2', 'year'])"
   ]
  },
  {
   "cell_type": "code",
   "execution_count": 19,
   "metadata": {},
   "outputs": [],
   "source": [
    "two_df = pd.merge(one_df, trade_net_df, how = 'inner', on = ['c_code_1', 'c_code_2', 'year'])"
   ]
  },
  {
   "cell_type": "code",
   "execution_count": 20,
   "metadata": {},
   "outputs": [],
   "source": [
    "two_df['avg_money_flow_log'] = np.log((two_df['money_flow_1'] + two_df['money_flow_2'])/2)\n",
    "two_df['export_import_ratio'] = (two_df['money_flow_1'] / two_df['money_flow_2'])/2"
   ]
  },
  {
   "cell_type": "code",
   "execution_count": 21,
   "metadata": {},
   "outputs": [],
   "source": [
    "two_df.rename({'state_name_1_x': 'state_name_1', 'state_name_2_x': 'state_name_2'}, axis = 1, inplace = True)\n",
    "two_df.drop(['state_name_1_y', 'state_name_2_y'], axis = 1, inplace = True)"
   ]
  },
  {
   "cell_type": "code",
   "execution_count": 22,
   "metadata": {},
   "outputs": [
    {
     "data": {
      "text/plain": [
       "2166"
      ]
     },
     "execution_count": 22,
     "metadata": {},
     "output_type": "execute_result"
    }
   ],
   "source": [
    "len(two_df)"
   ]
  },
  {
   "cell_type": "code",
   "execution_count": 23,
   "metadata": {},
   "outputs": [],
   "source": [
    "two_df = deepcopy(two_df[two_df['un_region_1'] != two_df['un_region_2']])"
   ]
  },
  {
   "cell_type": "code",
   "execution_count": 24,
   "metadata": {},
   "outputs": [
    {
     "data": {
      "text/plain": [
       "750"
      ]
     },
     "execution_count": 24,
     "metadata": {},
     "output_type": "execute_result"
    }
   ],
   "source": [
    "len(two_df)"
   ]
  },
  {
   "cell_type": "code",
   "execution_count": 25,
   "metadata": {},
   "outputs": [
    {
     "data": {
      "text/plain": [
       "6308"
      ]
     },
     "execution_count": 25,
     "metadata": {},
     "output_type": "execute_result"
    }
   ],
   "source": [
    "len(mid_net_df)"
   ]
  },
  {
   "cell_type": "code",
   "execution_count": 26,
   "metadata": {},
   "outputs": [
    {
     "data": {
      "text/plain": [
       "164"
      ]
     },
     "execution_count": 26,
     "metadata": {},
     "output_type": "execute_result"
    }
   ],
   "source": [
    "len(alliance_net_df['state_name_1'].unique())"
   ]
  },
  {
   "cell_type": "code",
   "execution_count": 27,
   "metadata": {},
   "outputs": [
    {
     "data": {
      "text/plain": [
       "205"
      ]
     },
     "execution_count": 27,
     "metadata": {},
     "output_type": "execute_result"
    }
   ],
   "source": [
    "len(trade_net_df['state_name_1'].unique())"
   ]
  },
  {
   "cell_type": "code",
   "execution_count": 28,
   "metadata": {},
   "outputs": [
    {
     "data": {
      "text/plain": [
       "68"
      ]
     },
     "execution_count": 28,
     "metadata": {},
     "output_type": "execute_result"
    }
   ],
   "source": [
    "len(two_df['state_name_1'].unique())"
   ]
  },
  {
   "cell_type": "code",
   "execution_count": 29,
   "metadata": {},
   "outputs": [
    {
     "data": {
      "text/html": [
       "<div>\n",
       "<style scoped>\n",
       "    .dataframe tbody tr th:only-of-type {\n",
       "        vertical-align: middle;\n",
       "    }\n",
       "\n",
       "    .dataframe tbody tr th {\n",
       "        vertical-align: top;\n",
       "    }\n",
       "\n",
       "    .dataframe thead th {\n",
       "        text-align: right;\n",
       "    }\n",
       "</style>\n",
       "<table border=\"1\" class=\"dataframe\">\n",
       "  <thead>\n",
       "    <tr style=\"text-align: right;\">\n",
       "      <th></th>\n",
       "      <th>c_code_1</th>\n",
       "      <th>state_name_1</th>\n",
       "      <th>c_code_2</th>\n",
       "      <th>state_name_2</th>\n",
       "      <th>pre_1816_alliance</th>\n",
       "      <th>in_effect_1231_2012</th>\n",
       "      <th>defense_treaty</th>\n",
       "      <th>neutrality_treaty</th>\n",
       "      <th>nonaggression_treaty</th>\n",
       "      <th>entente_treaty</th>\n",
       "      <th>year</th>\n",
       "      <th>alliance_date_start</th>\n",
       "      <th>alliance_date_end</th>\n",
       "      <th>dispute_id</th>\n",
       "      <th>state_name_abb_a</th>\n",
       "      <th>state_name_abb_b</th>\n",
       "      <th>outcome</th>\n",
       "      <th>settlement_type</th>\n",
       "      <th>total_fatality_bin</th>\n",
       "      <th>num_with</th>\n",
       "      <th>num_against</th>\n",
       "      <th>revision_sought</th>\n",
       "      <th>revision_type</th>\n",
       "      <th>state_fatality_bin</th>\n",
       "      <th>hostility_level</th>\n",
       "      <th>origin_participant</th>\n",
       "      <th>war</th>\n",
       "      <th>year_num</th>\n",
       "      <th>cumulative_duration</th>\n",
       "      <th>ongoing_2010</th>\n",
       "      <th>date_start</th>\n",
       "      <th>date_end</th>\n",
       "      <th>initiator</th>\n",
       "      <th>un_region_2</th>\n",
       "      <th>un_continent_2</th>\n",
       "      <th>un_region_1</th>\n",
       "      <th>un_continent_1</th>\n",
       "      <th>money_flow_1</th>\n",
       "      <th>money_flow_2</th>\n",
       "      <th>avg_money_flow_log</th>\n",
       "      <th>export_import_ratio</th>\n",
       "    </tr>\n",
       "  </thead>\n",
       "  <tbody>\n",
       "    <tr>\n",
       "      <th>0</th>\n",
       "      <td>200</td>\n",
       "      <td>United Kingdom</td>\n",
       "      <td>365</td>\n",
       "      <td>Russia</td>\n",
       "      <td>0</td>\n",
       "      <td>0</td>\n",
       "      <td>1</td>\n",
       "      <td>0</td>\n",
       "      <td>0.0</td>\n",
       "      <td>0.0</td>\n",
       "      <td>1946</td>\n",
       "      <td>1941-07-12</td>\n",
       "      <td>1955-05-07</td>\n",
       "      <td>603</td>\n",
       "      <td>UKG</td>\n",
       "      <td>RUS</td>\n",
       "      <td>Stalemate</td>\n",
       "      <td>None Value</td>\n",
       "      <td>None Value</td>\n",
       "      <td>1</td>\n",
       "      <td>2</td>\n",
       "      <td>0</td>\n",
       "      <td>N/A</td>\n",
       "      <td>None Value</td>\n",
       "      <td>3</td>\n",
       "      <td>1</td>\n",
       "      <td>0</td>\n",
       "      <td>1</td>\n",
       "      <td>1</td>\n",
       "      <td>0</td>\n",
       "      <td>1946-08-03</td>\n",
       "      <td>1946-08-03</td>\n",
       "      <td>1.0</td>\n",
       "      <td>Eastern Europe</td>\n",
       "      <td>Europe</td>\n",
       "      <td>Northern Europe</td>\n",
       "      <td>Europe</td>\n",
       "      <td>109300000.0</td>\n",
       "      <td>28500000.0</td>\n",
       "      <td>18.048167</td>\n",
       "      <td>1.917544</td>\n",
       "    </tr>\n",
       "    <tr>\n",
       "      <th>1</th>\n",
       "      <td>200</td>\n",
       "      <td>United Kingdom</td>\n",
       "      <td>365</td>\n",
       "      <td>Russia</td>\n",
       "      <td>0</td>\n",
       "      <td>0</td>\n",
       "      <td>1</td>\n",
       "      <td>0</td>\n",
       "      <td>0.0</td>\n",
       "      <td>1.0</td>\n",
       "      <td>1946</td>\n",
       "      <td>1942-01-29</td>\n",
       "      <td>1946-03-19</td>\n",
       "      <td>603</td>\n",
       "      <td>UKG</td>\n",
       "      <td>RUS</td>\n",
       "      <td>Stalemate</td>\n",
       "      <td>None Value</td>\n",
       "      <td>None Value</td>\n",
       "      <td>1</td>\n",
       "      <td>2</td>\n",
       "      <td>0</td>\n",
       "      <td>N/A</td>\n",
       "      <td>None Value</td>\n",
       "      <td>3</td>\n",
       "      <td>1</td>\n",
       "      <td>0</td>\n",
       "      <td>1</td>\n",
       "      <td>1</td>\n",
       "      <td>0</td>\n",
       "      <td>1946-08-03</td>\n",
       "      <td>1946-08-03</td>\n",
       "      <td>1.0</td>\n",
       "      <td>Eastern Europe</td>\n",
       "      <td>Europe</td>\n",
       "      <td>Northern Europe</td>\n",
       "      <td>Europe</td>\n",
       "      <td>109300000.0</td>\n",
       "      <td>28500000.0</td>\n",
       "      <td>18.048167</td>\n",
       "      <td>1.917544</td>\n",
       "    </tr>\n",
       "    <tr>\n",
       "      <th>2</th>\n",
       "      <td>200</td>\n",
       "      <td>United Kingdom</td>\n",
       "      <td>630</td>\n",
       "      <td>Iran</td>\n",
       "      <td>0</td>\n",
       "      <td>0</td>\n",
       "      <td>1</td>\n",
       "      <td>0</td>\n",
       "      <td>0.0</td>\n",
       "      <td>1.0</td>\n",
       "      <td>1946</td>\n",
       "      <td>1942-01-29</td>\n",
       "      <td>1946-03-19</td>\n",
       "      <td>603</td>\n",
       "      <td>UKG</td>\n",
       "      <td>IRN</td>\n",
       "      <td>Stalemate</td>\n",
       "      <td>None Value</td>\n",
       "      <td>None Value</td>\n",
       "      <td>1</td>\n",
       "      <td>2</td>\n",
       "      <td>0</td>\n",
       "      <td>N/A</td>\n",
       "      <td>None Value</td>\n",
       "      <td>3</td>\n",
       "      <td>1</td>\n",
       "      <td>0</td>\n",
       "      <td>1</td>\n",
       "      <td>2</td>\n",
       "      <td>0</td>\n",
       "      <td>1946-08-02</td>\n",
       "      <td>1946-08-03</td>\n",
       "      <td>1.0</td>\n",
       "      <td>Southern Asia</td>\n",
       "      <td>Asia</td>\n",
       "      <td>Northern Europe</td>\n",
       "      <td>Europe</td>\n",
       "      <td>145500000.0</td>\n",
       "      <td>35800000.0</td>\n",
       "      <td>18.322516</td>\n",
       "      <td>2.032123</td>\n",
       "    </tr>\n",
       "    <tr>\n",
       "      <th>3</th>\n",
       "      <td>365</td>\n",
       "      <td>Russia</td>\n",
       "      <td>200</td>\n",
       "      <td>United Kingdom</td>\n",
       "      <td>0</td>\n",
       "      <td>0</td>\n",
       "      <td>1</td>\n",
       "      <td>0</td>\n",
       "      <td>0.0</td>\n",
       "      <td>1.0</td>\n",
       "      <td>1946</td>\n",
       "      <td>1942-01-29</td>\n",
       "      <td>1946-03-19</td>\n",
       "      <td>603</td>\n",
       "      <td>RUS</td>\n",
       "      <td>UKG</td>\n",
       "      <td>Stalemate</td>\n",
       "      <td>None Value</td>\n",
       "      <td>None Value</td>\n",
       "      <td>1</td>\n",
       "      <td>2</td>\n",
       "      <td>0</td>\n",
       "      <td>N/A</td>\n",
       "      <td>None Value</td>\n",
       "      <td>3</td>\n",
       "      <td>0</td>\n",
       "      <td>0</td>\n",
       "      <td>1</td>\n",
       "      <td>1</td>\n",
       "      <td>0</td>\n",
       "      <td>1946-08-03</td>\n",
       "      <td>1946-08-03</td>\n",
       "      <td>0.0</td>\n",
       "      <td>Northern Europe</td>\n",
       "      <td>Europe</td>\n",
       "      <td>Eastern Europe</td>\n",
       "      <td>Europe</td>\n",
       "      <td>28500000.0</td>\n",
       "      <td>109300000.0</td>\n",
       "      <td>18.048167</td>\n",
       "      <td>0.130375</td>\n",
       "    </tr>\n",
       "    <tr>\n",
       "      <th>4</th>\n",
       "      <td>365</td>\n",
       "      <td>Russia</td>\n",
       "      <td>200</td>\n",
       "      <td>United Kingdom</td>\n",
       "      <td>0</td>\n",
       "      <td>0</td>\n",
       "      <td>1</td>\n",
       "      <td>0</td>\n",
       "      <td>0.0</td>\n",
       "      <td>0.0</td>\n",
       "      <td>1946</td>\n",
       "      <td>1941-07-12</td>\n",
       "      <td>1955-05-07</td>\n",
       "      <td>603</td>\n",
       "      <td>RUS</td>\n",
       "      <td>UKG</td>\n",
       "      <td>Stalemate</td>\n",
       "      <td>None Value</td>\n",
       "      <td>None Value</td>\n",
       "      <td>1</td>\n",
       "      <td>2</td>\n",
       "      <td>0</td>\n",
       "      <td>N/A</td>\n",
       "      <td>None Value</td>\n",
       "      <td>3</td>\n",
       "      <td>0</td>\n",
       "      <td>0</td>\n",
       "      <td>1</td>\n",
       "      <td>1</td>\n",
       "      <td>0</td>\n",
       "      <td>1946-08-03</td>\n",
       "      <td>1946-08-03</td>\n",
       "      <td>0.0</td>\n",
       "      <td>Northern Europe</td>\n",
       "      <td>Europe</td>\n",
       "      <td>Eastern Europe</td>\n",
       "      <td>Europe</td>\n",
       "      <td>28500000.0</td>\n",
       "      <td>109300000.0</td>\n",
       "      <td>18.048167</td>\n",
       "      <td>0.130375</td>\n",
       "    </tr>\n",
       "  </tbody>\n",
       "</table>\n",
       "</div>"
      ],
      "text/plain": [
       "   c_code_1    state_name_1  c_code_2    state_name_2  pre_1816_alliance  \\\n",
       "0       200  United Kingdom       365          Russia                  0   \n",
       "1       200  United Kingdom       365          Russia                  0   \n",
       "2       200  United Kingdom       630            Iran                  0   \n",
       "3       365          Russia       200  United Kingdom                  0   \n",
       "4       365          Russia       200  United Kingdom                  0   \n",
       "\n",
       "   in_effect_1231_2012  defense_treaty  neutrality_treaty  \\\n",
       "0                    0               1                  0   \n",
       "1                    0               1                  0   \n",
       "2                    0               1                  0   \n",
       "3                    0               1                  0   \n",
       "4                    0               1                  0   \n",
       "\n",
       "   nonaggression_treaty  entente_treaty  year alliance_date_start  \\\n",
       "0                   0.0             0.0  1946          1941-07-12   \n",
       "1                   0.0             1.0  1946          1942-01-29   \n",
       "2                   0.0             1.0  1946          1942-01-29   \n",
       "3                   0.0             1.0  1946          1942-01-29   \n",
       "4                   0.0             0.0  1946          1941-07-12   \n",
       "\n",
       "  alliance_date_end  dispute_id state_name_abb_a state_name_abb_b    outcome  \\\n",
       "0        1955-05-07         603              UKG              RUS  Stalemate   \n",
       "1        1946-03-19         603              UKG              RUS  Stalemate   \n",
       "2        1946-03-19         603              UKG              IRN  Stalemate   \n",
       "3        1946-03-19         603              RUS              UKG  Stalemate   \n",
       "4        1955-05-07         603              RUS              UKG  Stalemate   \n",
       "\n",
       "  settlement_type total_fatality_bin  num_with  num_against  revision_sought  \\\n",
       "0      None Value         None Value         1            2                0   \n",
       "1      None Value         None Value         1            2                0   \n",
       "2      None Value         None Value         1            2                0   \n",
       "3      None Value         None Value         1            2                0   \n",
       "4      None Value         None Value         1            2                0   \n",
       "\n",
       "  revision_type state_fatality_bin  hostility_level  origin_participant  war  \\\n",
       "0           N/A         None Value                3                   1    0   \n",
       "1           N/A         None Value                3                   1    0   \n",
       "2           N/A         None Value                3                   1    0   \n",
       "3           N/A         None Value                3                   0    0   \n",
       "4           N/A         None Value                3                   0    0   \n",
       "\n",
       "   year_num  cumulative_duration  ongoing_2010 date_start   date_end  \\\n",
       "0         1                    1             0 1946-08-03 1946-08-03   \n",
       "1         1                    1             0 1946-08-03 1946-08-03   \n",
       "2         1                    2             0 1946-08-02 1946-08-03   \n",
       "3         1                    1             0 1946-08-03 1946-08-03   \n",
       "4         1                    1             0 1946-08-03 1946-08-03   \n",
       "\n",
       "   initiator      un_region_2 un_continent_2      un_region_1 un_continent_1  \\\n",
       "0        1.0   Eastern Europe         Europe  Northern Europe         Europe   \n",
       "1        1.0   Eastern Europe         Europe  Northern Europe         Europe   \n",
       "2        1.0    Southern Asia           Asia  Northern Europe         Europe   \n",
       "3        0.0  Northern Europe         Europe   Eastern Europe         Europe   \n",
       "4        0.0  Northern Europe         Europe   Eastern Europe         Europe   \n",
       "\n",
       "   money_flow_1  money_flow_2  avg_money_flow_log  export_import_ratio  \n",
       "0   109300000.0    28500000.0           18.048167             1.917544  \n",
       "1   109300000.0    28500000.0           18.048167             1.917544  \n",
       "2   145500000.0    35800000.0           18.322516             2.032123  \n",
       "3    28500000.0   109300000.0           18.048167             0.130375  \n",
       "4    28500000.0   109300000.0           18.048167             0.130375  "
      ]
     },
     "execution_count": 29,
     "metadata": {},
     "output_type": "execute_result"
    }
   ],
   "source": [
    "two_df.head()"
   ]
  },
  {
   "cell_type": "code",
   "execution_count": 30,
   "metadata": {},
   "outputs": [],
   "source": [
    "combo_df = deepcopy(two_df[['state_name_1', 'state_name_2', 'year', 'date_start', 'avg_money_flow_log', 'export_import_ratio', 'cumulative_duration']])"
   ]
  },
  {
   "cell_type": "code",
   "execution_count": 31,
   "metadata": {},
   "outputs": [],
   "source": [
    "aggregations = {\n",
    "    'date_start': 'count',\n",
    "    'avg_money_flow_log': 'mean',\n",
    "    'export_import_ratio': 'mean',\n",
    "    'cumulative_duration': 'sum'\n",
    "    }\n",
    "\n",
    "group_combo_df = combo_df.groupby(['year', 'state_name_1', 'state_name_2']).agg(aggregations).reset_index()"
   ]
  },
  {
   "cell_type": "code",
   "execution_count": 32,
   "metadata": {},
   "outputs": [
    {
     "data": {
      "text/html": [
       "<div>\n",
       "<style scoped>\n",
       "    .dataframe tbody tr th:only-of-type {\n",
       "        vertical-align: middle;\n",
       "    }\n",
       "\n",
       "    .dataframe tbody tr th {\n",
       "        vertical-align: top;\n",
       "    }\n",
       "\n",
       "    .dataframe thead th {\n",
       "        text-align: right;\n",
       "    }\n",
       "</style>\n",
       "<table border=\"1\" class=\"dataframe\">\n",
       "  <thead>\n",
       "    <tr style=\"text-align: right;\">\n",
       "      <th></th>\n",
       "      <th>year</th>\n",
       "      <th>state_name_1</th>\n",
       "      <th>state_name_2</th>\n",
       "      <th>date_start</th>\n",
       "      <th>avg_money_flow_log</th>\n",
       "      <th>export_import_ratio</th>\n",
       "      <th>cumulative_duration</th>\n",
       "    </tr>\n",
       "  </thead>\n",
       "  <tbody>\n",
       "    <tr>\n",
       "      <th>0</th>\n",
       "      <td>1946</td>\n",
       "      <td>China</td>\n",
       "      <td>Russia</td>\n",
       "      <td>1</td>\n",
       "      <td>20.406018</td>\n",
       "      <td>0.528606</td>\n",
       "      <td>211</td>\n",
       "    </tr>\n",
       "    <tr>\n",
       "      <th>1</th>\n",
       "      <td>1946</td>\n",
       "      <td>Iran</td>\n",
       "      <td>Russia</td>\n",
       "      <td>1</td>\n",
       "      <td>14.346139</td>\n",
       "      <td>0.107143</td>\n",
       "      <td>174</td>\n",
       "    </tr>\n",
       "    <tr>\n",
       "      <th>2</th>\n",
       "      <td>1946</td>\n",
       "      <td>Iran</td>\n",
       "      <td>United Kingdom</td>\n",
       "      <td>1</td>\n",
       "      <td>18.322516</td>\n",
       "      <td>0.123024</td>\n",
       "      <td>2</td>\n",
       "    </tr>\n",
       "    <tr>\n",
       "      <th>3</th>\n",
       "      <td>1946</td>\n",
       "      <td>Russia</td>\n",
       "      <td>China</td>\n",
       "      <td>1</td>\n",
       "      <td>20.406018</td>\n",
       "      <td>0.472942</td>\n",
       "      <td>211</td>\n",
       "    </tr>\n",
       "    <tr>\n",
       "      <th>4</th>\n",
       "      <td>1946</td>\n",
       "      <td>Russia</td>\n",
       "      <td>Iran</td>\n",
       "      <td>1</td>\n",
       "      <td>14.346139</td>\n",
       "      <td>2.333333</td>\n",
       "      <td>174</td>\n",
       "    </tr>\n",
       "  </tbody>\n",
       "</table>\n",
       "</div>"
      ],
      "text/plain": [
       "   year state_name_1    state_name_2  date_start  avg_money_flow_log  \\\n",
       "0  1946        China          Russia           1           20.406018   \n",
       "1  1946         Iran          Russia           1           14.346139   \n",
       "2  1946         Iran  United Kingdom           1           18.322516   \n",
       "3  1946       Russia           China           1           20.406018   \n",
       "4  1946       Russia            Iran           1           14.346139   \n",
       "\n",
       "   export_import_ratio  cumulative_duration  \n",
       "0             0.528606                  211  \n",
       "1             0.107143                  174  \n",
       "2             0.123024                    2  \n",
       "3             0.472942                  211  \n",
       "4             2.333333                  174  "
      ]
     },
     "execution_count": 32,
     "metadata": {},
     "output_type": "execute_result"
    }
   ],
   "source": [
    "group_combo_df.head()"
   ]
  },
  {
   "cell_type": "code",
   "execution_count": 33,
   "metadata": {},
   "outputs": [],
   "source": [
    "aggregations = {\n",
    "    'date_start': 'sum',\n",
    "    'year': 'count',\n",
    "    'avg_money_flow_log': 'mean',\n",
    "    'export_import_ratio': 'mean',\n",
    "    'cumulative_duration': 'sum'\n",
    "    }\n",
    "\n",
    "group_combo_df = group_combo_df.groupby(['state_name_1', 'state_name_2']).agg(aggregations).reset_index()"
   ]
  },
  {
   "cell_type": "code",
   "execution_count": 34,
   "metadata": {},
   "outputs": [],
   "source": [
    "for i, combo in enumerate(group_combo_df['state_name_1']):\n",
    "    group_combo_df.loc[i, 'treaties_per_year'] = group_combo_df['date_start'][i]/group_combo_df['year'][i]\n",
    "group_combo_df.rename({'year': 'num_years'}, axis = 1, inplace = True)\n",
    "group_combo_df.drop(['date_start'], axis = 1, inplace = True)"
   ]
  },
  {
   "cell_type": "code",
   "execution_count": 35,
   "metadata": {},
   "outputs": [
    {
     "data": {
      "text/html": [
       "<div>\n",
       "<style scoped>\n",
       "    .dataframe tbody tr th:only-of-type {\n",
       "        vertical-align: middle;\n",
       "    }\n",
       "\n",
       "    .dataframe tbody tr th {\n",
       "        vertical-align: top;\n",
       "    }\n",
       "\n",
       "    .dataframe thead th {\n",
       "        text-align: right;\n",
       "    }\n",
       "</style>\n",
       "<table border=\"1\" class=\"dataframe\">\n",
       "  <thead>\n",
       "    <tr style=\"text-align: right;\">\n",
       "      <th></th>\n",
       "      <th>state_name_1</th>\n",
       "      <th>state_name_2</th>\n",
       "      <th>num_years</th>\n",
       "      <th>avg_money_flow_log</th>\n",
       "      <th>export_import_ratio</th>\n",
       "      <th>cumulative_duration</th>\n",
       "      <th>treaties_per_year</th>\n",
       "    </tr>\n",
       "  </thead>\n",
       "  <tbody>\n",
       "    <tr>\n",
       "      <th>0</th>\n",
       "      <td>Algeria</td>\n",
       "      <td>Mauritania</td>\n",
       "      <td>1</td>\n",
       "      <td>13.493927</td>\n",
       "      <td>72.000000</td>\n",
       "      <td>1</td>\n",
       "      <td>1.000000</td>\n",
       "    </tr>\n",
       "    <tr>\n",
       "      <th>1</th>\n",
       "      <td>Argentina</td>\n",
       "      <td>Haiti</td>\n",
       "      <td>2</td>\n",
       "      <td>13.800397</td>\n",
       "      <td>0.005128</td>\n",
       "      <td>423</td>\n",
       "      <td>1.000000</td>\n",
       "    </tr>\n",
       "    <tr>\n",
       "      <th>2</th>\n",
       "      <td>Azerbaijan</td>\n",
       "      <td>Russia</td>\n",
       "      <td>3</td>\n",
       "      <td>18.870274</td>\n",
       "      <td>1.067056</td>\n",
       "      <td>27</td>\n",
       "      <td>1.666667</td>\n",
       "    </tr>\n",
       "    <tr>\n",
       "      <th>3</th>\n",
       "      <td>Belarus</td>\n",
       "      <td>Lithuania</td>\n",
       "      <td>1</td>\n",
       "      <td>18.552586</td>\n",
       "      <td>0.444146</td>\n",
       "      <td>32</td>\n",
       "      <td>1.000000</td>\n",
       "    </tr>\n",
       "    <tr>\n",
       "      <th>4</th>\n",
       "      <td>Bulgaria</td>\n",
       "      <td>Turkey</td>\n",
       "      <td>1</td>\n",
       "      <td>21.391472</td>\n",
       "      <td>0.560176</td>\n",
       "      <td>1</td>\n",
       "      <td>1.000000</td>\n",
       "    </tr>\n",
       "  </tbody>\n",
       "</table>\n",
       "</div>"
      ],
      "text/plain": [
       "  state_name_1 state_name_2  num_years  avg_money_flow_log  \\\n",
       "0      Algeria   Mauritania          1           13.493927   \n",
       "1    Argentina        Haiti          2           13.800397   \n",
       "2   Azerbaijan       Russia          3           18.870274   \n",
       "3      Belarus    Lithuania          1           18.552586   \n",
       "4     Bulgaria       Turkey          1           21.391472   \n",
       "\n",
       "   export_import_ratio  cumulative_duration  treaties_per_year  \n",
       "0            72.000000                    1           1.000000  \n",
       "1             0.005128                  423           1.000000  \n",
       "2             1.067056                   27           1.666667  \n",
       "3             0.444146                   32           1.000000  \n",
       "4             0.560176                    1           1.000000  "
      ]
     },
     "execution_count": 35,
     "metadata": {},
     "output_type": "execute_result"
    }
   ],
   "source": [
    "group_combo_df.head()"
   ]
  },
  {
   "cell_type": "code",
   "execution_count": 36,
   "metadata": {},
   "outputs": [],
   "source": [
    "distinct_combo_df = deepcopy(two_df[['state_name_1', 'state_name_2']])\n",
    "\n",
    "duplicate_list = ['state_name_1', 'state_name_2']\n",
    "\n",
    "distinct_combo_df.drop_duplicates(subset = duplicate_list, keep = 'first', inplace = True)"
   ]
  },
  {
   "cell_type": "code",
   "execution_count": 37,
   "metadata": {},
   "outputs": [],
   "source": [
    "distinct_combo_df = distinct_combo_df.reset_index()\n",
    "distinct_combo_df.drop(['index'], axis = 1, inplace = True)"
   ]
  },
  {
   "cell_type": "code",
   "execution_count": 38,
   "metadata": {},
   "outputs": [],
   "source": [
    "all_combos = []\n",
    "for i, row in enumerate(distinct_combo_df['state_name_1']):\n",
    "    all_combos.append((distinct_combo_df['state_name_1'][i], distinct_combo_df['state_name_2'][i]))"
   ]
  },
  {
   "cell_type": "code",
   "execution_count": 114,
   "metadata": {},
   "outputs": [],
   "source": [
    "all_combos = sorted(all_combos)"
   ]
  },
  {
   "cell_type": "code",
   "execution_count": 115,
   "metadata": {},
   "outputs": [
    {
     "data": {
      "text/plain": [
       "168"
      ]
     },
     "execution_count": 115,
     "metadata": {},
     "output_type": "execute_result"
    }
   ],
   "source": [
    "len(all_combos)"
   ]
  },
  {
   "cell_type": "code",
   "execution_count": 40,
   "metadata": {},
   "outputs": [],
   "source": [
    "distinct_countries = []\n",
    "for i in flatten(all_combos):\n",
    "    distinct_countries.append(i)\n",
    "distinct_countries = sorted(list(set(distinct_countries)))"
   ]
  },
  {
   "cell_type": "code",
   "execution_count": 41,
   "metadata": {},
   "outputs": [
    {
     "data": {
      "text/plain": [
       "68"
      ]
     },
     "execution_count": 41,
     "metadata": {},
     "output_type": "execute_result"
    }
   ],
   "source": [
    "len(distinct_countries)"
   ]
  },
  {
   "cell_type": "code",
   "execution_count": 42,
   "metadata": {},
   "outputs": [
    {
     "data": {
      "text/plain": [
       "array(['Algeria', 'Argentina', 'Azerbaijan', 'Belarus', 'Bulgaria',\n",
       "       'Burundi', 'Cambodia', 'Canada', 'Chad', 'China', 'Colombia',\n",
       "       'Congo', 'Cuba', 'Czechoslovakia',\n",
       "       'Democratic Republic of the Congo', 'Denmark',\n",
       "       'Dominican Republic', 'Ecuador', 'Egypt', 'Finland', 'France',\n",
       "       'Gabon', 'Georgia', 'German Democratic Republic',\n",
       "       'German Federal Republic', 'Germany', 'Greece', 'Grenada',\n",
       "       'Guatemala', 'Haiti', 'Hungary', 'Iceland', 'India', 'Iran',\n",
       "       'Iraq', 'Israel', 'Jordan', 'Liberia', 'Libya', 'Lithuania',\n",
       "       'Mauritania', 'Morocco', 'Mozambique', 'Nicaragua', 'Oman',\n",
       "       'Pakistan', 'Panama', 'Peru', 'Portugal', 'Republic of Vietnam',\n",
       "       'Russia', 'Rwanda', 'Saudi Arabia', 'Somalia', 'South Africa',\n",
       "       'Spain', 'Sudan', 'Thailand', 'Trinidad and Tobago', 'Tunisia',\n",
       "       'Turkey', 'Uganda', 'United Kingdom', 'United States of America',\n",
       "       'Venezuela', 'Vietnam', 'Yugoslavia', 'Zambia'], dtype='<U32')"
      ]
     },
     "execution_count": 42,
     "metadata": {},
     "output_type": "execute_result"
    }
   ],
   "source": [
    "np.array(distinct_countries)"
   ]
  },
  {
   "cell_type": "code",
   "execution_count": 43,
   "metadata": {},
   "outputs": [],
   "source": [
    "combo_deg_1 = list(filter(lambda country: 'Canada' in country, all_combos))"
   ]
  },
  {
   "cell_type": "code",
   "execution_count": 44,
   "metadata": {},
   "outputs": [],
   "source": [
    "import json"
   ]
  },
  {
   "cell_type": "code",
   "execution_count": 45,
   "metadata": {},
   "outputs": [
    {
     "data": {
      "text/plain": [
       "12"
      ]
     },
     "execution_count": 45,
     "metadata": {},
     "output_type": "execute_result"
    }
   ],
   "source": [
    "len(combo_deg_1)"
   ]
  },
  {
   "cell_type": "code",
   "execution_count": 46,
   "metadata": {},
   "outputs": [],
   "source": [
    "node_deg_1 = []\n",
    "for a, b in combo_deg_1:\n",
    "    node_deg_1.append(a)\n",
    "    node_deg_1.append(b)\n",
    "node_deg_1 = sorted(list(set(node_deg_1)))"
   ]
  },
  {
   "cell_type": "code",
   "execution_count": 47,
   "metadata": {},
   "outputs": [
    {
     "data": {
      "text/plain": [
       "7"
      ]
     },
     "execution_count": 47,
     "metadata": {},
     "output_type": "execute_result"
    }
   ],
   "source": [
    "len(node_deg_1)"
   ]
  },
  {
   "cell_type": "code",
   "execution_count": 48,
   "metadata": {},
   "outputs": [],
   "source": [
    "full_network = []\n",
    "for a, b in all_combos:\n",
    "    for country in node_deg_1:\n",
    "        if country == a:\n",
    "            full_network.append((a, b))\n",
    "        elif country == b:\n",
    "            full_network.append((a, b))\n",
    "full_network = sorted(full_network)"
   ]
  },
  {
   "cell_type": "code",
   "execution_count": 49,
   "metadata": {},
   "outputs": [
    {
     "data": {
      "text/plain": [
       "72"
      ]
     },
     "execution_count": 49,
     "metadata": {},
     "output_type": "execute_result"
    }
   ],
   "source": [
    "len(full_network)"
   ]
  },
  {
   "cell_type": "code",
   "execution_count": 50,
   "metadata": {},
   "outputs": [],
   "source": [
    "for i, combo in enumerate(group_combo_df['state_name_1']):\n",
    "    for z, connection in enumerate(full_network):\n",
    "        if full_network[z][0] == combo and full_network[z][1] == group_combo_df['state_name_2'][i]:\n",
    "            group_combo_df.loc[i, 'full_network'] = 'Yes'\n",
    "            \n",
    "full_network_df = group_combo_df[group_combo_df['full_network'] == 'Yes']\n",
    "group_combo_df.drop(['full_network'], axis = 1, inplace = True)\n",
    "full_network_df = full_network_df.reset_index()\n",
    "full_network_df.drop(['index', 'full_network'], axis = 1, inplace = True)"
   ]
  },
  {
   "cell_type": "code",
   "execution_count": 51,
   "metadata": {},
   "outputs": [],
   "source": [
    "from collections import Counter"
   ]
  },
  {
   "cell_type": "code",
   "execution_count": 52,
   "metadata": {},
   "outputs": [],
   "source": [
    "full_network_counter = Counter(full_network)"
   ]
  },
  {
   "cell_type": "code",
   "execution_count": 53,
   "metadata": {},
   "outputs": [],
   "source": [
    "all_nodes = []\n",
    "for country_a, country_b in full_network:\n",
    "    all_nodes.append(country_a)\n",
    "    all_nodes.append(country_b)\n",
    "all_nodes = sorted(list(set(all_nodes)))"
   ]
  },
  {
   "cell_type": "code",
   "execution_count": 54,
   "metadata": {},
   "outputs": [
    {
     "data": {
      "text/plain": [
       "24"
      ]
     },
     "execution_count": 54,
     "metadata": {},
     "output_type": "execute_result"
    }
   ],
   "source": [
    "len(all_nodes)"
   ]
  },
  {
   "cell_type": "code",
   "execution_count": 55,
   "metadata": {},
   "outputs": [
    {
     "data": {
      "text/plain": [
       "Counter({('Argentina', 'Haiti'): 1,\n",
       "         ('Azerbaijan', 'Russia'): 1,\n",
       "         ('Canada', 'Denmark'): 2,\n",
       "         ('Canada', 'France'): 2,\n",
       "         ('Canada', 'Haiti'): 2,\n",
       "         ('Canada', 'Portugal'): 2,\n",
       "         ('Canada', 'Russia'): 2,\n",
       "         ('Canada', 'Spain'): 2,\n",
       "         ('China', 'Russia'): 1,\n",
       "         ('Congo', 'France'): 1,\n",
       "         ('Denmark', 'Canada'): 2,\n",
       "         ('Finland', 'Russia'): 1,\n",
       "         ('France', 'Canada'): 2,\n",
       "         ('France', 'Congo'): 1,\n",
       "         ('France', 'Gabon'): 1,\n",
       "         ('France', 'Libya'): 1,\n",
       "         ('France', 'Morocco'): 1,\n",
       "         ('France', 'Russia'): 2,\n",
       "         ('France', 'Spain'): 2,\n",
       "         ('Gabon', 'France'): 1,\n",
       "         ('Georgia', 'Russia'): 1,\n",
       "         ('Germany', 'Russia'): 1,\n",
       "         ('Haiti', 'Argentina'): 1,\n",
       "         ('Haiti', 'Canada'): 2,\n",
       "         ('Haiti', 'United States of America'): 1,\n",
       "         ('Iran', 'Russia'): 1,\n",
       "         ('Libya', 'France'): 1,\n",
       "         ('Morocco', 'France'): 1,\n",
       "         ('Portugal', 'Canada'): 2,\n",
       "         ('Portugal', 'United Kingdom'): 1,\n",
       "         ('Republic of Vietnam', 'Russia'): 1,\n",
       "         ('Russia', 'Azerbaijan'): 1,\n",
       "         ('Russia', 'Canada'): 2,\n",
       "         ('Russia', 'China'): 1,\n",
       "         ('Russia', 'Finland'): 1,\n",
       "         ('Russia', 'France'): 2,\n",
       "         ('Russia', 'Georgia'): 1,\n",
       "         ('Russia', 'Germany'): 1,\n",
       "         ('Russia', 'Iran'): 1,\n",
       "         ('Russia', 'Republic of Vietnam'): 1,\n",
       "         ('Russia', 'Thailand'): 1,\n",
       "         ('Russia', 'Turkey'): 1,\n",
       "         ('Russia', 'United Kingdom'): 1,\n",
       "         ('Russia', 'United States of America'): 1,\n",
       "         ('Russia', 'Yugoslavia'): 1,\n",
       "         ('Spain', 'Canada'): 2,\n",
       "         ('Spain', 'France'): 2,\n",
       "         ('Spain', 'United Kingdom'): 1,\n",
       "         ('Thailand', 'Russia'): 1,\n",
       "         ('Turkey', 'Russia'): 1,\n",
       "         ('United Kingdom', 'Portugal'): 1,\n",
       "         ('United Kingdom', 'Russia'): 1,\n",
       "         ('United Kingdom', 'Spain'): 1,\n",
       "         ('United States of America', 'Haiti'): 1,\n",
       "         ('United States of America', 'Russia'): 1,\n",
       "         ('Yugoslavia', 'Russia'): 1})"
      ]
     },
     "execution_count": 55,
     "metadata": {},
     "output_type": "execute_result"
    }
   ],
   "source": [
    "full_network_counter"
   ]
  },
  {
   "cell_type": "code",
   "execution_count": 56,
   "metadata": {},
   "outputs": [
    {
     "data": {
      "text/plain": [
       "30   NaN\n",
       "39   NaN\n",
       "Name: avg_money_flow_log, dtype: float64"
      ]
     },
     "execution_count": 56,
     "metadata": {},
     "output_type": "execute_result"
    }
   ],
   "source": [
    "full_network_df[(full_network_df['state_name_1'] == 'Republic of Vietnam') | (full_network_df['state_name_2'] == 'Republic of Vietnam')]['avg_money_flow_log']"
   ]
  },
  {
   "cell_type": "code",
   "execution_count": 57,
   "metadata": {},
   "outputs": [
    {
     "data": {
      "text/html": [
       "<div>\n",
       "<style scoped>\n",
       "    .dataframe tbody tr th:only-of-type {\n",
       "        vertical-align: middle;\n",
       "    }\n",
       "\n",
       "    .dataframe tbody tr th {\n",
       "        vertical-align: top;\n",
       "    }\n",
       "\n",
       "    .dataframe thead th {\n",
       "        text-align: right;\n",
       "    }\n",
       "</style>\n",
       "<table border=\"1\" class=\"dataframe\">\n",
       "  <thead>\n",
       "    <tr style=\"text-align: right;\">\n",
       "      <th></th>\n",
       "      <th>state_name_1</th>\n",
       "      <th>state_name_2</th>\n",
       "      <th>num_years</th>\n",
       "      <th>avg_money_flow_log</th>\n",
       "      <th>export_import_ratio</th>\n",
       "      <th>cumulative_duration</th>\n",
       "      <th>treaties_per_year</th>\n",
       "    </tr>\n",
       "  </thead>\n",
       "  <tbody>\n",
       "    <tr>\n",
       "      <th>0</th>\n",
       "      <td>Argentina</td>\n",
       "      <td>Haiti</td>\n",
       "      <td>2</td>\n",
       "      <td>13.800397</td>\n",
       "      <td>0.005128</td>\n",
       "      <td>423</td>\n",
       "      <td>1.000000</td>\n",
       "    </tr>\n",
       "    <tr>\n",
       "      <th>1</th>\n",
       "      <td>Azerbaijan</td>\n",
       "      <td>Russia</td>\n",
       "      <td>3</td>\n",
       "      <td>18.870274</td>\n",
       "      <td>1.067056</td>\n",
       "      <td>27</td>\n",
       "      <td>1.666667</td>\n",
       "    </tr>\n",
       "    <tr>\n",
       "      <th>2</th>\n",
       "      <td>Canada</td>\n",
       "      <td>Denmark</td>\n",
       "      <td>2</td>\n",
       "      <td>20.333413</td>\n",
       "      <td>2.224558</td>\n",
       "      <td>62</td>\n",
       "      <td>1.000000</td>\n",
       "    </tr>\n",
       "    <tr>\n",
       "      <th>3</th>\n",
       "      <td>Canada</td>\n",
       "      <td>France</td>\n",
       "      <td>2</td>\n",
       "      <td>21.126580</td>\n",
       "      <td>0.774574</td>\n",
       "      <td>24</td>\n",
       "      <td>1.000000</td>\n",
       "    </tr>\n",
       "    <tr>\n",
       "      <th>4</th>\n",
       "      <td>Canada</td>\n",
       "      <td>Haiti</td>\n",
       "      <td>2</td>\n",
       "      <td>14.774315</td>\n",
       "      <td>0.080138</td>\n",
       "      <td>423</td>\n",
       "      <td>1.000000</td>\n",
       "    </tr>\n",
       "  </tbody>\n",
       "</table>\n",
       "</div>"
      ],
      "text/plain": [
       "  state_name_1 state_name_2  num_years  avg_money_flow_log  \\\n",
       "0    Argentina        Haiti          2           13.800397   \n",
       "1   Azerbaijan       Russia          3           18.870274   \n",
       "2       Canada      Denmark          2           20.333413   \n",
       "3       Canada       France          2           21.126580   \n",
       "4       Canada        Haiti          2           14.774315   \n",
       "\n",
       "   export_import_ratio  cumulative_duration  treaties_per_year  \n",
       "0             0.005128                  423           1.000000  \n",
       "1             1.067056                   27           1.666667  \n",
       "2             2.224558                   62           1.000000  \n",
       "3             0.774574                   24           1.000000  \n",
       "4             0.080138                  423           1.000000  "
      ]
     },
     "execution_count": 57,
     "metadata": {},
     "output_type": "execute_result"
    }
   ],
   "source": [
    "full_network_df.head()"
   ]
  },
  {
   "cell_type": "code",
   "execution_count": 58,
   "metadata": {},
   "outputs": [
    {
     "data": {
      "text/html": [
       "<div>\n",
       "<style scoped>\n",
       "    .dataframe tbody tr th:only-of-type {\n",
       "        vertical-align: middle;\n",
       "    }\n",
       "\n",
       "    .dataframe tbody tr th {\n",
       "        vertical-align: top;\n",
       "    }\n",
       "\n",
       "    .dataframe thead th {\n",
       "        text-align: right;\n",
       "    }\n",
       "</style>\n",
       "<table border=\"1\" class=\"dataframe\">\n",
       "  <thead>\n",
       "    <tr style=\"text-align: right;\">\n",
       "      <th></th>\n",
       "      <th>state_name_1</th>\n",
       "      <th>state_name_2</th>\n",
       "      <th>num_years</th>\n",
       "      <th>avg_money_flow_log</th>\n",
       "      <th>export_import_ratio</th>\n",
       "      <th>cumulative_duration</th>\n",
       "      <th>treaties_per_year</th>\n",
       "    </tr>\n",
       "  </thead>\n",
       "  <tbody>\n",
       "  </tbody>\n",
       "</table>\n",
       "</div>"
      ],
      "text/plain": [
       "Empty DataFrame\n",
       "Columns: [state_name_1, state_name_2, num_years, avg_money_flow_log, export_import_ratio, cumulative_duration, treaties_per_year]\n",
       "Index: []"
      ]
     },
     "execution_count": 58,
     "metadata": {},
     "output_type": "execute_result"
    }
   ],
   "source": [
    "full_network_df[(full_network_df['state_name_1'] == 'Gerogia') | (full_network_df['state_name_2'] == 'Gerogia')]"
   ]
  },
  {
   "cell_type": "code",
   "execution_count": 59,
   "metadata": {},
   "outputs": [
    {
     "data": {
      "text/plain": [
       "6"
      ]
     },
     "execution_count": 59,
     "metadata": {},
     "output_type": "execute_result"
    }
   ],
   "source": [
    "graph_file = open(\"./d3/network.json\", 'w+')\n",
    "\n",
    "json_dic = {}\n",
    "json_dic['nodes'] = {}\n",
    "json_dic['links'] = {}\n",
    "start_line = '{\\n  \"nodes\": [\\n'\n",
    "\n",
    "graph_file.write(start_line)\n",
    "for i, node in enumerate(all_nodes):\n",
    "    if node == all_nodes[-1]:\n",
    "        add_line = '    {\"country\": \"' + node + '\", \"size\": ' + str(full_network_df[(full_network_df['state_name_1'] == node) | (full_network_df['state_name_2'] == node)]['avg_money_flow_log'].mean()) + '}\\n'\n",
    "        graph_file.write(add_line)\n",
    "    else:\n",
    "        add_line = '    {\"country\": \"' + node + '\", \"size\": ' + str(full_network_df[(full_network_df['state_name_1'] == node) | (full_network_df['state_name_2'] == node)]['avg_money_flow_log'].mean()) + '},\\n'\n",
    "        graph_file.write(add_line)        \n",
    "middle_line = start_line = '  ],\\n  \"links\": [\\n'\n",
    "graph_file.write(start_line)\n",
    "node_count = 0\n",
    "for node_1, node_2 in full_network:\n",
    "    node_count+=1\n",
    "    bond = full_network_counter[(node_1, node_2)]\n",
    "    if node_count == len(full_network):\n",
    "        add_line = '    {\"source\": ' + str(all_nodes.index(node_1)) + ', \"target\": ' + str(all_nodes.index(node_2)) + ', \"bond\": ' + str(bond) + '}\\n'\n",
    "        graph_file.write(add_line)\n",
    "    else:\n",
    "        add_line = '    {\"source\": ' + str(all_nodes.index(node_1)) + ', \"target\": ' + str(all_nodes.index(node_2)) + ', \"bond\": ' + str(bond) + '},\\n'\n",
    "        graph_file.write(add_line)\n",
    "end_line = '\\n  ]\\n}'\n",
    "graph_file.write(end_line)"
   ]
  },
  {
   "cell_type": "code",
   "execution_count": 60,
   "metadata": {},
   "outputs": [
    {
     "ename": "FileNotFoundError",
     "evalue": "[Errno 2] No such file or directory: './interactive_network_demo/network.json'",
     "output_type": "error",
     "traceback": [
      "\u001b[0;31m---------------------------------------------------------------------------\u001b[0m",
      "\u001b[0;31mFileNotFoundError\u001b[0m                         Traceback (most recent call last)",
      "\u001b[0;32m<ipython-input-60-7a08d33632a0>\u001b[0m in \u001b[0;36m<module>\u001b[0;34m()\u001b[0m\n\u001b[0;32m----> 1\u001b[0;31m \u001b[0mgraph_file\u001b[0m \u001b[0;34m=\u001b[0m \u001b[0mopen\u001b[0m\u001b[0;34m(\u001b[0m\u001b[0;34m\"./interactive_network_demo/network.json\"\u001b[0m\u001b[0;34m,\u001b[0m \u001b[0;34m'w+'\u001b[0m\u001b[0;34m)\u001b[0m\u001b[0;34m\u001b[0m\u001b[0m\n\u001b[0m\u001b[1;32m      2\u001b[0m \u001b[0;34m\u001b[0m\u001b[0m\n\u001b[1;32m      3\u001b[0m \u001b[0mjson_dic\u001b[0m \u001b[0;34m=\u001b[0m \u001b[0;34m{\u001b[0m\u001b[0;34m}\u001b[0m\u001b[0;34m\u001b[0m\u001b[0m\n\u001b[1;32m      4\u001b[0m \u001b[0mjson_dic\u001b[0m\u001b[0;34m[\u001b[0m\u001b[0;34m'nodes'\u001b[0m\u001b[0;34m]\u001b[0m \u001b[0;34m=\u001b[0m \u001b[0;34m{\u001b[0m\u001b[0;34m}\u001b[0m\u001b[0;34m\u001b[0m\u001b[0m\n\u001b[1;32m      5\u001b[0m \u001b[0mjson_dic\u001b[0m\u001b[0;34m[\u001b[0m\u001b[0;34m'links'\u001b[0m\u001b[0;34m]\u001b[0m \u001b[0;34m=\u001b[0m \u001b[0;34m{\u001b[0m\u001b[0;34m}\u001b[0m\u001b[0;34m\u001b[0m\u001b[0m\n",
      "\u001b[0;31mFileNotFoundError\u001b[0m: [Errno 2] No such file or directory: './interactive_network_demo/network.json'"
     ]
    }
   ],
   "source": [
    "graph_file = open(\"./interactive_network_demo/network.json\", 'w+')\n",
    "\n",
    "json_dic = {}\n",
    "json_dic['nodes'] = {}\n",
    "json_dic['links'] = {}\n",
    "start_line = '{\\n  \"nodes\": [\\n'\n",
    "\n",
    "graph_file.write(start_line)\n",
    "for i, node in enumerate(all_nodes):\n",
    "    if node == all_nodes[-1]:\n",
    "        add_line = '    {\\n\"match\": 1.0\\n      \"name\"' + node + '\", \"size\": ' + str(full_network_df[(full_network_df['state_name_1'] == node) | (full_network_df['state_name_2'] == node)]['avg_money_flow_log'].mean()) + '}\\n'\n",
    "        graph_file.write(add_line)\n",
    "    else:\n",
    "        add_line = '    {\"country\": \"' + node + '\", \"size\": ' + str(full_network_df[(full_network_df['state_name_1'] == node) | (full_network_df['state_name_2'] == node)]['avg_money_flow_log'].mean()) + '},\\n'\n",
    "        graph_file.write(add_line)        \n",
    "middle_line = start_line = '  ],\\n  \"links\": [\\n'\n",
    "graph_file.write(start_line)\n",
    "node_count = 0\n",
    "for node_1, node_2 in full_network:\n",
    "    node_count+=1\n",
    "    bond = full_network_counter[(node_1, node_2)]\n",
    "    if node_count == len(full_network):\n",
    "        add_line = '    {\"source\": ' + str(all_nodes.index(node_1)) + ', \"target\": ' + str(all_nodes.index(node_2)) + ', \"bond\": ' + str(bond) + '}\\n'\n",
    "        graph_file.write(add_line)\n",
    "    else:\n",
    "        add_line = '    {\"source\": ' + str(all_nodes.index(node_1)) + ', \"target\": ' + str(all_nodes.index(node_2)) + ', \"bond\": ' + str(bond) + '},\\n'\n",
    "        graph_file.write(add_line)\n",
    "end_line = '\\n  ]\\n}'\n",
    "graph_file.write(end_line)"
   ]
  },
  {
   "cell_type": "code",
   "execution_count": null,
   "metadata": {},
   "outputs": [],
   "source": []
  },
  {
   "cell_type": "code",
   "execution_count": null,
   "metadata": {},
   "outputs": [],
   "source": []
  },
  {
   "cell_type": "code",
   "execution_count": 61,
   "metadata": {},
   "outputs": [
    {
     "ename": "NameError",
     "evalue": "name 'network_list' is not defined",
     "output_type": "error",
     "traceback": [
      "\u001b[0;31m---------------------------------------------------------------------------\u001b[0m",
      "\u001b[0;31mNameError\u001b[0m                                 Traceback (most recent call last)",
      "\u001b[0;32m<ipython-input-61-2a6971d1b93b>\u001b[0m in \u001b[0;36m<module>\u001b[0;34m()\u001b[0m\n\u001b[1;32m      1\u001b[0m \u001b[0;32mwith\u001b[0m \u001b[0mopen\u001b[0m\u001b[0;34m(\u001b[0m\u001b[0;34m'd3/network.json'\u001b[0m\u001b[0;34m,\u001b[0m \u001b[0;34m'w'\u001b[0m\u001b[0;34m)\u001b[0m \u001b[0;32mas\u001b[0m \u001b[0moutfile\u001b[0m\u001b[0;34m:\u001b[0m\u001b[0;34m\u001b[0m\u001b[0m\n\u001b[0;32m----> 2\u001b[0;31m     \u001b[0mjson\u001b[0m\u001b[0;34m.\u001b[0m\u001b[0mdump\u001b[0m\u001b[0;34m(\u001b[0m\u001b[0mnetwork_list\u001b[0m\u001b[0;34m,\u001b[0m \u001b[0moutfile\u001b[0m\u001b[0;34m)\u001b[0m\u001b[0;34m\u001b[0m\u001b[0m\n\u001b[0m",
      "\u001b[0;31mNameError\u001b[0m: name 'network_list' is not defined"
     ]
    }
   ],
   "source": [
    "with open('d3/network.json', 'w') as outfile:\n",
    "    json.dump(network_list, outfile)"
   ]
  },
  {
   "cell_type": "code",
   "execution_count": 62,
   "metadata": {},
   "outputs": [],
   "source": [
    "country_graph = nx.Graph()"
   ]
  },
  {
   "cell_type": "code",
   "execution_count": 116,
   "metadata": {},
   "outputs": [],
   "source": [
    "for country_a, country_b in all_combos:\n",
    "    country_a_label = country_a.replace(' ', '\\n')\n",
    "    country_b_label = country_b.replace(' ', '\\n')\n",
    "    treaties_per_year = 1000 * (int(group_combo_df[(group_combo_df['state_name_1'] == country_a) & (group_combo_df['state_name_2'] == country_b)]['treaties_per_year'].values[0]))\n",
    "    country_graph.add_edge(country_a_label, country_b_label, weight = treaties_per_year)"
   ]
  },
  {
   "cell_type": "code",
   "execution_count": 124,
   "metadata": {},
   "outputs": [
    {
     "data": {
      "image/png": "[encoded data removed]",
      "text/plain": [
       "<Figure size 864x432 with 1 Axes>"
      ]
     },
     "metadata": {},
     "output_type": "display_data"
    }
   ],
   "source": [
    "filterwarnings('ignore')\n",
    "\n",
    "plt.style.use('seaborn')\n",
    "plt.figure(figsize = (12, 6))\n",
    "\n",
    "positions = nx.spring_layout(country_graph)\n",
    "network = nx.draw(country_graph, pos = positions)\n",
    "labels = nx.draw_networkx_labels(country_graph, pos = positions)\n",
    "nx.write_gexf(country_graph, \"test.gexf\")"
   ]
  },
  {
   "cell_type": "code",
   "execution_count": 125,
   "metadata": {},
   "outputs": [
    {
     "data": {
      "text/plain": [
       "68"
      ]
     },
     "execution_count": 125,
     "metadata": {},
     "output_type": "execute_result"
    }
   ],
   "source": [
    "nx.number_of_nodes(country_graph)"
   ]
  },
  {
   "cell_type": "code",
   "execution_count": 72,
   "metadata": {},
   "outputs": [
    {
     "name": "stdout",
     "output_type": "stream",
     "text": [
      "[['Argentina' '1']\n",
      " ['Haiti' '3']\n",
      " ['Azerbaijan' '1']\n",
      " ['Russia' '14']\n",
      " ['Canada' '6']\n",
      " ['Denmark' '1']\n",
      " ['France' '7']\n",
      " ['Portugal' '2']\n",
      " ['Spain' '3']\n",
      " ['China' '1']\n",
      " ['Congo' '1']\n",
      " ['Finland' '1']\n",
      " ['Gabon' '1']\n",
      " ['Libya' '1']\n",
      " ['Morocco' '1']\n",
      " ['Georgia' '1']\n",
      " ['Germany' '1']\n",
      " ['United\\nStates\\nof\\nAmerica' '2']\n",
      " ['Iran' '1']\n",
      " ['United\\nKingdom' '3']\n",
      " ['Republic\\nof\\nVietnam' '1']\n",
      " ['Thailand' '1']\n",
      " ['Turkey' '1']\n",
      " ['Yugoslavia' '1']]\n"
     ]
    }
   ],
   "source": [
    "print(np.asarray(nx.degree(country_graph)))"
   ]
  },
  {
   "cell_type": "code",
   "execution_count": 73,
   "metadata": {},
   "outputs": [
    {
     "data": {
      "image/png": "[encoded data removed]",
      "text/plain": [
       "<Figure size 576x396 with 1 Axes>"
      ]
     },
     "metadata": {},
     "output_type": "display_data"
    }
   ],
   "source": [
    "# Degree histogram of the network\n",
    "degree_hist = nx.degree_histogram(country_graph)\n",
    "xticks = range(len(degree_hist))\n",
    "plt.bar(xticks, degree_hist, align='center')\n",
    "plt.xlabel('Degree')\n",
    "plt.ylabel('Number of nodes with this degree')\n",
    "plt.title('An initial look into the degree distribution');"
   ]
  },
  {
   "cell_type": "code",
   "execution_count": 74,
   "metadata": {},
   "outputs": [
    {
     "data": {
      "text/plain": [
       "0.10144927536231885"
      ]
     },
     "execution_count": 74,
     "metadata": {},
     "output_type": "execute_result"
    }
   ],
   "source": [
    "# Network density\n",
    "nx.density(country_graph)"
   ]
  },
  {
   "cell_type": "code",
   "execution_count": 75,
   "metadata": {},
   "outputs": [
    {
     "name": "stdout",
     "output_type": "stream",
     "text": [
      "COMPONENT 0: {'Turkey', 'Russia', 'Canada', 'Spain', 'France', 'Argentina', 'Azerbaijan', 'Haiti', 'Morocco', 'Portugal', 'Finland', 'United\\nKingdom', 'Libya', 'Thailand', 'Republic\\nof\\nVietnam', 'Germany', 'Georgia', 'Gabon', 'Congo', 'United\\nStates\\nof\\nAmerica', 'China', 'Denmark', 'Yugoslavia', 'Iran'}\n"
     ]
    }
   ],
   "source": [
    "# There is a single component in this graph (in others, there can be many components)\n",
    "for i, component in enumerate(nx.connected_components(country_graph)):\n",
    "    print(\"COMPONENT {:d}:\".format(i), component)"
   ]
  },
  {
   "cell_type": "code",
   "execution_count": 76,
   "metadata": {},
   "outputs": [
    {
     "name": "stdout",
     "output_type": "stream",
     "text": [
      "Portugal\n",
      "- degree: 2\n",
      "------------\n",
      "Russia\n",
      "- degree: 14\n",
      "------------\n",
      "Spain\n",
      "- degree: 3\n",
      "------------\n"
     ]
    }
   ],
   "source": [
    "# What are the degrees of France's neighbors? \n",
    "for neighbor in nx.all_neighbors(country_graph, 'United\\nKingdom'):\n",
    "    print(neighbor)\n",
    "    degree = nx.degree(country_graph, neighbor)\n",
    "    print('- degree: {:d}'.format(degree))\n",
    "    print('------------')"
   ]
  },
  {
   "cell_type": "code",
   "execution_count": 77,
   "metadata": {},
   "outputs": [
    {
     "data": {
      "text/plain": [
       "{'Argentina': 0.2875,\n",
       " 'Haiti': 0.39655172413793105,\n",
       " 'Azerbaijan': 0.41818181818181815,\n",
       " 'Russia': 0.696969696969697,\n",
       " 'Canada': 0.575,\n",
       " 'Denmark': 0.3709677419354839,\n",
       " 'France': 0.575,\n",
       " 'Portugal': 0.38333333333333336,\n",
       " 'Spain': 0.41818181818181815,\n",
       " 'China': 0.41818181818181815,\n",
       " 'Congo': 0.3709677419354839,\n",
       " 'Finland': 0.41818181818181815,\n",
       " 'Gabon': 0.3709677419354839,\n",
       " 'Libya': 0.3709677419354839,\n",
       " 'Morocco': 0.3709677419354839,\n",
       " 'Georgia': 0.41818181818181815,\n",
       " 'Germany': 0.41818181818181815,\n",
       " 'United\\nStates\\nof\\nAmerica': 0.45098039215686275,\n",
       " 'Iran': 0.41818181818181815,\n",
       " 'United\\nKingdom': 0.45098039215686275,\n",
       " 'Republic\\nof\\nVietnam': 0.41818181818181815,\n",
       " 'Thailand': 0.41818181818181815,\n",
       " 'Turkey': 0.41818181818181815,\n",
       " 'Yugoslavia': 0.41818181818181815}"
      ]
     },
     "execution_count": 77,
     "metadata": {},
     "output_type": "execute_result"
    }
   ],
   "source": [
    "# Let's focus on other centrality values of these nodes\n",
    "\n",
    "# Closeness: Inverse of the average length of all shortest paths from this node to all other nodes\n",
    "# (closer to 1 = more central)\n",
    "nx.closeness_centrality(country_graph)"
   ]
  },
  {
   "cell_type": "code",
   "execution_count": 78,
   "metadata": {},
   "outputs": [
    {
     "data": {
      "text/plain": [
       "{'Argentina': 0.0,\n",
       " 'Haiti': 0.09321475625823451,\n",
       " 'Azerbaijan': 0.0,\n",
       " 'Russia': 0.7414361001317523,\n",
       " 'Canada': 0.25428194993412373,\n",
       " 'Denmark': 0.0,\n",
       " 'France': 0.33959156785243755,\n",
       " 'Portugal': 0.004611330698287219,\n",
       " 'Spain': 0.014492753623188406,\n",
       " 'China': 0.0,\n",
       " 'Congo': 0.0,\n",
       " 'Finland': 0.0,\n",
       " 'Gabon': 0.0,\n",
       " 'Libya': 0.0,\n",
       " 'Morocco': 0.0,\n",
       " 'Georgia': 0.0,\n",
       " 'Germany': 0.0,\n",
       " 'United\\nStates\\nof\\nAmerica': 0.04545454545454545,\n",
       " 'Iran': 0.0,\n",
       " 'United\\nKingdom': 0.04051383399209485,\n",
       " 'Republic\\nof\\nVietnam': 0.0,\n",
       " 'Thailand': 0.0,\n",
       " 'Turkey': 0.0,\n",
       " 'Yugoslavia': 0.0}"
      ]
     },
     "execution_count": 78,
     "metadata": {},
     "output_type": "execute_result"
    }
   ],
   "source": [
    "# Betweenness: Consider the shortest paths between each pair of nodes.\n",
    "# What fraction of all these paths are going through this node?\n",
    "nx.betweenness_centrality(country_graph)"
   ]
  },
  {
   "cell_type": "code",
   "execution_count": 79,
   "metadata": {},
   "outputs": [
    {
     "data": {
      "text/plain": [
       "{'Argentina': 0.0312418434739212,\n",
       " 'Haiti': 0.13240703629424652,\n",
       " 'Azerbaijan': 0.13937486974803728,\n",
       " 'Russia': 0.5906933860069514,\n",
       " 'Canada': 0.3592981142935951,\n",
       " 'Denmark': 0.08477786781359711,\n",
       " 'France': 0.3556336602038548,\n",
       " 'Portugal': 0.13766435834119092,\n",
       " 'Spain': 0.22157764780624736,\n",
       " 'China': 0.13937486974803728,\n",
       " 'Congo': 0.08391328946505666,\n",
       " 'Finland': 0.13937486974803728,\n",
       " 'Gabon': 0.08391328946505666,\n",
       " 'Libya': 0.08391328946505666,\n",
       " 'Morocco': 0.08391328946505666,\n",
       " 'Georgia': 0.13937486974803728,\n",
       " 'Germany': 0.13937486974803728,\n",
       " 'United\\nStates\\nof\\nAmerica': 0.1706167132219583,\n",
       " 'Iran': 0.13937486974803728,\n",
       " 'United\\nKingdom': 0.22413930811910157,\n",
       " 'Republic\\nof\\nVietnam': 0.13937486974803728,\n",
       " 'Thailand': 0.13937486974803728,\n",
       " 'Turkey': 0.13937486974803728,\n",
       " 'Yugoslavia': 0.13937486974803728}"
      ]
     },
     "execution_count": 79,
     "metadata": {},
     "output_type": "execute_result"
    }
   ],
   "source": [
    "# Eigencentrality: like Google's PageRank: a measure of information flow\n",
    "nx.eigenvector_centrality(country_graph)"
   ]
  },
  {
   "cell_type": "code",
   "execution_count": 82,
   "metadata": {},
   "outputs": [],
   "source": [
    "# (in case there are multiple paths of this same shortest length between these two)\n",
    "# for i, path in enumerate(nx.all_shortest_paths(country_graph, 'Jordan', 'Ecuador')):\n",
    "#     print(\"Shortest Path {}:\".format(i), path)"
   ]
  },
  {
   "cell_type": "code",
   "execution_count": 83,
   "metadata": {},
   "outputs": [
    {
     "data": {
      "text/plain": [
       "2.4057971014492754"
      ]
     },
     "execution_count": 83,
     "metadata": {},
     "output_type": "execute_result"
    }
   ],
   "source": [
    "nx.average_shortest_path_length(country_graph)"
   ]
  },
  {
   "cell_type": "code",
   "execution_count": 84,
   "metadata": {},
   "outputs": [
    {
     "data": {
      "text/plain": [
       "{'Argentina': 0,\n",
       " 'Haiti': 0,\n",
       " 'Azerbaijan': 1,\n",
       " 'Russia': 1,\n",
       " 'Canada': 2,\n",
       " 'Denmark': 2,\n",
       " 'France': 3,\n",
       " 'Portugal': 2,\n",
       " 'Spain': 2,\n",
       " 'China': 1,\n",
       " 'Congo': 3,\n",
       " 'Finland': 1,\n",
       " 'Gabon': 3,\n",
       " 'Libya': 3,\n",
       " 'Morocco': 3,\n",
       " 'Georgia': 1,\n",
       " 'Germany': 1,\n",
       " 'United\\nStates\\nof\\nAmerica': 1,\n",
       " 'Iran': 1,\n",
       " 'United\\nKingdom': 2,\n",
       " 'Republic\\nof\\nVietnam': 1,\n",
       " 'Thailand': 1,\n",
       " 'Turkey': 1,\n",
       " 'Yugoslavia': 1}"
      ]
     },
     "execution_count": 84,
     "metadata": {},
     "output_type": "execute_result"
    }
   ],
   "source": [
    "# Find the Communities with python-louvain\n",
    "modules = community.best_partition(country_graph)\n",
    "modules"
   ]
  },
  {
   "cell_type": "code",
   "execution_count": 85,
   "metadata": {},
   "outputs": [
    {
     "data": {
      "text/plain": [
       "4"
      ]
     },
     "execution_count": 85,
     "metadata": {},
     "output_type": "execute_result"
    }
   ],
   "source": [
    "# How many modules do we have?\n",
    "module_ids = set(modules.values())\n",
    "num_modules = len(module_ids)\n",
    "num_modules"
   ]
  },
  {
   "cell_type": "code",
   "execution_count": 86,
   "metadata": {},
   "outputs": [
    {
     "data": {
      "text/plain": [
       "defaultdict(list,\n",
       "            {0: ['Argentina', 'Haiti'],\n",
       "             1: ['Azerbaijan',\n",
       "              'Russia',\n",
       "              'China',\n",
       "              'Finland',\n",
       "              'Georgia',\n",
       "              'Germany',\n",
       "              'United\\nStates\\nof\\nAmerica',\n",
       "              'Iran',\n",
       "              'Republic\\nof\\nVietnam',\n",
       "              'Thailand',\n",
       "              'Turkey',\n",
       "              'Yugoslavia'],\n",
       "             2: ['Canada', 'Denmark', 'Portugal', 'Spain', 'United\\nKingdom'],\n",
       "             3: ['France', 'Congo', 'Gabon', 'Libya', 'Morocco']})"
      ]
     },
     "execution_count": 86,
     "metadata": {},
     "output_type": "execute_result"
    }
   ],
   "source": [
    "# It would be nice to look up a module and\n",
    "# see which nodes its members are\n",
    "from collections import defaultdict\n",
    "module_to_nodes = defaultdict(list)\n",
    "for node, module_id in modules.items():\n",
    "    module_to_nodes[module_id].append(node)\n",
    "\n",
    "module_to_nodes"
   ]
  },
  {
   "cell_type": "code",
   "execution_count": 87,
   "metadata": {},
   "outputs": [
    {
     "data": {
      "image/png": "[encoded data removed]",
      "text/plain": [
       "<Figure size 576x396 with 1 Axes>"
      ]
     },
     "metadata": {},
     "output_type": "display_data"
    }
   ],
   "source": [
    "# Let's visualize the modules\n",
    "\n",
    "# Use the same layout as before\n",
    "positions = nx.spring_layout(country_graph)\n",
    "\n",
    "# But now, instead of drawing it all at once, draw\n",
    "# nodes module by module, using a different color\n",
    "# for each module\n",
    "colors = ['m', 'c', 'y', 'g', 'r', 'b']\n",
    "for i, module in enumerate(module_ids):\n",
    "    nodes_in_this_module = module_to_nodes[module]\n",
    "    module_color = colors[i % len(colors)]\n",
    "    nx.draw_networkx_nodes(country_graph,\n",
    "                           positions,\n",
    "                           nodes_in_this_module,\n",
    "                           node_color = module_color)\n",
    "    \n",
    "# draw the edges and labels as well and voila\n",
    "nx.draw_networkx_edges(country_graph, positions, alpha=0.5)\n",
    "labels = nx.draw_networkx_labels(country_graph, pos = positions)"
   ]
  },
  {
   "cell_type": "code",
   "execution_count": 88,
   "metadata": {},
   "outputs": [],
   "source": [
    "nx.write_gexf(country_graph, \"test.gexf\")"
   ]
  },
  {
   "cell_type": "code",
   "execution_count": null,
   "metadata": {},
   "outputs": [],
   "source": []
  }
 ],
 "metadata": {
  "kernelspec": {
   "display_name": "Python 3",
   "language": "python",
   "name": "python3"
  },
  "language_info": {
   "codemirror_mode": {
    "name": "ipython",
    "version": 3
   },
   "file_extension": ".py",
   "mimetype": "text/x-python",
   "name": "python",
   "nbconvert_exporter": "python",
   "pygments_lexer": "ipython3",
   "version": "3.6.4"
  }
 },
 "nbformat": 4,
 "nbformat_minor": 2
}
