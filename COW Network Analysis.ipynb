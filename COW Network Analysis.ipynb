{
 "cells": [
  {
   "cell_type": "code",
   "execution_count": 1,
   "metadata": {},
   "outputs": [],
   "source": [
    "from warnings import filterwarnings\n",
    "\n",
    "filterwarnings('ignore')"
   ]
  },
  {
   "cell_type": "code",
   "execution_count": 126,
   "metadata": {},
   "outputs": [],
   "source": [
    "from copy import deepcopy\n",
    "import pandas as pd\n",
    "import numpy as np\n",
    "from more_itertools import flatten"
   ]
  },
  {
   "cell_type": "code",
   "execution_count": 174,
   "metadata": {},
   "outputs": [],
   "source": [
    "import matplotlib.pyplot as plt\n",
    "import seaborn as sns"
   ]
  },
  {
   "cell_type": "code",
   "execution_count": 127,
   "metadata": {},
   "outputs": [],
   "source": [
    "import community\n",
    "import networkx as nx"
   ]
  },
  {
   "cell_type": "code",
   "execution_count": 223,
   "metadata": {},
   "outputs": [],
   "source": [
    "pd.set_option('display.max_colwidth', 1000)\n",
    "pd.set_option('display.max_columns', None)\n",
    "# pd.set_option('display.max_rows', None)"
   ]
  },
  {
   "cell_type": "code",
   "execution_count": 323,
   "metadata": {},
   "outputs": [],
   "source": [
    "alliance_net_df = pd.read_pickle('pickle/alliance_net_df.pkl')\n",
    "mid_net_df = pd.read_pickle('pickle/mid_net_df.pkl')\n",
    "trade_net_df = pd.read_pickle('pickle/trade_net_df.pkl')"
   ]
  },
  {
   "cell_type": "code",
   "execution_count": 324,
   "metadata": {},
   "outputs": [
    {
     "data": {
      "text/plain": [
       "133486"
      ]
     },
     "execution_count": 324,
     "metadata": {},
     "output_type": "execute_result"
    }
   ],
   "source": [
    "len(alliance_net_df)"
   ]
  },
  {
   "cell_type": "code",
   "execution_count": 325,
   "metadata": {},
   "outputs": [
    {
     "data": {
      "text/plain": [
       "6308"
      ]
     },
     "execution_count": 325,
     "metadata": {},
     "output_type": "execute_result"
    }
   ],
   "source": [
    "len(mid_net_df)"
   ]
  },
  {
   "cell_type": "code",
   "execution_count": 131,
   "metadata": {},
   "outputs": [
    {
     "data": {
      "text/html": [
       "<div>\n",
       "<style scoped>\n",
       "    .dataframe tbody tr th:only-of-type {\n",
       "        vertical-align: middle;\n",
       "    }\n",
       "\n",
       "    .dataframe tbody tr th {\n",
       "        vertical-align: top;\n",
       "    }\n",
       "\n",
       "    .dataframe thead th {\n",
       "        text-align: right;\n",
       "    }\n",
       "</style>\n",
       "<table border=\"1\" class=\"dataframe\">\n",
       "  <thead>\n",
       "    <tr style=\"text-align: right;\">\n",
       "      <th></th>\n",
       "      <th>c_code_1</th>\n",
       "      <th>state_name_1</th>\n",
       "      <th>c_code_2</th>\n",
       "      <th>state_name_2</th>\n",
       "      <th>pre_1816_alliance</th>\n",
       "      <th>in_effect_1231_2012</th>\n",
       "      <th>defense_treaty</th>\n",
       "      <th>neutrality_treaty</th>\n",
       "      <th>nonaggression_treaty</th>\n",
       "      <th>entente_treaty</th>\n",
       "      <th>year</th>\n",
       "      <th>alliance_date_start</th>\n",
       "      <th>alliance_date_end</th>\n",
       "    </tr>\n",
       "  </thead>\n",
       "  <tbody>\n",
       "    <tr>\n",
       "      <th>14772</th>\n",
       "      <td>91</td>\n",
       "      <td>Honduras</td>\n",
       "      <td>150</td>\n",
       "      <td>Paraguay</td>\n",
       "      <td>0</td>\n",
       "      <td>0</td>\n",
       "      <td>1</td>\n",
       "      <td>0</td>\n",
       "      <td>0.0</td>\n",
       "      <td>1.0</td>\n",
       "      <td>1946</td>\n",
       "      <td>1945-03-06</td>\n",
       "      <td>1947-09-02</td>\n",
       "    </tr>\n",
       "    <tr>\n",
       "      <th>14773</th>\n",
       "      <td>651</td>\n",
       "      <td>Egypt</td>\n",
       "      <td>200</td>\n",
       "      <td>United Kingdom</td>\n",
       "      <td>0</td>\n",
       "      <td>0</td>\n",
       "      <td>0</td>\n",
       "      <td>0</td>\n",
       "      <td>0.0</td>\n",
       "      <td>1.0</td>\n",
       "      <td>1946</td>\n",
       "      <td>1937-05-26</td>\n",
       "      <td>1951-10-08</td>\n",
       "    </tr>\n",
       "    <tr>\n",
       "      <th>14774</th>\n",
       "      <td>91</td>\n",
       "      <td>Honduras</td>\n",
       "      <td>94</td>\n",
       "      <td>Costa Rica</td>\n",
       "      <td>0</td>\n",
       "      <td>0</td>\n",
       "      <td>1</td>\n",
       "      <td>0</td>\n",
       "      <td>0.0</td>\n",
       "      <td>1.0</td>\n",
       "      <td>1946</td>\n",
       "      <td>1945-03-06</td>\n",
       "      <td>1947-09-02</td>\n",
       "    </tr>\n",
       "    <tr>\n",
       "      <th>14775</th>\n",
       "      <td>93</td>\n",
       "      <td>Nicaragua</td>\n",
       "      <td>145</td>\n",
       "      <td>Bolivia</td>\n",
       "      <td>0</td>\n",
       "      <td>0</td>\n",
       "      <td>1</td>\n",
       "      <td>0</td>\n",
       "      <td>0.0</td>\n",
       "      <td>1.0</td>\n",
       "      <td>1946</td>\n",
       "      <td>1945-03-06</td>\n",
       "      <td>1947-09-02</td>\n",
       "    </tr>\n",
       "    <tr>\n",
       "      <th>14776</th>\n",
       "      <td>365</td>\n",
       "      <td>Russia</td>\n",
       "      <td>712</td>\n",
       "      <td>Mongolia</td>\n",
       "      <td>0</td>\n",
       "      <td>0</td>\n",
       "      <td>1</td>\n",
       "      <td>0</td>\n",
       "      <td>0.0</td>\n",
       "      <td>0.0</td>\n",
       "      <td>1946</td>\n",
       "      <td>1936-03-12</td>\n",
       "      <td>1991-12-25</td>\n",
       "    </tr>\n",
       "  </tbody>\n",
       "</table>\n",
       "</div>"
      ],
      "text/plain": [
       "       c_code_1 state_name_1  c_code_2    state_name_2  pre_1816_alliance  \\\n",
       "14772        91     Honduras       150        Paraguay                  0   \n",
       "14773       651        Egypt       200  United Kingdom                  0   \n",
       "14774        91     Honduras        94      Costa Rica                  0   \n",
       "14775        93    Nicaragua       145         Bolivia                  0   \n",
       "14776       365       Russia       712        Mongolia                  0   \n",
       "\n",
       "       in_effect_1231_2012  defense_treaty  neutrality_treaty  \\\n",
       "14772                    0               1                  0   \n",
       "14773                    0               0                  0   \n",
       "14774                    0               1                  0   \n",
       "14775                    0               1                  0   \n",
       "14776                    0               1                  0   \n",
       "\n",
       "       nonaggression_treaty  entente_treaty  year alliance_date_start  \\\n",
       "14772                   0.0             1.0  1946          1945-03-06   \n",
       "14773                   0.0             1.0  1946          1937-05-26   \n",
       "14774                   0.0             1.0  1946          1945-03-06   \n",
       "14775                   0.0             1.0  1946          1945-03-06   \n",
       "14776                   0.0             0.0  1946          1936-03-12   \n",
       "\n",
       "      alliance_date_end  \n",
       "14772        1947-09-02  \n",
       "14773        1951-10-08  \n",
       "14774        1947-09-02  \n",
       "14775        1947-09-02  \n",
       "14776        1991-12-25  "
      ]
     },
     "execution_count": 131,
     "metadata": {},
     "output_type": "execute_result"
    }
   ],
   "source": [
    "alliance_net_df.head()"
   ]
  },
  {
   "cell_type": "code",
   "execution_count": 132,
   "metadata": {},
   "outputs": [
    {
     "data": {
      "text/html": [
       "<div>\n",
       "<style scoped>\n",
       "    .dataframe tbody tr th:only-of-type {\n",
       "        vertical-align: middle;\n",
       "    }\n",
       "\n",
       "    .dataframe tbody tr th {\n",
       "        vertical-align: top;\n",
       "    }\n",
       "\n",
       "    .dataframe thead th {\n",
       "        text-align: right;\n",
       "    }\n",
       "</style>\n",
       "<table border=\"1\" class=\"dataframe\">\n",
       "  <thead>\n",
       "    <tr style=\"text-align: right;\">\n",
       "      <th></th>\n",
       "      <th>dispute_id</th>\n",
       "      <th>c_code_1</th>\n",
       "      <th>state_name_abb_a</th>\n",
       "      <th>c_code_2</th>\n",
       "      <th>state_name_abb_b</th>\n",
       "      <th>year</th>\n",
       "      <th>outcome</th>\n",
       "      <th>settlement_type</th>\n",
       "      <th>total_fatality_bin</th>\n",
       "      <th>num_with</th>\n",
       "      <th>...</th>\n",
       "      <th>state_fatality_bin</th>\n",
       "      <th>hostility_level</th>\n",
       "      <th>origin_participant</th>\n",
       "      <th>war</th>\n",
       "      <th>year_num</th>\n",
       "      <th>cumulative_duration</th>\n",
       "      <th>ongoing_2010</th>\n",
       "      <th>date_start</th>\n",
       "      <th>date_end</th>\n",
       "      <th>initiator</th>\n",
       "    </tr>\n",
       "  </thead>\n",
       "  <tbody>\n",
       "    <tr>\n",
       "      <th>3544</th>\n",
       "      <td>1792</td>\n",
       "      <td>220</td>\n",
       "      <td>FRN</td>\n",
       "      <td>800</td>\n",
       "      <td>THI</td>\n",
       "      <td>1946</td>\n",
       "      <td>Stalemate</td>\n",
       "      <td>Negotiated</td>\n",
       "      <td>101-250</td>\n",
       "      <td>1</td>\n",
       "      <td>...</td>\n",
       "      <td>1-25</td>\n",
       "      <td>4</td>\n",
       "      <td>1</td>\n",
       "      <td>0</td>\n",
       "      <td>1</td>\n",
       "      <td>251</td>\n",
       "      <td>0</td>\n",
       "      <td>1946-04-01</td>\n",
       "      <td>1946-12-07</td>\n",
       "      <td>1.0</td>\n",
       "    </tr>\n",
       "    <tr>\n",
       "      <th>3545</th>\n",
       "      <td>1792</td>\n",
       "      <td>800</td>\n",
       "      <td>THI</td>\n",
       "      <td>220</td>\n",
       "      <td>FRN</td>\n",
       "      <td>1946</td>\n",
       "      <td>Stalemate</td>\n",
       "      <td>Negotiated</td>\n",
       "      <td>101-250</td>\n",
       "      <td>1</td>\n",
       "      <td>...</td>\n",
       "      <td>101-250</td>\n",
       "      <td>4</td>\n",
       "      <td>1</td>\n",
       "      <td>0</td>\n",
       "      <td>1</td>\n",
       "      <td>251</td>\n",
       "      <td>0</td>\n",
       "      <td>1946-04-01</td>\n",
       "      <td>1946-12-07</td>\n",
       "      <td>0.0</td>\n",
       "    </tr>\n",
       "    <tr>\n",
       "      <th>3546</th>\n",
       "      <td>2704</td>\n",
       "      <td>710</td>\n",
       "      <td>CHN</td>\n",
       "      <td>365</td>\n",
       "      <td>RUS</td>\n",
       "      <td>1946</td>\n",
       "      <td>Unclear</td>\n",
       "      <td>Unclear</td>\n",
       "      <td>None Value</td>\n",
       "      <td>1</td>\n",
       "      <td>...</td>\n",
       "      <td>None Value</td>\n",
       "      <td>1</td>\n",
       "      <td>1</td>\n",
       "      <td>0</td>\n",
       "      <td>2</td>\n",
       "      <td>211</td>\n",
       "      <td>0</td>\n",
       "      <td>1945-10-06</td>\n",
       "      <td>1946-05-03</td>\n",
       "      <td>0.0</td>\n",
       "    </tr>\n",
       "    <tr>\n",
       "      <th>3547</th>\n",
       "      <td>3192</td>\n",
       "      <td>200</td>\n",
       "      <td>UKG</td>\n",
       "      <td>345</td>\n",
       "      <td>YUG</td>\n",
       "      <td>1946</td>\n",
       "      <td>Stalemate</td>\n",
       "      <td>None Value</td>\n",
       "      <td>None Value</td>\n",
       "      <td>1</td>\n",
       "      <td>...</td>\n",
       "      <td>None Value</td>\n",
       "      <td>4</td>\n",
       "      <td>1</td>\n",
       "      <td>0</td>\n",
       "      <td>1</td>\n",
       "      <td>1</td>\n",
       "      <td>0</td>\n",
       "      <td>1946-10-05</td>\n",
       "      <td>1946-10-05</td>\n",
       "      <td>1.0</td>\n",
       "    </tr>\n",
       "    <tr>\n",
       "      <th>3548</th>\n",
       "      <td>3192</td>\n",
       "      <td>345</td>\n",
       "      <td>YUG</td>\n",
       "      <td>200</td>\n",
       "      <td>UKG</td>\n",
       "      <td>1946</td>\n",
       "      <td>Stalemate</td>\n",
       "      <td>None Value</td>\n",
       "      <td>None Value</td>\n",
       "      <td>1</td>\n",
       "      <td>...</td>\n",
       "      <td>None Value</td>\n",
       "      <td>4</td>\n",
       "      <td>1</td>\n",
       "      <td>0</td>\n",
       "      <td>1</td>\n",
       "      <td>1</td>\n",
       "      <td>0</td>\n",
       "      <td>1946-10-05</td>\n",
       "      <td>1946-10-05</td>\n",
       "      <td>0.0</td>\n",
       "    </tr>\n",
       "  </tbody>\n",
       "</table>\n",
       "<p>5 rows × 23 columns</p>\n",
       "</div>"
      ],
      "text/plain": [
       "      dispute_id  c_code_1 state_name_abb_a  c_code_2 state_name_abb_b  year  \\\n",
       "3544        1792       220              FRN       800              THI  1946   \n",
       "3545        1792       800              THI       220              FRN  1946   \n",
       "3546        2704       710              CHN       365              RUS  1946   \n",
       "3547        3192       200              UKG       345              YUG  1946   \n",
       "3548        3192       345              YUG       200              UKG  1946   \n",
       "\n",
       "        outcome settlement_type total_fatality_bin  num_with    ...      \\\n",
       "3544  Stalemate      Negotiated            101-250         1    ...       \n",
       "3545  Stalemate      Negotiated            101-250         1    ...       \n",
       "3546    Unclear         Unclear         None Value         1    ...       \n",
       "3547  Stalemate      None Value         None Value         1    ...       \n",
       "3548  Stalemate      None Value         None Value         1    ...       \n",
       "\n",
       "      state_fatality_bin  hostility_level origin_participant war  year_num  \\\n",
       "3544                1-25                4                  1   0         1   \n",
       "3545             101-250                4                  1   0         1   \n",
       "3546          None Value                1                  1   0         2   \n",
       "3547          None Value                4                  1   0         1   \n",
       "3548          None Value                4                  1   0         1   \n",
       "\n",
       "      cumulative_duration  ongoing_2010  date_start   date_end  initiator  \n",
       "3544                  251             0  1946-04-01 1946-12-07        1.0  \n",
       "3545                  251             0  1946-04-01 1946-12-07        0.0  \n",
       "3546                  211             0  1945-10-06 1946-05-03        0.0  \n",
       "3547                    1             0  1946-10-05 1946-10-05        1.0  \n",
       "3548                    1             0  1946-10-05 1946-10-05        0.0  \n",
       "\n",
       "[5 rows x 23 columns]"
      ]
     },
     "execution_count": 132,
     "metadata": {},
     "output_type": "execute_result"
    }
   ],
   "source": [
    "mid_net_df.head()"
   ]
  },
  {
   "cell_type": "code",
   "execution_count": 326,
   "metadata": {},
   "outputs": [
    {
     "data": {
      "text/html": [
       "<div>\n",
       "<style scoped>\n",
       "    .dataframe tbody tr th:only-of-type {\n",
       "        vertical-align: middle;\n",
       "    }\n",
       "\n",
       "    .dataframe tbody tr th {\n",
       "        vertical-align: top;\n",
       "    }\n",
       "\n",
       "    .dataframe thead th {\n",
       "        text-align: right;\n",
       "    }\n",
       "</style>\n",
       "<table border=\"1\" class=\"dataframe\">\n",
       "  <thead>\n",
       "    <tr style=\"text-align: right;\">\n",
       "      <th></th>\n",
       "      <th>c_code_1</th>\n",
       "      <th>c_code_2</th>\n",
       "      <th>money_flow_1</th>\n",
       "      <th>money_flow_2</th>\n",
       "      <th>state_name_1</th>\n",
       "      <th>state_name_2</th>\n",
       "      <th>year</th>\n",
       "    </tr>\n",
       "  </thead>\n",
       "  <tbody>\n",
       "    <tr>\n",
       "      <th>176748</th>\n",
       "      <td>230</td>\n",
       "      <td>355</td>\n",
       "      <td>0.0</td>\n",
       "      <td>0.0</td>\n",
       "      <td>Spain</td>\n",
       "      <td>Bulgaria</td>\n",
       "      <td>1946</td>\n",
       "    </tr>\n",
       "    <tr>\n",
       "      <th>176749</th>\n",
       "      <td>645</td>\n",
       "      <td>678</td>\n",
       "      <td>0.0</td>\n",
       "      <td>0.0</td>\n",
       "      <td>Iraq</td>\n",
       "      <td>Yemen Arab Republic</td>\n",
       "      <td>1946</td>\n",
       "    </tr>\n",
       "    <tr>\n",
       "      <th>176750</th>\n",
       "      <td>70</td>\n",
       "      <td>920</td>\n",
       "      <td>0.0</td>\n",
       "      <td>0.0</td>\n",
       "      <td>Mexico</td>\n",
       "      <td>New Zealand</td>\n",
       "      <td>1946</td>\n",
       "    </tr>\n",
       "    <tr>\n",
       "      <th>176751</th>\n",
       "      <td>160</td>\n",
       "      <td>385</td>\n",
       "      <td>5800000.0</td>\n",
       "      <td>12800000.0</td>\n",
       "      <td>Argentina</td>\n",
       "      <td>Norway</td>\n",
       "      <td>1946</td>\n",
       "    </tr>\n",
       "    <tr>\n",
       "      <th>176752</th>\n",
       "      <td>2</td>\n",
       "      <td>145</td>\n",
       "      <td>59000000.0</td>\n",
       "      <td>37070000.0</td>\n",
       "      <td>United States of America</td>\n",
       "      <td>Bolivia</td>\n",
       "      <td>1946</td>\n",
       "    </tr>\n",
       "  </tbody>\n",
       "</table>\n",
       "</div>"
      ],
      "text/plain": [
       "        c_code_1  c_code_2  money_flow_1  money_flow_2  \\\n",
       "176748       230       355           0.0           0.0   \n",
       "176749       645       678           0.0           0.0   \n",
       "176750        70       920           0.0           0.0   \n",
       "176751       160       385     5800000.0    12800000.0   \n",
       "176752         2       145    59000000.0    37070000.0   \n",
       "\n",
       "                    state_name_1         state_name_2  year  \n",
       "176748                     Spain             Bulgaria  1946  \n",
       "176749                      Iraq  Yemen Arab Republic  1946  \n",
       "176750                    Mexico          New Zealand  1946  \n",
       "176751                 Argentina               Norway  1946  \n",
       "176752  United States of America              Bolivia  1946  "
      ]
     },
     "execution_count": 326,
     "metadata": {},
     "output_type": "execute_result"
    }
   ],
   "source": [
    "trade_net_df.head()"
   ]
  },
  {
   "cell_type": "code",
   "execution_count": 133,
   "metadata": {},
   "outputs": [],
   "source": [
    "one_df = pd.merge(alliance_net_df, mid_net_df, how = 'inner', on = ['c_code_1', 'c_code_2', 'year'])"
   ]
  },
  {
   "cell_type": "code",
   "execution_count": 327,
   "metadata": {},
   "outputs": [
    {
     "data": {
      "text/plain": [
       "2210"
      ]
     },
     "execution_count": 327,
     "metadata": {},
     "output_type": "execute_result"
    }
   ],
   "source": [
    "len(one_df)"
   ]
  },
  {
   "cell_type": "code",
   "execution_count": 328,
   "metadata": {},
   "outputs": [],
   "source": [
    "two_df = pd.merge(one_df, trade_net_df, how = 'inner', on = ['c_code_1', 'c_code_2', 'year'])"
   ]
  },
  {
   "cell_type": "code",
   "execution_count": 462,
   "metadata": {},
   "outputs": [],
   "source": [
    "two_df['avg_money_flow'] = (two_df['money_flow_1'] + two_df['money_flow_2'])/2"
   ]
  },
  {
   "cell_type": "code",
   "execution_count": 478,
   "metadata": {},
   "outputs": [],
   "source": [
    "two_df.rename({'state_name_1_x': 'state_name_1', 'state_name_2_x': 'state_name_2'}, axis = 1, inplace = True)\n",
    "two_df.drop(['state_name_1_y', 'state_name_2_y'], axis = 1, inplace = True)"
   ]
  },
  {
   "cell_type": "code",
   "execution_count": 479,
   "metadata": {},
   "outputs": [
    {
     "data": {
      "text/plain": [
       "2166"
      ]
     },
     "execution_count": 479,
     "metadata": {},
     "output_type": "execute_result"
    }
   ],
   "source": [
    "len(two_df)"
   ]
  },
  {
   "cell_type": "code",
   "execution_count": 480,
   "metadata": {},
   "outputs": [
    {
     "data": {
      "text/html": [
       "<div>\n",
       "<style scoped>\n",
       "    .dataframe tbody tr th:only-of-type {\n",
       "        vertical-align: middle;\n",
       "    }\n",
       "\n",
       "    .dataframe tbody tr th {\n",
       "        vertical-align: top;\n",
       "    }\n",
       "\n",
       "    .dataframe thead th {\n",
       "        text-align: right;\n",
       "    }\n",
       "</style>\n",
       "<table border=\"1\" class=\"dataframe\">\n",
       "  <thead>\n",
       "    <tr style=\"text-align: right;\">\n",
       "      <th></th>\n",
       "      <th>c_code_1</th>\n",
       "      <th>state_name_1</th>\n",
       "      <th>c_code_2</th>\n",
       "      <th>state_name_2</th>\n",
       "      <th>pre_1816_alliance</th>\n",
       "      <th>in_effect_1231_2012</th>\n",
       "      <th>defense_treaty</th>\n",
       "      <th>neutrality_treaty</th>\n",
       "      <th>nonaggression_treaty</th>\n",
       "      <th>entente_treaty</th>\n",
       "      <th>year</th>\n",
       "      <th>alliance_date_start</th>\n",
       "      <th>alliance_date_end</th>\n",
       "      <th>dispute_id</th>\n",
       "      <th>state_name_abb_a</th>\n",
       "      <th>state_name_abb_b</th>\n",
       "      <th>outcome</th>\n",
       "      <th>settlement_type</th>\n",
       "      <th>total_fatality_bin</th>\n",
       "      <th>num_with</th>\n",
       "      <th>num_against</th>\n",
       "      <th>revision_sought</th>\n",
       "      <th>revision_type</th>\n",
       "      <th>state_fatality_bin</th>\n",
       "      <th>hostility_level</th>\n",
       "      <th>origin_participant</th>\n",
       "      <th>war</th>\n",
       "      <th>year_num</th>\n",
       "      <th>cumulative_duration</th>\n",
       "      <th>ongoing_2010</th>\n",
       "      <th>date_start</th>\n",
       "      <th>date_end</th>\n",
       "      <th>initiator</th>\n",
       "      <th>money_flow_1</th>\n",
       "      <th>money_flow_2</th>\n",
       "      <th>avg_money_flow</th>\n",
       "    </tr>\n",
       "  </thead>\n",
       "  <tbody>\n",
       "    <tr>\n",
       "      <th>0</th>\n",
       "      <td>200</td>\n",
       "      <td>United Kingdom</td>\n",
       "      <td>365</td>\n",
       "      <td>Russia</td>\n",
       "      <td>0</td>\n",
       "      <td>0</td>\n",
       "      <td>1</td>\n",
       "      <td>0</td>\n",
       "      <td>0.0</td>\n",
       "      <td>0.0</td>\n",
       "      <td>1946</td>\n",
       "      <td>1941-07-12</td>\n",
       "      <td>1955-05-07</td>\n",
       "      <td>603</td>\n",
       "      <td>UKG</td>\n",
       "      <td>RUS</td>\n",
       "      <td>Stalemate</td>\n",
       "      <td>None Value</td>\n",
       "      <td>None Value</td>\n",
       "      <td>1</td>\n",
       "      <td>2</td>\n",
       "      <td>0</td>\n",
       "      <td>N/A</td>\n",
       "      <td>None Value</td>\n",
       "      <td>3</td>\n",
       "      <td>1</td>\n",
       "      <td>0</td>\n",
       "      <td>1</td>\n",
       "      <td>1</td>\n",
       "      <td>0</td>\n",
       "      <td>1946-08-03</td>\n",
       "      <td>1946-08-03</td>\n",
       "      <td>1.0</td>\n",
       "      <td>109300000.0</td>\n",
       "      <td>28500000.0</td>\n",
       "      <td>68900000.0</td>\n",
       "    </tr>\n",
       "    <tr>\n",
       "      <th>1</th>\n",
       "      <td>200</td>\n",
       "      <td>United Kingdom</td>\n",
       "      <td>365</td>\n",
       "      <td>Russia</td>\n",
       "      <td>0</td>\n",
       "      <td>0</td>\n",
       "      <td>1</td>\n",
       "      <td>0</td>\n",
       "      <td>0.0</td>\n",
       "      <td>1.0</td>\n",
       "      <td>1946</td>\n",
       "      <td>1942-01-29</td>\n",
       "      <td>1946-03-19</td>\n",
       "      <td>603</td>\n",
       "      <td>UKG</td>\n",
       "      <td>RUS</td>\n",
       "      <td>Stalemate</td>\n",
       "      <td>None Value</td>\n",
       "      <td>None Value</td>\n",
       "      <td>1</td>\n",
       "      <td>2</td>\n",
       "      <td>0</td>\n",
       "      <td>N/A</td>\n",
       "      <td>None Value</td>\n",
       "      <td>3</td>\n",
       "      <td>1</td>\n",
       "      <td>0</td>\n",
       "      <td>1</td>\n",
       "      <td>1</td>\n",
       "      <td>0</td>\n",
       "      <td>1946-08-03</td>\n",
       "      <td>1946-08-03</td>\n",
       "      <td>1.0</td>\n",
       "      <td>109300000.0</td>\n",
       "      <td>28500000.0</td>\n",
       "      <td>68900000.0</td>\n",
       "    </tr>\n",
       "    <tr>\n",
       "      <th>2</th>\n",
       "      <td>200</td>\n",
       "      <td>United Kingdom</td>\n",
       "      <td>630</td>\n",
       "      <td>Iran</td>\n",
       "      <td>0</td>\n",
       "      <td>0</td>\n",
       "      <td>1</td>\n",
       "      <td>0</td>\n",
       "      <td>0.0</td>\n",
       "      <td>1.0</td>\n",
       "      <td>1946</td>\n",
       "      <td>1942-01-29</td>\n",
       "      <td>1946-03-19</td>\n",
       "      <td>603</td>\n",
       "      <td>UKG</td>\n",
       "      <td>IRN</td>\n",
       "      <td>Stalemate</td>\n",
       "      <td>None Value</td>\n",
       "      <td>None Value</td>\n",
       "      <td>1</td>\n",
       "      <td>2</td>\n",
       "      <td>0</td>\n",
       "      <td>N/A</td>\n",
       "      <td>None Value</td>\n",
       "      <td>3</td>\n",
       "      <td>1</td>\n",
       "      <td>0</td>\n",
       "      <td>1</td>\n",
       "      <td>2</td>\n",
       "      <td>0</td>\n",
       "      <td>1946-08-02</td>\n",
       "      <td>1946-08-03</td>\n",
       "      <td>1.0</td>\n",
       "      <td>145500000.0</td>\n",
       "      <td>35800000.0</td>\n",
       "      <td>90650000.0</td>\n",
       "    </tr>\n",
       "    <tr>\n",
       "      <th>3</th>\n",
       "      <td>365</td>\n",
       "      <td>Russia</td>\n",
       "      <td>200</td>\n",
       "      <td>United Kingdom</td>\n",
       "      <td>0</td>\n",
       "      <td>0</td>\n",
       "      <td>1</td>\n",
       "      <td>0</td>\n",
       "      <td>0.0</td>\n",
       "      <td>1.0</td>\n",
       "      <td>1946</td>\n",
       "      <td>1942-01-29</td>\n",
       "      <td>1946-03-19</td>\n",
       "      <td>603</td>\n",
       "      <td>RUS</td>\n",
       "      <td>UKG</td>\n",
       "      <td>Stalemate</td>\n",
       "      <td>None Value</td>\n",
       "      <td>None Value</td>\n",
       "      <td>1</td>\n",
       "      <td>2</td>\n",
       "      <td>0</td>\n",
       "      <td>N/A</td>\n",
       "      <td>None Value</td>\n",
       "      <td>3</td>\n",
       "      <td>0</td>\n",
       "      <td>0</td>\n",
       "      <td>1</td>\n",
       "      <td>1</td>\n",
       "      <td>0</td>\n",
       "      <td>1946-08-03</td>\n",
       "      <td>1946-08-03</td>\n",
       "      <td>0.0</td>\n",
       "      <td>28500000.0</td>\n",
       "      <td>109300000.0</td>\n",
       "      <td>68900000.0</td>\n",
       "    </tr>\n",
       "    <tr>\n",
       "      <th>4</th>\n",
       "      <td>365</td>\n",
       "      <td>Russia</td>\n",
       "      <td>200</td>\n",
       "      <td>United Kingdom</td>\n",
       "      <td>0</td>\n",
       "      <td>0</td>\n",
       "      <td>1</td>\n",
       "      <td>0</td>\n",
       "      <td>0.0</td>\n",
       "      <td>0.0</td>\n",
       "      <td>1946</td>\n",
       "      <td>1941-07-12</td>\n",
       "      <td>1955-05-07</td>\n",
       "      <td>603</td>\n",
       "      <td>RUS</td>\n",
       "      <td>UKG</td>\n",
       "      <td>Stalemate</td>\n",
       "      <td>None Value</td>\n",
       "      <td>None Value</td>\n",
       "      <td>1</td>\n",
       "      <td>2</td>\n",
       "      <td>0</td>\n",
       "      <td>N/A</td>\n",
       "      <td>None Value</td>\n",
       "      <td>3</td>\n",
       "      <td>0</td>\n",
       "      <td>0</td>\n",
       "      <td>1</td>\n",
       "      <td>1</td>\n",
       "      <td>0</td>\n",
       "      <td>1946-08-03</td>\n",
       "      <td>1946-08-03</td>\n",
       "      <td>0.0</td>\n",
       "      <td>28500000.0</td>\n",
       "      <td>109300000.0</td>\n",
       "      <td>68900000.0</td>\n",
       "    </tr>\n",
       "  </tbody>\n",
       "</table>\n",
       "</div>"
      ],
      "text/plain": [
       "   c_code_1    state_name_1  c_code_2    state_name_2  pre_1816_alliance  \\\n",
       "0       200  United Kingdom       365          Russia                  0   \n",
       "1       200  United Kingdom       365          Russia                  0   \n",
       "2       200  United Kingdom       630            Iran                  0   \n",
       "3       365          Russia       200  United Kingdom                  0   \n",
       "4       365          Russia       200  United Kingdom                  0   \n",
       "\n",
       "   in_effect_1231_2012  defense_treaty  neutrality_treaty  \\\n",
       "0                    0               1                  0   \n",
       "1                    0               1                  0   \n",
       "2                    0               1                  0   \n",
       "3                    0               1                  0   \n",
       "4                    0               1                  0   \n",
       "\n",
       "   nonaggression_treaty  entente_treaty  year alliance_date_start  \\\n",
       "0                   0.0             0.0  1946          1941-07-12   \n",
       "1                   0.0             1.0  1946          1942-01-29   \n",
       "2                   0.0             1.0  1946          1942-01-29   \n",
       "3                   0.0             1.0  1946          1942-01-29   \n",
       "4                   0.0             0.0  1946          1941-07-12   \n",
       "\n",
       "  alliance_date_end  dispute_id state_name_abb_a state_name_abb_b    outcome  \\\n",
       "0        1955-05-07         603              UKG              RUS  Stalemate   \n",
       "1        1946-03-19         603              UKG              RUS  Stalemate   \n",
       "2        1946-03-19         603              UKG              IRN  Stalemate   \n",
       "3        1946-03-19         603              RUS              UKG  Stalemate   \n",
       "4        1955-05-07         603              RUS              UKG  Stalemate   \n",
       "\n",
       "  settlement_type total_fatality_bin  num_with  num_against  revision_sought  \\\n",
       "0      None Value         None Value         1            2                0   \n",
       "1      None Value         None Value         1            2                0   \n",
       "2      None Value         None Value         1            2                0   \n",
       "3      None Value         None Value         1            2                0   \n",
       "4      None Value         None Value         1            2                0   \n",
       "\n",
       "  revision_type state_fatality_bin  hostility_level  origin_participant  war  \\\n",
       "0           N/A         None Value                3                   1    0   \n",
       "1           N/A         None Value                3                   1    0   \n",
       "2           N/A         None Value                3                   1    0   \n",
       "3           N/A         None Value                3                   0    0   \n",
       "4           N/A         None Value                3                   0    0   \n",
       "\n",
       "   year_num  cumulative_duration  ongoing_2010 date_start   date_end  \\\n",
       "0         1                    1             0 1946-08-03 1946-08-03   \n",
       "1         1                    1             0 1946-08-03 1946-08-03   \n",
       "2         1                    2             0 1946-08-02 1946-08-03   \n",
       "3         1                    1             0 1946-08-03 1946-08-03   \n",
       "4         1                    1             0 1946-08-03 1946-08-03   \n",
       "\n",
       "   initiator  money_flow_1  money_flow_2  avg_money_flow  \n",
       "0        1.0   109300000.0    28500000.0      68900000.0  \n",
       "1        1.0   109300000.0    28500000.0      68900000.0  \n",
       "2        1.0   145500000.0    35800000.0      90650000.0  \n",
       "3        0.0    28500000.0   109300000.0      68900000.0  \n",
       "4        0.0    28500000.0   109300000.0      68900000.0  "
      ]
     },
     "execution_count": 480,
     "metadata": {},
     "output_type": "execute_result"
    }
   ],
   "source": [
    "two_df.head()"
   ]
  },
  {
   "cell_type": "code",
   "execution_count": 506,
   "metadata": {},
   "outputs": [],
   "source": [
    "combo_df = deepcopy(two_df[['state_name_1', 'state_name_2', 'year', 'date_start', 'avg_money_flow', 'cumulative_duration']])"
   ]
  },
  {
   "cell_type": "code",
   "execution_count": 507,
   "metadata": {},
   "outputs": [],
   "source": [
    "aggregations = {\n",
    "    'date_start': 'count',\n",
    "    'avg_money_flow': 'mean',\n",
    "    'cumulative_duration': 'sum'\n",
    "    }\n",
    "\n",
    "group_combo_df = combo_df.groupby(['year', 'state_name_1', 'state_name_2']).agg(aggregations).reset_index()"
   ]
  },
  {
   "cell_type": "code",
   "execution_count": 508,
   "metadata": {},
   "outputs": [
    {
     "data": {
      "text/html": [
       "<div>\n",
       "<style scoped>\n",
       "    .dataframe tbody tr th:only-of-type {\n",
       "        vertical-align: middle;\n",
       "    }\n",
       "\n",
       "    .dataframe tbody tr th {\n",
       "        vertical-align: top;\n",
       "    }\n",
       "\n",
       "    .dataframe thead th {\n",
       "        text-align: right;\n",
       "    }\n",
       "</style>\n",
       "<table border=\"1\" class=\"dataframe\">\n",
       "  <thead>\n",
       "    <tr style=\"text-align: right;\">\n",
       "      <th></th>\n",
       "      <th>year</th>\n",
       "      <th>state_name_1</th>\n",
       "      <th>state_name_2</th>\n",
       "      <th>date_start</th>\n",
       "      <th>avg_money_flow</th>\n",
       "      <th>cumulative_duration</th>\n",
       "    </tr>\n",
       "  </thead>\n",
       "  <tbody>\n",
       "    <tr>\n",
       "      <th>0</th>\n",
       "      <td>1946</td>\n",
       "      <td>China</td>\n",
       "      <td>Russia</td>\n",
       "      <td>1</td>\n",
       "      <td>728150000.0</td>\n",
       "      <td>211</td>\n",
       "    </tr>\n",
       "    <tr>\n",
       "      <th>1</th>\n",
       "      <td>1946</td>\n",
       "      <td>Iran</td>\n",
       "      <td>Russia</td>\n",
       "      <td>1</td>\n",
       "      <td>1700000.0</td>\n",
       "      <td>174</td>\n",
       "    </tr>\n",
       "    <tr>\n",
       "      <th>2</th>\n",
       "      <td>1946</td>\n",
       "      <td>Iran</td>\n",
       "      <td>United Kingdom</td>\n",
       "      <td>1</td>\n",
       "      <td>90650000.0</td>\n",
       "      <td>2</td>\n",
       "    </tr>\n",
       "    <tr>\n",
       "      <th>3</th>\n",
       "      <td>1946</td>\n",
       "      <td>Russia</td>\n",
       "      <td>China</td>\n",
       "      <td>1</td>\n",
       "      <td>728150000.0</td>\n",
       "      <td>211</td>\n",
       "    </tr>\n",
       "    <tr>\n",
       "      <th>4</th>\n",
       "      <td>1946</td>\n",
       "      <td>Russia</td>\n",
       "      <td>Iran</td>\n",
       "      <td>1</td>\n",
       "      <td>1700000.0</td>\n",
       "      <td>174</td>\n",
       "    </tr>\n",
       "  </tbody>\n",
       "</table>\n",
       "</div>"
      ],
      "text/plain": [
       "   year state_name_1    state_name_2  date_start  avg_money_flow  \\\n",
       "0  1946        China          Russia           1     728150000.0   \n",
       "1  1946         Iran          Russia           1       1700000.0   \n",
       "2  1946         Iran  United Kingdom           1      90650000.0   \n",
       "3  1946       Russia           China           1     728150000.0   \n",
       "4  1946       Russia            Iran           1       1700000.0   \n",
       "\n",
       "   cumulative_duration  \n",
       "0                  211  \n",
       "1                  174  \n",
       "2                    2  \n",
       "3                  211  \n",
       "4                  174  "
      ]
     },
     "execution_count": 508,
     "metadata": {},
     "output_type": "execute_result"
    }
   ],
   "source": [
    "group_combo_df.head()"
   ]
  },
  {
   "cell_type": "code",
   "execution_count": 509,
   "metadata": {},
   "outputs": [],
   "source": [
    "aggregations = {\n",
    "    'date_start': 'sum',\n",
    "    'year': 'count',\n",
    "    'avg_money_flow': 'mean',\n",
    "    'cumulative_duration': 'sum'\n",
    "    }\n",
    "\n",
    "group_combo_df = group_combo_df.groupby(['state_name_1', 'state_name_2']).agg(aggregations).reset_index()"
   ]
  },
  {
   "cell_type": "code",
   "execution_count": 510,
   "metadata": {},
   "outputs": [],
   "source": [
    "for i, combo in enumerate(group_combo_df['state_name_1']):\n",
    "    group_combo_df.loc[i, 'treaties_per_year'] = group_combo_df['date_start'][i]/group_combo_df['year'][i]\n",
    "group_combo_df.drop(['date_start'], axis = 1, inplace = True)"
   ]
  },
  {
   "cell_type": "code",
   "execution_count": 511,
   "metadata": {},
   "outputs": [
    {
     "data": {
      "text/html": [
       "<div>\n",
       "<style scoped>\n",
       "    .dataframe tbody tr th:only-of-type {\n",
       "        vertical-align: middle;\n",
       "    }\n",
       "\n",
       "    .dataframe tbody tr th {\n",
       "        vertical-align: top;\n",
       "    }\n",
       "\n",
       "    .dataframe thead th {\n",
       "        text-align: right;\n",
       "    }\n",
       "</style>\n",
       "<table border=\"1\" class=\"dataframe\">\n",
       "  <thead>\n",
       "    <tr style=\"text-align: right;\">\n",
       "      <th></th>\n",
       "      <th>state_name_1</th>\n",
       "      <th>state_name_2</th>\n",
       "      <th>year</th>\n",
       "      <th>avg_money_flow</th>\n",
       "      <th>cumulative_duration</th>\n",
       "      <th>treaties_per_year</th>\n",
       "    </tr>\n",
       "  </thead>\n",
       "  <tbody>\n",
       "    <tr>\n",
       "      <th>0</th>\n",
       "      <td>Afghanistan</td>\n",
       "      <td>Iran</td>\n",
       "      <td>3</td>\n",
       "      <td>5.280000e+06</td>\n",
       "      <td>220</td>\n",
       "      <td>1.000000</td>\n",
       "    </tr>\n",
       "    <tr>\n",
       "      <th>1</th>\n",
       "      <td>Afghanistan</td>\n",
       "      <td>Pakistan</td>\n",
       "      <td>8</td>\n",
       "      <td>5.054462e+08</td>\n",
       "      <td>3626</td>\n",
       "      <td>1.125000</td>\n",
       "    </tr>\n",
       "    <tr>\n",
       "      <th>2</th>\n",
       "      <td>Albania</td>\n",
       "      <td>Yugoslavia</td>\n",
       "      <td>1</td>\n",
       "      <td>0.000000e+00</td>\n",
       "      <td>269</td>\n",
       "      <td>1.000000</td>\n",
       "    </tr>\n",
       "    <tr>\n",
       "      <th>3</th>\n",
       "      <td>Algeria</td>\n",
       "      <td>Mauritania</td>\n",
       "      <td>1</td>\n",
       "      <td>1.920000e+06</td>\n",
       "      <td>1</td>\n",
       "      <td>1.000000</td>\n",
       "    </tr>\n",
       "    <tr>\n",
       "      <th>4</th>\n",
       "      <td>Algeria</td>\n",
       "      <td>Morocco</td>\n",
       "      <td>6</td>\n",
       "      <td>5.329167e+06</td>\n",
       "      <td>399</td>\n",
       "      <td>1.833333</td>\n",
       "    </tr>\n",
       "  </tbody>\n",
       "</table>\n",
       "</div>"
      ],
      "text/plain": [
       "  state_name_1 state_name_2  year  avg_money_flow  cumulative_duration  \\\n",
       "0  Afghanistan         Iran     3    5.280000e+06                  220   \n",
       "1  Afghanistan     Pakistan     8    5.054462e+08                 3626   \n",
       "2      Albania   Yugoslavia     1    0.000000e+00                  269   \n",
       "3      Algeria   Mauritania     1    1.920000e+06                    1   \n",
       "4      Algeria      Morocco     6    5.329167e+06                  399   \n",
       "\n",
       "   treaties_per_year  \n",
       "0           1.000000  \n",
       "1           1.125000  \n",
       "2           1.000000  \n",
       "3           1.000000  \n",
       "4           1.833333  "
      ]
     },
     "execution_count": 511,
     "metadata": {},
     "output_type": "execute_result"
    }
   ],
   "source": [
    "group_combo_df.head()"
   ]
  },
  {
   "cell_type": "code",
   "execution_count": 512,
   "metadata": {},
   "outputs": [],
   "source": [
    "distinct_combo_df = deepcopy(one_df[['state_name_1', 'state_name_2']])\n",
    "\n",
    "duplicate_list = ['state_name_1', 'state_name_2']\n",
    "\n",
    "distinct_combo_df.drop_duplicates(subset = duplicate_list, keep = 'first', inplace = True)"
   ]
  },
  {
   "cell_type": "code",
   "execution_count": 513,
   "metadata": {},
   "outputs": [],
   "source": [
    "distinct_combo_df = distinct_combo_df.reset_index()\n",
    "distinct_combo_df.drop(['index'], axis = 1, inplace = True)"
   ]
  },
  {
   "cell_type": "code",
   "execution_count": 514,
   "metadata": {},
   "outputs": [],
   "source": [
    "all_combos = []\n",
    "for i, row in enumerate(distinct_combo_df['state_name_1']):\n",
    "    all_combos.append((distinct_combo_df['state_name_1'][i], distinct_combo_df['state_name_2'][i]))"
   ]
  },
  {
   "cell_type": "code",
   "execution_count": 515,
   "metadata": {},
   "outputs": [
    {
     "data": {
      "text/plain": [
       "388"
      ]
     },
     "execution_count": 515,
     "metadata": {},
     "output_type": "execute_result"
    }
   ],
   "source": [
    "len(all_combos)"
   ]
  },
  {
   "cell_type": "code",
   "execution_count": 516,
   "metadata": {},
   "outputs": [],
   "source": [
    "distinct_countries = []\n",
    "for i in flatten(all_combos):\n",
    "    distinct_countries.append(i)\n",
    "distinct_countries = sorted(list(set(distinct_countries)))"
   ]
  },
  {
   "cell_type": "code",
   "execution_count": 517,
   "metadata": {},
   "outputs": [
    {
     "data": {
      "text/plain": [
       "132"
      ]
     },
     "execution_count": 517,
     "metadata": {},
     "output_type": "execute_result"
    }
   ],
   "source": [
    "len(distinct_countries)"
   ]
  },
  {
   "cell_type": "code",
   "execution_count": 518,
   "metadata": {},
   "outputs": [
    {
     "data": {
      "text/plain": [
       "array(['Afghanistan', 'Albania', 'Algeria', 'Angola', 'Antigua & Barbuda',\n",
       "       'Argentina', 'Armenia', 'Azerbaijan', 'Bahrain', 'Bangladesh',\n",
       "       'Barbados', 'Belarus', 'Belize', 'Benin', 'Bolivia',\n",
       "       'Bosnia and Herzegovina', 'Brazil', 'Bulgaria', 'Burkina Faso',\n",
       "       'Burundi', 'Cambodia', 'Cameroon', 'Canada',\n",
       "       'Central African Republic', 'Chad', 'Chile', 'China', 'Colombia',\n",
       "       'Congo', 'Costa Rica', 'Croatia', 'Cuba', 'Cyprus',\n",
       "       'Czechoslovakia', 'Democratic Republic of the Congo', 'Denmark',\n",
       "       'Dominica', 'Dominican Republic', 'Ecuador', 'Egypt',\n",
       "       'El Salvador', 'Eritrea', 'Ethiopia', 'Finland', 'France', 'Gabon',\n",
       "       'Gambia', 'Georgia', 'German Democratic Republic',\n",
       "       'German Federal Republic', 'Germany', 'Ghana', 'Greece', 'Grenada',\n",
       "       'Guatemala', 'Guinea', 'Guinea-Bissau', 'Guyana', 'Haiti',\n",
       "       'Honduras', 'Hungary', 'Iceland', 'India', 'Iran', 'Iraq',\n",
       "       'Israel', 'Ivory Coast', 'Jamaica', 'Jordan', 'Kenya', 'Kuwait',\n",
       "       'Kyrgyzstan', 'Lebanon', 'Liberia', 'Libya', 'Lithuania', 'Mali',\n",
       "       'Mauritania', 'Mexico', 'Moldova', 'Morocco', 'Mozambique',\n",
       "       'Nicaragua', 'Niger', 'Nigeria', 'North Korea', 'Norway', 'Oman',\n",
       "       'Pakistan', 'Panama', 'Paraguay', 'Peru', 'Poland', 'Portugal',\n",
       "       'Qatar', 'Republic of Vietnam', 'Romania', 'Russia', 'Rwanda',\n",
       "       'Saudi Arabia', 'Senegal', 'Sierra Leone', 'Somalia',\n",
       "       'South Africa', 'South Korea', 'Spain', 'St. Lucia',\n",
       "       'St. Vincent and the Grenadines', 'Sudan', 'Suriname', 'Swaziland',\n",
       "       'Syria', 'Tajikistan', 'Thailand', 'Togo', 'Trinidad and Tobago',\n",
       "       'Tunisia', 'Turkey', 'Uganda', 'Ukraine', 'United Arab Emirates',\n",
       "       'United Kingdom', 'United States of America', 'Uruguay',\n",
       "       'Uzbekistan', 'Venezuela', 'Vietnam', 'Yemen',\n",
       "       'Yemen Arab Republic', \"Yemen People's Republic\", 'Yugoslavia',\n",
       "       'Zambia'], dtype='<U32')"
      ]
     },
     "execution_count": 518,
     "metadata": {},
     "output_type": "execute_result"
    }
   ],
   "source": [
    "np.array(distinct_countries)"
   ]
  },
  {
   "cell_type": "code",
   "execution_count": 519,
   "metadata": {},
   "outputs": [],
   "source": [
    "combo_deg_1 = list(filter(lambda country: 'Spain' in country, all_combos))"
   ]
  },
  {
   "cell_type": "code",
   "execution_count": 520,
   "metadata": {},
   "outputs": [],
   "source": [
    "import json"
   ]
  },
  {
   "cell_type": "code",
   "execution_count": 521,
   "metadata": {},
   "outputs": [
    {
     "data": {
      "text/plain": [
       "38"
      ]
     },
     "execution_count": 521,
     "metadata": {},
     "output_type": "execute_result"
    }
   ],
   "source": [
    "len(country_deg_1)"
   ]
  },
  {
   "cell_type": "code",
   "execution_count": 522,
   "metadata": {},
   "outputs": [],
   "source": [
    "node_deg_1 = []\n",
    "for a, b in combo_deg_1:\n",
    "    node_deg_1.append(a)\n",
    "    node_deg_1.append(b)\n",
    "node_deg_1 = sorted(list(set(node_deg_1)))"
   ]
  },
  {
   "cell_type": "code",
   "execution_count": 523,
   "metadata": {},
   "outputs": [
    {
     "data": {
      "text/plain": [
       "4"
      ]
     },
     "execution_count": 523,
     "metadata": {},
     "output_type": "execute_result"
    }
   ],
   "source": [
    "len(node_deg_1)"
   ]
  },
  {
   "cell_type": "code",
   "execution_count": 524,
   "metadata": {},
   "outputs": [],
   "source": [
    "full_network = []\n",
    "for a, b in all_combos:\n",
    "    for country in node_deg_1:\n",
    "        if country == a:\n",
    "            full_network.append((a, b))\n",
    "        elif country == b:\n",
    "            full_network.append((a, b))\n",
    "full_network = sorted(full_network)"
   ]
  },
  {
   "cell_type": "code",
   "execution_count": 525,
   "metadata": {},
   "outputs": [
    {
     "data": {
      "text/plain": [
       "54"
      ]
     },
     "execution_count": 525,
     "metadata": {},
     "output_type": "execute_result"
    }
   ],
   "source": [
    "len(full_network)"
   ]
  },
  {
   "cell_type": "code",
   "execution_count": 535,
   "metadata": {},
   "outputs": [
    {
     "data": {
      "text/plain": [
       "'Canada'"
      ]
     },
     "execution_count": 535,
     "metadata": {},
     "output_type": "execute_result"
    }
   ],
   "source": [
    "full_network[0][0]"
   ]
  },
  {
   "cell_type": "code",
   "execution_count": null,
   "metadata": {},
   "outputs": [],
   "source": [
    "# new dataframe filtering the full network on the grouped\n",
    "\n",
    "full_network_df = pd.DataFrame()\n",
    "for combo in group_combo_df['state_name_1']:\n",
    "    for connection in full_network:\n",
    "        if full_network_df[]\n",
    "\n",
    "full_network[0][0]"
   ]
  },
  {
   "cell_type": "code",
   "execution_count": 526,
   "metadata": {},
   "outputs": [],
   "source": [
    "from collections import Counter"
   ]
  },
  {
   "cell_type": "code",
   "execution_count": 527,
   "metadata": {},
   "outputs": [],
   "source": [
    "full_network_counter = Counter(full_network)"
   ]
  },
  {
   "cell_type": "code",
   "execution_count": 528,
   "metadata": {},
   "outputs": [],
   "source": [
    "all_nodes = []\n",
    "for country_a, country_b in full_network:\n",
    "    all_nodes.append(country_a)\n",
    "    all_nodes.append(country_b)\n",
    "all_nodes = sorted(list(set(all_nodes)))"
   ]
  },
  {
   "cell_type": "code",
   "execution_count": 529,
   "metadata": {},
   "outputs": [
    {
     "data": {
      "text/plain": [
       "19"
      ]
     },
     "execution_count": 529,
     "metadata": {},
     "output_type": "execute_result"
    }
   ],
   "source": [
    "len(all_nodes)"
   ]
  },
  {
   "cell_type": "code",
   "execution_count": 530,
   "metadata": {},
   "outputs": [
    {
     "data": {
      "text/plain": [
       "Counter({('Canada', 'Denmark'): 1,\n",
       "         ('Canada', 'France'): 2,\n",
       "         ('Canada', 'Haiti'): 1,\n",
       "         ('Canada', 'Portugal'): 1,\n",
       "         ('Canada', 'Russia'): 1,\n",
       "         ('Canada', 'Spain'): 2,\n",
       "         ('Canada', 'United States of America'): 1,\n",
       "         ('China', 'United Kingdom'): 1,\n",
       "         ('Congo', 'France'): 1,\n",
       "         ('Denmark', 'Canada'): 1,\n",
       "         ('Denmark', 'United Kingdom'): 1,\n",
       "         ('Egypt', 'United Kingdom'): 1,\n",
       "         ('France', 'Canada'): 2,\n",
       "         ('France', 'Congo'): 1,\n",
       "         ('France', 'Gabon'): 1,\n",
       "         ('France', 'Libya'): 1,\n",
       "         ('France', 'Morocco'): 1,\n",
       "         ('France', 'Russia'): 1,\n",
       "         ('France', 'Spain'): 2,\n",
       "         ('Gabon', 'France'): 1,\n",
       "         ('Haiti', 'Canada'): 1,\n",
       "         ('Iceland', 'United Kingdom'): 1,\n",
       "         ('Iran', 'United Kingdom'): 1,\n",
       "         ('Iraq', 'United Kingdom'): 1,\n",
       "         ('Israel', 'United Kingdom'): 1,\n",
       "         ('Libya', 'France'): 1,\n",
       "         ('Morocco', 'France'): 1,\n",
       "         ('Portugal', 'Canada'): 1,\n",
       "         ('Portugal', 'United Kingdom'): 1,\n",
       "         ('Russia', 'Canada'): 1,\n",
       "         ('Russia', 'France'): 1,\n",
       "         ('Russia', 'United Kingdom'): 1,\n",
       "         ('Spain', 'Canada'): 2,\n",
       "         ('Spain', 'France'): 2,\n",
       "         ('Spain', 'United Kingdom'): 2,\n",
       "         ('United Kingdom', 'China'): 1,\n",
       "         ('United Kingdom', 'Denmark'): 1,\n",
       "         ('United Kingdom', 'Egypt'): 1,\n",
       "         ('United Kingdom', 'Iceland'): 1,\n",
       "         ('United Kingdom', 'Iran'): 1,\n",
       "         ('United Kingdom', 'Iraq'): 1,\n",
       "         ('United Kingdom', 'Israel'): 1,\n",
       "         ('United Kingdom', 'Portugal'): 1,\n",
       "         ('United Kingdom', 'Russia'): 1,\n",
       "         ('United Kingdom', 'Spain'): 2,\n",
       "         ('United States of America', 'Canada'): 1})"
      ]
     },
     "execution_count": 530,
     "metadata": {},
     "output_type": "execute_result"
    }
   ],
   "source": [
    "full_network_counter"
   ]
  },
  {
   "cell_type": "code",
   "execution_count": 531,
   "metadata": {},
   "outputs": [
    {
     "data": {
      "text/plain": [
       "6"
      ]
     },
     "execution_count": 531,
     "metadata": {},
     "output_type": "execute_result"
    }
   ],
   "source": [
    "graph_file = open(\"./d3/network.json\", 'a+')\n",
    "\n",
    "json_dic = {}\n",
    "json_dic['nodes'] = {}\n",
    "json_dic['links'] = {}\n",
    "start_line = '{\\n  \"nodes\": [\\n'\n",
    "\n",
    "graph_file.write(start_line)\n",
    "for i, node in enumerate(all_nodes):\n",
    "    if node == all_nodes[-1]:\n",
    "        add_line = '    {\"country\": \"' + node + '\", \"size\": 12}\\n'\n",
    "        graph_file.write(add_line)\n",
    "    else:\n",
    "        add_line = '    {\"country\": \"' + node + '\", \"size\": 12},\\n'\n",
    "        graph_file.write(add_line)\n",
    "middle_line = start_line = '  ],\\n  \"links\": [\\n'\n",
    "graph_file.write(start_line)\n",
    "node_count = 0\n",
    "for node_1, node_2 in full_network:\n",
    "    node_count+=1\n",
    "    bond = full_network_counter[(node_1, node_2)]\n",
    "    if node_count == len(full_network):\n",
    "        add_line = '    {\"source\": ' + str(all_nodes.index(node_1)) + ', \"target\": ' + str(all_nodes.index(node_2)) + ', \"bond\": ' + str(bond) + '}\\n'\n",
    "        graph_file.write(add_line)\n",
    "    else:\n",
    "        add_line = '    {\"source\": ' + str(all_nodes.index(node_1)) + ', \"target\": ' + str(all_nodes.index(node_2)) + ', \"bond\": ' + str(bond) + '},\\n'\n",
    "        graph_file.write(add_line)\n",
    "end_line = '\\n  ]\\n}'\n",
    "graph_file.write(end_line)"
   ]
  },
  {
   "cell_type": "code",
   "execution_count": null,
   "metadata": {},
   "outputs": [],
   "source": []
  },
  {
   "cell_type": "code",
   "execution_count": null,
   "metadata": {},
   "outputs": [],
   "source": []
  },
  {
   "cell_type": "code",
   "execution_count": null,
   "metadata": {},
   "outputs": [],
   "source": []
  },
  {
   "cell_type": "code",
   "execution_count": 307,
   "metadata": {},
   "outputs": [],
   "source": [
    "with open('d3/network.json', 'w') as outfile:\n",
    "    json.dump(network_list, outfile)"
   ]
  },
  {
   "cell_type": "code",
   "execution_count": 288,
   "metadata": {},
   "outputs": [],
   "source": [
    "country_graph = nx.Graph()"
   ]
  },
  {
   "cell_type": "code",
   "execution_count": 292,
   "metadata": {},
   "outputs": [],
   "source": [
    "for country_a, country_b in full_network_list:\n",
    "    country_a_label = country_a.replace(' ', '\\n')\n",
    "    country_b_label = country_b.replace(' ', '\\n')\n",
    "    treaties_per_year = 1000 * (int(group_combo_df[(group_combo_df['state_name_1'] == country_a) & (group_combo_df['state_name_2'] == country_b)]['treaties_per_year'].values[0]))\n",
    "    country_graph.add_edge(country_a_label, country_b_label, weight = treaties_per_year)"
   ]
  },
  {
   "cell_type": "code",
   "execution_count": 293,
   "metadata": {},
   "outputs": [],
   "source": [
    "# if numfind.match(line): # this line is distances\n",
    "#     dist=line.split()\n",
    "#     for d in dist:\n",
    "#         G.add_edge(city,cities[i],weight=int(d))\n",
    "#         i=i+1\n",
    "# else: # this line is a city, position, population\n",
    "#     i=1\n",
    "#     (city,coordpop)=line.split(\"[\")\n",
    "#     cities.insert(0,city)\n",
    "#     (coord,pop)=coordpop.split(\"]\")\n",
    "#     (y,x)=coord.split(\",\")\n",
    "\n",
    "#     G.add_node(city)\n",
    "#     # assign position - flip x axis for matplotlib, shift origin\n",
    "#     G.position[city]=(-int(x)+7500,int(y)-3000)\n",
    "#     G.population[city]=float(pop)/1000.0"
   ]
  },
  {
   "cell_type": "code",
   "execution_count": 297,
   "metadata": {},
   "outputs": [
    {
     "data": {
      "image/png": "[encoded data removed]",
      "text/plain": [
       "<Figure size 864x432 with 1 Axes>"
      ]
     },
     "metadata": {},
     "output_type": "display_data"
    }
   ],
   "source": [
    "filterwarnings('ignore')\n",
    "\n",
    "plt.style.use('seaborn')\n",
    "plt.figure(figsize = (12, 6))\n",
    "\n",
    "positions = nx.spring_layout(country_graph)\n",
    "network = nx.draw(country_graph, pos = positions)\n",
    "labels =  nx.draw_networkx_labels(country_graph, pos = positions)\n",
    "nx.write_gexf(country_graph, \"test.gexf\")"
   ]
  },
  {
   "cell_type": "code",
   "execution_count": 296,
   "metadata": {},
   "outputs": [],
   "source": []
  },
  {
   "cell_type": "code",
   "execution_count": 218,
   "metadata": {},
   "outputs": [
    {
     "name": "stdout",
     "output_type": "stream",
     "text": [
      "['Ravenna, OH', 'Reading, PA', 'Red Bluff, CA', 'Regina, SK', 'Reno, NV', 'Rhinelander, WI', 'Richfield, UT', 'Richmond, IN', 'Richmond, VA', 'Roanoke, VA', 'Rochester, MN', 'Rochester, NY', 'Rockford, IL', 'Rock Springs, WY', 'Rocky Mount, NC', 'Roswell, NM', 'Rutland, VT', 'Sacramento, CA', 'Saginaw, MI', 'Saint Augustine, FL', 'Saint Cloud, MN', 'Saint Johnsbury, VT', 'Saint Joseph, MI', 'Saint Joseph, MO', 'Saint Louis, MO', 'Saint Paul, MN', 'Salem, OR', 'Salida, CO', 'Salina, KS', 'Salinas, CA', 'Salisbury, MD', 'Salt Lake City, UT', 'San Angelo, TX', 'San Antonio, TX', 'San Bernardino, CA', 'San Diego, CA', 'Sandusky, OH', 'San Francisco, CA', 'San Jose, CA', 'Santa Ana, CA', 'Santa Barbara, CA', 'Santa Fe, NM', 'Santa Rosa, CA', 'Sarasota, FL', 'Sault Sainte Marie, MI', 'Savannah, GA', 'Schenectady, NY', 'Scottsbluff, NE', 'Scranton, PA', 'Seattle, WA', 'Sedalia, MO', 'Selma, AL', 'Seminole, OK', 'Sheridan, WY', 'Sherman, TX', 'Shreveport, LA', 'Sioux City, IA', 'Sioux Falls, SD', 'South Bend, IN', 'Spokane, WA', 'Springfield, IL', 'Springfield, MA', 'Springfield, MO', 'Springfield, OH', 'Staunton, VA', 'Sterling, CO', 'Steubenville, OH', 'Stevens Point, WI', 'Stockton, CA', 'Stroudsburg, PA', 'Sumter, SC', 'Swainsboro, GA', 'Syracuse, NY', 'Tacoma, WA', 'Tallahassee, FL', 'Tampa, FL', 'Terre Haute, IN', 'Texarkana, TX', 'Toledo, OH', 'Topeka, KS', 'Toronto, ON', 'Traverse City, MI', 'Trenton, NJ', 'Trinidad, CO', 'Tucson, AZ', 'Tulsa, OK', 'Tupelo, MS', 'Tuscaloosa, AL', 'Twin Falls, ID', 'Tyler, TX', 'Uniontown, PA', 'Utica, NY', 'Valdosta, GA', 'Valley City, ND', 'Vancouver, BC', 'Vicksburg, MS', 'Victoria, TX', 'Vincennes, IN', 'Waco, TX', 'Walla Walla, WA', 'Warren, PA', 'Washington, DC', 'Waterbury, CT', 'Waterloo, IA', 'Watertown, NY', 'Watertown, SD', 'Waukegan, IL', 'Wausau, WI', 'Waycross, GA', 'Weed, CA', 'Wenatchee, WA', 'West Palm Beach, FL', 'Wheeling, WV', 'Wichita, KS', 'Wichita Falls, TX', 'Williamson, WV', 'Williamsport, PA', 'Williston, ND', 'Wilmington, DE', 'Wilmington, NC', 'Winchester, VA', 'Winnipeg, MB', 'Winston-Salem, NC', 'Wisconsin Dells, WI', 'Worcester, MA', 'Yakima, WA', 'Yankton, SD', 'Youngstown, OH']\n",
      "Loaded miles_dat.txt containing 128 cities.\n",
      "digraph has 128 nodes with 8128 edges\n"
     ]
    },
    {
     "data": {
      "image/png": "[encoded data removed]",
      "text/plain": [
       "<Figure size 576x576 with 1 Axes>"
      ]
     },
     "metadata": {},
     "output_type": "display_data"
    }
   ],
   "source": [
    "#!/usr/bin/env python\n",
    "\"\"\"\n",
    "An example using networkx.Graph().\n",
    "\n",
    "miles_graph() returns an undirected graph over the 128 US cities from\n",
    "the datafile miles_dat.txt. The cities each have location and population\n",
    "data.  The edges are labeled with the distance betwen the two cities.\n",
    "\n",
    "This example is described in Section 1.1 in Knuth's book [1,2].\n",
    "\n",
    "References.\n",
    "-----------\n",
    "\n",
    "[1] Donald E. Knuth,\n",
    "    \"The Stanford GraphBase: A Platform for Combinatorial Computing\",\n",
    "    ACM Press, New York, 1993.\n",
    "[2] http://www-cs-faculty.stanford.edu/~knuth/sgb.html\n",
    "\n",
    "\n",
    "\"\"\"\n",
    "__author__ = \"\"\"Aric Hagberg (hagberg@lanl.gov)\"\"\"\n",
    "#    Copyright (C) 2004-2015 by\n",
    "#    Aric Hagberg <hagberg@lanl.gov>\n",
    "#    Dan Schult <dschult@colgate.edu>\n",
    "#    Pieter Swart <swart@lanl.gov>\n",
    "#    All rights reserved.\n",
    "#    BSD license.\n",
    "\n",
    "import networkx as nx\n",
    "\n",
    "\n",
    "def miles_graph():\n",
    "    \"\"\" Return the cites example graph in miles_dat.txt\n",
    "        from the Stanford GraphBase.\n",
    "    \"\"\"\n",
    "    # open file miles_dat.txt.gz (or miles_dat.txt)\n",
    "    import gzip\n",
    "    fh = gzip.open('/Users/charlieyaris/Downloads/knuth_miles.txt.gz','r')\n",
    "\n",
    "    G=nx.Graph()\n",
    "    G.position={}\n",
    "    G.population={}\n",
    "\n",
    "    cities=[]\n",
    "    for line in fh.readlines():\n",
    "        line = line.decode()\n",
    "        if line.startswith(\"*\"): # skip comments\n",
    "            continue\n",
    "\n",
    "        numfind=re.compile(\"^\\d+\")\n",
    "\n",
    "        if numfind.match(line): # this line is distances\n",
    "            dist=line.split()\n",
    "            for d in dist:\n",
    "                G.add_edge(city,cities[i],weight=int(d))\n",
    "                i=i+1\n",
    "        else: # this line is a city, position, population\n",
    "            i=1\n",
    "            (city,coordpop)=line.split(\"[\")\n",
    "            cities.insert(0,city)\n",
    "            (coord,pop)=coordpop.split(\"]\")\n",
    "            (y,x)=coord.split(\",\")\n",
    "\n",
    "            G.add_node(city)\n",
    "            # assign position - flip x axis for matplotlib, shift origin\n",
    "            G.position[city]=(-int(x)+7500,int(y)-3000)\n",
    "            G.population[city]=float(pop)/1000.0\n",
    "    print(cities)\n",
    "    return G\n",
    "\n",
    "if __name__ == '__main__':\n",
    "    import networkx as nx\n",
    "    import re\n",
    "    import sys\n",
    "\n",
    "    G=miles_graph()\n",
    "\n",
    "    print(\"Loaded miles_dat.txt containing 128 cities.\")\n",
    "    print(\"digraph has %d nodes with %d edges\"\\\n",
    "          %(nx.number_of_nodes(G),nx.number_of_edges(G)))\n",
    "\n",
    "\n",
    "    # make new graph of cites, edge if less then 300 miles between them\n",
    "    H=nx.Graph()\n",
    "    for v in G:\n",
    "        H.add_node(v)\n",
    "    for (u,v,d) in G.edges(data=True):\n",
    "        if d['weight'] < 300:\n",
    "            H.add_edge(u,v)\n",
    "\n",
    "    # draw with matplotlib/pylab\n",
    "\n",
    "    try:\n",
    "        import matplotlib.pyplot as plt\n",
    "        plt.figure(figsize=(8,8))\n",
    "        # with nodes colored by degree sized by population\n",
    "        node_color=[float(H.degree(v)) for v in H]\n",
    "        nx.draw(H,G.position,\n",
    "             node_size=[G.population[v] for v in H],\n",
    "             node_color=node_color,\n",
    "             with_labels=False)\n",
    "\n",
    "        # scale the axes equally\n",
    "        plt.xlim(-5000,500)\n",
    "        plt.ylim(-2000,3500)\n",
    "\n",
    "        plt.savefig(\"knuth_miles.png\")\n",
    "    except:\n",
    "        pass"
   ]
  },
  {
   "cell_type": "code",
   "execution_count": null,
   "metadata": {},
   "outputs": [],
   "source": []
  },
  {
   "cell_type": "code",
   "execution_count": null,
   "metadata": {},
   "outputs": [],
   "source": []
  },
  {
   "cell_type": "code",
   "execution_count": 214,
   "metadata": {},
   "outputs": [
    {
     "name": "stdout",
     "output_type": "stream",
     "text": [
      "Loaded miles_dat.txt containing 128 cities.\n",
      "digraph has 128 nodes with 8128 edges\n"
     ]
    },
    {
     "data": {
      "image/png": "[encoded data removed]",
      "text/plain": [
       "<Figure size 576x576 with 1 Axes>"
      ]
     },
     "metadata": {},
     "output_type": "display_data"
    }
   ],
   "source": [
    "#!/usr/bin/env python\n",
    "\"\"\"\n",
    "An example using networkx.Graph().\n",
    "\n",
    "miles_graph() returns an undirected graph over the 128 US cities from\n",
    "the datafile miles_dat.txt. The cities each have location and population\n",
    "data.  The edges are labeled with the distance betwen the two cities.\n",
    "\n",
    "This example is described in Section 1.1 in Knuth's book [1,2].\n",
    "\n",
    "References.\n",
    "-----------\n",
    "\n",
    "[1] Donald E. Knuth,\n",
    "    \"The Stanford GraphBase: A Platform for Combinatorial Computing\",\n",
    "    ACM Press, New York, 1993.\n",
    "[2] http://www-cs-faculty.stanford.edu/~knuth/sgb.html\n",
    "\n",
    "\n",
    "\"\"\"\n",
    "__author__ = \"\"\"Aric Hagberg (hagberg@lanl.gov)\"\"\"\n",
    "#    Copyright (C) 2004-2015 by\n",
    "#    Aric Hagberg <hagberg@lanl.gov>\n",
    "#    Dan Schult <dschult@colgate.edu>\n",
    "#    Pieter Swart <swart@lanl.gov>\n",
    "#    All rights reserved.\n",
    "#    BSD license.\n",
    "\n",
    "import networkx as nx\n",
    "\n",
    "\n",
    "def miles_graph():\n",
    "    \"\"\" Return the cites example graph in miles_dat.txt\n",
    "        from the Stanford GraphBase.\n",
    "    \"\"\"\n",
    "    # open file miles_dat.txt.gz (or miles_dat.txt)\n",
    "    import gzip\n",
    "    fh = gzip.open('/Users/charlieyaris/Downloads/knuth_miles.txt.gz','r')\n",
    "\n",
    "    G=nx.Graph()\n",
    "    G.position={}\n",
    "    G.population={}\n",
    "\n",
    "    cities=[]\n",
    "    for line in fh.readlines():\n",
    "        line = line.decode()\n",
    "        if line.startswith(\"*\"): # skip comments\n",
    "            continue\n",
    "\n",
    "        numfind=re.compile(\"^\\d+\")\n",
    "\n",
    "        if numfind.match(line): # this line is distances\n",
    "            dist=line.split()\n",
    "            for d in dist:\n",
    "                G.add_edge(city,cities[i],weight=int(d))\n",
    "                i=i+1\n",
    "        else: # this line is a city, position, population\n",
    "            i=1\n",
    "            (city,coordpop)=line.split(\"[\")\n",
    "            cities.insert(0,city)\n",
    "            (coord,pop)=coordpop.split(\"]\")\n",
    "            (y,x)=coord.split(\",\")\n",
    "\n",
    "            G.add_node(city)\n",
    "            # assign position - flip x axis for matplotlib, shift origin\n",
    "            G.position[city]=(-int(x)+7500,int(y)-3000)\n",
    "            G.population[city]=float(pop)/1000.0\n",
    "    return G\n",
    "\n",
    "if __name__ == '__main__':\n",
    "    import networkx as nx\n",
    "    import re\n",
    "    import sys\n",
    "\n",
    "    G=miles_graph()\n",
    "\n",
    "    print(\"Loaded miles_dat.txt containing 128 cities.\")\n",
    "    print(\"digraph has %d nodes with %d edges\"\\\n",
    "          %(nx.number_of_nodes(G),nx.number_of_edges(G)))\n",
    "\n",
    "\n",
    "    # make new graph of cites, edge if less then 300 miles between them\n",
    "    H=nx.Graph()\n",
    "    for v in G:\n",
    "        H.add_node(v)\n",
    "    for (u,v,d) in G.edges(data=True):\n",
    "        if d['weight'] < 300:\n",
    "            H.add_edge(u,v)\n",
    "\n",
    "    # draw with matplotlib/pylab\n",
    "\n",
    "    try:\n",
    "        import matplotlib.pyplot as plt\n",
    "        plt.figure(figsize=(8,8))\n",
    "        # with nodes colored by degree sized by population\n",
    "        node_color=[float(H.degree(v)) for v in H]\n",
    "        nx.draw(H,G.position,\n",
    "             node_size=[G.population[v] for v in H],\n",
    "             node_color=node_color,\n",
    "             with_labels=False)\n",
    "\n",
    "        # scale the axes equally\n",
    "        plt.xlim(-5000,500)\n",
    "        plt.ylim(-2000,3500)\n",
    "\n",
    "        plt.savefig(\"knuth_miles.png\")\n",
    "    except:\n",
    "        pass"
   ]
  },
  {
   "cell_type": "code",
   "execution_count": null,
   "metadata": {},
   "outputs": [],
   "source": []
  },
  {
   "cell_type": "code",
   "execution_count": null,
   "metadata": {},
   "outputs": [],
   "source": []
  },
  {
   "cell_type": "code",
   "execution_count": 301,
   "metadata": {},
   "outputs": [
    {
     "data": {
      "text/plain": [
       "56"
      ]
     },
     "execution_count": 301,
     "metadata": {},
     "output_type": "execute_result"
    }
   ],
   "source": [
    "nx.number_of_nodes(country_graph)"
   ]
  },
  {
   "cell_type": "code",
   "execution_count": 302,
   "metadata": {},
   "outputs": [
    {
     "name": "stdout",
     "output_type": "stream",
     "text": [
      "[['United\\nKingdom' '10']\n",
      " ['Russia' '19']\n",
      " ['Iran' '6']\n",
      " ['China' '8']\n",
      " ['France' '7']\n",
      " ['Yugoslavia' '4']\n",
      " ['Albania' '1']\n",
      " ['Hungary' '4']\n",
      " ['Egypt' '1']\n",
      " ['Ecuador' '1']\n",
      " ['United\\nStates\\nof\\nAmerica' '21']\n",
      " ['Finland' '1']\n",
      " ['Nicaragua' '1']\n",
      " ['Peru' '1']\n",
      " ['Poland' '2']\n",
      " ['Israel' '1']\n",
      " ['Iceland' '1']\n",
      " ['Iraq' '4']\n",
      " ['Turkey' '6']\n",
      " ['Morocco' '1']\n",
      " ['Guatemala' '1']\n",
      " ['Cuba' '1']\n",
      " ['Dominican\\nRepublic' '1']\n",
      " ['Denmark' '2']\n",
      " ['Thailand' '3']\n",
      " ['India' '1']\n",
      " ['Vietnam' '2']\n",
      " ['Republic\\nof\\nVietnam' '4']\n",
      " ['Cambodia' '4']\n",
      " ['Haiti' '2']\n",
      " ['Greece' '2']\n",
      " ['Gabon' '1']\n",
      " ['Cyprus' '1']\n",
      " ['Portugal' '2']\n",
      " ['Czechoslovakia' '6']\n",
      " ['German\\nDemocratic\\nRepublic' '1']\n",
      " ['Bulgaria' '2']\n",
      " ['Romania' '3']\n",
      " ['Congo' '1']\n",
      " ['Libya' '1']\n",
      " ['Canada' '7']\n",
      " ['Grenada' '1']\n",
      " ['Spain' '3']\n",
      " ['Panama' '1']\n",
      " ['Azerbaijan' '3']\n",
      " ['Armenia' '1']\n",
      " ['Georgia' '2']\n",
      " ['North\\nKorea' '1']\n",
      " ['Croatia' '1']\n",
      " ['Ukraine' '2']\n",
      " ['Liberia' '1']\n",
      " ['Germany' '1']\n",
      " ['Venezuela' '1']\n",
      " ['Pakistan' '2']\n",
      " ['Moldova' '1']\n",
      " ['Afghanistan' '1']]\n"
     ]
    }
   ],
   "source": [
    "print(np.asarray(nx.degree(country_graph)))"
   ]
  },
  {
   "cell_type": "code",
   "execution_count": 97,
   "metadata": {},
   "outputs": [
    {
     "data": {
      "image/png": "[encoded data removed]",
      "text/plain": [
       "<Figure size 432x288 with 1 Axes>"
      ]
     },
     "metadata": {
      "needs_background": "light"
     },
     "output_type": "display_data"
    }
   ],
   "source": [
    "# Degree histogram of the network\n",
    "degree_hist = nx.degree_histogram(country_graph)\n",
    "xticks = range(len(degree_hist))\n",
    "plt.bar(xticks, degree_hist, align='center')\n",
    "plt.xlabel('Degree')\n",
    "plt.ylabel('Number of nodes with this degree')\n",
    "plt.title('An initial look into the degree distribution');"
   ]
  },
  {
   "cell_type": "code",
   "execution_count": 98,
   "metadata": {},
   "outputs": [
    {
     "data": {
      "text/plain": [
       "0.05920444033302498"
      ]
     },
     "execution_count": 98,
     "metadata": {},
     "output_type": "execute_result"
    }
   ],
   "source": [
    "# Network density\n",
    "nx.density(country_graph)"
   ]
  },
  {
   "cell_type": "code",
   "execution_count": 99,
   "metadata": {},
   "outputs": [
    {
     "name": "stdout",
     "output_type": "stream",
     "text": [
      "COMPONENT 0: {'Morocco', 'Lebanon', 'Syria', 'Iceland', 'Kuwait', 'Thailand', 'Sudan', 'Canada', 'Turkey', 'Denmark', 'Israel', 'Georgia', 'United\\nArab\\nEmirates', 'Czechoslovakia', 'Afghanistan', 'United\\nKingdom', 'Iraq', 'China', 'Qatar', 'Yugoslavia', 'Romania', 'Pakistan', 'North\\nKorea', 'Portugal', 'Iran', 'United\\nStates\\nof\\nAmerica', 'Jordan', 'German\\nFederal\\nRepublic', 'Republic\\nof\\nVietnam', 'Libya', 'Saudi\\nArabia', 'India', 'Cambodia', 'Finland', 'Russia', 'France', 'Ukraine', 'Norway', 'Poland', 'Bahrain', 'Azerbaijan', 'Germany', 'Egypt', 'Oman', 'Spain', 'Hungary', 'Tunisia'}\n"
     ]
    }
   ],
   "source": [
    "# There is a single component in this graph (in others, there can be many components)\n",
    "for i, component in enumerate(nx.connected_components(country_graph)):\n",
    "    print(\"COMPONENT {:d}:\".format(i), component)"
   ]
  },
  {
   "cell_type": "code",
   "execution_count": 100,
   "metadata": {},
   "outputs": [
    {
     "name": "stdout",
     "output_type": "stream",
     "text": [
      "Russia\n",
      "- degree: 19\n",
      "------------\n",
      "Iran\n",
      "- degree: 6\n",
      "------------\n",
      "Egypt\n",
      "- degree: 7\n",
      "------------\n",
      "Israel\n",
      "- degree: 3\n",
      "------------\n",
      "Iceland\n",
      "- degree: 2\n",
      "------------\n",
      "Iraq\n",
      "- degree: 16\n",
      "------------\n",
      "Denmark\n",
      "- degree: 3\n",
      "------------\n",
      "China\n",
      "- degree: 8\n",
      "------------\n",
      "Portugal\n",
      "- degree: 2\n",
      "------------\n",
      "Spain\n",
      "- degree: 3\n",
      "------------\n"
     ]
    }
   ],
   "source": [
    "# What are the degrees of France's neighbors? \n",
    "for neighbor in nx.all_neighbors(country_graph, 'United\\nKingdom'):\n",
    "    print(neighbor)\n",
    "    degree = nx.degree(country_graph, neighbor)\n",
    "    print('- degree: {:d}'.format(degree))\n",
    "    print('------------')"
   ]
  },
  {
   "cell_type": "code",
   "execution_count": 101,
   "metadata": {},
   "outputs": [
    {
     "data": {
      "text/plain": [
       "{'United\\nKingdom': 0.5609756097560976,\n",
       " 'Russia': 0.5227272727272727,\n",
       " 'Iran': 0.4946236559139785,\n",
       " 'China': 0.45544554455445546,\n",
       " 'Egypt': 0.4339622641509434,\n",
       " 'Jordan': 0.3357664233576642,\n",
       " 'France': 0.3511450381679389,\n",
       " 'Iraq': 0.4791666666666667,\n",
       " 'Yugoslavia': 0.3458646616541353,\n",
       " 'Finland': 0.3458646616541353,\n",
       " 'Poland': 0.3458646616541353,\n",
       " 'Israel': 0.38333333333333336,\n",
       " 'Hungary': 0.3458646616541353,\n",
       " 'Syria': 0.3262411347517731,\n",
       " 'Iceland': 0.368,\n",
       " 'United\\nStates\\nof\\nAmerica': 0.46,\n",
       " 'Turkey': 0.42990654205607476,\n",
       " 'Sudan': 0.3357664233576642,\n",
       " 'Saudi\\nArabia': 0.3357664233576642,\n",
       " 'Kuwait': 0.3262411347517731,\n",
       " 'Tunisia': 0.3262411347517731,\n",
       " 'Denmark': 0.37398373983739835,\n",
       " 'Thailand': 0.35658914728682173,\n",
       " 'India': 0.3150684931506849,\n",
       " 'Republic\\nof\\nVietnam': 0.35658914728682173,\n",
       " 'Portugal': 0.368,\n",
       " 'Czechoslovakia': 0.3458646616541353,\n",
       " 'Cambodia': 0.3150684931506849,\n",
       " 'Romania': 0.3458646616541353,\n",
       " 'German\\nFederal\\nRepublic': 0.27058823529411763,\n",
       " 'Libya': 0.304635761589404,\n",
       " 'Canada': 0.368,\n",
       " 'Norway': 0.27380952380952384,\n",
       " 'Lebanon': 0.2787878787878788,\n",
       " 'Spain': 0.37398373983739835,\n",
       " 'Bahrain': 0.3262411347517731,\n",
       " 'United\\nArab\\nEmirates': 0.3262411347517731,\n",
       " 'Morocco': 0.3262411347517731,\n",
       " 'Qatar': 0.3262411347517731,\n",
       " 'Oman': 0.3262411347517731,\n",
       " 'Georgia': 0.3458646616541353,\n",
       " 'Azerbaijan': 0.3458646616541353,\n",
       " 'North\\nKorea': 0.3150684931506849,\n",
       " 'Ukraine': 0.3458646616541353,\n",
       " 'Germany': 0.3458646616541353,\n",
       " 'Afghanistan': 0.3333333333333333,\n",
       " 'Pakistan': 0.3333333333333333}"
      ]
     },
     "execution_count": 101,
     "metadata": {},
     "output_type": "execute_result"
    }
   ],
   "source": [
    "# Let's focus on other centrality values of these nodes\n",
    "\n",
    "# Closeness: Inverse of the average length of all shortest paths from this node to all other nodes\n",
    "# (closer to 1 = more central)\n",
    "nx.closeness_centrality(country_graph)"
   ]
  },
  {
   "cell_type": "code",
   "execution_count": 102,
   "metadata": {},
   "outputs": [
    {
     "data": {
      "text/plain": [
       "{'United\\nKingdom': 0.3876865968170317,\n",
       " 'Russia': 0.48851789112658667,\n",
       " 'Iran': 0.12541418324027018,\n",
       " 'China': 0.1479871175523349,\n",
       " 'Egypt': 0.08416881025576677,\n",
       " 'Jordan': 0.0,\n",
       " 'France': 0.004428341384863125,\n",
       " 'Iraq': 0.4032385971516406,\n",
       " 'Yugoslavia': 0.0,\n",
       " 'Finland': 0.0,\n",
       " 'Poland': 0.0,\n",
       " 'Israel': 0.043478260869565216,\n",
       " 'Hungary': 0.0,\n",
       " 'Syria': 0.0,\n",
       " 'Iceland': 0.043478260869565216,\n",
       " 'United\\nStates\\nof\\nAmerica': 0.06631595457682414,\n",
       " 'Turkey': 0.03757199322416713,\n",
       " 'Sudan': 0.0,\n",
       " 'Saudi\\nArabia': 0.0,\n",
       " 'Kuwait': 0.0,\n",
       " 'Tunisia': 0.0,\n",
       " 'Denmark': 0.046938327373109975,\n",
       " 'Thailand': 0.0,\n",
       " 'India': 0.0,\n",
       " 'Republic\\nof\\nVietnam': 0.0,\n",
       " 'Portugal': 0.0034600665035447653,\n",
       " 'Czechoslovakia': 0.0,\n",
       " 'Cambodia': 0.0,\n",
       " 'Romania': 0.0,\n",
       " 'German\\nFederal\\nRepublic': 0.0,\n",
       " 'Libya': 0.0,\n",
       " 'Canada': 0.027713365539452504,\n",
       " 'Norway': 0.0,\n",
       " 'Lebanon': 0.0,\n",
       " 'Spain': 0.0113413639500596,\n",
       " 'Bahrain': 0.0,\n",
       " 'United\\nArab\\nEmirates': 0.0,\n",
       " 'Morocco': 0.0,\n",
       " 'Qatar': 0.0,\n",
       " 'Oman': 0.0,\n",
       " 'Georgia': 0.0,\n",
       " 'Azerbaijan': 0.0,\n",
       " 'North\\nKorea': 0.0,\n",
       " 'Ukraine': 0.0,\n",
       " 'Germany': 0.0,\n",
       " 'Afghanistan': 0.0,\n",
       " 'Pakistan': 0.0}"
      ]
     },
     "execution_count": 102,
     "metadata": {},
     "output_type": "execute_result"
    }
   ],
   "source": [
    "# Betweenness: Consider the shortest paths between each pair of nodes.\n",
    "# What fraction of all these paths are going through this node?\n",
    "nx.betweenness_centrality(country_graph)"
   ]
  },
  {
   "cell_type": "code",
   "execution_count": 103,
   "metadata": {},
   "outputs": [
    {
     "data": {
      "text/plain": [
       "{'United\\nKingdom': 0.3616622196266445,\n",
       " 'Russia': 0.463259629093357,\n",
       " 'Iran': 0.2728838856814168,\n",
       " 'China': 0.260695576436045,\n",
       " 'Egypt': 0.21024916832695484,\n",
       " 'Jordan': 0.10295785373805291,\n",
       " 'France': 0.10133498195814805,\n",
       " 'Iraq': 0.3682255830371681,\n",
       " 'Yugoslavia': 0.08244970596927452,\n",
       " 'Finland': 0.08244970596927452,\n",
       " 'Poland': 0.08244970596927452,\n",
       " 'Israel': 0.10511881398271783,\n",
       " 'Hungary': 0.08244970596927452,\n",
       " 'Syria': 0.06553731228661874,\n",
       " 'Iceland': 0.06647407403884818,\n",
       " 'United\\nStates\\nof\\nAmerica': 0.2429526161641922,\n",
       " 'Turkey': 0.14798701825589328,\n",
       " 'Sudan': 0.10295785373805291,\n",
       " 'Saudi\\nArabia': 0.10295785373805291,\n",
       " 'Kuwait': 0.06553731228661874,\n",
       " 'Tunisia': 0.06553731228661874,\n",
       " 'Denmark': 0.09095587823134653,\n",
       " 'Thailand': 0.12884765504327603,\n",
       " 'India': 0.0463979490740015,\n",
       " 'Republic\\nof\\nVietnam': 0.12884765504327603,\n",
       " 'Portugal': 0.08807472394092729,\n",
       " 'Czechoslovakia': 0.08244970596927452,\n",
       " 'Cambodia': 0.0463979490740015,\n",
       " 'Romania': 0.08244970596927452,\n",
       " 'German\\nFederal\\nRepublic': 0.011831020311479765,\n",
       " 'Libya': 0.03742054145143418,\n",
       " 'Canada': 0.13319861640422334,\n",
       " 'Norway': 0.016188208896483182,\n",
       " 'Lebanon': 0.018709131264589538,\n",
       " 'Spain': 0.10611001023700141,\n",
       " 'Bahrain': 0.06553731228661874,\n",
       " 'United\\nArab\\nEmirates': 0.06553731228661874,\n",
       " 'Morocco': 0.06553731228661874,\n",
       " 'Qatar': 0.06553731228661874,\n",
       " 'Oman': 0.06553731228661874,\n",
       " 'Georgia': 0.08244970596927452,\n",
       " 'Azerbaijan': 0.08244970596927452,\n",
       " 'North\\nKorea': 0.0463979490740015,\n",
       " 'Ukraine': 0.08244970596927452,\n",
       " 'Germany': 0.08244970596927452,\n",
       " 'Afghanistan': 0.048567648834297455,\n",
       " 'Pakistan': 0.048567648834297455}"
      ]
     },
     "execution_count": 103,
     "metadata": {},
     "output_type": "execute_result"
    }
   ],
   "source": [
    "# Eigencentrality: like Google's PageRank: a measure of information flow\n",
    "nx.eigenvector_centrality(country_graph)"
   ]
  },
  {
   "cell_type": "code",
   "execution_count": 104,
   "metadata": {},
   "outputs": [
    {
     "ename": "NetworkXNoPath",
     "evalue": "Target Ecuador cannot be reachedfrom Source Jordan",
     "output_type": "error",
     "traceback": [
      "\u001b[0;31m---------------------------------------------------------------------------\u001b[0m",
      "\u001b[0;31mNetworkXNoPath\u001b[0m                            Traceback (most recent call last)",
      "\u001b[0;32m<ipython-input-104-5cbc09526daa>\u001b[0m in \u001b[0;36m<module>\u001b[0;34m()\u001b[0m\n\u001b[1;32m      1\u001b[0m \u001b[0;31m# (in case there are multiple paths of this same shortest length between these two)\u001b[0m\u001b[0;34m\u001b[0m\u001b[0;34m\u001b[0m\u001b[0m\n\u001b[0;32m----> 2\u001b[0;31m \u001b[0;32mfor\u001b[0m \u001b[0mi\u001b[0m\u001b[0;34m,\u001b[0m \u001b[0mpath\u001b[0m \u001b[0;32min\u001b[0m \u001b[0menumerate\u001b[0m\u001b[0;34m(\u001b[0m\u001b[0mnx\u001b[0m\u001b[0;34m.\u001b[0m\u001b[0mall_shortest_paths\u001b[0m\u001b[0;34m(\u001b[0m\u001b[0mcountry_graph\u001b[0m\u001b[0;34m,\u001b[0m \u001b[0;34m'Jordan'\u001b[0m\u001b[0;34m,\u001b[0m \u001b[0;34m'Ecuador'\u001b[0m\u001b[0;34m)\u001b[0m\u001b[0;34m)\u001b[0m\u001b[0;34m:\u001b[0m\u001b[0;34m\u001b[0m\u001b[0m\n\u001b[0m\u001b[1;32m      3\u001b[0m     \u001b[0mprint\u001b[0m\u001b[0;34m(\u001b[0m\u001b[0;34m\"Shortest Path {}:\"\u001b[0m\u001b[0;34m.\u001b[0m\u001b[0mformat\u001b[0m\u001b[0;34m(\u001b[0m\u001b[0mi\u001b[0m\u001b[0;34m)\u001b[0m\u001b[0;34m,\u001b[0m \u001b[0mpath\u001b[0m\u001b[0;34m)\u001b[0m\u001b[0;34m\u001b[0m\u001b[0m\n",
      "\u001b[0;32m~/.venvs/lpthw/lib/python3.6/site-packages/networkx/algorithms/shortest_paths/generic.py\u001b[0m in \u001b[0;36mall_shortest_paths\u001b[0;34m(G, source, target, weight, method)\u001b[0m\n\u001b[1;32m    479\u001b[0m     \u001b[0;32mif\u001b[0m \u001b[0mtarget\u001b[0m \u001b[0;32mnot\u001b[0m \u001b[0;32min\u001b[0m \u001b[0mpred\u001b[0m\u001b[0;34m:\u001b[0m\u001b[0;34m\u001b[0m\u001b[0m\n\u001b[1;32m    480\u001b[0m         raise nx.NetworkXNoPath('Target {} cannot be reached'\n\u001b[0;32m--> 481\u001b[0;31m                                 'from Source {}'.format(target, source))\n\u001b[0m\u001b[1;32m    482\u001b[0m \u001b[0;34m\u001b[0m\u001b[0m\n\u001b[1;32m    483\u001b[0m     \u001b[0mstack\u001b[0m \u001b[0;34m=\u001b[0m \u001b[0;34m[\u001b[0m\u001b[0;34m[\u001b[0m\u001b[0mtarget\u001b[0m\u001b[0;34m,\u001b[0m \u001b[0;36m0\u001b[0m\u001b[0;34m]\u001b[0m\u001b[0;34m]\u001b[0m\u001b[0;34m\u001b[0m\u001b[0m\n",
      "\u001b[0;31mNetworkXNoPath\u001b[0m: Target Ecuador cannot be reachedfrom Source Jordan"
     ]
    }
   ],
   "source": [
    "# (in case there are multiple paths of this same shortest length between these two)\n",
    "for i, path in enumerate(nx.all_shortest_paths(country_graph, 'Jordan', 'Ecuador')):\n",
    "    print(\"Shortest Path {}:\".format(i), path)"
   ]
  },
  {
   "cell_type": "code",
   "execution_count": 108,
   "metadata": {},
   "outputs": [
    {
     "data": {
      "text/plain": [
       "2.839962997224792"
      ]
     },
     "execution_count": 108,
     "metadata": {},
     "output_type": "execute_result"
    }
   ],
   "source": [
    "nx.average_shortest_path_length(country_graph)"
   ]
  },
  {
   "cell_type": "code",
   "execution_count": 109,
   "metadata": {},
   "outputs": [
    {
     "data": {
      "text/plain": [
       "{'United\\nKingdom': 0,\n",
       " 'Russia': 1,\n",
       " 'Iran': 2,\n",
       " 'China': 3,\n",
       " 'Egypt': 4,\n",
       " 'Jordan': 4,\n",
       " 'France': 0,\n",
       " 'Iraq': 4,\n",
       " 'Yugoslavia': 1,\n",
       " 'Finland': 1,\n",
       " 'Poland': 1,\n",
       " 'Israel': 0,\n",
       " 'Hungary': 1,\n",
       " 'Syria': 4,\n",
       " 'Iceland': 0,\n",
       " 'United\\nStates\\nof\\nAmerica': 2,\n",
       " 'Turkey': 4,\n",
       " 'Sudan': 4,\n",
       " 'Saudi\\nArabia': 4,\n",
       " 'Kuwait': 4,\n",
       " 'Tunisia': 4,\n",
       " 'Denmark': 0,\n",
       " 'Thailand': 3,\n",
       " 'India': 3,\n",
       " 'Republic\\nof\\nVietnam': 3,\n",
       " 'Portugal': 0,\n",
       " 'Czechoslovakia': 1,\n",
       " 'Cambodia': 3,\n",
       " 'Romania': 1,\n",
       " 'German\\nFederal\\nRepublic': 0,\n",
       " 'Libya': 4,\n",
       " 'Canada': 0,\n",
       " 'Norway': 0,\n",
       " 'Lebanon': 0,\n",
       " 'Spain': 0,\n",
       " 'Bahrain': 4,\n",
       " 'United\\nArab\\nEmirates': 4,\n",
       " 'Morocco': 4,\n",
       " 'Qatar': 4,\n",
       " 'Oman': 4,\n",
       " 'Georgia': 1,\n",
       " 'Azerbaijan': 1,\n",
       " 'North\\nKorea': 3,\n",
       " 'Ukraine': 1,\n",
       " 'Germany': 1,\n",
       " 'Afghanistan': 2,\n",
       " 'Pakistan': 2}"
      ]
     },
     "execution_count": 109,
     "metadata": {},
     "output_type": "execute_result"
    }
   ],
   "source": [
    "# Find the Communities with python-louvain\n",
    "modules = community.best_partition(country_graph)\n",
    "modules"
   ]
  },
  {
   "cell_type": "code",
   "execution_count": 110,
   "metadata": {},
   "outputs": [
    {
     "data": {
      "text/plain": [
       "5"
      ]
     },
     "execution_count": 110,
     "metadata": {},
     "output_type": "execute_result"
    }
   ],
   "source": [
    "# How many modules do we have?\n",
    "module_ids = set(modules.values())\n",
    "num_modules = len(module_ids)\n",
    "num_modules"
   ]
  },
  {
   "cell_type": "code",
   "execution_count": 111,
   "metadata": {},
   "outputs": [
    {
     "data": {
      "text/plain": [
       "defaultdict(list,\n",
       "            {0: ['United\\nKingdom',\n",
       "              'France',\n",
       "              'Israel',\n",
       "              'Iceland',\n",
       "              'Denmark',\n",
       "              'Portugal',\n",
       "              'German\\nFederal\\nRepublic',\n",
       "              'Canada',\n",
       "              'Norway',\n",
       "              'Lebanon',\n",
       "              'Spain'],\n",
       "             1: ['Russia',\n",
       "              'Yugoslavia',\n",
       "              'Finland',\n",
       "              'Poland',\n",
       "              'Hungary',\n",
       "              'Czechoslovakia',\n",
       "              'Romania',\n",
       "              'Georgia',\n",
       "              'Azerbaijan',\n",
       "              'Ukraine',\n",
       "              'Germany'],\n",
       "             2: ['Iran',\n",
       "              'United\\nStates\\nof\\nAmerica',\n",
       "              'Afghanistan',\n",
       "              'Pakistan'],\n",
       "             3: ['China',\n",
       "              'Thailand',\n",
       "              'India',\n",
       "              'Republic\\nof\\nVietnam',\n",
       "              'Cambodia',\n",
       "              'North\\nKorea'],\n",
       "             4: ['Egypt',\n",
       "              'Jordan',\n",
       "              'Iraq',\n",
       "              'Syria',\n",
       "              'Turkey',\n",
       "              'Sudan',\n",
       "              'Saudi\\nArabia',\n",
       "              'Kuwait',\n",
       "              'Tunisia',\n",
       "              'Libya',\n",
       "              'Bahrain',\n",
       "              'United\\nArab\\nEmirates',\n",
       "              'Morocco',\n",
       "              'Qatar',\n",
       "              'Oman']})"
      ]
     },
     "execution_count": 111,
     "metadata": {},
     "output_type": "execute_result"
    }
   ],
   "source": [
    "# It would be nice to look up a module and\n",
    "# see which nodes its members are\n",
    "from collections import defaultdict\n",
    "module_to_nodes = defaultdict(list)\n",
    "for node, module_id in modules.items():\n",
    "    module_to_nodes[module_id].append(node)\n",
    "\n",
    "module_to_nodes"
   ]
  },
  {
   "cell_type": "code",
   "execution_count": 112,
   "metadata": {},
   "outputs": [
    {
     "data": {
      "image/png": "[encoded data removed]",
      "text/plain": [
       "<Figure size 432x288 with 1 Axes>"
      ]
     },
     "metadata": {
      "needs_background": "light"
     },
     "output_type": "display_data"
    }
   ],
   "source": [
    "# Let's visualize the modules\n",
    "\n",
    "# Use the same layout as before\n",
    "positions = nx.spring_layout(country_graph)\n",
    "\n",
    "# But now, instead of drawing it all at once, draw\n",
    "# nodes module by module, using a different color\n",
    "# for each module\n",
    "colors = ['m', 'c', 'y', 'g', 'r', 'b']\n",
    "for i, module in enumerate(module_ids):\n",
    "    nodes_in_this_module = module_to_nodes[module]\n",
    "    module_color = colors[i % len(colors)]\n",
    "    nx.draw_networkx_nodes(country_graph,\n",
    "                           positions,\n",
    "                           nodes_in_this_module,\n",
    "                           node_color = module_color)\n",
    "    \n",
    "# draw the edges and labels as well and voila\n",
    "nx.draw_networkx_edges(country_graph, positions, alpha=0.5)\n",
    "labels = nx.draw_networkx_labels(country_graph, pos = positions)"
   ]
  },
  {
   "cell_type": "code",
   "execution_count": null,
   "metadata": {},
   "outputs": [],
   "source": []
  },
  {
   "cell_type": "code",
   "execution_count": null,
   "metadata": {},
   "outputs": [],
   "source": []
  },
  {
   "cell_type": "code",
   "execution_count": null,
   "metadata": {},
   "outputs": [],
   "source": []
  }
 ],
 "metadata": {
  "kernelspec": {
   "display_name": "Python 3",
   "language": "python",
   "name": "python3"
  },
  "language_info": {
   "codemirror_mode": {
    "name": "ipython",
    "version": 3
   },
   "file_extension": ".py",
   "mimetype": "text/x-python",
   "name": "python",
   "nbconvert_exporter": "python",
   "pygments_lexer": "ipython3",
   "version": "3.6.4"
  }
 },
 "nbformat": 4,
 "nbformat_minor": 2
}
