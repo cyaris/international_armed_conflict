{
 "cells": [
  {
   "cell_type": "code",
   "execution_count": 1,
   "metadata": {},
   "outputs": [],
   "source": [
    "import warnings\n",
    "from copy import deepcopy\n",
    "import pandas as pd\n",
    "import numpy as np\n",
    "import matplotlib.pyplot as plt\n",
    "import seaborn as sns"
   ]
  },
  {
   "cell_type": "code",
   "execution_count": 2,
   "metadata": {},
   "outputs": [],
   "source": [
    "warnings.filterwarnings('ignore')"
   ]
  },
  {
   "cell_type": "code",
   "execution_count": 3,
   "metadata": {},
   "outputs": [],
   "source": [
    "pd.set_option('display.max_colwidth', 1000)\n",
    "pd.set_option('display.max_columns', None)"
   ]
  },
  {
   "cell_type": "code",
   "execution_count": 4,
   "metadata": {},
   "outputs": [],
   "source": [
    "pd.set_option('display.float_format', lambda x: '%.3f' % x)"
   ]
  },
  {
   "cell_type": "code",
   "execution_count": 5,
   "metadata": {},
   "outputs": [],
   "source": [
    "np.random.seed(42)"
   ]
  },
  {
   "cell_type": "code",
   "execution_count": 6,
   "metadata": {},
   "outputs": [],
   "source": [
    "df = pd.read_pickle('pickle/df_modeling.pkl')"
   ]
  },
  {
   "cell_type": "code",
   "execution_count": 7,
   "metadata": {},
   "outputs": [
    {
     "data": {
      "text/plain": [
       "9115"
      ]
     },
     "execution_count": 7,
     "metadata": {},
     "output_type": "execute_result"
    }
   ],
   "source": [
    "len(df)"
   ]
  },
  {
   "cell_type": "code",
   "execution_count": 8,
   "metadata": {},
   "outputs": [],
   "source": [
    "from sklearn.model_selection import train_test_split"
   ]
  },
  {
   "cell_type": "code",
   "execution_count": 9,
   "metadata": {},
   "outputs": [],
   "source": [
    "X = df.drop(['num_conflicts', 'cow_code', 'year', 'state_name',\n",
    "             'num_wars', 'export_import_ratio', 'avg_hostility_level',\n",
    "             'revision_pct'], axis = 1)\n",
    "\n",
    "y = df['num_conflicts']\n",
    "\n",
    "X_train, X_test, y_train, y_test = train_test_split(X, y, test_size = 0.4)"
   ]
  },
  {
   "cell_type": "code",
   "execution_count": 10,
   "metadata": {},
   "outputs": [],
   "source": [
    "continuous_columns = ['num_trade_states', 'export_dollars', 'import_dollars',\n",
    "                      'military_expenditure', 'military_personnel',\n",
    "                      'prim_energy_consumption', 'total_pop', 'cinc_score',\n",
    "                      'num_alliances', 'pre_1816_alliances', 'num_in_effect_1231_2012',\n",
    "                      'defense_treaties', 'neutrality_treaties', 'nonaggression_treaties',\n",
    "                      'entente_treaties', 'avg_cum_duration', 'ongoing_2010', 'leader_tenure',\n",
    "                      'age_govt', 'num_transitions_ever', 'num_leadership_changes']\n",
    "\n",
    "X_train_cont = X_train[continuous_columns]\n",
    "X_train_cont = X_train_cont.reset_index()\n",
    "X_train_cont.drop(['index'], axis = 1, inplace = True)\n",
    "\n",
    "X_train_dummy = X_train.drop(continuous_columns, axis = 1)\n",
    "X_train_dummy = X_train_dummy.reset_index()\n",
    "X_train_dummy.drop(['index'], axis = 1, inplace = True)\n",
    "\n",
    "X_test_cont = X_test[continuous_columns]\n",
    "X_test_cont = X_test_cont.reset_index()\n",
    "X_test_cont.drop(['index'], axis = 1, inplace = True)\n",
    "\n",
    "X_test_dummy = X_test.drop(continuous_columns, axis = 1)\n",
    "X_test_dummy = X_test_dummy.reset_index()\n",
    "X_test_dummy.drop(['index'], axis = 1, inplace = True)"
   ]
  },
  {
   "cell_type": "code",
   "execution_count": 11,
   "metadata": {},
   "outputs": [],
   "source": [
    "from sklearn.preprocessing import StandardScaler"
   ]
  },
  {
   "cell_type": "code",
   "execution_count": 12,
   "metadata": {},
   "outputs": [],
   "source": [
    "scaler = StandardScaler()\n",
    "\n",
    "X_train_cont_scaled = pd.DataFrame(scaler.fit_transform(X_train_cont))\n",
    "X_train_cont_scaled = X_train_cont_scaled.reset_index()\n",
    "X_train_cont_scaled.drop(['index'], axis = 1, inplace = True)\n",
    "X_train_cont_scaled.columns = continuous_columns\n",
    "\n",
    "X_test_cont_scaled = pd.DataFrame(scaler.transform(X_test_cont))\n",
    "X_test_cont_scaled = X_test_cont_scaled.reset_index()\n",
    "X_test_cont_scaled.drop(['index'], axis = 1, inplace = True)\n",
    "X_test_cont_scaled.columns = continuous_columns\n",
    "\n",
    "X_train_scaled = pd.concat([X_train_cont_scaled, X_train_dummy], axis = 1)\n",
    "X_test_scaled = pd.concat([X_test_cont_scaled, X_test_dummy], axis = 1)"
   ]
  },
  {
   "cell_type": "code",
   "execution_count": 13,
   "metadata": {},
   "outputs": [
    {
     "data": {
      "text/html": [
       "<div>\n",
       "<style scoped>\n",
       "    .dataframe tbody tr th:only-of-type {\n",
       "        vertical-align: middle;\n",
       "    }\n",
       "\n",
       "    .dataframe tbody tr th {\n",
       "        vertical-align: top;\n",
       "    }\n",
       "\n",
       "    .dataframe thead th {\n",
       "        text-align: right;\n",
       "    }\n",
       "</style>\n",
       "<table border=\"1\" class=\"dataframe\">\n",
       "  <thead>\n",
       "    <tr style=\"text-align: right;\">\n",
       "      <th></th>\n",
       "      <th>num_trade_states</th>\n",
       "      <th>export_dollars</th>\n",
       "      <th>import_dollars</th>\n",
       "      <th>military_expenditure</th>\n",
       "      <th>military_personnel</th>\n",
       "      <th>prim_energy_consumption</th>\n",
       "      <th>total_pop</th>\n",
       "      <th>cinc_score</th>\n",
       "      <th>num_alliances</th>\n",
       "      <th>pre_1816_alliances</th>\n",
       "      <th>num_in_effect_1231_2012</th>\n",
       "      <th>defense_treaties</th>\n",
       "      <th>neutrality_treaties</th>\n",
       "      <th>nonaggression_treaties</th>\n",
       "      <th>entente_treaties</th>\n",
       "      <th>avg_cum_duration</th>\n",
       "      <th>ongoing_2010</th>\n",
       "      <th>leader_tenure</th>\n",
       "      <th>age_govt</th>\n",
       "      <th>num_transitions_ever</th>\n",
       "      <th>num_leadership_changes</th>\n",
       "      <th>Africa</th>\n",
       "      <th>Americas</th>\n",
       "      <th>Asia</th>\n",
       "      <th>Europe</th>\n",
       "      <th>Oceania</th>\n",
       "      <th>Direct election</th>\n",
       "      <th>Indirect election</th>\n",
       "      <th>Nonelective</th>\n",
       "      <th>Elective legislature</th>\n",
       "      <th>No legislature exists</th>\n",
       "      <th>Non‐elective legislature</th>\n",
       "      <th>Appointed</th>\n",
       "      <th>Closed</th>\n",
       "      <th>Elected</th>\n",
       "      <th>All parties legally banned</th>\n",
       "      <th>Legally single party state</th>\n",
       "      <th>Multiple parties legally allowed</th>\n",
       "      <th>Elective legislature</th>\n",
       "      <th>No legislature exists</th>\n",
       "      <th>Non‐elective legislature</th>\n",
       "      <th>Multiple parties</th>\n",
       "      <th>No parties</th>\n",
       "      <th>One party</th>\n",
       "      <th>Legislature with multiple parties</th>\n",
       "      <th>No legislature or all nonpartisan</th>\n",
       "      <th>Only members from regime party</th>\n",
       "      <th>Democratic incumbent</th>\n",
       "      <th>Rules rewritten unconstitutionally</th>\n",
       "      <th>collective_leadership</th>\n",
       "      <th>military_leader</th>\n",
       "      <th>royal_leader</th>\n",
       "      <th>nominal_vs_eff_diff</th>\n",
       "      <th>communist_leader</th>\n",
       "      <th>leader_died</th>\n",
       "      <th>democratic_regime</th>\n",
       "      <th>cabinet_assembly</th>\n",
       "      <th>popular_election</th>\n",
       "      <th>Civilian dictatorship</th>\n",
       "      <th>Military dictatorship</th>\n",
       "      <th>Mixed (semi‐presidential) democracy</th>\n",
       "      <th>Parliamentary democracy</th>\n",
       "      <th>Presidential democracy</th>\n",
       "      <th>Royal dictatorship</th>\n",
       "      <th>transition_to_democracy</th>\n",
       "      <th>transition_to_dictatorship</th>\n",
       "    </tr>\n",
       "  </thead>\n",
       "  <tbody>\n",
       "    <tr>\n",
       "      <th>0</th>\n",
       "      <td>-2.298</td>\n",
       "      <td>-0.242</td>\n",
       "      <td>-0.253</td>\n",
       "      <td>-0.166</td>\n",
       "      <td>-0.300</td>\n",
       "      <td>-0.247</td>\n",
       "      <td>-0.257</td>\n",
       "      <td>-0.272</td>\n",
       "      <td>0.491</td>\n",
       "      <td>-0.122</td>\n",
       "      <td>0.582</td>\n",
       "      <td>0.798</td>\n",
       "      <td>-0.219</td>\n",
       "      <td>0.771</td>\n",
       "      <td>0.633</td>\n",
       "      <td>-0.266</td>\n",
       "      <td>-0.053</td>\n",
       "      <td>-0.079</td>\n",
       "      <td>-0.404</td>\n",
       "      <td>-0.477</td>\n",
       "      <td>-0.415</td>\n",
       "      <td>0</td>\n",
       "      <td>1</td>\n",
       "      <td>0</td>\n",
       "      <td>0</td>\n",
       "      <td>0</td>\n",
       "      <td>0</td>\n",
       "      <td>0</td>\n",
       "      <td>1</td>\n",
       "      <td>1</td>\n",
       "      <td>0</td>\n",
       "      <td>0</td>\n",
       "      <td>0</td>\n",
       "      <td>0</td>\n",
       "      <td>1</td>\n",
       "      <td>0</td>\n",
       "      <td>0</td>\n",
       "      <td>1</td>\n",
       "      <td>1</td>\n",
       "      <td>0</td>\n",
       "      <td>0</td>\n",
       "      <td>0</td>\n",
       "      <td>0</td>\n",
       "      <td>1</td>\n",
       "      <td>0</td>\n",
       "      <td>0</td>\n",
       "      <td>1</td>\n",
       "      <td>1</td>\n",
       "      <td>0</td>\n",
       "      <td>0</td>\n",
       "      <td>1</td>\n",
       "      <td>0</td>\n",
       "      <td>0</td>\n",
       "      <td>0</td>\n",
       "      <td>0</td>\n",
       "      <td>0</td>\n",
       "      <td>0</td>\n",
       "      <td>0</td>\n",
       "      <td>0</td>\n",
       "      <td>1</td>\n",
       "      <td>0</td>\n",
       "      <td>0</td>\n",
       "      <td>0</td>\n",
       "      <td>0</td>\n",
       "      <td>0</td>\n",
       "      <td>0</td>\n",
       "    </tr>\n",
       "    <tr>\n",
       "      <th>1</th>\n",
       "      <td>1.029</td>\n",
       "      <td>-0.232</td>\n",
       "      <td>-0.247</td>\n",
       "      <td>-0.166</td>\n",
       "      <td>-0.330</td>\n",
       "      <td>-0.247</td>\n",
       "      <td>-0.275</td>\n",
       "      <td>-0.296</td>\n",
       "      <td>1.419</td>\n",
       "      <td>-0.122</td>\n",
       "      <td>1.615</td>\n",
       "      <td>1.878</td>\n",
       "      <td>-0.219</td>\n",
       "      <td>1.766</td>\n",
       "      <td>1.574</td>\n",
       "      <td>-0.266</td>\n",
       "      <td>-0.053</td>\n",
       "      <td>0.164</td>\n",
       "      <td>-0.174</td>\n",
       "      <td>-0.477</td>\n",
       "      <td>-0.415</td>\n",
       "      <td>0</td>\n",
       "      <td>1</td>\n",
       "      <td>0</td>\n",
       "      <td>0</td>\n",
       "      <td>0</td>\n",
       "      <td>0</td>\n",
       "      <td>1</td>\n",
       "      <td>0</td>\n",
       "      <td>1</td>\n",
       "      <td>0</td>\n",
       "      <td>0</td>\n",
       "      <td>0</td>\n",
       "      <td>0</td>\n",
       "      <td>1</td>\n",
       "      <td>0</td>\n",
       "      <td>0</td>\n",
       "      <td>1</td>\n",
       "      <td>1</td>\n",
       "      <td>0</td>\n",
       "      <td>0</td>\n",
       "      <td>1</td>\n",
       "      <td>0</td>\n",
       "      <td>0</td>\n",
       "      <td>1</td>\n",
       "      <td>0</td>\n",
       "      <td>0</td>\n",
       "      <td>1</td>\n",
       "      <td>0</td>\n",
       "      <td>0</td>\n",
       "      <td>0</td>\n",
       "      <td>0</td>\n",
       "      <td>0</td>\n",
       "      <td>0</td>\n",
       "      <td>0</td>\n",
       "      <td>1</td>\n",
       "      <td>1</td>\n",
       "      <td>0</td>\n",
       "      <td>0</td>\n",
       "      <td>0</td>\n",
       "      <td>0</td>\n",
       "      <td>1</td>\n",
       "      <td>0</td>\n",
       "      <td>0</td>\n",
       "      <td>0</td>\n",
       "      <td>0</td>\n",
       "    </tr>\n",
       "    <tr>\n",
       "      <th>2</th>\n",
       "      <td>-2.409</td>\n",
       "      <td>-0.241</td>\n",
       "      <td>-0.251</td>\n",
       "      <td>-0.166</td>\n",
       "      <td>-0.324</td>\n",
       "      <td>-0.179</td>\n",
       "      <td>-0.248</td>\n",
       "      <td>-0.217</td>\n",
       "      <td>-0.293</td>\n",
       "      <td>-0.122</td>\n",
       "      <td>-0.524</td>\n",
       "      <td>-0.864</td>\n",
       "      <td>0.750</td>\n",
       "      <td>-0.224</td>\n",
       "      <td>-0.163</td>\n",
       "      <td>-0.266</td>\n",
       "      <td>-0.053</td>\n",
       "      <td>1.014</td>\n",
       "      <td>0.023</td>\n",
       "      <td>-0.477</td>\n",
       "      <td>-0.415</td>\n",
       "      <td>0</td>\n",
       "      <td>0</td>\n",
       "      <td>1</td>\n",
       "      <td>0</td>\n",
       "      <td>0</td>\n",
       "      <td>0</td>\n",
       "      <td>0</td>\n",
       "      <td>1</td>\n",
       "      <td>0</td>\n",
       "      <td>1</td>\n",
       "      <td>0</td>\n",
       "      <td>0</td>\n",
       "      <td>1</td>\n",
       "      <td>0</td>\n",
       "      <td>1</td>\n",
       "      <td>0</td>\n",
       "      <td>0</td>\n",
       "      <td>0</td>\n",
       "      <td>1</td>\n",
       "      <td>0</td>\n",
       "      <td>0</td>\n",
       "      <td>1</td>\n",
       "      <td>0</td>\n",
       "      <td>0</td>\n",
       "      <td>1</td>\n",
       "      <td>0</td>\n",
       "      <td>1</td>\n",
       "      <td>0</td>\n",
       "      <td>0</td>\n",
       "      <td>0</td>\n",
       "      <td>1</td>\n",
       "      <td>0</td>\n",
       "      <td>0</td>\n",
       "      <td>0</td>\n",
       "      <td>0</td>\n",
       "      <td>0</td>\n",
       "      <td>0</td>\n",
       "      <td>0</td>\n",
       "      <td>0</td>\n",
       "      <td>0</td>\n",
       "      <td>0</td>\n",
       "      <td>0</td>\n",
       "      <td>1</td>\n",
       "      <td>0</td>\n",
       "      <td>0</td>\n",
       "    </tr>\n",
       "    <tr>\n",
       "      <th>3</th>\n",
       "      <td>-1.965</td>\n",
       "      <td>-0.239</td>\n",
       "      <td>-0.253</td>\n",
       "      <td>-0.165</td>\n",
       "      <td>-0.171</td>\n",
       "      <td>-0.241</td>\n",
       "      <td>-0.260</td>\n",
       "      <td>-0.247</td>\n",
       "      <td>-0.935</td>\n",
       "      <td>-0.122</td>\n",
       "      <td>-0.820</td>\n",
       "      <td>-0.864</td>\n",
       "      <td>-0.219</td>\n",
       "      <td>-0.760</td>\n",
       "      <td>-0.815</td>\n",
       "      <td>1.243</td>\n",
       "      <td>-0.053</td>\n",
       "      <td>-0.807</td>\n",
       "      <td>-0.765</td>\n",
       "      <td>-0.477</td>\n",
       "      <td>1.498</td>\n",
       "      <td>0</td>\n",
       "      <td>0</td>\n",
       "      <td>1</td>\n",
       "      <td>0</td>\n",
       "      <td>0</td>\n",
       "      <td>0</td>\n",
       "      <td>1</td>\n",
       "      <td>0</td>\n",
       "      <td>1</td>\n",
       "      <td>0</td>\n",
       "      <td>0</td>\n",
       "      <td>0</td>\n",
       "      <td>0</td>\n",
       "      <td>1</td>\n",
       "      <td>0</td>\n",
       "      <td>0</td>\n",
       "      <td>1</td>\n",
       "      <td>1</td>\n",
       "      <td>0</td>\n",
       "      <td>0</td>\n",
       "      <td>1</td>\n",
       "      <td>0</td>\n",
       "      <td>0</td>\n",
       "      <td>1</td>\n",
       "      <td>0</td>\n",
       "      <td>0</td>\n",
       "      <td>1</td>\n",
       "      <td>0</td>\n",
       "      <td>0</td>\n",
       "      <td>1</td>\n",
       "      <td>0</td>\n",
       "      <td>0</td>\n",
       "      <td>0</td>\n",
       "      <td>0</td>\n",
       "      <td>1</td>\n",
       "      <td>1</td>\n",
       "      <td>0</td>\n",
       "      <td>0</td>\n",
       "      <td>0</td>\n",
       "      <td>0</td>\n",
       "      <td>1</td>\n",
       "      <td>0</td>\n",
       "      <td>0</td>\n",
       "      <td>0</td>\n",
       "      <td>0</td>\n",
       "    </tr>\n",
       "    <tr>\n",
       "      <th>4</th>\n",
       "      <td>0.281</td>\n",
       "      <td>0.221</td>\n",
       "      <td>0.345</td>\n",
       "      <td>-0.134</td>\n",
       "      <td>0.044</td>\n",
       "      <td>0.465</td>\n",
       "      <td>0.536</td>\n",
       "      <td>0.238</td>\n",
       "      <td>1.276</td>\n",
       "      <td>-0.122</td>\n",
       "      <td>1.468</td>\n",
       "      <td>1.712</td>\n",
       "      <td>-0.219</td>\n",
       "      <td>1.613</td>\n",
       "      <td>1.429</td>\n",
       "      <td>-0.266</td>\n",
       "      <td>-0.053</td>\n",
       "      <td>-0.565</td>\n",
       "      <td>2.947</td>\n",
       "      <td>-0.477</td>\n",
       "      <td>-0.415</td>\n",
       "      <td>0</td>\n",
       "      <td>1</td>\n",
       "      <td>0</td>\n",
       "      <td>0</td>\n",
       "      <td>0</td>\n",
       "      <td>1</td>\n",
       "      <td>0</td>\n",
       "      <td>0</td>\n",
       "      <td>1</td>\n",
       "      <td>0</td>\n",
       "      <td>0</td>\n",
       "      <td>0</td>\n",
       "      <td>0</td>\n",
       "      <td>1</td>\n",
       "      <td>0</td>\n",
       "      <td>0</td>\n",
       "      <td>1</td>\n",
       "      <td>1</td>\n",
       "      <td>0</td>\n",
       "      <td>0</td>\n",
       "      <td>1</td>\n",
       "      <td>0</td>\n",
       "      <td>0</td>\n",
       "      <td>1</td>\n",
       "      <td>0</td>\n",
       "      <td>0</td>\n",
       "      <td>1</td>\n",
       "      <td>0</td>\n",
       "      <td>0</td>\n",
       "      <td>0</td>\n",
       "      <td>0</td>\n",
       "      <td>0</td>\n",
       "      <td>0</td>\n",
       "      <td>0</td>\n",
       "      <td>0</td>\n",
       "      <td>0</td>\n",
       "      <td>1</td>\n",
       "      <td>1</td>\n",
       "      <td>0</td>\n",
       "      <td>0</td>\n",
       "      <td>0</td>\n",
       "      <td>0</td>\n",
       "      <td>0</td>\n",
       "      <td>0</td>\n",
       "      <td>0</td>\n",
       "    </tr>\n",
       "  </tbody>\n",
       "</table>\n",
       "</div>"
      ],
      "text/plain": [
       "   num_trade_states  export_dollars  import_dollars  military_expenditure  \\\n",
       "0            -2.298          -0.242          -0.253                -0.166   \n",
       "1             1.029          -0.232          -0.247                -0.166   \n",
       "2            -2.409          -0.241          -0.251                -0.166   \n",
       "3            -1.965          -0.239          -0.253                -0.165   \n",
       "4             0.281           0.221           0.345                -0.134   \n",
       "\n",
       "   military_personnel  prim_energy_consumption  total_pop  cinc_score  \\\n",
       "0              -0.300                   -0.247     -0.257      -0.272   \n",
       "1              -0.330                   -0.247     -0.275      -0.296   \n",
       "2              -0.324                   -0.179     -0.248      -0.217   \n",
       "3              -0.171                   -0.241     -0.260      -0.247   \n",
       "4               0.044                    0.465      0.536       0.238   \n",
       "\n",
       "   num_alliances  pre_1816_alliances  num_in_effect_1231_2012  \\\n",
       "0          0.491              -0.122                    0.582   \n",
       "1          1.419              -0.122                    1.615   \n",
       "2         -0.293              -0.122                   -0.524   \n",
       "3         -0.935              -0.122                   -0.820   \n",
       "4          1.276              -0.122                    1.468   \n",
       "\n",
       "   defense_treaties  neutrality_treaties  nonaggression_treaties  \\\n",
       "0             0.798               -0.219                   0.771   \n",
       "1             1.878               -0.219                   1.766   \n",
       "2            -0.864                0.750                  -0.224   \n",
       "3            -0.864               -0.219                  -0.760   \n",
       "4             1.712               -0.219                   1.613   \n",
       "\n",
       "   entente_treaties  avg_cum_duration  ongoing_2010  leader_tenure  age_govt  \\\n",
       "0             0.633            -0.266        -0.053         -0.079    -0.404   \n",
       "1             1.574            -0.266        -0.053          0.164    -0.174   \n",
       "2            -0.163            -0.266        -0.053          1.014     0.023   \n",
       "3            -0.815             1.243        -0.053         -0.807    -0.765   \n",
       "4             1.429            -0.266        -0.053         -0.565     2.947   \n",
       "\n",
       "   num_transitions_ever  num_leadership_changes  Africa  Americas  Asia  \\\n",
       "0                -0.477                  -0.415       0         1     0   \n",
       "1                -0.477                  -0.415       0         1     0   \n",
       "2                -0.477                  -0.415       0         0     1   \n",
       "3                -0.477                   1.498       0         0     1   \n",
       "4                -0.477                  -0.415       0         1     0   \n",
       "\n",
       "   Europe  Oceania  Direct election  Indirect election  Nonelective  \\\n",
       "0       0        0                0                  0            1   \n",
       "1       0        0                0                  1            0   \n",
       "2       0        0                0                  0            1   \n",
       "3       0        0                0                  1            0   \n",
       "4       0        0                1                  0            0   \n",
       "\n",
       "   Elective legislature  No legislature exists  Non‐elective legislature  \\\n",
       "0                     1                      0                         0   \n",
       "1                     1                      0                         0   \n",
       "2                     0                      1                         0   \n",
       "3                     1                      0                         0   \n",
       "4                     1                      0                         0   \n",
       "\n",
       "   Appointed  Closed  Elected  All parties legally banned  \\\n",
       "0          0       0        1                           0   \n",
       "1          0       0        1                           0   \n",
       "2          0       1        0                           1   \n",
       "3          0       0        1                           0   \n",
       "4          0       0        1                           0   \n",
       "\n",
       "   Legally single party state  Multiple parties legally allowed  \\\n",
       "0                           0                                 1   \n",
       "1                           0                                 1   \n",
       "2                           0                                 0   \n",
       "3                           0                                 1   \n",
       "4                           0                                 1   \n",
       "\n",
       "   Elective legislature  No legislature exists  Non‐elective legislature  \\\n",
       "0                     1                      0                         0   \n",
       "1                     1                      0                         0   \n",
       "2                     0                      1                         0   \n",
       "3                     1                      0                         0   \n",
       "4                     1                      0                         0   \n",
       "\n",
       "   Multiple parties  No parties  One party  Legislature with multiple parties  \\\n",
       "0                 0           0          1                                  0   \n",
       "1                 1           0          0                                  1   \n",
       "2                 0           1          0                                  0   \n",
       "3                 1           0          0                                  1   \n",
       "4                 1           0          0                                  1   \n",
       "\n",
       "   No legislature or all nonpartisan  Only members from regime party  \\\n",
       "0                                  0                               1   \n",
       "1                                  0                               0   \n",
       "2                                  1                               0   \n",
       "3                                  0                               0   \n",
       "4                                  0                               0   \n",
       "\n",
       "   Democratic incumbent  Rules rewritten unconstitutionally  \\\n",
       "0                     1                                   0   \n",
       "1                     1                                   0   \n",
       "2                     1                                   0   \n",
       "3                     1                                   0   \n",
       "4                     1                                   0   \n",
       "\n",
       "   collective_leadership  military_leader  royal_leader  nominal_vs_eff_diff  \\\n",
       "0                      0                1             0                    0   \n",
       "1                      0                0             0                    0   \n",
       "2                      0                0             1                    0   \n",
       "3                      0                1             0                    0   \n",
       "4                      0                0             0                    0   \n",
       "\n",
       "   communist_leader  leader_died  democratic_regime  cabinet_assembly  \\\n",
       "0                 0            0                  0                 0   \n",
       "1                 0            0                  1                 1   \n",
       "2                 0            0                  0                 0   \n",
       "3                 0            0                  1                 1   \n",
       "4                 0            0                  0                 0   \n",
       "\n",
       "   popular_election  Civilian dictatorship  Military dictatorship  \\\n",
       "0                 0                      0                      1   \n",
       "1                 0                      0                      0   \n",
       "2                 0                      0                      0   \n",
       "3                 0                      0                      0   \n",
       "4                 1                      1                      0   \n",
       "\n",
       "   Mixed (semi‐presidential) democracy  Parliamentary democracy  \\\n",
       "0                                    0                        0   \n",
       "1                                    0                        1   \n",
       "2                                    0                        0   \n",
       "3                                    0                        1   \n",
       "4                                    0                        0   \n",
       "\n",
       "   Presidential democracy  Royal dictatorship  transition_to_democracy  \\\n",
       "0                       0                   0                        0   \n",
       "1                       0                   0                        0   \n",
       "2                       0                   1                        0   \n",
       "3                       0                   0                        0   \n",
       "4                       0                   0                        0   \n",
       "\n",
       "   transition_to_dictatorship  \n",
       "0                           0  \n",
       "1                           0  \n",
       "2                           0  \n",
       "3                           0  \n",
       "4                           0  "
      ]
     },
     "execution_count": 13,
     "metadata": {},
     "output_type": "execute_result"
    }
   ],
   "source": [
    "df_scaled = pd.DataFrame(X_train_scaled, columns = X_train_scaled.columns)\n",
    "df_scaled.head()"
   ]
  },
  {
   "cell_type": "markdown",
   "metadata": {},
   "source": [
    "Instantiate LinearRegression() and fit our data to a new model."
   ]
  },
  {
   "cell_type": "code",
   "execution_count": 14,
   "metadata": {},
   "outputs": [],
   "source": [
    "from sklearn.linear_model import LinearRegression"
   ]
  },
  {
   "cell_type": "code",
   "execution_count": 15,
   "metadata": {},
   "outputs": [],
   "source": [
    "linreg = LinearRegression()\n",
    "linreg.fit(X_train_scaled, y_train)\n",
    "y_pred_train = linreg.predict(X_train_scaled)"
   ]
  },
  {
   "cell_type": "markdown",
   "metadata": {},
   "source": [
    "*Is there a linear relationship between our training values and our predicted values?*"
   ]
  },
  {
   "cell_type": "code",
   "execution_count": 16,
   "metadata": {},
   "outputs": [
    {
     "data": {
      "image/png": "[encoded data removed]",
      "text/plain": [
       "<Figure size 432x432 with 3 Axes>"
      ]
     },
     "metadata": {},
     "output_type": "display_data"
    }
   ],
   "source": [
    "sns.set_style('darkgrid')\n",
    "\n",
    "ax = sns.jointplot(x = y_train, y = y_pred_train, \n",
    "                   kind = 'reg', height = 6, ratio = 6);\n",
    "ax.set_axis_labels('Y Train', 'Predicted Y')\n",
    "regline = ax.ax_joint.get_lines()[0]\n",
    "regline.set_color('red')"
   ]
  },
  {
   "cell_type": "markdown",
   "metadata": {},
   "source": [
    "Perform cross-validation to check for over-fitting/under-fitting."
   ]
  },
  {
   "cell_type": "code",
   "execution_count": 17,
   "metadata": {},
   "outputs": [],
   "source": [
    "from sklearn.model_selection import cross_val_score"
   ]
  },
  {
   "cell_type": "code",
   "execution_count": 18,
   "metadata": {},
   "outputs": [
    {
     "name": "stdout",
     "output_type": "stream",
     "text": [
      "Avg RMSE for 10 folds Cross-Val:         1.37\n",
      "Std Dev of RMSE for 10 folds Cross-Val:  0.27\n"
     ]
    }
   ],
   "source": [
    "scores = cross_val_score(linreg, X_train, y_train, cv = 10, scoring = 'neg_mean_squared_error')\n",
    "print('Avg RMSE for 10 folds Cross-Val:        ', np.sqrt(-scores).mean().round(2))\n",
    "print('Std Dev of RMSE for 10 folds Cross-Val: ', np.sqrt(-scores).std().round(2))"
   ]
  },
  {
   "cell_type": "code",
   "execution_count": 19,
   "metadata": {},
   "outputs": [],
   "source": [
    "from sklearn.utils import resample"
   ]
  },
  {
   "cell_type": "code",
   "execution_count": 20,
   "metadata": {},
   "outputs": [
    {
     "name": "stdout",
     "output_type": "stream",
     "text": [
      "Multiple Linear Regression Coefficients\n",
      "Simple Linear Regression, Polynomial Degree 1\n",
      "Alpha = 0\n",
      "Intercept: 1359554308824.54\n",
      "Total Non-Zero Coefficients: 66\n",
      "\n",
      "                                                 effect             error  \\\n",
      "Presidential democracy               28156838972877.750 3810291798163.000   \n",
      "Mixed (semi‐presidential) democracy  28156838972877.379 3810291798163.000   \n",
      "Parliamentary democracy              28156838972877.379 3810291798163.000   \n",
      "democratic_regime                   -26609683266681.559 5835042101337.000   \n",
      "Indirect election                    -3491072050350.020 4082423753190.000   \n",
      "Direct election                      -3491072050349.940 4082423753190.000   \n",
      "Nonelective                          -3491072050349.670 4082423753190.000   \n",
      "Civilian dictatorship                 1547155706196.090 3398758732676.000   \n",
      "Military dictatorship                 1547155706195.100 3398758732676.000   \n",
      "Multiple parties legally allowed      1464756102293.910 2023820274721.000   \n",
      "All parties legally banned            1464756102293.750 2023820274721.000   \n",
      "No parties                           -1464756102293.630 2023820274721.000   \n",
      "Multiple parties                     -1464756102293.590 2023820274721.000   \n",
      "Legally single party state            1464756102293.340 2023820274721.000   \n",
      "One party                            -1464756102293.110 2023820274721.000   \n",
      "Only members from regime party        1048287975405.940 2887669310202.000   \n",
      "Legislature with multiple parties     1048287975405.790 2887669310202.000   \n",
      "No legislature or all nonpartisan     1048287975405.640 2887669310202.000   \n",
      "Elected                              -1048287975405.250 2887669310202.000   \n",
      "Closed                               -1048287975405.200 2887669310202.000   \n",
      "Appointed                            -1048287975404.980 2887669310202.000   \n",
      "Royal dictatorship                     909182224442.240 2771638812106.000   \n",
      "Elective legislature                   762995795756.740 2564847529679.000   \n",
      "Elective legislature                  -710338775298.140 4778330596614.000   \n",
      "royal_leader                           637973481753.180 1127095232310.000   \n",
      "Rules rewritten unconstitutionally    -413024442735.900  256652607912.000   \n",
      "Democratic incumbent                  -413024442735.790  256652607912.000   \n",
      "Asia                                   261870991737.970 2246886302239.000   \n",
      "Africa                                 261870991737.580 2246886302239.000   \n",
      "Oceania                                261870991737.500 2246886302239.000   \n",
      "...                                                 ...               ...   \n",
      "military_leader                                   0.930             0.000   \n",
      "communist_leader                                 -0.630             0.000   \n",
      "leader_died                                      -0.430             0.000   \n",
      "defense_treaties                                 -0.380             0.000   \n",
      "cabinet_assembly                                  0.370             0.000   \n",
      "military_personnel                                0.350             0.000   \n",
      "transition_to_democracy                           0.310             0.000   \n",
      "popular_election                                 -0.300             0.000   \n",
      "avg_cum_duration                                  0.290             0.000   \n",
      "nominal_vs_eff_diff                               0.240             0.000   \n",
      "military_expenditure                              0.240             0.000   \n",
      "transition_to_dictatorship                       -0.230             0.000   \n",
      "num_alliances                                     0.180             0.000   \n",
      "prim_energy_consumption                          -0.170             0.000   \n",
      "cinc_score                                        0.150             0.000   \n",
      "export_dollars                                   -0.140             0.000   \n",
      "pre_1816_alliances                                0.140             0.000   \n",
      "leader_tenure                                     0.140             0.000   \n",
      "collective_leadership                            -0.140             0.000   \n",
      "import_dollars                                    0.120             0.000   \n",
      "num_in_effect_1231_2012                           0.120             0.000   \n",
      "nonaggression_treaties                            0.110             0.000   \n",
      "entente_treaties                                  0.100             0.000   \n",
      "num_trade_states                                 -0.090             0.000   \n",
      "neutrality_treaties                               0.070             0.000   \n",
      "total_pop                                         0.040             0.000   \n",
      "num_transitions_ever                              0.030             0.000   \n",
      "num_leadership_changes                           -0.020             0.000   \n",
      "age_govt                                          0.020             0.000   \n",
      "ongoing_2010                                      0.010             0.000   \n",
      "\n",
      "                                            abs_effect  \n",
      "Presidential democracy              28156838972877.750  \n",
      "Mixed (semi‐presidential) democracy 28156838972877.379  \n",
      "Parliamentary democracy             28156838972877.379  \n",
      "democratic_regime                   26609683266681.559  \n",
      "Indirect election                    3491072050350.020  \n",
      "Direct election                      3491072050349.940  \n",
      "Nonelective                          3491072050349.670  \n",
      "Civilian dictatorship                1547155706196.090  \n",
      "Military dictatorship                1547155706195.100  \n",
      "Multiple parties legally allowed     1464756102293.910  \n",
      "All parties legally banned           1464756102293.750  \n",
      "No parties                           1464756102293.630  \n",
      "Multiple parties                     1464756102293.590  \n",
      "Legally single party state           1464756102293.340  \n",
      "One party                            1464756102293.110  \n",
      "Only members from regime party       1048287975405.940  \n",
      "Legislature with multiple parties    1048287975405.790  \n",
      "No legislature or all nonpartisan    1048287975405.640  \n",
      "Elected                              1048287975405.250  \n",
      "Closed                               1048287975405.200  \n",
      "Appointed                            1048287975404.980  \n",
      "Royal dictatorship                    909182224442.240  \n",
      "Elective legislature                  762995795756.740  \n",
      "Elective legislature                  710338775298.140  \n",
      "royal_leader                          637973481753.180  \n",
      "Rules rewritten unconstitutionally    413024442735.900  \n",
      "Democratic incumbent                  413024442735.790  \n",
      "Asia                                  261870991737.970  \n",
      "Africa                                261870991737.580  \n",
      "Oceania                               261870991737.500  \n",
      "...                                                ...  \n",
      "military_leader                                  0.930  \n",
      "communist_leader                                 0.630  \n",
      "leader_died                                      0.430  \n",
      "defense_treaties                                 0.380  \n",
      "cabinet_assembly                                 0.370  \n",
      "military_personnel                               0.350  \n",
      "transition_to_democracy                          0.310  \n",
      "popular_election                                 0.300  \n",
      "avg_cum_duration                                 0.290  \n",
      "nominal_vs_eff_diff                              0.240  \n",
      "military_expenditure                             0.240  \n",
      "transition_to_dictatorship                       0.230  \n",
      "num_alliances                                    0.180  \n",
      "prim_energy_consumption                          0.170  \n",
      "cinc_score                                       0.150  \n",
      "export_dollars                                   0.140  \n",
      "pre_1816_alliances                               0.140  \n",
      "leader_tenure                                    0.140  \n",
      "collective_leadership                            0.140  \n",
      "import_dollars                                   0.120  \n",
      "num_in_effect_1231_2012                          0.120  \n",
      "nonaggression_treaties                           0.110  \n",
      "entente_treaties                                 0.100  \n",
      "num_trade_states                                 0.090  \n",
      "neutrality_treaties                              0.070  \n",
      "total_pop                                        0.040  \n",
      "num_transitions_ever                             0.030  \n",
      "num_leadership_changes                           0.020  \n",
      "age_govt                                         0.020  \n",
      "ongoing_2010                                     0.010  \n",
      "\n",
      "[66 rows x 3 columns]\n"
     ]
    }
   ],
   "source": [
    "print('Multiple Linear Regression Coefficients\\nSimple Linear Regression, Polynomial Degree 1\\nAlpha = 0')\n",
    "print('Intercept:', linreg.intercept_.round(2))\n",
    "err = np.std([linreg.fit(*resample(X_train_scaled, y_train)).coef_\n",
    "              for i in range(1000)], 0)\n",
    "cdf = pd.DataFrame({'effect': linreg.coef_.round(2),\n",
    "                    'error': err.round(0)}, X_train.columns)\n",
    "print('Total Non-Zero Coefficients: {}\\n'.format(len(linreg.coef_.round(2))))\n",
    "cdf['abs_effect'] = abs(cdf['effect'])\n",
    "print(cdf.sort_values(by = 'abs_effect', ascending = False))"
   ]
  },
  {
   "cell_type": "code",
   "execution_count": 21,
   "metadata": {},
   "outputs": [],
   "source": [
    "from sklearn import metrics"
   ]
  },
  {
   "cell_type": "code",
   "execution_count": 22,
   "metadata": {},
   "outputs": [
    {
     "name": "stdout",
     "output_type": "stream",
     "text": [
      "Train R^2:   -2.8084219147260002e+19\n",
      "Train MAE:  0.68\n",
      "Train MSE:  1.87\n",
      "Train RMSE: 1.37\n"
     ]
    }
   ],
   "source": [
    "print('Train R^2:  ', linreg.score(X_train_scaled, y_train).round(2))\n",
    "print('Train MAE: ', metrics.mean_absolute_error(y_train, y_pred_train).round(2))\n",
    "print('Train MSE: ', metrics.mean_squared_error(y_train, y_pred_train).round(2))\n",
    "print('Train RMSE:', np.sqrt(metrics.mean_squared_error(y_train, y_pred_train)).round(2))"
   ]
  },
  {
   "cell_type": "markdown",
   "metadata": {},
   "source": [
    "### **Lasso Regression**"
   ]
  },
  {
   "cell_type": "markdown",
   "metadata": {},
   "source": [
    "***Will multiple lasso regression allow for an accurate model to predict the price per pill of prescription drugs?***"
   ]
  },
  {
   "cell_type": "code",
   "execution_count": 23,
   "metadata": {},
   "outputs": [],
   "source": [
    "from sklearn.linear_model import Lasso"
   ]
  },
  {
   "cell_type": "code",
   "execution_count": 24,
   "metadata": {},
   "outputs": [],
   "source": [
    "linlasso = Lasso()\n",
    "linlasso.fit(X_train_scaled, y_train)\n",
    "y_pred_train = linlasso.predict(X_train_scaled)"
   ]
  },
  {
   "cell_type": "code",
   "execution_count": 25,
   "metadata": {},
   "outputs": [],
   "source": [
    "from sklearn.model_selection import GridSearchCV"
   ]
  },
  {
   "cell_type": "markdown",
   "metadata": {},
   "source": [
    "Perform cross-validation to optimize alpha for lasso model."
   ]
  },
  {
   "cell_type": "code",
   "execution_count": 26,
   "metadata": {},
   "outputs": [
    {
     "name": "stderr",
     "output_type": "stream",
     "text": [
      "/Users/charlieyaris/.venvs/lpthw/lib/python3.6/site-packages/sklearn/model_selection/_search.py:841: DeprecationWarning: The default of the `iid` parameter will change from True to False in version 0.22 and will be removed in 0.24. This will change numeric results when test-set sizes are unequal.\n",
      "  DeprecationWarning)\n"
     ]
    },
    {
     "data": {
      "text/plain": [
       "GridSearchCV(cv=15, error_score='raise-deprecating',\n",
       "       estimator=Lasso(alpha=1.0, copy_X=True, fit_intercept=True, max_iter=1000,\n",
       "   normalize=False, positive=False, precompute=False, random_state=None,\n",
       "   selection='cyclic', tol=0.0001, warm_start=False),\n",
       "       fit_params=None, iid='warn', n_jobs=1,\n",
       "       param_grid={'alpha': [1e-05, 0.001, 0.1, 0.9, 1, 1.1, 1.2, 1.3, 1.4, 1.5, 1.6, 2, 3, 4, 5, 6, 7, 8, 9, 10, 11, 12, 13, 14, 15, 16, 17, 18, 19, 20, 21, 22, 23, 24, 25, 26, 27, 28, 29, 30, 31, 32, 33, 34, 35, 36, 37, 38, 39, 40, 50, 60, 70, 80, 90, 100.0, 125, 130, 135, 140, 145, 150, 155, 165, 170, 175, 200, 1000.0, 10000.0]},\n",
       "       pre_dispatch='2*n_jobs', refit=True, return_train_score='warn',\n",
       "       scoring='neg_mean_squared_error', verbose=0)"
      ]
     },
     "execution_count": 26,
     "metadata": {},
     "output_type": "execute_result"
    }
   ],
   "source": [
    "param_grid = {'alpha': [1e-5, 1e-3, 1e-1, 0.9, 1, 1.1, 1.2, 1.3, 1.4, 1.5, 1.6, 2, 3, 4, 5, 6, 7, 8, 9,\n",
    "                        10, 11, 12, 13, 14, 15, 16, 17, 18, 19, 20, 21, 22, 23, 24, 25, 26, 27, 28, 29, \n",
    "                        30, 31, 32, 33, 34, 35, 36, 37, 38, 39, 40, 50, 60, 70, 80, 90, 1e2, 125, 130, 135, 140,\n",
    "                        145, 150, 155, 165, 170, 175, 200, 1e3, 1e4]}\n",
    "grid = GridSearchCV(linlasso, param_grid, cv = 15, scoring = 'neg_mean_squared_error', n_jobs = 1)\n",
    "grid.fit(X_train_scaled, y_train)"
   ]
  },
  {
   "cell_type": "code",
   "execution_count": 27,
   "metadata": {},
   "outputs": [
    {
     "name": "stdout",
     "output_type": "stream",
     "text": [
      "{'alpha': 0.001} \n",
      "\n",
      " RMSE: 1.3903993917013868\n"
     ]
    }
   ],
   "source": [
    "print(grid.best_params_, '\\n\\n', 'RMSE:', np.sqrt(-grid.best_score_))"
   ]
  },
  {
   "cell_type": "markdown",
   "metadata": {},
   "source": [
    "Create new lasso model at the optimized value of alpha."
   ]
  },
  {
   "cell_type": "code",
   "execution_count": 28,
   "metadata": {},
   "outputs": [],
   "source": [
    "linlasso = Lasso(alpha = 0.001)\n",
    "linlasso.fit(X_train_scaled, y_train)\n",
    "y_pred_train = linlasso.predict(X_train_scaled)\n",
    "y_pred_test = linlasso.predict(X_test_scaled)"
   ]
  },
  {
   "cell_type": "markdown",
   "metadata": {},
   "source": [
    "*Is there a linear relationship between our training values and our predicted values?*"
   ]
  },
  {
   "cell_type": "markdown",
   "metadata": {},
   "source": [
    "Create a dataframe to print the effect/error of the current model."
   ]
  },
  {
   "cell_type": "code",
   "execution_count": 29,
   "metadata": {},
   "outputs": [
    {
     "name": "stdout",
     "output_type": "stream",
     "text": [
      "Multiple Linear Regression Coefficients\n",
      "Lasso Regression, Polynomial Degree 1\n",
      "Alpha = 1.4\n",
      "Intercept: 0.13\n",
      "Total Non-Zero Coefficients: 49\n",
      "Total Zero Coefficients: 17\n",
      "\n",
      "                                     effect  error  abs_effect\n",
      "military_leader                       0.900  0.180       0.900\n",
      "Military dictatorship                -0.780  0.210       0.780\n",
      "communist_leader                     -0.610  0.250       0.610\n",
      "royal_leader                         -0.580  0.180       0.580\n",
      "military_personnel                    0.490  0.120       0.490\n",
      "Legally single party state           -0.490  0.160       0.490\n",
      "One party                             0.420  0.140       0.420\n",
      "Asia                                  0.390  0.060       0.390\n",
      "Americas                             -0.350  0.090       0.350\n",
      "nominal_vs_eff_diff                   0.350  0.200       0.350\n",
      "num_in_effect_1231_2012               0.300  0.090       0.300\n",
      "Europe                               -0.290  0.110       0.290\n",
      "avg_cum_duration                      0.280  0.040       0.280\n",
      "Nonelective                           0.270  0.110       0.270\n",
      "Civilian dictatorship                 0.270  0.150       0.270\n",
      "leader_died                          -0.260  0.130       0.260\n",
      "defense_treaties                     -0.250  0.090       0.250\n",
      "export_dollars                       -0.240  0.110       0.240\n",
      "import_dollars                        0.230  0.090       0.230\n",
      "military_expenditure                  0.220  0.100       0.220\n",
      "cabinet_assembly                      0.180  0.090       0.180\n",
      "Democratic incumbent                  0.170  0.070       0.170\n",
      "neutrality_treaties                   0.150  0.040       0.150\n",
      "No legislature or all nonpartisan    -0.150  0.060       0.150\n",
      "num_trade_states                     -0.140  0.030       0.140\n",
      "Appointed                             0.140  0.120       0.140\n",
      "leader_tenure                         0.110  0.030       0.110\n",
      "Elected                              -0.100  0.070       0.100\n",
      "Only members from regime party        0.100  0.100       0.100\n",
      "popular_election                     -0.100  0.060       0.100\n",
      "Legislature with multiple parties     0.100  0.070       0.100\n",
      "transition_to_dictatorship           -0.090  0.100       0.090\n",
      "pre_1816_alliances                    0.080  0.020       0.080\n",
      "transition_to_democracy               0.080  0.080       0.080\n",
      "prim_energy_consumption              -0.080  0.140       0.080\n",
      "Indirect election                    -0.060  0.050       0.060\n",
      "Presidential democracy                0.060  0.060       0.060\n",
      "democratic_regime                     0.060  0.140       0.060\n",
      "total_pop                            -0.050  0.060       0.050\n",
      "No legislature exists                 0.050  0.080       0.050\n",
      "nonaggression_treaties                0.040  0.030       0.040\n",
      "age_govt                              0.040  0.020       0.040\n",
      "num_alliances                         0.040  0.090       0.040\n",
      "Mixed (semi‐presidential) democracy  -0.040  0.070       0.040\n",
      "entente_treaties                      0.040  0.060       0.040\n",
      "Multiple parties legally allowed      0.030  0.120       0.030\n",
      "collective_leadership                 0.030  0.170       0.030\n",
      "Multiple parties                     -0.020  0.040       0.020\n",
      "num_leadership_changes               -0.020  0.020       0.020\n"
     ]
    }
   ],
   "source": [
    "print('Multiple Linear Regression Coefficients\\nLasso Regression, Polynomial Degree 1\\nAlpha = 1.4')\n",
    "print('Intercept:', linlasso.intercept_.round(2))\n",
    "err = np.std([linlasso.fit(*resample(X_train_scaled, y_train)).coef_\n",
    "              for i in range(1000)], 0)\n",
    "cdf = pd.DataFrame({'effect': linlasso.coef_.round(2),\n",
    "                    'error': err.round(2)}, X_train.columns)\n",
    "print('Total Non-Zero Coefficients: {}'.format(len(cdf[cdf['effect'] != 0]['effect'].round(2))))\n",
    "print('Total Zero Coefficients: {}\\n'.format(len(cdf[cdf['effect'] == 0]['effect'].round(2))))\n",
    "cdf['abs_effect'] = abs(cdf['effect'])\n",
    "print(cdf[cdf['effect'] != 0].sort_values(by = 'abs_effect', ascending = False))"
   ]
  },
  {
   "cell_type": "code",
   "execution_count": 30,
   "metadata": {},
   "outputs": [
    {
     "name": "stdout",
     "output_type": "stream",
     "text": [
      "Train R^2:   0.29\n",
      "Train MAE:  0.68\n",
      "Train MSE:  1.87\n",
      "Train RMSE: 1.37\n"
     ]
    }
   ],
   "source": [
    "print('Train R^2:  ', linlasso.score(X_train_scaled, y_train).round(2))\n",
    "print('Train MAE: ', metrics.mean_absolute_error(y_train, y_pred_train).round(2))\n",
    "print('Train MSE: ', metrics.mean_squared_error(y_train, y_pred_train).round(2))\n",
    "print('Train RMSE:', np.sqrt(metrics.mean_squared_error(y_train, y_pred_train)).round(2))"
   ]
  },
  {
   "cell_type": "markdown",
   "metadata": {},
   "source": [
    "### **Ridge Regression**"
   ]
  },
  {
   "cell_type": "markdown",
   "metadata": {},
   "source": [
    "***Will multiple ridge regression allow for an accurate model to predict the price per pill of prescription drugs?***"
   ]
  },
  {
   "cell_type": "code",
   "execution_count": 31,
   "metadata": {},
   "outputs": [],
   "source": [
    "from sklearn.linear_model import Ridge"
   ]
  },
  {
   "cell_type": "code",
   "execution_count": 32,
   "metadata": {},
   "outputs": [],
   "source": [
    "linridge = Ridge()\n",
    "linridge.fit(X_train_scaled, y_train)\n",
    "y_pred_train = linridge.predict(X_train_scaled)\n",
    "y_pred_test = linridge.predict(X_test_scaled)"
   ]
  },
  {
   "cell_type": "markdown",
   "metadata": {},
   "source": [
    "Perform cross-validation to optimize alpha for ridge model."
   ]
  },
  {
   "cell_type": "code",
   "execution_count": 33,
   "metadata": {},
   "outputs": [
    {
     "name": "stderr",
     "output_type": "stream",
     "text": [
      "/Users/charlieyaris/.venvs/lpthw/lib/python3.6/site-packages/sklearn/model_selection/_search.py:841: DeprecationWarning: The default of the `iid` parameter will change from True to False in version 0.22 and will be removed in 0.24. This will change numeric results when test-set sizes are unequal.\n",
      "  DeprecationWarning)\n"
     ]
    },
    {
     "data": {
      "text/plain": [
       "GridSearchCV(cv=15, error_score='raise-deprecating',\n",
       "       estimator=Ridge(alpha=1.0, copy_X=True, fit_intercept=True, max_iter=None,\n",
       "   normalize=False, random_state=None, solver='auto', tol=0.001),\n",
       "       fit_params=None, iid='warn', n_jobs=1,\n",
       "       param_grid={'alpha': [0.0001, 1e-05, 0.001, 0.1, 1, 5, 6, 7, 8, 9, 10, 11, 12, 13, 14, 15, 16, 17, 18, 19, 20, 21, 30, 40, 50, 60, 70, 80, 90, 100.0, 125, 130, 135, 140, 145, 150, 155, 165, 170, 175, 200, 600, 690, 691, 692, 693, 694, 695, 696, 697, 698, 699, 700, 705, 710, 800, 825, 850, 874, 875, 876, 877, 888, 889, 890, 891, 892, 893, 894, 895, 896, 897, 898, 899, 900, 1000.0, 1100, 10000.0]},\n",
       "       pre_dispatch='2*n_jobs', refit=True, return_train_score='warn',\n",
       "       scoring='neg_mean_squared_error', verbose=0)"
      ]
     },
     "execution_count": 33,
     "metadata": {},
     "output_type": "execute_result"
    }
   ],
   "source": [
    "param_grid = {'alpha': [1e-4, 1e-5, 1e-3, 1e-1, 1, 5, 6, 7, 8, 9, 10,\n",
    "                        11, 12, 13, 14, 15, 16, 17, 18, 19, 20,\n",
    "                        21, 30, 40, 50, 60, 70, 80, 90, 1e2, 125,\n",
    "                        130, 135, 140, 145, 150, 155, 165, 170, 175,\n",
    "                        200, 600, 690, 691, 692, 693, 694, 695, 696,\n",
    "                        697, 698, 699,700, 705, 710, 800, 825, 850,\n",
    "                        874, 875, 876, 877, 888, 889, 890, 891, 892,\n",
    "                        893, 894, 895, 896, 897, 898, 899, 900, 1e3, 1100, 1e4]}\n",
    "grid = GridSearchCV(linridge, param_grid, cv = 15, scoring = 'neg_mean_squared_error', n_jobs = 1)\n",
    "grid.fit(X_train_scaled, y_train)"
   ]
  },
  {
   "cell_type": "code",
   "execution_count": 34,
   "metadata": {},
   "outputs": [
    {
     "name": "stdout",
     "output_type": "stream",
     "text": [
      "{'alpha': 30} \n",
      "\n",
      " RMSE: 1.3897631879455625\n"
     ]
    }
   ],
   "source": [
    "print(grid.best_params_, '\\n\\n', 'RMSE:', np.sqrt(-grid.best_score_))"
   ]
  },
  {
   "cell_type": "markdown",
   "metadata": {},
   "source": [
    "Create new ridge model at the optimized value of alpha."
   ]
  },
  {
   "cell_type": "code",
   "execution_count": 35,
   "metadata": {},
   "outputs": [],
   "source": [
    "linridge = Ridge(alpha = 30)\n",
    "linridge.fit(X_train_scaled, y_train)\n",
    "y_pred_train = linridge.predict(X_train_scaled)\n",
    "y_pred_test = linridge.predict(X_test_scaled)"
   ]
  },
  {
   "cell_type": "markdown",
   "metadata": {},
   "source": [
    "*Is there a linear relationship between our training values and our predicted values?*"
   ]
  },
  {
   "cell_type": "markdown",
   "metadata": {},
   "source": [
    "Create a dataframe to print the effect/error of the current model."
   ]
  },
  {
   "cell_type": "code",
   "execution_count": 36,
   "metadata": {},
   "outputs": [
    {
     "name": "stdout",
     "output_type": "stream",
     "text": [
      "Multiple Linear Regression Coefficients\n",
      "RIdge Regression, Polynomial Degree 1\n",
      "Alpha = 7\n",
      "Intercept: 0.11\n",
      "Total Non-Zero Coefficients: 57\n",
      "Total Zero Coefficients: 9\n",
      "\n",
      "                                     effect  error  abs_effect\n",
      "communist_leader                     -0.870  0.190       0.870\n",
      "nominal_vs_eff_diff                   0.740  0.170       0.740\n",
      "military_leader                       0.560  0.130       0.560\n",
      "military_personnel                    0.500  0.110       0.500\n",
      "Asia                                  0.390  0.050       0.390\n",
      "Civilian dictatorship                 0.380  0.060       0.380\n",
      "Military dictatorship                -0.350  0.100       0.350\n",
      "avg_cum_duration                      0.290  0.040       0.290\n",
      "military_expenditure                  0.250  0.100       0.250\n",
      "defense_treaties                     -0.230  0.080       0.230\n",
      "export_dollars                       -0.220  0.110       0.220\n",
      "Americas                             -0.210  0.050       0.210\n",
      "import_dollars                        0.190  0.090       0.190\n",
      "Appointed                             0.180  0.070       0.180\n",
      "cinc_score                            0.160  0.130       0.160\n",
      "royal_leader                         -0.150  0.050       0.150\n",
      "Royal dictatorship                   -0.150  0.050       0.150\n",
      "Only members from regime party        0.140  0.070       0.140\n",
      "One party                             0.140  0.080       0.140\n",
      "All parties legally banned            0.140  0.050       0.140\n",
      "Democratic incumbent                  0.130  0.030       0.130\n",
      "leader_died                          -0.130  0.110       0.130\n",
      "Rules rewritten unconstitutionally   -0.130  0.030       0.130\n",
      "Presidential democracy                0.130  0.040       0.130\n",
      "num_alliances                         0.130  0.090       0.130\n",
      "prim_energy_consumption              -0.120  0.130       0.120\n",
      "Mixed (semi‐presidential) democracy  -0.120  0.050       0.120\n",
      "democratic_regime                     0.110  0.050       0.110\n",
      "total_pop                            -0.110  0.050       0.110\n",
      "num_in_effect_1231_2012               0.100  0.090       0.100\n",
      "Legislature with multiple parties     0.100  0.050       0.100\n",
      "popular_election                     -0.100  0.060       0.100\n",
      "neutrality_treaties                   0.100  0.040       0.100\n",
      "cabinet_assembly                      0.100  0.070       0.100\n",
      "Oceania                              -0.090  0.050       0.090\n",
      "Multiple parties                      0.090  0.070       0.090\n",
      "Parliamentary democracy               0.090  0.040       0.090\n",
      "nonaggression_treaties                0.090  0.030       0.090\n",
      "Europe                               -0.090  0.070       0.090\n",
      "Multiple parties legally allowed      0.080  0.080       0.080\n",
      "Closed                                0.080  0.060       0.080\n",
      "Non‐elective legislature             -0.070  0.030       0.070\n",
      "Non‐elective legislature             -0.070  0.030       0.070\n",
      "No legislature exists                 0.070  0.040       0.070\n",
      "No legislature exists                 0.070  0.040       0.070\n",
      "Nonelective                           0.070  0.070       0.070\n",
      "Indirect election                    -0.070  0.040       0.070\n",
      "leader_tenure                         0.070  0.030       0.070\n",
      "pre_1816_alliances                    0.060  0.020       0.060\n",
      "collective_leadership                -0.050  0.150       0.050\n",
      "Elected                              -0.050  0.070       0.050\n",
      "num_trade_states                     -0.040  0.030       0.040\n",
      "transition_to_dictatorship           -0.040  0.080       0.040\n",
      "No legislature or all nonpartisan    -0.030  0.070       0.030\n",
      "num_leadership_changes               -0.030  0.020       0.030\n",
      "ongoing_2010                          0.030  0.020       0.030\n",
      "No parties                           -0.010  0.050       0.010\n"
     ]
    }
   ],
   "source": [
    "print('Multiple Linear Regression Coefficients\\nRIdge Regression, Polynomial Degree 1\\nAlpha = 7')\n",
    "print('Intercept:', linridge.intercept_.round(2))\n",
    "err = np.std([linridge.fit(*resample(X_train_scaled, y_train)).coef_\n",
    "              for i in range(1000)], 0)\n",
    "cdf = pd.DataFrame({'effect': linridge.coef_.round(2),\n",
    "                    'error': err.round(2)}, X_train.columns)\n",
    "print('Total Non-Zero Coefficients: {}'.format(len(cdf[cdf['effect'] != 0]['effect'].round(2))))\n",
    "print('Total Zero Coefficients: {}\\n'.format(len(cdf[cdf['effect'] == 0]['effect'].round(2))))\n",
    "cdf['abs_effect'] = abs(cdf['effect'])\n",
    "print(cdf[cdf['effect'] != 0].sort_values(by = 'abs_effect', ascending = False))"
   ]
  },
  {
   "cell_type": "code",
   "execution_count": 37,
   "metadata": {},
   "outputs": [
    {
     "name": "stdout",
     "output_type": "stream",
     "text": [
      "Train R^2:   0.28\n",
      "Train MAE:  0.68\n",
      "Train MSE:  1.87\n",
      "Train RMSE: 1.37\n"
     ]
    }
   ],
   "source": [
    "print('Train R^2:  ', linridge.score(X_train_scaled, y_train).round(2))\n",
    "print('Train MAE: ', metrics.mean_absolute_error(y_train, y_pred_train).round(2))\n",
    "print('Train MSE: ', metrics.mean_squared_error(y_train, y_pred_train).round(2))\n",
    "print('Train RMSE:', np.sqrt(metrics.mean_squared_error(y_train, y_pred_train)).round(2))"
   ]
  },
  {
   "cell_type": "code",
   "execution_count": null,
   "metadata": {},
   "outputs": [],
   "source": []
  },
  {
   "cell_type": "code",
   "execution_count": null,
   "metadata": {},
   "outputs": [],
   "source": []
  },
  {
   "cell_type": "code",
   "execution_count": null,
   "metadata": {},
   "outputs": [],
   "source": []
  }
 ],
 "metadata": {
  "kernelspec": {
   "display_name": "Python 3",
   "language": "python",
   "name": "python3"
  },
  "language_info": {
   "codemirror_mode": {
    "name": "ipython",
    "version": 3
   },
   "file_extension": ".py",
   "mimetype": "text/x-python",
   "name": "python",
   "nbconvert_exporter": "python",
   "pygments_lexer": "ipython3",
   "version": "3.6.4"
  }
 },
 "nbformat": 4,
 "nbformat_minor": 2
}
